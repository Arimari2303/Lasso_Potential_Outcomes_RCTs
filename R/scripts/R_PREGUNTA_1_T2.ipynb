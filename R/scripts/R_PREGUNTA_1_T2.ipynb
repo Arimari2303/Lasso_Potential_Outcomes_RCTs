{
 "cells": [
  {
   "cell_type": "code",
   "execution_count": 2,
   "id": "9bc3f062-3266-4059-916b-ccac09880266",
   "metadata": {},
   "outputs": [
    {
     "name": "stderr",
     "output_type": "stream",
     "text": [
      "Installing packages into 'C:/Users/ARIANA/OneDrive/Documentos/R/win-library/4.1'\n",
      "(as 'lib' is unspecified)\n",
      "\n",
      "Warning message:\n",
      "\"package 'Matrix' is not available for this version of R\n",
      "\n",
      "A version of this package for your version of R might be available elsewhere,\n",
      "see the ideas at\n",
      "https://cran.r-project.org/doc/manuals/r-patched/R-admin.html#Installing-packages\"\n",
      "Warning message:\n",
      "\"dependencies 'Matrix', 'Hmisc', 'MASS' are not available\"\n",
      "also installing the dependencies 'sys', 'rappdirs', 'askpass', 'proxy', 'fs', 'pkgbuild', 'rprojroot', 'cachem', 'memoise', 'mime', 'sass', 'lazyeval', 'curl', 'openssl', 'zoo', 'e1071', 'class', 'KernSmooth', 'wk', 'highr', 'yaml', 'brio', 'callr', 'desc', 'evaluate', 'magrittr', 'pkgload', 'praise', 'processx', 'ps', 'R6', 'waldo', 'bslib', 'fontawesome', 'jquerylib', 'tinytex', 'farver', 'labeling', 'viridisLite', 'backports', 'generics', 'purrr', 'stringr', 'tidyr', 'rex', 'httr', 'tidyselect', 'lattice', 'mvtnorm', 'TH.data', 'sandwich', 'colorspace', 'htmlwidgets', 'SparseM', 'MatrixModels', 'systemfonts', 'textshaping', 'brew', 'commonmark', 'stringi', 'cpp11', 'classInt', 'DBI', 's2', 'units', 'pkgconfig', 'diffobj', 'knitr', 'lars', 'testthat', 'xfun', 'rmarkdown', 'gtable', 'isoband', 'S7', 'scales', 'withr', 'broom', 'covr', 'dplyr', 'ggplot2movies', 'hexbin', 'mapproj', 'maps', 'mgcv', 'multcomp', 'munsell', 'nlme', 'profvis', 'quantreg', 'ragg', 'RColorBrewer', 'roxygen2', 'rpart', 'sf', 'svglite', 'tibble', 'vdiffr', 'xml2'\n",
      "\n",
      "\n"
     ]
    },
    {
     "name": "stdout",
     "output_type": "stream",
     "text": [
      "\n",
      "  There are binary versions available but the source versions are later:\n",
      "              binary  source needs_compilation\n",
      "sys            3.4.1   3.4.3              TRUE\n",
      "askpass          1.1   1.2.1              TRUE\n",
      "fs             1.5.2   1.6.6              TRUE\n",
      "pkgbuild       1.4.0   1.4.8             FALSE\n",
      "rprojroot      2.0.3   2.1.1             FALSE\n",
      "cachem         1.0.7   1.1.0              TRUE\n",
      "mime            0.12    0.13              TRUE\n",
      "sass           0.4.5  0.4.10              TRUE\n",
      "curl           5.0.0   7.0.0              TRUE\n",
      "openssl        2.0.6   2.3.3              TRUE\n",
      "zoo           1.8-12  1.8-14              TRUE\n",
      "e1071         1.7-13  1.7-16              TRUE\n",
      "class         7.3-21  7.3-23              TRUE\n",
      "KernSmooth   2.23-20 2.23-26              TRUE\n",
      "wk             0.7.2   0.9.4              TRUE\n",
      "highr           0.10    0.11             FALSE\n",
      "yaml           2.3.7  2.3.10              TRUE\n",
      "brio           1.1.3   1.1.5              TRUE\n",
      "callr          3.7.3   3.7.6             FALSE\n",
      "desc           1.4.2   1.4.3             FALSE\n",
      "evaluate        0.20   1.0.5             FALSE\n",
      "magrittr       2.0.3   2.0.4              TRUE\n",
      "pkgload        1.3.2   1.4.0             FALSE\n",
      "processx       3.8.1   3.8.6              TRUE\n",
      "ps             1.7.5   1.9.1              TRUE\n",
      "R6             2.5.1   2.6.1             FALSE\n",
      "waldo          0.4.0   0.6.2             FALSE\n",
      "bslib          0.4.2   0.9.0             FALSE\n",
      "fontawesome    0.5.1   0.5.3             FALSE\n",
      "tinytex         0.45    0.57             FALSE\n",
      "farver         2.1.1   2.1.2              TRUE\n",
      "labeling       0.4.2   0.4.3             FALSE\n",
      "viridisLite    0.4.1   0.4.2             FALSE\n",
      "backports      1.4.1   1.5.0              TRUE\n",
      "generics       0.1.3   0.1.4             FALSE\n",
      "purrr          1.0.1   1.1.0              TRUE\n",
      "stringr        1.5.0   1.5.2             FALSE\n",
      "tidyr          1.3.0   1.3.1              TRUE\n",
      "httr           1.4.5   1.4.7             FALSE\n",
      "tidyselect     1.2.0   1.2.1              TRUE\n",
      "lattice       0.21-8  0.22-7              TRUE\n",
      "mvtnorm        1.1-3   1.3-3              TRUE\n",
      "TH.data        1.1-2   1.1-4             FALSE\n",
      "sandwich       3.0-2   3.1-1             FALSE\n",
      "colorspace     2.1-0   2.1-1              TRUE\n",
      "htmlwidgets    1.6.2   1.6.4             FALSE\n",
      "SparseM         1.81  1.84-2              TRUE\n",
      "MatrixModels   0.5-1   0.5-4             FALSE\n",
      "systemfonts    1.0.4   1.2.3              TRUE\n",
      "textshaping    0.3.6   1.0.3              TRUE\n",
      "brew           1.0-8  1.0-10             FALSE\n",
      "commonmark     1.9.0   2.0.0              TRUE\n",
      "stringi       1.7.12   1.8.7              TRUE\n",
      "cpp11          0.4.3   0.5.2             FALSE\n",
      "classInt       0.4-9  0.4-11              TRUE\n",
      "DBI            1.1.3   1.2.3             FALSE\n",
      "s2             1.1.2   1.1.9              TRUE\n",
      "units          0.8-1   0.8-7              TRUE\n",
      "diffobj        0.3.5   0.3.6              TRUE\n",
      "knitr           1.42    1.50             FALSE\n",
      "testthat       3.1.7   3.2.3              TRUE\n",
      "xfun            0.39    0.53              TRUE\n",
      "rmarkdown       2.21    2.29             FALSE\n",
      "gtable         0.3.3   0.3.6             FALSE\n",
      "scales         1.2.1   1.4.0             FALSE\n",
      "withr          2.5.0   3.0.2             FALSE\n",
      "broom          1.0.4  1.0.10             FALSE\n",
      "covr           3.6.2   3.6.4              TRUE\n",
      "dplyr          1.1.2   1.1.4              TRUE\n",
      "hexbin        1.28.3  1.28.5              TRUE\n",
      "mapproj       1.2.11  1.2.12              TRUE\n",
      "maps           3.4.1   3.4.3              TRUE\n",
      "mgcv          1.8-42   1.9-3              TRUE\n",
      "multcomp      1.4-23  1.4-28             FALSE\n",
      "munsell        0.5.0   0.5.1             FALSE\n",
      "nlme         3.1-162 3.1-168              TRUE\n",
      "profvis        0.3.7   0.4.0              TRUE\n",
      "quantreg        5.95     6.1              TRUE\n",
      "ragg           1.2.5   1.5.0              TRUE\n",
      "roxygen2       7.2.3   7.3.3              TRUE\n",
      "rpart         4.1.19  4.1.24              TRUE\n",
      "sf            1.0-12  1.0-21              TRUE\n",
      "svglite        2.1.1   2.2.1              TRUE\n",
      "tibble         3.2.1   3.3.0              TRUE\n",
      "vdiffr         1.0.5   1.0.8              TRUE\n",
      "xml2           1.3.3   1.4.0              TRUE\n",
      "glmnet         4.1-7  4.1-10              TRUE\n",
      "ggplot2        3.4.2   4.0.0             FALSE\n",
      "\n",
      "  Binaries will be installed\n"
     ]
    },
    {
     "name": "stderr",
     "output_type": "stream",
     "text": [
      "Package which is only available in source form, and may need\n",
      "  compilation of C/C++/Fortran: 'S7'\n",
      "\n"
     ]
    },
    {
     "name": "stdout",
     "output_type": "stream",
     "text": [
      "  These will not be installed\n",
      "package 'sys' successfully unpacked and MD5 sums checked\n",
      "package 'rappdirs' successfully unpacked and MD5 sums checked\n",
      "package 'askpass' successfully unpacked and MD5 sums checked\n",
      "package 'proxy' successfully unpacked and MD5 sums checked\n",
      "package 'fs' successfully unpacked and MD5 sums checked\n",
      "package 'cachem' successfully unpacked and MD5 sums checked\n",
      "package 'memoise' successfully unpacked and MD5 sums checked\n",
      "package 'mime' successfully unpacked and MD5 sums checked\n",
      "package 'sass' successfully unpacked and MD5 sums checked\n",
      "package 'lazyeval' successfully unpacked and MD5 sums checked\n",
      "package 'curl' successfully unpacked and MD5 sums checked\n",
      "package 'openssl' successfully unpacked and MD5 sums checked\n",
      "package 'zoo' successfully unpacked and MD5 sums checked\n",
      "package 'e1071' successfully unpacked and MD5 sums checked\n",
      "package 'class' successfully unpacked and MD5 sums checked\n",
      "package 'KernSmooth' successfully unpacked and MD5 sums checked\n",
      "package 'wk' successfully unpacked and MD5 sums checked\n",
      "package 'yaml' successfully unpacked and MD5 sums checked\n",
      "package 'brio' successfully unpacked and MD5 sums checked\n",
      "package 'magrittr' successfully unpacked and MD5 sums checked\n",
      "package 'praise' successfully unpacked and MD5 sums checked\n",
      "package 'processx' successfully unpacked and MD5 sums checked\n",
      "package 'ps' successfully unpacked and MD5 sums checked\n",
      "package 'jquerylib' successfully unpacked and MD5 sums checked\n",
      "package 'farver' successfully unpacked and MD5 sums checked\n",
      "package 'backports' successfully unpacked and MD5 sums checked\n",
      "package 'purrr' successfully unpacked and MD5 sums checked\n",
      "package 'tidyr' successfully unpacked and MD5 sums checked\n",
      "package 'rex' successfully unpacked and MD5 sums checked\n",
      "package 'tidyselect' successfully unpacked and MD5 sums checked\n",
      "package 'lattice' successfully unpacked and MD5 sums checked\n",
      "package 'mvtnorm' successfully unpacked and MD5 sums checked\n",
      "package 'colorspace' successfully unpacked and MD5 sums checked\n",
      "package 'SparseM' successfully unpacked and MD5 sums checked\n",
      "package 'systemfonts' successfully unpacked and MD5 sums checked\n",
      "package 'textshaping' successfully unpacked and MD5 sums checked\n",
      "package 'commonmark' successfully unpacked and MD5 sums checked\n",
      "package 'stringi' successfully unpacked and MD5 sums checked\n",
      "package 'classInt' successfully unpacked and MD5 sums checked\n",
      "package 's2' successfully unpacked and MD5 sums checked\n",
      "package 'units' successfully unpacked and MD5 sums checked\n",
      "package 'pkgconfig' successfully unpacked and MD5 sums checked\n",
      "package 'diffobj' successfully unpacked and MD5 sums checked\n",
      "package 'lars' successfully unpacked and MD5 sums checked\n",
      "package 'testthat' successfully unpacked and MD5 sums checked\n",
      "package 'xfun' successfully unpacked and MD5 sums checked\n",
      "package 'isoband' successfully unpacked and MD5 sums checked\n",
      "package 'covr' successfully unpacked and MD5 sums checked\n",
      "package 'dplyr' successfully unpacked and MD5 sums checked\n",
      "package 'ggplot2movies' successfully unpacked and MD5 sums checked\n",
      "package 'hexbin' successfully unpacked and MD5 sums checked\n",
      "package 'mapproj' successfully unpacked and MD5 sums checked\n",
      "package 'maps' successfully unpacked and MD5 sums checked\n",
      "package 'mgcv' successfully unpacked and MD5 sums checked\n",
      "package 'nlme' successfully unpacked and MD5 sums checked\n",
      "package 'profvis' successfully unpacked and MD5 sums checked\n",
      "package 'quantreg' successfully unpacked and MD5 sums checked\n",
      "package 'ragg' successfully unpacked and MD5 sums checked\n",
      "package 'RColorBrewer' successfully unpacked and MD5 sums checked\n",
      "package 'roxygen2' successfully unpacked and MD5 sums checked\n",
      "package 'rpart' successfully unpacked and MD5 sums checked\n",
      "package 'sf' successfully unpacked and MD5 sums checked\n",
      "package 'svglite' successfully unpacked and MD5 sums checked\n",
      "package 'tibble' successfully unpacked and MD5 sums checked\n",
      "package 'vdiffr' successfully unpacked and MD5 sums checked\n",
      "package 'xml2' successfully unpacked and MD5 sums checked\n",
      "package 'glmnet' successfully unpacked and MD5 sums checked\n",
      "\n",
      "The downloaded binary packages are in\n",
      "\tC:\\Users\\ARIANA\\AppData\\Local\\Temp\\RtmpAbf7sW\\downloaded_packages\n"
     ]
    },
    {
     "name": "stderr",
     "output_type": "stream",
     "text": [
      "installing the source packages 'pkgbuild', 'rprojroot', 'highr', 'callr', 'desc', 'evaluate', 'pkgload', 'R6', 'waldo', 'bslib', 'fontawesome', 'tinytex', 'labeling', 'viridisLite', 'generics', 'stringr', 'httr', 'TH.data', 'sandwich', 'htmlwidgets', 'MatrixModels', 'brew', 'cpp11', 'DBI', 'knitr', 'rmarkdown', 'gtable', 'scales', 'withr', 'broom', 'multcomp', 'munsell', 'ggplot2'\n",
      "\n",
      "\n",
      "Warning message in install.packages(to_install, repos = repos, dependencies = TRUE):\n",
      "\"installation of package 'bslib' had non-zero exit status\"\n",
      "Warning message in install.packages(to_install, repos = repos, dependencies = TRUE):\n",
      "\"installation of package 'tinytex' had non-zero exit status\"\n",
      "Warning message in install.packages(to_install, repos = repos, dependencies = TRUE):\n",
      "\"installation of package 'TH.data' had non-zero exit status\"\n",
      "Warning message in install.packages(to_install, repos = repos, dependencies = TRUE):\n",
      "\"installation of package 'MatrixModels' had non-zero exit status\"\n",
      "Warning message in install.packages(to_install, repos = repos, dependencies = TRUE):\n",
      "\"installation of package 'knitr' had non-zero exit status\"\n",
      "Warning message in install.packages(to_install, repos = repos, dependencies = TRUE):\n",
      "\"installation of package 'multcomp' had non-zero exit status\"\n",
      "Warning message in install.packages(to_install, repos = repos, dependencies = TRUE):\n",
      "\"installation of package 'rmarkdown' had non-zero exit status\"\n",
      "Warning message in install.packages(to_install, repos = repos, dependencies = TRUE):\n",
      "\"installation of package 'ggplot2' had non-zero exit status\"\n",
      "Warning message in install.packages(to_install, repos = repos, dependencies = TRUE):\n",
      "\"installation of package 'htmlwidgets' had non-zero exit status\"\n"
     ]
    },
    {
     "ename": "ERROR",
     "evalue": "Error in library(Matrix): there is no package called 'Matrix'\n",
     "output_type": "error",
     "traceback": [
      "Error in library(Matrix): there is no package called 'Matrix'\nTraceback:\n",
      "1. suppressPackageStartupMessages({\n .     library(Matrix)\n .     library(glmnet)\n .     library(ggplot2)\n . })",
      "2. withCallingHandlers(expr, packageStartupMessage = function(c) tryInvokeRestart(\"muffleMessage\"))",
      "3. library(Matrix)   # at line 9 of file <text>"
     ]
    }
   ],
   "source": [
    "# Usa el mirror de Cloud para evitar fallos\n",
    "repos <- \"https://cloud.r-project.org\"\n",
    "\n",
    "need <- c(\"Matrix\",\"glmnet\",\"ggplot2\")\n",
    "to_install <- need[!sapply(need, requireNamespace, quietly = TRUE)]\n",
    "if (length(to_install) > 0) install.packages(to_install, repos = repos, dependencies = TRUE)\n",
    "\n",
    "suppressPackageStartupMessages({\n",
    "  library(Matrix)\n",
    "  library(glmnet)   # LASSO / Ridge\n",
    "  library(ggplot2)  # gráficos\n",
    "})\n",
    "\n",
    "set.seed(123)\n",
    "options(stringsAsFactors = FALSE)\n"
   ]
  },
  {
   "cell_type": "code",
   "execution_count": 4,
   "id": "a76a80ba-f65d-4f55-a781-8bf508970990",
   "metadata": {},
   "outputs": [
    {
     "data": {
      "text/html": [
       "'R version 4.1.3 (2022-03-10)'"
      ],
      "text/latex": [
       "'R version 4.1.3 (2022-03-10)'"
      ],
      "text/markdown": [
       "'R version 4.1.3 (2022-03-10)'"
      ],
      "text/plain": [
       "[1] \"R version 4.1.3 (2022-03-10)\""
      ]
     },
     "metadata": {},
     "output_type": "display_data"
    },
    {
     "data": {
      "text/html": [
       "<style>\n",
       ".dl-inline {width: auto; margin:0; padding: 0}\n",
       ".dl-inline>dt, .dl-inline>dd {float: none; width: auto; display: inline-block}\n",
       ".dl-inline>dt::after {content: \":\\0020\"; padding-right: .5ex}\n",
       ".dl-inline>dt:not(:first-of-type) {padding-left: .5ex}\n",
       "</style><dl class=dl-inline><dt>Matrix</dt><dd>FALSE</dd><dt>glmnet</dt><dd>TRUE</dd></dl>\n"
      ],
      "text/latex": [
       "\\begin{description*}\n",
       "\\item[Matrix] FALSE\n",
       "\\item[glmnet] TRUE\n",
       "\\end{description*}\n"
      ],
      "text/markdown": [
       "Matrix\n",
       ":   FALSEglmnet\n",
       ":   TRUE\n",
       "\n"
      ],
      "text/plain": [
       "Matrix glmnet \n",
       " FALSE   TRUE "
      ]
     },
     "metadata": {},
     "output_type": "display_data"
    }
   ],
   "source": [
    "R.version.string\n",
    "pkgs <- c(\"Matrix\",\"glmnet\")\n",
    "sapply(pkgs, function(p) p %in% rownames(installed.packages()))\n"
   ]
  },
  {
   "cell_type": "code",
   "execution_count": 6,
   "id": "cd7d03eb-6b7f-46d2-913b-faa9a77f9f21",
   "metadata": {},
   "outputs": [
    {
     "data": {
      "text/html": [
       "<style>\n",
       ".list-inline {list-style: none; margin:0; padding: 0}\n",
       ".list-inline>li {display: inline-block}\n",
       ".list-inline>li:not(:last-child)::after {content: \"\\00b7\"; padding: 0 .5ex}\n",
       "</style>\n",
       "<ol class=list-inline><li>'C:/Rlibs'</li><li>'C:/Users/ARIANA/anaconda3/Lib/R/library'</li></ol>\n"
      ],
      "text/latex": [
       "\\begin{enumerate*}\n",
       "\\item 'C:/Rlibs'\n",
       "\\item 'C:/Users/ARIANA/anaconda3/Lib/R/library'\n",
       "\\end{enumerate*}\n"
      ],
      "text/markdown": [
       "1. 'C:/Rlibs'\n",
       "2. 'C:/Users/ARIANA/anaconda3/Lib/R/library'\n",
       "\n",
       "\n"
      ],
      "text/plain": [
       "[1] \"C:/Rlibs\"                               \n",
       "[2] \"C:/Users/ARIANA/anaconda3/Lib/R/library\""
      ]
     },
     "metadata": {},
     "output_type": "display_data"
    }
   ],
   "source": [
    "dir.create(\"C:/Rlibs\", showWarnings = FALSE)\n",
    ".libPaths(\"C:/Rlibs\")\n",
    ".libPaths()\n"
   ]
  },
  {
   "cell_type": "code",
   "execution_count": 8,
   "id": "57d275bb-a50f-49dd-be50-9c9917c70357",
   "metadata": {},
   "outputs": [
    {
     "name": "stderr",
     "output_type": "stream",
     "text": [
      "Installing package into 'C:/Rlibs'\n",
      "(as 'lib' is unspecified)\n",
      "\n",
      "Warning message in download.file(p, destfile, method, mode = \"wb\", ...):\n",
      "\"cannot open URL 'https://cran.r-project.org/bin/windows/contrib/4.1/Matrix_1.4-1.zip': HTTP status was '404 Not Found'\"\n"
     ]
    },
    {
     "name": "stdout",
     "output_type": "stream",
     "text": [
      "Error in download.file(p, destfile, method, mode = \"wb\", ...) : \n",
      "  no fue posible abrir la URL 'https://cran.r-project.org/bin/windows/contrib/4.1/Matrix_1.4-1.zip'\n"
     ]
    }
   ],
   "source": [
    "url_matrix <- \"https://cran.r-project.org/bin/windows/contrib/4.1/Matrix_1.4-1.zip\"\n",
    "install.packages(url_matrix, repos = NULL, type = \"win.binary\")\n"
   ]
  },
  {
   "cell_type": "code",
   "execution_count": 10,
   "id": "48fd0057-54c0-431b-b44d-6fe393d6e39f",
   "metadata": {},
   "outputs": [
    {
     "name": "stderr",
     "output_type": "stream",
     "text": [
      "Installing package into 'C:/Rlibs'\n",
      "(as 'lib' is unspecified)\n",
      "\n",
      "Warning message in install.packages(\"Matrix_1.6-5.tar.gz\", repos = NULL, type = \"source\"):\n",
      "\"installation of package 'Matrix_1.6-5.tar.gz' had non-zero exit status\"\n"
     ]
    }
   ],
   "source": [
    "# Descarga el archivo tar.gz desde el CRAN Archive\n",
    "url_old <- \"https://cran.r-project.org/src/contrib/Archive/Matrix/Matrix_1.6-5.tar.gz\"\n",
    "\n",
    "download.file(url_old, destfile = \"Matrix_1.6-5.tar.gz\", mode=\"wb\")\n",
    "\n",
    "# Instala desde la fuente\n",
    "install.packages(\"Matrix_1.6-5.tar.gz\", repos = NULL, type = \"source\")\n"
   ]
  },
  {
   "cell_type": "code",
   "execution_count": 12,
   "id": "fd7aa804-040e-49c0-91c7-4e2a2a36a390",
   "metadata": {},
   "outputs": [],
   "source": [
    "dir.create(\"C:/Rlibs\", showWarnings = FALSE)\n",
    ".libPaths(\"C:/Rlibs\")\n"
   ]
  },
  {
   "cell_type": "code",
   "execution_count": 14,
   "id": "6b961300-051d-4866-a42e-5136d0f52df4",
   "metadata": {},
   "outputs": [],
   "source": [
    "options(repos = c(CRAN = \"https://packagemanager.posit.co/cran/2024-04-20\"))\n"
   ]
  },
  {
   "cell_type": "code",
   "execution_count": 16,
   "id": "fb6d6eb3-ff56-4c63-96a6-f7965eebc243",
   "metadata": {},
   "outputs": [
    {
     "name": "stderr",
     "output_type": "stream",
     "text": [
      "Installing packages into 'C:/Rlibs'\n",
      "(as 'lib' is unspecified)\n",
      "\n",
      "also installing the dependencies 'pkgconfig', 'rappdirs', 'fs', 'pkgbuild', 'rprojroot', 'diffobj', 'rematch2', 'tibble', 'cachem', 'memoise', 'mime', 'sass', 'codetools', 'iterators', 'highr', 'yaml', 'brio', 'callr', 'desc', 'magrittr', 'pkgload', 'praise', 'processx', 'ps', 'R6', 'waldo', 'withr', 'bslib', 'fontawesome', 'jquerylib', 'tinytex', 'lattice', 'MASS', 'sfsmisc', 'foreach', 'shape', 'survival', 'Rcpp', 'RcppEigen', 'knitr', 'lars', 'testthat', 'xfun', 'rmarkdown'\n",
      "\n",
      "\n"
     ]
    },
    {
     "name": "stdout",
     "output_type": "stream",
     "text": [
      "package 'pkgconfig' successfully unpacked and MD5 sums checked\n",
      "package 'rappdirs' successfully unpacked and MD5 sums checked\n",
      "package 'fs' successfully unpacked and MD5 sums checked\n",
      "package 'pkgbuild' successfully unpacked and MD5 sums checked\n",
      "package 'rprojroot' successfully unpacked and MD5 sums checked\n",
      "package 'diffobj' successfully unpacked and MD5 sums checked\n",
      "package 'rematch2' successfully unpacked and MD5 sums checked\n",
      "package 'tibble' successfully unpacked and MD5 sums checked\n",
      "package 'cachem' successfully unpacked and MD5 sums checked\n",
      "package 'memoise' successfully unpacked and MD5 sums checked\n",
      "package 'mime' successfully unpacked and MD5 sums checked\n",
      "package 'sass' successfully unpacked and MD5 sums checked\n",
      "package 'codetools' successfully unpacked and MD5 sums checked\n",
      "package 'iterators' successfully unpacked and MD5 sums checked\n",
      "package 'highr' successfully unpacked and MD5 sums checked\n",
      "package 'yaml' successfully unpacked and MD5 sums checked\n",
      "package 'brio' successfully unpacked and MD5 sums checked\n",
      "package 'callr' successfully unpacked and MD5 sums checked\n",
      "package 'desc' successfully unpacked and MD5 sums checked\n",
      "package 'magrittr' successfully unpacked and MD5 sums checked\n",
      "package 'pkgload' successfully unpacked and MD5 sums checked\n",
      "package 'praise' successfully unpacked and MD5 sums checked\n",
      "package 'processx' successfully unpacked and MD5 sums checked\n",
      "package 'ps' successfully unpacked and MD5 sums checked\n",
      "package 'R6' successfully unpacked and MD5 sums checked\n",
      "package 'waldo' successfully unpacked and MD5 sums checked\n",
      "package 'withr' successfully unpacked and MD5 sums checked\n",
      "package 'bslib' successfully unpacked and MD5 sums checked\n",
      "package 'fontawesome' successfully unpacked and MD5 sums checked\n",
      "package 'jquerylib' successfully unpacked and MD5 sums checked\n",
      "package 'tinytex' successfully unpacked and MD5 sums checked\n",
      "package 'lattice' successfully unpacked and MD5 sums checked\n",
      "package 'MASS' successfully unpacked and MD5 sums checked\n",
      "package 'sfsmisc' successfully unpacked and MD5 sums checked\n",
      "package 'foreach' successfully unpacked and MD5 sums checked\n",
      "package 'shape' successfully unpacked and MD5 sums checked\n",
      "package 'survival' successfully unpacked and MD5 sums checked\n",
      "package 'Rcpp' successfully unpacked and MD5 sums checked\n",
      "package 'RcppEigen' successfully unpacked and MD5 sums checked\n",
      "package 'knitr' successfully unpacked and MD5 sums checked\n",
      "package 'lars' successfully unpacked and MD5 sums checked\n",
      "package 'testthat' successfully unpacked and MD5 sums checked\n",
      "package 'xfun' successfully unpacked and MD5 sums checked\n",
      "package 'rmarkdown' successfully unpacked and MD5 sums checked\n",
      "package 'Matrix' successfully unpacked and MD5 sums checked\n",
      "package 'glmnet' successfully unpacked and MD5 sums checked\n",
      "\n",
      "The downloaded binary packages are in\n",
      "\tC:\\Users\\ARIANA\\AppData\\Local\\Temp\\RtmpAbf7sW\\downloaded_packages\n"
     ]
    },
    {
     "name": "stderr",
     "output_type": "stream",
     "text": [
      "Loaded glmnet 4.1-8\n",
      "\n"
     ]
    }
   ],
   "source": [
    "install.packages(c(\"Matrix\",\"glmnet\"), dependencies = TRUE)\n",
    "library(Matrix)\n",
    "library(glmnet)\n"
   ]
  },
  {
   "cell_type": "code",
   "execution_count": 18,
   "id": "fcbd0dd5-4e5a-4407-ba0e-f61d6cd67f4d",
   "metadata": {},
   "outputs": [
    {
     "data": {
      "text/html": [
       "'R version 4.1.3 (2022-03-10)'"
      ],
      "text/latex": [
       "'R version 4.1.3 (2022-03-10)'"
      ],
      "text/markdown": [
       "'R version 4.1.3 (2022-03-10)'"
      ],
      "text/plain": [
       "[1] \"R version 4.1.3 (2022-03-10)\""
      ]
     },
     "metadata": {},
     "output_type": "display_data"
    },
    {
     "data": {
      "text/plain": [
       "[1] '1.6.5'"
      ]
     },
     "metadata": {},
     "output_type": "display_data"
    },
    {
     "data": {
      "text/plain": [
       "[1] '4.1.8'"
      ]
     },
     "metadata": {},
     "output_type": "display_data"
    }
   ],
   "source": [
    "R.version.string\n",
    "packageVersion(\"Matrix\")\n",
    "packageVersion(\"glmnet\")\n"
   ]
  },
  {
   "cell_type": "code",
   "execution_count": 20,
   "id": "663b85d1-6753-4396-b231-098501fe6df9",
   "metadata": {},
   "outputs": [],
   "source": [
    "set.seed(123)\n",
    "n  <- 400; p <- 50\n",
    "X  <- matrix(rnorm(n*p), n, p)\n",
    "beta_true <- c(runif(8, -3, 3), rep(0, p-8))\n",
    "y  <- as.numeric(X %*% beta_true + rnorm(n, sd = 2))\n",
    "colnames(X) <- paste0(\"x\", 1:p)\n",
    "\n",
    "mse <- function(a,b) mean((a-b)^2)\n"
   ]
  },
  {
   "cell_type": "code",
   "execution_count": 22,
   "id": "acf79751-25fb-4984-907e-d8ad199f3a45",
   "metadata": {},
   "outputs": [
    {
     "data": {
      "text/html": [
       "<style>\n",
       ".dl-inline {width: auto; margin:0; padding: 0}\n",
       ".dl-inline>dt, .dl-inline>dd {float: none; width: auto; display: inline-block}\n",
       ".dl-inline>dt::after {content: \":\\0020\"; padding-right: .5ex}\n",
       ".dl-inline>dt:not(:first-of-type) {padding-left: .5ex}\n",
       "</style><dl class=dl-inline><dt>n_train</dt><dd>280</dd><dt>n_test</dt><dd>120</dd></dl>\n"
      ],
      "text/latex": [
       "\\begin{description*}\n",
       "\\item[n\\textbackslash{}\\_train] 280\n",
       "\\item[n\\textbackslash{}\\_test] 120\n",
       "\\end{description*}\n"
      ],
      "text/markdown": [
       "n_train\n",
       ":   280n_test\n",
       ":   120\n",
       "\n"
      ],
      "text/plain": [
       "n_train  n_test \n",
       "    280     120 "
      ]
     },
     "metadata": {},
     "output_type": "display_data"
    }
   ],
   "source": [
    "idx <- sample.int(n, size = round(0.7*n))\n",
    "Xtr <- X[idx, , drop=FALSE]; ytr <- y[idx]\n",
    "Xte <- X[-idx,, drop=FALSE];  yte <- y[-idx]\n",
    "c(n_train = nrow(Xtr), n_test = nrow(Xte))\n"
   ]
  },
  {
   "cell_type": "code",
   "execution_count": 24,
   "id": "52d1dde8-1d94-416b-9719-0bcc70297156",
   "metadata": {},
   "outputs": [
    {
     "data": {
      "text/html": [
       "<table class=\"dataframe\">\n",
       "<caption>A data.frame: 2 × 4</caption>\n",
       "<thead>\n",
       "\t<tr><th scope=col>lambda</th><th scope=col>no_coef_no_cero</th><th scope=col>mse_train</th><th scope=col>mse_test</th></tr>\n",
       "\t<tr><th scope=col>&lt;chr&gt;</th><th scope=col>&lt;int&gt;</th><th scope=col>&lt;dbl&gt;</th><th scope=col>&lt;dbl&gt;</th></tr>\n",
       "</thead>\n",
       "<tbody>\n",
       "\t<tr><td>max</td><td> 1</td><td>34.006641</td><td>39.573156</td></tr>\n",
       "\t<tr><td>min</td><td>50</td><td> 3.010864</td><td> 5.269259</td></tr>\n",
       "</tbody>\n",
       "</table>\n"
      ],
      "text/latex": [
       "A data.frame: 2 × 4\n",
       "\\begin{tabular}{llll}\n",
       " lambda & no\\_coef\\_no\\_cero & mse\\_train & mse\\_test\\\\\n",
       " <chr> & <int> & <dbl> & <dbl>\\\\\n",
       "\\hline\n",
       "\t max &  1 & 34.006641 & 39.573156\\\\\n",
       "\t min & 50 &  3.010864 &  5.269259\\\\\n",
       "\\end{tabular}\n"
      ],
      "text/markdown": [
       "\n",
       "A data.frame: 2 × 4\n",
       "\n",
       "| lambda &lt;chr&gt; | no_coef_no_cero &lt;int&gt; | mse_train &lt;dbl&gt; | mse_test &lt;dbl&gt; |\n",
       "|---|---|---|---|\n",
       "| max |  1 | 34.006641 | 39.573156 |\n",
       "| min | 50 |  3.010864 |  5.269259 |\n",
       "\n"
      ],
      "text/plain": [
       "  lambda no_coef_no_cero mse_train mse_test \n",
       "1 max     1              34.006641 39.573156\n",
       "2 min    50               3.010864  5.269259"
      ]
     },
     "metadata": {},
     "output_type": "display_data"
    }
   ],
   "source": [
    "library(glmnet)  # ya instalado\n",
    "fit <- glmnet(Xtr, ytr, alpha = 1, standardize = TRUE)\n",
    "\n",
    "lambda_max <- fit$lambda[1]\n",
    "lambda_min <- tail(fit$lambda, 1)\n",
    "\n",
    "coef_max <- as.matrix(coef(fit, s = lambda_max))\n",
    "coef_min <- as.matrix(coef(fit, s = lambda_min))\n",
    "nz <- function(cm) sum(cm != 0)\n",
    "\n",
    "pred_tr_max <- predict(fit, Xtr, s = lambda_max)\n",
    "pred_te_max <- predict(fit, Xte, s = lambda_max)\n",
    "pred_tr_min <- predict(fit, Xtr, s = lambda_min)\n",
    "pred_te_min <- predict(fit, Xte, s = lambda_min)\n",
    "\n",
    "data.frame(\n",
    "  lambda = c(\"max\",\"min\"),\n",
    "  no_coef_no_cero = c(nz(coef_max), nz(coef_min)),\n",
    "  mse_train = c(mse(ytr, pred_tr_max), mse(ytr, pred_tr_min)),\n",
    "  mse_test  = c(mse(yte, pred_te_max), mse(yte, pred_te_min))\n",
    ")\n"
   ]
  },
  {
   "cell_type": "code",
   "execution_count": 26,
   "id": "79e9fafa-995f-47cc-b38f-d9eca36db0df",
   "metadata": {},
   "outputs": [
    {
     "data": {
      "text/html": [
       "<table class=\"dataframe\">\n",
       "<caption>A data.frame: 2 × 3</caption>\n",
       "<thead>\n",
       "\t<tr><th scope=col>lambda</th><th scope=col>mse_test</th><th scope=col>no_coef_no_cero</th></tr>\n",
       "\t<tr><th scope=col>&lt;chr&gt;</th><th scope=col>&lt;dbl&gt;</th><th scope=col>&lt;int&gt;</th></tr>\n",
       "</thead>\n",
       "<tbody>\n",
       "\t<tr><td>lambda.min</td><td>4.500654</td><td>24</td></tr>\n",
       "\t<tr><td>lambda.1se</td><td>4.810926</td><td>10</td></tr>\n",
       "</tbody>\n",
       "</table>\n"
      ],
      "text/latex": [
       "A data.frame: 2 × 3\n",
       "\\begin{tabular}{lll}\n",
       " lambda & mse\\_test & no\\_coef\\_no\\_cero\\\\\n",
       " <chr> & <dbl> & <int>\\\\\n",
       "\\hline\n",
       "\t lambda.min & 4.500654 & 24\\\\\n",
       "\t lambda.1se & 4.810926 & 10\\\\\n",
       "\\end{tabular}\n"
      ],
      "text/markdown": [
       "\n",
       "A data.frame: 2 × 3\n",
       "\n",
       "| lambda &lt;chr&gt; | mse_test &lt;dbl&gt; | no_coef_no_cero &lt;int&gt; |\n",
       "|---|---|---|\n",
       "| lambda.min | 4.500654 | 24 |\n",
       "| lambda.1se | 4.810926 | 10 |\n",
       "\n"
      ],
      "text/plain": [
       "  lambda     mse_test no_coef_no_cero\n",
       "1 lambda.min 4.500654 24             \n",
       "2 lambda.1se 4.810926 10             "
      ]
     },
     "metadata": {},
     "output_type": "display_data"
    }
   ],
   "source": [
    "cv <- cv.glmnet(Xtr, ytr, alpha = 1, nfolds = 10, standardize = TRUE)\n",
    "best_lambda <- cv$lambda.min\n",
    "lambda_1se  <- cv$lambda.1se\n",
    "\n",
    "pred_te_best <- predict(cv$glmnet.fit, Xte, s = best_lambda)\n",
    "pred_te_1se  <- predict(cv$glmnet.fit, Xte, s = lambda_1se)\n",
    "\n",
    "data.frame(\n",
    "  lambda = c(\"lambda.min\",\"lambda.1se\"),\n",
    "  mse_test = c(mse(yte, pred_te_best), mse(yte, pred_te_1se)),\n",
    "  no_coef_no_cero = c(\n",
    "    sum(coef(cv$glmnet.fit, s = best_lambda) != 0),\n",
    "    sum(coef(cv$glmnet.fit, s = lambda_1se)  != 0)\n",
    "  )\n",
    ")\n"
   ]
  },
  {
   "cell_type": "code",
   "execution_count": 28,
   "id": "ca91ba45-e604-4422-8d9b-75bec8e74c0d",
   "metadata": {},
   "outputs": [
    {
     "data": {
      "image/png": "[encoded data removed]",
      "text/plain": [
       "plot without title"
      ]
     },
     "metadata": {
      "image/png": {
       "height": 420,
       "width": 420
      }
     },
     "output_type": "display_data"
    },
    {
     "data": {
      "image/png": "[encoded data removed]",
      "text/plain": [
       "plot without title"
      ]
     },
     "metadata": {
      "image/png": {
       "height": 420,
       "width": 420
      }
     },
     "output_type": "display_data"
    }
   ],
   "source": [
    "# Curva CV\n",
    "plot(cv)\n",
    "abline(v = log(c(best_lambda, lambda_1se)), lty = c(1,2))\n",
    "\n",
    "# Sketch K-fold simple\n",
    "set.seed(123)\n",
    "K <- 10\n",
    "fold_id <- sample(rep(1:K, length.out = nrow(Xtr)))\n",
    "par(mar = c(3,4,1,1))\n",
    "plot(NA, xlim = c(1, length(fold_id)), ylim = c(0,1), xaxt=\"n\", yaxt=\"n\",\n",
    "     xlab=\"Observaciones (train)\", ylab=\"\")\n",
    "rect(xleft = seq_along(fold_id) - 0.5, ybottom = 0,\n",
    "     xright = seq_along(fold_id) + 0.5, ytop = 1,\n",
    "     col = rainbow(K)[fold_id], border = NA)\n",
    "legend(\"topright\", legend = paste(\"Fold\", 1:K), fill = rainbow(K),\n",
    "       cex = 0.7, bty = \"n\")\n"
   ]
  },
  {
   "cell_type": "code",
   "execution_count": 32,
   "id": "dfb4649e-cdff-44d0-a2cf-45f456d362a6",
   "metadata": {},
   "outputs": [
    {
     "name": "stdout",
     "output_type": "stream",
     "text": [
      "lambda grande ->  1 coef != 0 | MSE_train: 34.007 | MSE_test: 39.573\n",
      "lambda pequeno -> 50 coef != 0 | MSE_train: 3.011 | MSE_test: 5.269\n",
      "CV lambda.min -> 24 coef != 0 | MSE_test: 4.501\n",
      "CV lambda.1se -> 10 coef != 0 | MSE_test: 4.811\n"
     ]
    }
   ],
   "source": [
    "pp <- function(lbl, ncoef, mse_tr, mse_te = NA) {\n",
    "  if (is.na(mse_te)) {\n",
    "    cat(sprintf(\"%-12s -> %2d coef != 0 | MSE_test: %.3f\\n\",\n",
    "                lbl, ncoef, mse_tr))\n",
    "  } else {\n",
    "    cat(sprintf(\"%-12s -> %2d coef != 0 | MSE_train: %.3f | MSE_test: %.3f\\n\",\n",
    "                lbl, ncoef, mse_tr, mse_te))\n",
    "  }\n",
    "}\n",
    "\n",
    "pp(\"lambda grande\",\n",
    "   sum(coef_max != 0),\n",
    "   mse(ytr, pred_tr_max),\n",
    "   mse(yte, pred_te_max))\n",
    "\n",
    "pp(\"lambda pequeno\",\n",
    "   sum(coef_min != 0),\n",
    "   mse(ytr, pred_tr_min),\n",
    "   mse(yte, pred_te_min))\n",
    "\n",
    "pp(\"CV lambda.min\",\n",
    "   sum(coef(cv$glmnet.fit, s = best_lambda) != 0),\n",
    "   mse(yte, predict(cv$glmnet.fit, Xte, s = best_lambda)))\n",
    "\n",
    "pp(\"CV lambda.1se\",\n",
    "   sum(coef(cv$glmnet.fit, s = lambda_1se) != 0),\n",
    "   mse(yte, predict(cv$glmnet.fit, Xte, s = lambda_1se)))\n"
   ]
  },
  {
   "cell_type": "code",
   "execution_count": 36,
   "id": "c39bd723-e2f7-4b71-9f34-79ef5405adc9",
   "metadata": {},
   "outputs": [
    {
     "name": "stdout",
     "output_type": "stream",
     "text": [
      "lambda grande: 1 coef distinto de 0. Alto sesgo. Entrena 34.01, prueba 39.57 -> subajuste.\n",
      "\n",
      "lambda pequeño: 50 coef. Bajo sesgo, alta varianza. Entrena 3.01, prueba 5.27 -> sobreajuste.\n",
      "\n",
      "CV: lambda.min selecciona 24 coef con prueba 4.50; lambda.1se usa 10 coef con prueba 4.81 -> más parsimonioso con rendimiento similar.\n"
     ]
    }
   ],
   "source": [
    "cat(\"lambda grande: 1 coef distinto de 0. Alto sesgo. Entrena 34.01, prueba 39.57 -> subajuste.\\n\\n\")\n",
    "\n",
    "cat(\"lambda pequeño: 50 coef. Bajo sesgo, alta varianza. Entrena 3.01, prueba 5.27 -> sobreajuste.\\n\\n\")\n",
    "\n",
    "cat(\"CV: lambda.min selecciona 24 coef con prueba 4.50; lambda.1se usa 10 coef con prueba 4.81 -> más parsimonioso con rendimiento similar.\\n\")\n"
   ]
  },
  {
   "cell_type": "code",
   "execution_count": null,
   "id": "5b4c4ffa-3184-46eb-9de2-00f35a272faf",
   "metadata": {},
   "outputs": [],
   "source": []
  }
 ],
 "metadata": {
  "kernelspec": {
   "display_name": "R [conda env:base] *",
   "language": "R",
   "name": "conda-base-r"
  },
  "language_info": {
   "codemirror_mode": "r",
   "file_extension": ".r",
   "mimetype": "text/x-r-source",
   "name": "R",
   "pygments_lexer": "r",
   "version": "4.1.3"
  }
 },
 "nbformat": 4,
 "nbformat_minor": 5
}

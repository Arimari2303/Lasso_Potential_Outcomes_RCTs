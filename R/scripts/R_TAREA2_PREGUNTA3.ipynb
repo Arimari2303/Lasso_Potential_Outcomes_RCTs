{
 "cells": [
  {
   "cell_type": "code",
   "execution_count": 8,
   "id": "b799e279-d6c5-4109-a47d-d7c1ae8e16e5",
   "metadata": {},
   "outputs": [
    {
     "name": "stderr",
     "output_type": "stream",
     "text": [
      "Your code contains a unicode char which cannot be displayed in your\n",
      "current locale and R will silently convert it to an escaped form when the\n",
      "R kernel executes this code. This can lead to subtle errors if you use\n",
      "such chars to do comparisons. For more information, please see\n",
      "https://github.com/IRkernel/repr/wiki/Problems-with-unicode-on-windows"
     ]
    },
    {
     "name": "stdout",
     "output_type": "stream",
     "text": [
      "<U+2713> Todas las librerías están listas\n"
     ]
    }
   ],
   "source": [
    "# Verificar e instalar librerías si es necesario\n",
    "paquetes <- c(\"glmnet\", \"stats\", \"MASS\", \"dplyr\", \"lmtest\", \"sandwich\")\n",
    "\n",
    "for (pkg in paquetes) {\n",
    "  if (!require(pkg, character.only = TRUE)) {\n",
    "    install.packages(pkg, dependencies = TRUE)\n",
    "    library(pkg, character.only = TRUE)\n",
    "  }\n",
    "}\n",
    "\n",
    "cat(\"✓ Todas las librerías están listas\\n\")"
   ]
  },
  {
   "cell_type": "code",
   "execution_count": 10,
   "id": "2311a102-ec94-442b-812a-eb7c33694042",
   "metadata": {},
   "outputs": [
    {
     "name": "stderr",
     "output_type": "stream",
     "text": [
      "Your code contains a unicode char which cannot be displayed in your\n",
      "current locale and R will silently convert it to an escaped form when the\n",
      "R kernel executes this code. This can lead to subtle errors if you use\n",
      "such chars to do comparisons. For more information, please see\n",
      "https://github.com/IRkernel/repr/wiki/Problems-with-unicode-on-windows"
     ]
    },
    {
     "name": "stdout",
     "output_type": "stream",
     "text": [
      "<U+2713> Paquetes listos\n",
      "    Matrix     glmnet       MASS      dplyr     lmtest   sandwich      stats \n",
      "   \"1.5.4\"    \"4.1.7\" \"7.3.58.3\"    \"1.1.2\"   \"0.9.40\"    \"3.1.1\"    \"4.1.3\" \n"
     ]
    }
   ],
   "source": [
    "## ----- Fix UTF-8 (evita alerta IRkernel/Windows) -----\n",
    "options(encoding = \"UTF-8\")\n",
    "Sys.setenv(LANG = \"en_US.UTF-8\")\n",
    "\n",
    "## ----- Repos confiable -----\n",
    "repos <- getOption(\"repos\")\n",
    "if (is.null(repos) || repos[\"CRAN\"] == \"@CRAN@\") {\n",
    "  options(repos = c(CRAN = \"https://cloud.r-project.org\"))\n",
    "}\n",
    "\n",
    "## ----- Helper: instalar en binario, sin vignettes -----\n",
    "safe_install <- function(pkgs) {\n",
    "  pkgs <- setdiff(pkgs, rownames(installed.packages()))\n",
    "  if (length(pkgs)) {\n",
    "    install.packages(pkgs, type = \"binary\", dependencies = FALSE)\n",
    "  }\n",
    "}\n",
    "\n",
    "## 1) Instala primero Matrix (clave para glmnet)\n",
    "safe_install(c(\"Matrix\"))\n",
    "\n",
    "## Verifica Matrix; si falla aquí, actualiza R (recomendado 4.3+)\n",
    "if (!requireNamespace(\"Matrix\", quietly = TRUE)) {\n",
    "  stop(\"No se pudo instalar 'Matrix'. Actualiza R a 4.3+ y vuelve a ejecutar.\")\n",
    "}\n",
    "\n",
    "## 2) Instala el resto en binario\n",
    "safe_install(c(\"glmnet\",\"MASS\",\"dplyr\",\"lmtest\",\"sandwich\",\"stats\"))\n",
    "\n",
    "## 3) Carga paquetes\n",
    "pkgs <- c(\"Matrix\",\"glmnet\",\"MASS\",\"dplyr\",\"lmtest\",\"sandwich\",\"stats\")\n",
    "invisible(lapply(pkgs, require, character.only = TRUE))\n",
    "\n",
    "## 4) Muestra versiones\n",
    "cat(\"✓ Paquetes listos\\n\")\n",
    "print(sapply(pkgs, function(p) as.character(packageVersion(p))))\n"
   ]
  },
  {
   "cell_type": "code",
   "execution_count": 12,
   "id": "113370db-c1de-43f7-8a87-0f2ce8faf7e0",
   "metadata": {},
   "outputs": [],
   "source": [
    "set.seed(42)\n",
    "\n",
    "n <- 1000\n",
    "X1 <- rnorm(n, 0, 1)\n",
    "X3 <- rnorm(n, 0, 1)\n",
    "X2 <- rbinom(n, 1, 0.5)\n",
    "X4 <- rbinom(n, 1, 0.5)\n",
    "D  <- rbinom(n, 1, 0.5)\n",
    "epsilon <- rnorm(n, 0, 1)\n",
    "\n",
    "Y <- 2*D + 0.5*X1 - 0.3*X2 + 0.2*X3 + epsilon\n"
   ]
  },
  {
   "cell_type": "code",
   "execution_count": 14,
   "id": "aa650152-b2da-4ccb-8a42-2829f4b8b28b",
   "metadata": {},
   "outputs": [
    {
     "name": "stdout",
     "output_type": "stream",
     "text": [
      "============================================================ \n",
      "3.1 DATA SIMULATION - COMPLETADO\n",
      "============================================================ \n"
     ]
    },
    {
     "data": {
      "text/html": [
       "<table class=\"dataframe\">\n",
       "<caption>A data.frame: 5 × 6</caption>\n",
       "<thead>\n",
       "\t<tr><th></th><th scope=col>Y</th><th scope=col>D</th><th scope=col>X1</th><th scope=col>X2</th><th scope=col>X3</th><th scope=col>X4</th></tr>\n",
       "\t<tr><th></th><th scope=col>&lt;dbl&gt;</th><th scope=col>&lt;int&gt;</th><th scope=col>&lt;dbl&gt;</th><th scope=col>&lt;int&gt;</th><th scope=col>&lt;dbl&gt;</th><th scope=col>&lt;int&gt;</th></tr>\n",
       "</thead>\n",
       "<tbody>\n",
       "\t<tr><th scope=row>1</th><td> 1.140924270</td><td>0</td><td> 1.3709584</td><td>1</td><td> 2.3250585</td><td>1</td></tr>\n",
       "\t<tr><th scope=row>2</th><td> 0.218681118</td><td>1</td><td>-0.5646982</td><td>1</td><td> 0.5241222</td><td>1</td></tr>\n",
       "\t<tr><th scope=row>3</th><td> 0.261610290</td><td>0</td><td> 0.3631284</td><td>0</td><td> 0.9707334</td><td>0</td></tr>\n",
       "\t<tr><th scope=row>4</th><td>-0.001136103</td><td>0</td><td> 0.6328626</td><td>1</td><td> 0.3769734</td><td>1</td></tr>\n",
       "\t<tr><th scope=row>5</th><td>-0.119613144</td><td>0</td><td> 0.4042683</td><td>0</td><td>-0.9959334</td><td>0</td></tr>\n",
       "</tbody>\n",
       "</table>\n"
      ],
      "text/latex": [
       "A data.frame: 5 × 6\n",
       "\\begin{tabular}{r|llllll}\n",
       "  & Y & D & X1 & X2 & X3 & X4\\\\\n",
       "  & <dbl> & <int> & <dbl> & <int> & <dbl> & <int>\\\\\n",
       "\\hline\n",
       "\t1 &  1.140924270 & 0 &  1.3709584 & 1 &  2.3250585 & 1\\\\\n",
       "\t2 &  0.218681118 & 1 & -0.5646982 & 1 &  0.5241222 & 1\\\\\n",
       "\t3 &  0.261610290 & 0 &  0.3631284 & 0 &  0.9707334 & 0\\\\\n",
       "\t4 & -0.001136103 & 0 &  0.6328626 & 1 &  0.3769734 & 1\\\\\n",
       "\t5 & -0.119613144 & 0 &  0.4042683 & 0 & -0.9959334 & 0\\\\\n",
       "\\end{tabular}\n"
      ],
      "text/markdown": [
       "\n",
       "A data.frame: 5 × 6\n",
       "\n",
       "| <!--/--> | Y &lt;dbl&gt; | D &lt;int&gt; | X1 &lt;dbl&gt; | X2 &lt;int&gt; | X3 &lt;dbl&gt; | X4 &lt;int&gt; |\n",
       "|---|---|---|---|---|---|---|\n",
       "| 1 |  1.140924270 | 0 |  1.3709584 | 1 |  2.3250585 | 1 |\n",
       "| 2 |  0.218681118 | 1 | -0.5646982 | 1 |  0.5241222 | 1 |\n",
       "| 3 |  0.261610290 | 0 |  0.3631284 | 0 |  0.9707334 | 0 |\n",
       "| 4 | -0.001136103 | 0 |  0.6328626 | 1 |  0.3769734 | 1 |\n",
       "| 5 | -0.119613144 | 0 |  0.4042683 | 0 | -0.9959334 | 0 |\n",
       "\n"
      ],
      "text/plain": [
       "  Y            D X1         X2 X3         X4\n",
       "1  1.140924270 0  1.3709584 1   2.3250585 1 \n",
       "2  0.218681118 1 -0.5646982 1   0.5241222 1 \n",
       "3  0.261610290 0  0.3631284 0   0.9707334 0 \n",
       "4 -0.001136103 0  0.6328626 1   0.3769734 1 \n",
       "5 -0.119613144 0  0.4042683 0  -0.9959334 0 "
      ]
     },
     "metadata": {},
     "output_type": "display_data"
    },
    {
     "data": {
      "text/html": [
       "<style>\n",
       ".list-inline {list-style: none; margin:0; padding: 0}\n",
       ".list-inline>li {display: inline-block}\n",
       ".list-inline>li:not(:last-child)::after {content: \"\\00b7\"; padding: 0 .5ex}\n",
       "</style>\n",
       "<ol class=list-inline><li>1000</li><li>6</li></ol>\n"
      ],
      "text/latex": [
       "\\begin{enumerate*}\n",
       "\\item 1000\n",
       "\\item 6\n",
       "\\end{enumerate*}\n"
      ],
      "text/markdown": [
       "1. 1000\n",
       "2. 6\n",
       "\n",
       "\n"
      ],
      "text/plain": [
       "[1] 1000    6"
      ]
     },
     "metadata": {},
     "output_type": "display_data"
    }
   ],
   "source": [
    "df <- data.frame(Y, D, X1, X2, X3, X4)\n",
    "\n",
    "cat(paste(rep(\"=\", 60), collapse = \"\"), \"\\n\")\n",
    "cat(\"3.1 DATA SIMULATION - COMPLETADO\\n\")\n",
    "cat(paste(rep(\"=\", 60), collapse = \"\"), \"\\n\")\n",
    "\n",
    "head(df, 5)\n",
    "dim(df)\n"
   ]
  },
  {
   "cell_type": "code",
   "execution_count": 16,
   "id": "80d559f1-ca8e-469e-95ef-dcf814470258",
   "metadata": {},
   "outputs": [
    {
     "name": "stdout",
     "output_type": "stream",
     "text": [
      "\n",
      "BALANCE CHECK - Comparación de medias\n",
      "X1 :\n",
      "  Media tratamiento: -0.02217622 \n",
      "  Media control: -0.02945807 \n",
      "  Diferencia: 0.007281841 \n",
      "  p-valor: 0.9086493 \n",
      "---------------------------------------- \n",
      "X2 :\n",
      "  Media tratamiento: 0.5210421 \n",
      "  Media control: 0.5269461 \n",
      "  Diferencia: -0.005904024 \n",
      "  p-valor: 0.8519081 \n",
      "---------------------------------------- \n",
      "X3 :\n",
      "  Media tratamiento: -0.02167226 \n",
      "  Media control: 0.01097098 \n",
      "  Diferencia: -0.03264324 \n",
      "  p-valor: 0.6008966 \n",
      "---------------------------------------- \n",
      "X4 :\n",
      "  Media tratamiento: 0.4869739 \n",
      "  Media control: 0.5209581 \n",
      "  Diferencia: -0.03398414 \n",
      "  p-valor: 0.2829707 \n",
      "---------------------------------------- \n"
     ]
    }
   ],
   "source": [
    "tratamiento <- subset(df, D == 1)\n",
    "control <- subset(df, D == 0)\n",
    "\n",
    "balance_check <- function(variable) {\n",
    "  t <- t.test(tratamiento[[variable]], control[[variable]])\n",
    "  cat(variable, \":\\n\")\n",
    "  cat(\"  Media tratamiento:\", mean(tratamiento[[variable]]), \"\\n\")\n",
    "  cat(\"  Media control:\", mean(control[[variable]]), \"\\n\")\n",
    "  cat(\"  Diferencia:\", mean(tratamiento[[variable]]) - mean(control[[variable]]), \"\\n\")\n",
    "  cat(\"  p-valor:\", t$p.value, \"\\n\")\n",
    "  cat(paste(rep(\"-\", 40), collapse = \"\"), \"\\n\")\n",
    "}\n",
    "\n",
    "cat(\"\\nBALANCE CHECK - Comparación de medias\\n\")\n",
    "for (cov in c(\"X1\", \"X2\", \"X3\", \"X4\")) {\n",
    "  balance_check(cov)\n",
    "}\n"
   ]
  },
  {
   "cell_type": "code",
   "execution_count": 18,
   "id": "0afdc196-1249-4ed7-9df0-58678aa956ed",
   "metadata": {},
   "outputs": [
    {
     "name": "stdout",
     "output_type": "stream",
     "text": [
      "=== REGRESIÓN SIMPLE (Y ~ D) ===\n",
      "Coeficiente de D (ATE): 2.075 \n",
      "Error estándar: 0.074 \n",
      "\n"
     ]
    }
   ],
   "source": [
    "modelo_simple <- lm(Y ~ D, data = df)\n",
    "cat(\"=== REGRESIÓN SIMPLE (Y ~ D) ===\\n\")\n",
    "cat(\"Coeficiente de D (ATE):\", round(coef(modelo_simple)[\"D\"], 3), \"\\n\")\n",
    "cat(\"Error estándar:\", round(sqrt(diag(vcov(modelo_simple)))[\"D\"], 3), \"\\n\\n\")\n"
   ]
  },
  {
   "cell_type": "code",
   "execution_count": 20,
   "id": "81968c1c-efe2-46b5-9a09-9e6b081e728c",
   "metadata": {},
   "outputs": [
    {
     "name": "stdout",
     "output_type": "stream",
     "text": [
      "=== REGRESIÓN CON CONTROLES (Y ~ D + X1 + X2 + X3 + X4) ===\n",
      "Coeficiente de D (ATE): 2.075 \n",
      "Error estándar: 0.064 \n",
      "\n"
     ]
    }
   ],
   "source": [
    "modelo_completo <- lm(Y ~ D + X1 + X2 + X3 + X4, data = df)\n",
    "cat(\"=== REGRESIÓN CON CONTROLES (Y ~ D + X1 + X2 + X3 + X4) ===\\n\")\n",
    "cat(\"Coeficiente de D (ATE):\", round(coef(modelo_completo)[\"D\"], 3), \"\\n\")\n",
    "cat(\"Error estándar:\", round(sqrt(diag(vcov(modelo_completo)))[\"D\"], 3), \"\\n\\n\")\n"
   ]
  },
  {
   "cell_type": "code",
   "execution_count": 22,
   "id": "645e9e45-00aa-4e5b-af16-472f8ed23294",
   "metadata": {},
   "outputs": [
    {
     "name": "stdout",
     "output_type": "stream",
     "text": [
      "=== COMPARACIÓN ===\n",
      "Diferencia en ATE: 0.0001191611 \n",
      "Diferencia en SE: -0.009431047 \n"
     ]
    }
   ],
   "source": [
    "cat(\"=== COMPARACIÓN ===\\n\")\n",
    "cat(\"Diferencia en ATE:\", coef(modelo_completo)[\"D\"] - coef(modelo_simple)[\"D\"], \"\\n\")\n",
    "cat(\"Diferencia en SE:\",\n",
    "    sqrt(diag(vcov(modelo_completo)))[\"D\"] - sqrt(diag(vcov(modelo_simple)))[\"D\"], \"\\n\")\n"
   ]
  },
  {
   "cell_type": "code",
   "execution_count": 24,
   "id": "f2f1bc3f-c15b-4c9a-b8df-6a90cd4041a8",
   "metadata": {},
   "outputs": [
    {
     "name": "stdout",
     "output_type": "stream",
     "text": [
      "\n",
      " ====================================================================== \n",
      "3.3 LASSO CON PARÁMETROS TEÓRICOS (Chernozhukov et al.)\n",
      "====================================================================== \n",
      "Tamaño de muestra (n): 1000 \n",
      "Número de covariables (p): 4 \n",
      "Lambda teórico Chernozhukov: 86.88282 \n",
      "Lambda para glmnet: 0.08688282 \n",
      "\n",
      "=== COMPARACIÓN DE MÉTODOS ===\n",
      "Lambda validación cruzada: 0.001836725 \n",
      "Lambda Chernozhukov: 0.08688282 \n",
      "Ratio (CV/Chernozhukov): 0.02114026 \n",
      "\n",
      "5 x 1 sparse Matrix of class \"dgCMatrix\"\n",
      "                     s0\n",
      "(Intercept)  0.86600576\n",
      "X1           0.44660428\n",
      "X2          -0.09420331\n",
      "X3           0.07360008\n",
      "X4           .         \n",
      "5 x 1 sparse Matrix of class \"dgCMatrix\"\n",
      "                     s1\n",
      "(Intercept)  1.00464016\n",
      "X1           0.52911764\n",
      "X2          -0.27630237\n",
      "X3           0.16695877\n",
      "X4          -0.08053006\n"
     ]
    }
   ],
   "source": [
    "library(glmnet)\n",
    "\n",
    "chernozhukov_lambda <- function(n, p, confidence = 0.95) {\n",
    "  c <- 1.1\n",
    "  alpha <- 1 - confidence\n",
    "  lambda_opt <- c * sqrt(n) * qnorm(1 - alpha / (2 * p))\n",
    "  return(lambda_opt)\n",
    "}\n",
    "\n",
    "X_cov <- as.matrix(df[, c(\"X1\", \"X2\", \"X3\", \"X4\")])\n",
    "y <- df$Y\n",
    "\n",
    "n <- nrow(df)\n",
    "p <- ncol(X_cov)\n",
    "lambda_ch <- chernozhukov_lambda(n, p)\n",
    "\n",
    "cat(\"\\n\", paste(rep(\"=\", 70), collapse = \"\"), \"\\n\")\n",
    "cat(\"3.3 LASSO CON PARÁMETROS TEÓRICOS (Chernozhukov et al.)\\n\")\n",
    "cat(paste(rep(\"=\", 70), collapse = \"\"), \"\\n\")\n",
    "\n",
    "cat(\"Tamaño de muestra (n):\", n, \"\\n\")\n",
    "cat(\"Número de covariables (p):\", p, \"\\n\")\n",
    "cat(\"Lambda teórico Chernozhukov:\", lambda_ch, \"\\n\")\n",
    "cat(\"Lambda para glmnet:\", lambda_ch / n, \"\\n\\n\")\n",
    "\n",
    "# LASSO con lambda teórico\n",
    "lasso_theoretical <- glmnet(X_cov, y, alpha = 1, lambda = lambda_ch / n)\n",
    "\n",
    "# LASSO con validación cruzada\n",
    "set.seed(42)\n",
    "lasso_cv <- cv.glmnet(X_cov, y, alpha = 1)\n",
    "\n",
    "cat(\"=== COMPARACIÓN DE MÉTODOS ===\\n\")\n",
    "cat(\"Lambda validación cruzada:\", lasso_cv$lambda.min, \"\\n\")\n",
    "cat(\"Lambda Chernozhukov:\", lambda_ch / n, \"\\n\")\n",
    "cat(\"Ratio (CV/Chernozhukov):\", lasso_cv$lambda.min / (lambda_ch / n), \"\\n\\n\")\n",
    "\n",
    "# Coeficientes\n",
    "coef_theoretical <- coef(lasso_theoretical)\n",
    "coef_cv <- coef(lasso_cv, s = \"lambda.min\")\n",
    "\n",
    "print(coef_theoretical)\n",
    "print(coef_cv)\n"
   ]
  },
  {
   "cell_type": "code",
   "execution_count": null,
   "id": "0a3684fa-46b2-45ec-b68c-cb3e3f2720b9",
   "metadata": {},
   "outputs": [],
   "source": []
  },
  {
   "cell_type": "code",
   "execution_count": null,
   "id": "dfa59b30-15f1-43e4-8e30-e26118b4c3a5",
   "metadata": {},
   "outputs": [],
   "source": []
  }
 ],
 "metadata": {
  "kernelspec": {
   "display_name": "R [conda env:base] *",
   "language": "R",
   "name": "conda-base-r"
  },
  "language_info": {
   "codemirror_mode": "r",
   "file_extension": ".r",
   "mimetype": "text/x-r-source",
   "name": "R",
   "pygments_lexer": "r",
   "version": "4.1.3"
  }
 },
 "nbformat": 4,
 "nbformat_minor": 5
}

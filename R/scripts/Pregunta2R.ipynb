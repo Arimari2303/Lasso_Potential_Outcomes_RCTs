{
 "cells": [
  {
   "cell_type": "markdown",
   "id": "0dbc93c7",
   "metadata": {},
   "source": [
    "# Ejercicio2"
   ]
  },
  {
   "cell_type": "markdown",
   "id": "d525c6dd",
   "metadata": {},
   "source": [
    "### Paso 1: Librerías y requerimientos"
   ]
  },
  {
   "cell_type": "code",
   "execution_count": 28,
   "id": "5e543700",
   "metadata": {
    "vscode": {
     "languageId": "r"
    }
   },
   "outputs": [
    {
     "name": "stderr",
     "output_type": "stream",
     "text": [
      "Warning message:\n",
      "\"package 'xtable' is in use and will not be installed\"\n",
      "Warning message:\n",
      "\"package 'hdm' is in use and will not be installed\"\n",
      "Warning message:\n",
      "\"package 'glmnet' is in use and will not be installed\"\n",
      "Warning message:\n",
      "\"package 'ggplot2' is in use and will not be installed\"\n",
      "Warning message:\n",
      "\"package 'tidyr' is in use and will not be installed\"\n",
      "also installing the dependencies 'gtools', 'gplots', 'ROCR'\n",
      "\n",
      "\n"
     ]
    },
    {
     "name": "stdout",
     "output_type": "stream",
     "text": [
      "package 'gtools' successfully unpacked and MD5 sums checked\n",
      "package 'gplots' successfully unpacked and MD5 sums checked\n",
      "package 'ROCR' successfully unpacked and MD5 sums checked\n",
      "package 'MLmetrics' successfully unpacked and MD5 sums checked\n",
      "\n",
      "The downloaded binary packages are in\n",
      "\tC:\\Users\\PC\\AppData\\Local\\Temp\\RtmpyMnzV6\\downloaded_packages\n"
     ]
    }
   ],
   "source": [
    "install.packages(\"xtable\")\n",
    "install.packages(\"hdm\")\n",
    "install.packages(\"glmnet\")\n",
    "install.packages(\"ggplot2\")\n",
    "install.packages(\"tidyr\")\n",
    "install.packages(\"MLmetrics\")"
   ]
  },
  {
   "cell_type": "code",
   "execution_count": 13,
   "id": "ddd01f6d",
   "metadata": {
    "vscode": {
     "languageId": "r"
    }
   },
   "outputs": [],
   "source": [
    "library(hdm)\n",
    "library(xtable)\n",
    "library(glmnet)\n",
    "library(ggplot2)\n",
    "set.seed(12092024)\n",
    "library(readxl)\n",
    "library(tidyr)\n",
    "library(dplyr)\n",
    "\n",
    "\n",
    "\n"
   ]
  },
  {
   "cell_type": "markdown",
   "id": "b81f6a08",
   "metadata": {},
   "source": [
    "### Paso 2: Leer la data y quedarnos con aquiellos sin missnig values"
   ]
  },
  {
   "cell_type": "code",
   "execution_count": 5,
   "id": "fe435762",
   "metadata": {
    "vscode": {
     "languageId": "r"
    }
   },
   "outputs": [
    {
     "data": {
      "text/html": [
       "<table class=\"dataframe\">\n",
       "<caption>A tibble: 5 × 100</caption>\n",
       "<thead>\n",
       "\t<tr><th scope=col>STATCD</th><th scope=col>DISTCD</th><th scope=col>STATNAME</th><th scope=col>DISTNAME</th><th scope=col>DISTRICTS</th><th scope=col>BLOCKS</th><th scope=col>VILLAGES</th><th scope=col>TOTPOPULAT</th><th scope=col>P_URB_POP</th><th scope=col>POPULATION_0_6</th><th scope=col>⋯</th><th scope=col>CLS5</th><th scope=col>CLS6</th><th scope=col>CLS7</th><th scope=col>TCH1</th><th scope=col>TCH2</th><th scope=col>TCH3</th><th scope=col>TCH4</th><th scope=col>TCH5</th><th scope=col>TCH6</th><th scope=col>TCH7</th></tr>\n",
       "\t<tr><th scope=col>&lt;dbl&gt;</th><th scope=col>&lt;dbl&gt;</th><th scope=col>&lt;chr&gt;</th><th scope=col>&lt;chr&gt;</th><th scope=col>&lt;dbl&gt;</th><th scope=col>&lt;dbl&gt;</th><th scope=col>&lt;dbl&gt;</th><th scope=col>&lt;dbl&gt;</th><th scope=col>&lt;dbl&gt;</th><th scope=col>&lt;dbl&gt;</th><th scope=col>⋯</th><th scope=col>&lt;dbl&gt;</th><th scope=col>&lt;dbl&gt;</th><th scope=col>&lt;dbl&gt;</th><th scope=col>&lt;dbl&gt;</th><th scope=col>&lt;dbl&gt;</th><th scope=col>&lt;dbl&gt;</th><th scope=col>&lt;dbl&gt;</th><th scope=col>&lt;dbl&gt;</th><th scope=col>&lt;dbl&gt;</th><th scope=col>&lt;dbl&gt;</th></tr>\n",
       "</thead>\n",
       "<tbody>\n",
       "\t<tr><td>1</td><td>101</td><td>JAMMU &amp; KASHMIR</td><td>KUPWARA </td><td>1</td><td>13</td><td>391</td><td> 875564</td><td>11.33</td><td>197001.90</td><td>⋯</td><td>23</td><td> 852</td><td>239</td><td>2708</td><td>5205</td><td><span style=white-space:pre-wrap>  43</span></td><td>70</td><td> 28</td><td>1065</td><td>638</td></tr>\n",
       "\t<tr><td>1</td><td>102</td><td>JAMMU &amp; KASHMIR</td><td>BARAMULA</td><td>1</td><td>18</td><td>678</td><td>1015503</td><td>17.19</td><td>161871.18</td><td>⋯</td><td>30</td><td>1665</td><td>360</td><td>2937</td><td>5873</td><td> 236</td><td>60</td><td>105</td><td>2533</td><td>964</td></tr>\n",
       "\t<tr><td>1</td><td>103</td><td>JAMMU &amp; KASHMIR</td><td>SRINAGAR</td><td>1</td><td> 8</td><td> 94</td><td>1269751</td><td>98.73</td><td>155798.45</td><td>⋯</td><td> 0</td><td>2873</td><td> 40</td><td> 828</td><td>3647</td><td>1159</td><td>14</td><td><span style=white-space:pre-wrap>  0</span></td><td>4757</td><td>129</td></tr>\n",
       "\t<tr><td>1</td><td>104</td><td>JAMMU &amp; KASHMIR</td><td><span style=white-space:pre-wrap>BADGAM  </span></td><td>1</td><td>13</td><td>523</td><td> 735753</td><td>11.74</td><td>150755.79</td><td>⋯</td><td> 8</td><td>1035</td><td>325</td><td>1878</td><td>3892</td><td> 250</td><td>68</td><td> 19</td><td>1493</td><td>716</td></tr>\n",
       "\t<tr><td>1</td><td>105</td><td>JAMMU &amp; KASHMIR</td><td>PULWAMA </td><td>1</td><td> 8</td><td>359</td><td> 570060</td><td>13.80</td><td> 97651.28</td><td>⋯</td><td> 5</td><td>1101</td><td>209</td><td>1336</td><td>2682</td><td> 113</td><td>90</td><td> 38</td><td>1414</td><td>506</td></tr>\n",
       "</tbody>\n",
       "</table>\n"
      ],
      "text/latex": [
       "A tibble: 5 × 100\n",
       "\\begin{tabular}{lllllllllllllllllllll}\n",
       " STATCD & DISTCD & STATNAME & DISTNAME & DISTRICTS & BLOCKS & VILLAGES & TOTPOPULAT & P\\_URB\\_POP & POPULATION\\_0\\_6 & ⋯ & CLS5 & CLS6 & CLS7 & TCH1 & TCH2 & TCH3 & TCH4 & TCH5 & TCH6 & TCH7\\\\\n",
       " <dbl> & <dbl> & <chr> & <chr> & <dbl> & <dbl> & <dbl> & <dbl> & <dbl> & <dbl> & ⋯ & <dbl> & <dbl> & <dbl> & <dbl> & <dbl> & <dbl> & <dbl> & <dbl> & <dbl> & <dbl>\\\\\n",
       "\\hline\n",
       "\t 1 & 101 & JAMMU \\& KASHMIR & KUPWARA  & 1 & 13 & 391 &  875564 & 11.33 & 197001.90 & ⋯ & 23 &  852 & 239 & 2708 & 5205 &   43 & 70 &  28 & 1065 & 638\\\\\n",
       "\t 1 & 102 & JAMMU \\& KASHMIR & BARAMULA & 1 & 18 & 678 & 1015503 & 17.19 & 161871.18 & ⋯ & 30 & 1665 & 360 & 2937 & 5873 &  236 & 60 & 105 & 2533 & 964\\\\\n",
       "\t 1 & 103 & JAMMU \\& KASHMIR & SRINAGAR & 1 &  8 &  94 & 1269751 & 98.73 & 155798.45 & ⋯ &  0 & 2873 &  40 &  828 & 3647 & 1159 & 14 &   0 & 4757 & 129\\\\\n",
       "\t 1 & 104 & JAMMU \\& KASHMIR & BADGAM   & 1 & 13 & 523 &  735753 & 11.74 & 150755.79 & ⋯ &  8 & 1035 & 325 & 1878 & 3892 &  250 & 68 &  19 & 1493 & 716\\\\\n",
       "\t 1 & 105 & JAMMU \\& KASHMIR & PULWAMA  & 1 &  8 & 359 &  570060 & 13.80 &  97651.28 & ⋯ &  5 & 1101 & 209 & 1336 & 2682 &  113 & 90 &  38 & 1414 & 506\\\\\n",
       "\\end{tabular}\n"
      ],
      "text/markdown": [
       "\n",
       "A tibble: 5 × 100\n",
       "\n",
       "| STATCD &lt;dbl&gt; | DISTCD &lt;dbl&gt; | STATNAME &lt;chr&gt; | DISTNAME &lt;chr&gt; | DISTRICTS &lt;dbl&gt; | BLOCKS &lt;dbl&gt; | VILLAGES &lt;dbl&gt; | TOTPOPULAT &lt;dbl&gt; | P_URB_POP &lt;dbl&gt; | POPULATION_0_6 &lt;dbl&gt; | ⋯ ⋯ | CLS5 &lt;dbl&gt; | CLS6 &lt;dbl&gt; | CLS7 &lt;dbl&gt; | TCH1 &lt;dbl&gt; | TCH2 &lt;dbl&gt; | TCH3 &lt;dbl&gt; | TCH4 &lt;dbl&gt; | TCH5 &lt;dbl&gt; | TCH6 &lt;dbl&gt; | TCH7 &lt;dbl&gt; |\n",
       "|---|---|---|---|---|---|---|---|---|---|---|---|---|---|---|---|---|---|---|---|---|\n",
       "| 1 | 101 | JAMMU &amp; KASHMIR | KUPWARA  | 1 | 13 | 391 |  875564 | 11.33 | 197001.90 | ⋯ | 23 |  852 | 239 | 2708 | 5205 |   43 | 70 |  28 | 1065 | 638 |\n",
       "| 1 | 102 | JAMMU &amp; KASHMIR | BARAMULA | 1 | 18 | 678 | 1015503 | 17.19 | 161871.18 | ⋯ | 30 | 1665 | 360 | 2937 | 5873 |  236 | 60 | 105 | 2533 | 964 |\n",
       "| 1 | 103 | JAMMU &amp; KASHMIR | SRINAGAR | 1 |  8 |  94 | 1269751 | 98.73 | 155798.45 | ⋯ |  0 | 2873 |  40 |  828 | 3647 | 1159 | 14 |   0 | 4757 | 129 |\n",
       "| 1 | 104 | JAMMU &amp; KASHMIR | BADGAM   | 1 | 13 | 523 |  735753 | 11.74 | 150755.79 | ⋯ |  8 | 1035 | 325 | 1878 | 3892 |  250 | 68 |  19 | 1493 | 716 |\n",
       "| 1 | 105 | JAMMU &amp; KASHMIR | PULWAMA  | 1 |  8 | 359 |  570060 | 13.80 |  97651.28 | ⋯ |  5 | 1101 | 209 | 1336 | 2682 |  113 | 90 |  38 | 1414 | 506 |\n",
       "\n"
      ],
      "text/plain": [
       "  STATCD DISTCD STATNAME        DISTNAME DISTRICTS BLOCKS VILLAGES TOTPOPULAT\n",
       "1 1      101    JAMMU & KASHMIR KUPWARA  1         13     391       875564   \n",
       "2 1      102    JAMMU & KASHMIR BARAMULA 1         18     678      1015503   \n",
       "3 1      103    JAMMU & KASHMIR SRINAGAR 1          8      94      1269751   \n",
       "4 1      104    JAMMU & KASHMIR BADGAM   1         13     523       735753   \n",
       "5 1      105    JAMMU & KASHMIR PULWAMA  1          8     359       570060   \n",
       "  P_URB_POP POPULATION_0_6 ⋯ CLS5 CLS6 CLS7 TCH1 TCH2 TCH3 TCH4 TCH5 TCH6 TCH7\n",
       "1 11.33     197001.90      ⋯ 23    852 239  2708 5205   43 70    28  1065 638 \n",
       "2 17.19     161871.18      ⋯ 30   1665 360  2937 5873  236 60   105  2533 964 \n",
       "3 98.73     155798.45      ⋯  0   2873  40   828 3647 1159 14     0  4757 129 \n",
       "4 11.74     150755.79      ⋯  8   1035 325  1878 3892  250 68    19  1493 716 \n",
       "5 13.80      97651.28      ⋯  5   1101 209  1336 2682  113 90    38  1414 506 "
      ]
     },
     "metadata": {},
     "output_type": "display_data"
    },
    {
     "data": {
      "text/html": [
       "<style>\n",
       ".list-inline {list-style: none; margin:0; padding: 0}\n",
       ".list-inline>li {display: inline-block}\n",
       ".list-inline>li:not(:last-child)::after {content: \"\\00b7\"; padding: 0 .5ex}\n",
       "</style>\n",
       "<ol class=list-inline><li>625</li><li>100</li></ol>\n"
      ],
      "text/latex": [
       "\\begin{enumerate*}\n",
       "\\item 625\n",
       "\\item 100\n",
       "\\end{enumerate*}\n"
      ],
      "text/markdown": [
       "1. 625\n",
       "2. 100\n",
       "\n",
       "\n"
      ],
      "text/plain": [
       "[1] 625 100"
      ]
     },
     "metadata": {},
     "output_type": "display_data"
    }
   ],
   "source": [
    "df <- read_excel(\"../input/Districtwise_literacy_rates.xlsx\", sheet = 1)\n",
    "df <- na.omit(df)\n",
    "head(df, 5)\n",
    "dim(df)"
   ]
  },
  {
   "cell_type": "markdown",
   "id": "8fce7fef",
   "metadata": {},
   "source": [
    "### Paso 3: Histograma del literaacity hombres y Literacity mujeres"
   ]
  },
  {
   "cell_type": "code",
   "execution_count": null,
   "id": "91322a8c",
   "metadata": {
    "vscode": {
     "languageId": "r"
    }
   },
   "outputs": [
    {
     "data": {
      "image/png": "[encoded data removed]",
      "text/plain": [
       "plot without title"
      ]
     },
     "metadata": {
      "image/png": {
       "height": 420,
       "width": 420
      }
     },
     "output_type": "display_data"
    }
   ],
   "source": [
    "df_long <- df %>%\n",
    "  select(FEMALE_LIT, MALE_LIT) %>%\n",
    "  pivot_longer(cols = everything(),\n",
    "               names_to = \"Gender\",\n",
    "               values_to = \"Literacy\")\n",
    "\n",
    "# Dos histogramas uno al costado del otro\n",
    "ggplot(df_long, aes(x = Literacy, fill = Gender)) +\n",
    "  geom_histogram(bins = 20, alpha = 0.7, color = \"black\") +\n",
    "  facet_wrap(~Gender, ncol = 2, scales = \"free_y\") +\n",
    "  labs(title = \"Histograms of Literacy Rates by Gender\",\n",
    "       x = \"Literacy rate (%)\",\n",
    "       y = \"Frequency\") +\n",
    "  scale_fill_manual(values = c(\"FEMALE_LIT\" = \"pink\", \"MALE_LIT\" = \"green\")) +\n",
    "  theme_minimal() +\n",
    "  theme(aspect.ratio = 3/3)   "
   ]
  },
  {
   "cell_type": "markdown",
   "id": "c6084fb0",
   "metadata": {},
   "source": [
    "##### En este caso se ve claramente que la tasa de alfabetización en promedio tiene una distribución con una media centrada alrededor de 80 en los hombres y de 60 en las mujeres, siendo además en el caso femenino una distribución con cola a la izquierda y con la mayor cantidad de observaciones hacia valores más bajos. Esto contrasta con la distribución masculina, más concentrada y en niveles más elevados. Todo ello refleja la brecha de género que sigue existiendo en ese país respecto a la tasa de alfabetización, la cual probablemente se manifieste también en muchas otras áreas."
   ]
  },
  {
   "cell_type": "markdown",
   "id": "9642ec1a",
   "metadata": {},
   "source": [
    "### Paso 4: Estimación de una especificación de baja dimensión y cálculo del 𝑅2 en el set de prueba"
   ]
  },
  {
   "cell_type": "markdown",
   "id": "edf79dbd",
   "metadata": {},
   "source": [
    "#### En este caso el codigo será algo diferente al de python porque no se puede aplicar folds directamente para calcular el R2 promedio"
   ]
  },
  {
   "cell_type": "code",
   "execution_count": 37,
   "id": "6daf9773",
   "metadata": {
    "vscode": {
     "languageId": "r"
    }
   },
   "outputs": [],
   "source": [
    "Z = df %>%\n",
    "  select(, -STATCD, -DISTCD, -STATNAME, -DISTNAME, -DISTRICTS,-BLOCKS, -VILLAGES, -OVERALL_LI, -AREA_SQKM)\n"
   ]
  },
  {
   "cell_type": "code",
   "execution_count": 32,
   "id": "6160cb1c",
   "metadata": {
    "vscode": {
     "languageId": "r"
    }
   },
   "outputs": [],
   "source": [
    "set.seed(1234)\n",
    "training <- sample(nrow(Z), nrow(Z) * (3 / 4), replace = FALSE)\n",
    "\n",
    "data_train <- Z[training, ]\n",
    "data_test <- Z[-training, ]"
   ]
  },
  {
   "cell_type": "code",
   "execution_count": 33,
   "id": "8da8d81c",
   "metadata": {
    "vscode": {
     "languageId": "r"
    }
   },
   "outputs": [],
   "source": [
    "y_train <- data_train$FEMALE_LIT\n",
    "y_test <- data_test$FEMALE_LIT"
   ]
  },
  {
   "cell_type": "code",
   "execution_count": null,
   "id": "e21f3ec1",
   "metadata": {
    "vscode": {
     "languageId": "r"
    }
   },
   "outputs": [
    {
     "data": {
      "text/html": [
       "91"
      ],
      "text/latex": [
       "91"
      ],
      "text/markdown": [
       "91"
      ],
      "text/plain": [
       "[1] 91"
      ]
     },
     "metadata": {},
     "output_type": "display_data"
    }
   ],
   "source": [
    "x_basic <- \"TOTPOPULAT + P_URB_POP + POPULATION_0_6 + GROWTHRATE + SEXRATIO + P_SC_POP + P_ST_POP + MALE_LIT + TOT_6_10_15 + TOT_11_13_15 + SCH1 + SCH2 + SCH3 + SCH4 + SCH5 + SCH6 + SCH7 + SCH9 + SCHTOT + SCH1G + SCH2G + SCH3G + SCH4G + SCH5G + SCH6G + SCH7G + SCH9G + SCHTOTG + SCH1P + SCH2P + SCH3P + SCH4P + SCH5P + SCH6P + SCH7P + SCH9P + SCHTOTP + SCH1GR + SCH2GR + SCH3GR + SCH4GR + SCH5GR + SCH6GR + SCH7GR + SCH9GR + SCHTOTGR + SCH1PR + SCH2PR + SCH3PR + SCH4PR + SCH5PR + SCH6PR + SCH7PR + SCH9PR + SELE1 + SELE2 + SELE3 + SELE4 + SELE5 + SELE6 + SELE7 + SCOMP1 + SCOMP2 + SCOMP3 + SCOMP4 + SCOMP5 + SCOMP6 + SCOMP7 + ENR501 + ENR502 + ENR503 + ENR504 + ENR505 + ENR506 + ENR507 + ENR509 + CLS1 + CLS2 + CLS3 + CLS4 + CLS5 + CLS6 + CLS7 + TCH1 + TCH2 + TCH3 + TCH4 + TCH5 + TCH6 + TCH7\"\n",
    "formula_basic <- as.formula(paste(\"FEMALE_LIT\", \"~\", x_basic))\n",
    "model_x_basic_train <- model.matrix(formula_basic, data_train)\n",
    "#model_x_basic_train <- scale(model_x_basic_train)\n",
    "model_x_basic_test <- model.matrix(formula_basic, data_test)\n",
    "#model_x_basic_test <- scale(model_x_basic_test)\n",
    "# Intente escalar pero por un motivo desconocido genera NAs y  glmnet no deja trabajar con eso\n",
    "p_basic <- dim(model_x_basic_train)[2]\n",
    "p_basic"
   ]
  },
  {
   "cell_type": "code",
   "execution_count": 53,
   "id": "9ed5a641",
   "metadata": {
    "vscode": {
     "languageId": "r"
    }
   },
   "outputs": [
    {
     "name": "stdout",
     "output_type": "stream",
     "text": [
      "Flexible model R^2 (Lasso):  0.8432141"
     ]
    }
   ],
   "source": [
    "fit_lasso_cv_basic <- cv.glmnet(model_x_basic_train, y_train, family = \"gaussian\", alpha = 1)\n",
    "yhat_lasso_cv_basic <- predict(fit_lasso_cv_basic, newx = model_x_basic_test)\n",
    "mse_lasso_cv_basic <- summary(lm((y_test - yhat_lasso_cv_basic)^2 ~ 1))$coef[1:2]\n",
    "r2_lasso_cv_basic <- 1 - mse_lasso_cv_basic[1] / var(y_test)\n",
    "cat(\"Flexible model R^2 (Lasso): \", r2_lasso_cv_basic)"
   ]
  },
  {
   "cell_type": "markdown",
   "id": "0cb0eded",
   "metadata": {},
   "source": [
    "### Paso 5: Estime una especificación de alta dimensión (flexible): términos de interacción y términos al cuadrado y calcule el R2 \n"
   ]
  },
  {
   "cell_type": "code",
   "execution_count": 41,
   "id": "96d77251",
   "metadata": {
    "vscode": {
     "languageId": "r"
    }
   },
   "outputs": [],
   "source": [
    "base_vars <- c(\"TOTPOPULAT\", \"P_URB_POP\", \"POPULATION_0_6\", \"GROWTHRATE\", \"SEXRATIO\", \"P_SC_POP\", \"P_ST_POP\", \"MALE_LIT\", \"TOT_6_10_15\", \"TOT_11_13_15\", \"SCH1\", \"SCH2\", \"SCH3\", \"SCH4\", \"SCH5\", \"SCH6\", \"SCH7\", \"SCH9\", \"SCHTOT\", \"SCH1G\", \"SCH2G\", \"SCH3G\", \"SCH4G\", \"SCH5G\", \"SCH6G\", \"SCH7G\", \"SCH9G\",  \"SCHTOTG\", \"SCH1P\", \"SCH2P\", \"SCH3P\", \"SCH4P\", \"SCH5P\", \"SCH6P\", \"SCH7P\",\"SCH9P\", \"SCHTOTP\", \"SCH1GR\", \"SCH2GR\", \"SCH3GR\", \"SCH4GR\", \"SCH5GR\", \"SCH6GR\", \"SCH7GR\", \"SCH9GR\", \"SCHTOTGR\", \"SCH1PR\", \"SCH2PR\", \"SCH3PR\", \"SCH4PR\", \"SCH5PR\", \"SCH6PR\", \"SCH7PR\", \"SCH9PR\", \"SELE1\", \"SELE2\", \"SELE3\",\"SELE4\", \"SELE5\", \"SELE6\", \"SELE7\", \"SCOMP1\", \"SCOMP2\", \"SCOMP3\", \"SCOMP4\", \"SCOMP5\", \"SCOMP6\", \"SCOMP7\", \"ENR501\", \"ENR502\", \"ENR503\", \"ENR504\", \"ENR505\",\"ENR506\", \"ENR507\", \"ENR509\", \"CLS1\", \"CLS2\", \"CLS3\", \"CLS4\", \"CLS5\", \"CLS6\",\"CLS7\", \"TCH1\", \"TCH2\", \"TCH3\", \"TCH4\", \"TCH5\", \"TCH6\", \"TCH7\")\n",
    "\n",
    "# Crear la fórmula de solo potencias\n",
    "x_flex <- paste(\n",
    "  paste(base_vars, collapse = \" + \"), \n",
    "  paste(\"I(\", base_vars, \"^2)\", collapse = \" + \"), \n",
    "  paste(\"I(\", base_vars, \"^3)\", collapse = \" + \"), \n",
    "  sep = \" + \"\n",
    ")\n",
    "\n",
    "formula_flex <- as.formula(paste(\"FEMALE_LIT ~\", x_flex))\n",
    "model_x_flex_train <- model.matrix(formula_flex, data = data_train)\n",
    "model_x_flex_test <- model.matrix(formula_flex, data = data_test)\n",
    "p_flex <- dim(model_x_flex_train)[2]\n"
   ]
  },
  {
   "cell_type": "code",
   "execution_count": 54,
   "id": "c9e350aa",
   "metadata": {
    "vscode": {
     "languageId": "r"
    }
   },
   "outputs": [
    {
     "name": "stdout",
     "output_type": "stream",
     "text": [
      "Flexible model R^2 (Lasso):  0.863478"
     ]
    }
   ],
   "source": [
    "fit_lasso_cv_flex <- cv.glmnet(model_x_flex_train, y_train, family = \"gaussian\", alpha = 1)\n",
    "yhat_lasso_cv_flex <- predict(fit_lasso_cv_flex, newx = model_x_flex_test)\n",
    "mse_lasso_cv_flex <- summary(lm((y_test - yhat_lasso_cv_flex)^2 ~ 1))$coef[1:2]\n",
    "r2_lasso_cv_flex <- 1 - mse_lasso_cv_flex[1] / var(y_test)\n",
    "cat(\"Flexible model R^2 (Lasso): \", r2_lasso_cv_flex)"
   ]
  },
  {
   "cell_type": "markdown",
   "id": "39d7bd39",
   "metadata": {},
   "source": [
    "#### Podemos observar que el modelo lazo con potencias es mejor que el básico"
   ]
  },
  {
   "cell_type": "markdown",
   "id": "09b2433f",
   "metadata": {},
   "source": [
    "### Paso 6: λ que va desde 10.000 hasta 0,001"
   ]
  },
  {
   "cell_type": "code",
   "execution_count": 56,
   "id": "2e261a15",
   "metadata": {
    "vscode": {
     "languageId": "r"
    }
   },
   "outputs": [
    {
     "data": {
      "image/png": "[encoded data removed]",
      "text/plain": [
       "Plot with title \"Ruta LASSO (λ=10,000 → 0.001)\""
      ]
     },
     "metadata": {
      "image/png": {
       "height": 420,
       "width": 420
      }
     },
     "output_type": "display_data"
    }
   ],
   "source": [
    "lambdas <- 10^seq(4, -3, length.out = 200)\n",
    "fit_lasso <- glmnet(model_x_flex_train, y_train, alpha = 1, lambda = lambdas)\n",
    "coefs <- coef(fit_lasso)\n",
    "nonzero_counts <- apply(coefs != 0, 2, sum)\n",
    "\n",
    "# Gráfico\n",
    "plot(log10(lambdas), nonzero_counts, type = \"b\", \n",
    "     xlab = \"10^X\", ylab = \"Número de coeficientes ≠ 0\", \n",
    "     main = \"Ruta LASSO (λ=10,000 → 0.001)\", \n",
    "     pch = 16, lwd = 2)"
   ]
  }
 ],
 "metadata": {
  "kernelspec": {
   "display_name": "R",
   "language": "R",
   "name": "ir"
  },
  "language_info": {
   "codemirror_mode": "r",
   "file_extension": ".r",
   "mimetype": "text/x-r-source",
   "name": "R",
   "pygments_lexer": "r",
   "version": "4.4.3"
  }
 },
 "nbformat": 4,
 "nbformat_minor": 5
}

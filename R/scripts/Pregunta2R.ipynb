{
 "cells": [
  {
   "cell_type": "markdown",
   "id": "0dbc93c7",
   "metadata": {},
   "source": [
    "# Ejercicio2"
   ]
  },
  {
   "cell_type": "markdown",
   "id": "d525c6dd",
   "metadata": {},
   "source": [
    "### Paso 1: Librerías y requerimientos"
   ]
  },
  {
   "cell_type": "code",
   "execution_count": 1,
   "id": "5e543700",
   "metadata": {
    "vscode": {
     "languageId": "r"
    }
   },
   "outputs": [
    {
     "name": "stdout",
     "output_type": "stream",
     "text": [
      "package 'xtable' successfully unpacked and MD5 sums checked\n",
      "\n",
      "The downloaded binary packages are in\n",
      "\tC:\\Users\\PC\\AppData\\Local\\Temp\\RtmpyMnzV6\\downloaded_packages\n"
     ]
    },
    {
     "name": "stderr",
     "output_type": "stream",
     "text": [
      "also installing the dependencies 'checkmate', 'Formula'\n",
      "\n",
      "\n"
     ]
    },
    {
     "name": "stdout",
     "output_type": "stream",
     "text": [
      "package 'checkmate' successfully unpacked and MD5 sums checked\n",
      "package 'Formula' successfully unpacked and MD5 sums checked\n",
      "package 'hdm' successfully unpacked and MD5 sums checked\n",
      "\n",
      "The downloaded binary packages are in\n",
      "\tC:\\Users\\PC\\AppData\\Local\\Temp\\RtmpyMnzV6\\downloaded_packages\n",
      "package 'glmnet' successfully unpacked and MD5 sums checked\n",
      "\n",
      "The downloaded binary packages are in\n",
      "\tC:\\Users\\PC\\AppData\\Local\\Temp\\RtmpyMnzV6\\downloaded_packages\n"
     ]
    },
    {
     "name": "stderr",
     "output_type": "stream",
     "text": [
      "also installing the dependency 'S7'\n",
      "\n",
      "\n"
     ]
    },
    {
     "name": "stdout",
     "output_type": "stream",
     "text": [
      "package 'S7' successfully unpacked and MD5 sums checked\n",
      "package 'ggplot2' successfully unpacked and MD5 sums checked\n",
      "\n",
      "The downloaded binary packages are in\n",
      "\tC:\\Users\\PC\\AppData\\Local\\Temp\\RtmpyMnzV6\\downloaded_packages\n",
      "package 'tidyr' successfully unpacked and MD5 sums checked\n",
      "\n",
      "The downloaded binary packages are in\n",
      "\tC:\\Users\\PC\\AppData\\Local\\Temp\\RtmpyMnzV6\\downloaded_packages\n"
     ]
    }
   ],
   "source": [
    "install.packages(\"xtable\")\n",
    "install.packages(\"hdm\")\n",
    "install.packages(\"glmnet\")\n",
    "install.packages(\"ggplot2\")\n",
    "install.packages(\"tidyr\")"
   ]
  },
  {
   "cell_type": "code",
   "execution_count": 13,
   "id": "ddd01f6d",
   "metadata": {
    "vscode": {
     "languageId": "r"
    }
   },
   "outputs": [],
   "source": [
    "library(hdm)\n",
    "library(xtable)\n",
    "library(glmnet)\n",
    "library(ggplot2)\n",
    "set.seed(12092024)\n",
    "library(readxl)\n",
    "library(tidyr)\n",
    "library(dplyr)\n",
    "\n",
    "\n",
    "\n"
   ]
  },
  {
   "cell_type": "markdown",
   "id": "b81f6a08",
   "metadata": {},
   "source": [
    "### Paso 2: Leer la data y quedarnos con aquiellos sin missnig values"
   ]
  },
  {
   "cell_type": "code",
   "execution_count": 5,
   "id": "fe435762",
   "metadata": {
    "vscode": {
     "languageId": "r"
    }
   },
   "outputs": [
    {
     "data": {
      "text/html": [
       "<table class=\"dataframe\">\n",
       "<caption>A tibble: 5 × 100</caption>\n",
       "<thead>\n",
       "\t<tr><th scope=col>STATCD</th><th scope=col>DISTCD</th><th scope=col>STATNAME</th><th scope=col>DISTNAME</th><th scope=col>DISTRICTS</th><th scope=col>BLOCKS</th><th scope=col>VILLAGES</th><th scope=col>TOTPOPULAT</th><th scope=col>P_URB_POP</th><th scope=col>POPULATION_0_6</th><th scope=col>⋯</th><th scope=col>CLS5</th><th scope=col>CLS6</th><th scope=col>CLS7</th><th scope=col>TCH1</th><th scope=col>TCH2</th><th scope=col>TCH3</th><th scope=col>TCH4</th><th scope=col>TCH5</th><th scope=col>TCH6</th><th scope=col>TCH7</th></tr>\n",
       "\t<tr><th scope=col>&lt;dbl&gt;</th><th scope=col>&lt;dbl&gt;</th><th scope=col>&lt;chr&gt;</th><th scope=col>&lt;chr&gt;</th><th scope=col>&lt;dbl&gt;</th><th scope=col>&lt;dbl&gt;</th><th scope=col>&lt;dbl&gt;</th><th scope=col>&lt;dbl&gt;</th><th scope=col>&lt;dbl&gt;</th><th scope=col>&lt;dbl&gt;</th><th scope=col>⋯</th><th scope=col>&lt;dbl&gt;</th><th scope=col>&lt;dbl&gt;</th><th scope=col>&lt;dbl&gt;</th><th scope=col>&lt;dbl&gt;</th><th scope=col>&lt;dbl&gt;</th><th scope=col>&lt;dbl&gt;</th><th scope=col>&lt;dbl&gt;</th><th scope=col>&lt;dbl&gt;</th><th scope=col>&lt;dbl&gt;</th><th scope=col>&lt;dbl&gt;</th></tr>\n",
       "</thead>\n",
       "<tbody>\n",
       "\t<tr><td>1</td><td>101</td><td>JAMMU &amp; KASHMIR</td><td>KUPWARA </td><td>1</td><td>13</td><td>391</td><td> 875564</td><td>11.33</td><td>197001.90</td><td>⋯</td><td>23</td><td> 852</td><td>239</td><td>2708</td><td>5205</td><td><span style=white-space:pre-wrap>  43</span></td><td>70</td><td> 28</td><td>1065</td><td>638</td></tr>\n",
       "\t<tr><td>1</td><td>102</td><td>JAMMU &amp; KASHMIR</td><td>BARAMULA</td><td>1</td><td>18</td><td>678</td><td>1015503</td><td>17.19</td><td>161871.18</td><td>⋯</td><td>30</td><td>1665</td><td>360</td><td>2937</td><td>5873</td><td> 236</td><td>60</td><td>105</td><td>2533</td><td>964</td></tr>\n",
       "\t<tr><td>1</td><td>103</td><td>JAMMU &amp; KASHMIR</td><td>SRINAGAR</td><td>1</td><td> 8</td><td> 94</td><td>1269751</td><td>98.73</td><td>155798.45</td><td>⋯</td><td> 0</td><td>2873</td><td> 40</td><td> 828</td><td>3647</td><td>1159</td><td>14</td><td><span style=white-space:pre-wrap>  0</span></td><td>4757</td><td>129</td></tr>\n",
       "\t<tr><td>1</td><td>104</td><td>JAMMU &amp; KASHMIR</td><td><span style=white-space:pre-wrap>BADGAM  </span></td><td>1</td><td>13</td><td>523</td><td> 735753</td><td>11.74</td><td>150755.79</td><td>⋯</td><td> 8</td><td>1035</td><td>325</td><td>1878</td><td>3892</td><td> 250</td><td>68</td><td> 19</td><td>1493</td><td>716</td></tr>\n",
       "\t<tr><td>1</td><td>105</td><td>JAMMU &amp; KASHMIR</td><td>PULWAMA </td><td>1</td><td> 8</td><td>359</td><td> 570060</td><td>13.80</td><td> 97651.28</td><td>⋯</td><td> 5</td><td>1101</td><td>209</td><td>1336</td><td>2682</td><td> 113</td><td>90</td><td> 38</td><td>1414</td><td>506</td></tr>\n",
       "</tbody>\n",
       "</table>\n"
      ],
      "text/latex": [
       "A tibble: 5 × 100\n",
       "\\begin{tabular}{lllllllllllllllllllll}\n",
       " STATCD & DISTCD & STATNAME & DISTNAME & DISTRICTS & BLOCKS & VILLAGES & TOTPOPULAT & P\\_URB\\_POP & POPULATION\\_0\\_6 & ⋯ & CLS5 & CLS6 & CLS7 & TCH1 & TCH2 & TCH3 & TCH4 & TCH5 & TCH6 & TCH7\\\\\n",
       " <dbl> & <dbl> & <chr> & <chr> & <dbl> & <dbl> & <dbl> & <dbl> & <dbl> & <dbl> & ⋯ & <dbl> & <dbl> & <dbl> & <dbl> & <dbl> & <dbl> & <dbl> & <dbl> & <dbl> & <dbl>\\\\\n",
       "\\hline\n",
       "\t 1 & 101 & JAMMU \\& KASHMIR & KUPWARA  & 1 & 13 & 391 &  875564 & 11.33 & 197001.90 & ⋯ & 23 &  852 & 239 & 2708 & 5205 &   43 & 70 &  28 & 1065 & 638\\\\\n",
       "\t 1 & 102 & JAMMU \\& KASHMIR & BARAMULA & 1 & 18 & 678 & 1015503 & 17.19 & 161871.18 & ⋯ & 30 & 1665 & 360 & 2937 & 5873 &  236 & 60 & 105 & 2533 & 964\\\\\n",
       "\t 1 & 103 & JAMMU \\& KASHMIR & SRINAGAR & 1 &  8 &  94 & 1269751 & 98.73 & 155798.45 & ⋯ &  0 & 2873 &  40 &  828 & 3647 & 1159 & 14 &   0 & 4757 & 129\\\\\n",
       "\t 1 & 104 & JAMMU \\& KASHMIR & BADGAM   & 1 & 13 & 523 &  735753 & 11.74 & 150755.79 & ⋯ &  8 & 1035 & 325 & 1878 & 3892 &  250 & 68 &  19 & 1493 & 716\\\\\n",
       "\t 1 & 105 & JAMMU \\& KASHMIR & PULWAMA  & 1 &  8 & 359 &  570060 & 13.80 &  97651.28 & ⋯ &  5 & 1101 & 209 & 1336 & 2682 &  113 & 90 &  38 & 1414 & 506\\\\\n",
       "\\end{tabular}\n"
      ],
      "text/markdown": [
       "\n",
       "A tibble: 5 × 100\n",
       "\n",
       "| STATCD &lt;dbl&gt; | DISTCD &lt;dbl&gt; | STATNAME &lt;chr&gt; | DISTNAME &lt;chr&gt; | DISTRICTS &lt;dbl&gt; | BLOCKS &lt;dbl&gt; | VILLAGES &lt;dbl&gt; | TOTPOPULAT &lt;dbl&gt; | P_URB_POP &lt;dbl&gt; | POPULATION_0_6 &lt;dbl&gt; | ⋯ ⋯ | CLS5 &lt;dbl&gt; | CLS6 &lt;dbl&gt; | CLS7 &lt;dbl&gt; | TCH1 &lt;dbl&gt; | TCH2 &lt;dbl&gt; | TCH3 &lt;dbl&gt; | TCH4 &lt;dbl&gt; | TCH5 &lt;dbl&gt; | TCH6 &lt;dbl&gt; | TCH7 &lt;dbl&gt; |\n",
       "|---|---|---|---|---|---|---|---|---|---|---|---|---|---|---|---|---|---|---|---|---|\n",
       "| 1 | 101 | JAMMU &amp; KASHMIR | KUPWARA  | 1 | 13 | 391 |  875564 | 11.33 | 197001.90 | ⋯ | 23 |  852 | 239 | 2708 | 5205 |   43 | 70 |  28 | 1065 | 638 |\n",
       "| 1 | 102 | JAMMU &amp; KASHMIR | BARAMULA | 1 | 18 | 678 | 1015503 | 17.19 | 161871.18 | ⋯ | 30 | 1665 | 360 | 2937 | 5873 |  236 | 60 | 105 | 2533 | 964 |\n",
       "| 1 | 103 | JAMMU &amp; KASHMIR | SRINAGAR | 1 |  8 |  94 | 1269751 | 98.73 | 155798.45 | ⋯ |  0 | 2873 |  40 |  828 | 3647 | 1159 | 14 |   0 | 4757 | 129 |\n",
       "| 1 | 104 | JAMMU &amp; KASHMIR | BADGAM   | 1 | 13 | 523 |  735753 | 11.74 | 150755.79 | ⋯ |  8 | 1035 | 325 | 1878 | 3892 |  250 | 68 |  19 | 1493 | 716 |\n",
       "| 1 | 105 | JAMMU &amp; KASHMIR | PULWAMA  | 1 |  8 | 359 |  570060 | 13.80 |  97651.28 | ⋯ |  5 | 1101 | 209 | 1336 | 2682 |  113 | 90 |  38 | 1414 | 506 |\n",
       "\n"
      ],
      "text/plain": [
       "  STATCD DISTCD STATNAME        DISTNAME DISTRICTS BLOCKS VILLAGES TOTPOPULAT\n",
       "1 1      101    JAMMU & KASHMIR KUPWARA  1         13     391       875564   \n",
       "2 1      102    JAMMU & KASHMIR BARAMULA 1         18     678      1015503   \n",
       "3 1      103    JAMMU & KASHMIR SRINAGAR 1          8      94      1269751   \n",
       "4 1      104    JAMMU & KASHMIR BADGAM   1         13     523       735753   \n",
       "5 1      105    JAMMU & KASHMIR PULWAMA  1          8     359       570060   \n",
       "  P_URB_POP POPULATION_0_6 ⋯ CLS5 CLS6 CLS7 TCH1 TCH2 TCH3 TCH4 TCH5 TCH6 TCH7\n",
       "1 11.33     197001.90      ⋯ 23    852 239  2708 5205   43 70    28  1065 638 \n",
       "2 17.19     161871.18      ⋯ 30   1665 360  2937 5873  236 60   105  2533 964 \n",
       "3 98.73     155798.45      ⋯  0   2873  40   828 3647 1159 14     0  4757 129 \n",
       "4 11.74     150755.79      ⋯  8   1035 325  1878 3892  250 68    19  1493 716 \n",
       "5 13.80      97651.28      ⋯  5   1101 209  1336 2682  113 90    38  1414 506 "
      ]
     },
     "metadata": {},
     "output_type": "display_data"
    },
    {
     "data": {
      "text/html": [
       "<style>\n",
       ".list-inline {list-style: none; margin:0; padding: 0}\n",
       ".list-inline>li {display: inline-block}\n",
       ".list-inline>li:not(:last-child)::after {content: \"\\00b7\"; padding: 0 .5ex}\n",
       "</style>\n",
       "<ol class=list-inline><li>625</li><li>100</li></ol>\n"
      ],
      "text/latex": [
       "\\begin{enumerate*}\n",
       "\\item 625\n",
       "\\item 100\n",
       "\\end{enumerate*}\n"
      ],
      "text/markdown": [
       "1. 625\n",
       "2. 100\n",
       "\n",
       "\n"
      ],
      "text/plain": [
       "[1] 625 100"
      ]
     },
     "metadata": {},
     "output_type": "display_data"
    }
   ],
   "source": [
    "df <- read_excel(\"../input/Districtwise_literacy_rates.xlsx\", sheet = 1)\n",
    "df <- na.omit(df)\n",
    "head(df, 5)\n",
    "dim(df)"
   ]
  },
  {
   "cell_type": "markdown",
   "id": "8fce7fef",
   "metadata": {},
   "source": [
    "### Paso 3: Histograma del literaacity hombres y Literacity mujeres"
   ]
  },
  {
   "cell_type": "code",
   "execution_count": null,
   "id": "91322a8c",
   "metadata": {
    "vscode": {
     "languageId": "r"
    }
   },
   "outputs": [
    {
     "data": {
      "image/png": "[encoded data removed]",
      "text/plain": [
       "plot without title"
      ]
     },
     "metadata": {
      "image/png": {
       "height": 420,
       "width": 420
      }
     },
     "output_type": "display_data"
    }
   ],
   "source": [
    "df_long <- df %>%\n",
    "  select(FEMALE_LIT, MALE_LIT) %>%\n",
    "  pivot_longer(cols = everything(),\n",
    "               names_to = \"Gender\",\n",
    "               values_to = \"Literacy\")\n",
    "\n",
    "# Dos histogramas uno al costado del otro\n",
    "ggplot(df_long, aes(x = Literacy, fill = Gender)) +\n",
    "  geom_histogram(bins = 20, alpha = 0.7, color = \"black\") +\n",
    "  facet_wrap(~Gender, ncol = 2, scales = \"free_y\") +\n",
    "  labs(title = \"Histograms of Literacy Rates by Gender\",\n",
    "       x = \"Literacy rate (%)\",\n",
    "       y = \"Frequency\") +\n",
    "  scale_fill_manual(values = c(\"FEMALE_LIT\" = \"pink\", \"MALE_LIT\" = \"green\")) +\n",
    "  theme_minimal() +\n",
    "  theme(aspect.ratio = 3/3)   "
   ]
  },
  {
   "cell_type": "markdown",
   "id": "c6084fb0",
   "metadata": {},
   "source": [
    "##### En este caso se ve claramente que la tasa de alfabetización en promedio tiene una distribución con una media centrada alrededor de 80 en los hombres y de 60 en las mujeres, siendo además en el caso femenino una distribución con cola a la izquierda y con la mayor cantidad de observaciones hacia valores más bajos. Esto contrasta con la distribución masculina, más concentrada y en niveles más elevados. Todo ello refleja la brecha de género que sigue existiendo en ese país respecto a la tasa de alfabetización, la cual probablemente se manifieste también en muchas otras áreas."
   ]
  },
  {
   "cell_type": "markdown",
   "id": "9642ec1a",
   "metadata": {},
   "source": [
    "### Paso 4: Estimación de una especificación de baja dimensión y cálculo del 𝑅2 en el set de prueba"
   ]
  }
 ],
 "metadata": {
  "kernelspec": {
   "display_name": "R",
   "language": "R",
   "name": "ir"
  },
  "language_info": {
   "codemirror_mode": "r",
   "file_extension": ".r",
   "mimetype": "text/x-r-source",
   "name": "R",
   "pygments_lexer": "r",
   "version": "4.4.3"
  }
 },
 "nbformat": 4,
 "nbformat_minor": 5
}

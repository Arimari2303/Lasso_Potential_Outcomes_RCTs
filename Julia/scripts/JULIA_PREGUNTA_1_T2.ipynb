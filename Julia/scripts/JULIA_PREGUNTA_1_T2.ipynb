{
 "cells": [
  {
   "cell_type": "code",
   "execution_count": 14,
   "id": "1699035a-d2c7-41e2-9bd6-df9cca33539f",
   "metadata": {},
   "outputs": [
    {
     "name": "stderr",
     "output_type": "stream",
     "text": [
      "\u001b[32m\u001b[1m  Activating\u001b[22m\u001b[39m project at `C:\\Users\\ARIANA`\n",
      "\u001b[32m\u001b[1m    Updating\u001b[22m\u001b[39m `C:\\Users\\ARIANA\\Project.toml`\n",
      "  \u001b[90m[91a5bcdd] \u001b[39m\u001b[91m- Plots v1.40.20\u001b[39m\n",
      "\u001b[32m\u001b[1m    Updating\u001b[22m\u001b[39m `C:\\Users\\ARIANA\\Manifest.toml`\n",
      "  \u001b[90m[d38c429a] \u001b[39m\u001b[91m- Contour v0.6.3\u001b[39m\n",
      "  \u001b[90m[c87230d0] \u001b[39m\u001b[91m- FFMPEG v0.4.4\u001b[39m\n",
      "  \u001b[90m[1fa38f19] \u001b[39m\u001b[91m- Format v1.3.7\u001b[39m\n",
      "  \u001b[90m[28b8d3ca] \u001b[39m\u001b[91m- GR v0.73.17\u001b[39m\n",
      "  \u001b[90m[42e2da0e] \u001b[39m\u001b[91m- Grisu v1.0.2\u001b[39m\n",
      "  \u001b[90m[1019f520] \u001b[39m\u001b[91m- JLFzf v0.1.11\u001b[39m\n",
      "  \u001b[90m[23fbe1c1] \u001b[39m\u001b[91m- Latexify v0.16.10\u001b[39m\n",
      "  \u001b[90m[442fdcdd] \u001b[39m\u001b[91m- Measures v0.3.2\u001b[39m\n",
      "  \u001b[90m[ccf2f8ad] \u001b[39m\u001b[91m- PlotThemes v3.3.0\u001b[39m\n",
      "  \u001b[90m[995b91a9] \u001b[39m\u001b[91m- PlotUtils v1.4.3\u001b[39m\n",
      "  \u001b[90m[91a5bcdd] \u001b[39m\u001b[91m- Plots v1.40.20\u001b[39m\n",
      "  \u001b[90m[01d81517] \u001b[39m\u001b[91m- RecipesPipeline v0.6.12\u001b[39m\n",
      "  \u001b[90m[992d4aef] \u001b[39m\u001b[91m- Showoff v1.0.3\u001b[39m\n",
      "  \u001b[90m[1cfade01] \u001b[39m\u001b[91m- UnicodeFun v0.4.1\u001b[39m\n",
      "  \u001b[90m[1986cc42] \u001b[39m\u001b[91m- Unitful v1.24.0\u001b[39m\n",
      "  \u001b[90m[45397f5d] \u001b[39m\u001b[91m- UnitfulLatexify v1.7.0\u001b[39m\n",
      "  \u001b[90m[41fe7b60] \u001b[39m\u001b[91m- Unzip v0.2.0\u001b[39m\n",
      "  \u001b[90m[6e34b625] \u001b[39m\u001b[91m- Bzip2_jll v1.0.9+0\u001b[39m\n",
      "  \u001b[90m[83423d85] \u001b[39m\u001b[91m- Cairo_jll v1.18.5+0\u001b[39m\n",
      "  \u001b[90m[ee1fde0b] \u001b[39m\u001b[91m- Dbus_jll v1.16.2+0\u001b[39m\n",
      "  \u001b[90m[2702e6a9] \u001b[39m\u001b[91m- EpollShim_jll v0.0.20230411+1\u001b[39m\n",
      "  \u001b[90m[2e619515] \u001b[39m\u001b[91m- Expat_jll v2.7.1+0\u001b[39m\n",
      "  \u001b[90m[b22a6f82] \u001b[39m\u001b[91m- FFMPEG_jll v7.1.1+0\u001b[39m\n",
      "  \u001b[90m[a3f928ae] \u001b[39m\u001b[91m- Fontconfig_jll v2.17.1+0\u001b[39m\n",
      "  \u001b[90m[d7e528f0] \u001b[39m\u001b[91m- FreeType2_jll v2.13.4+0\u001b[39m\n",
      "  \u001b[90m[559328eb] \u001b[39m\u001b[91m- FriBidi_jll v1.0.17+0\u001b[39m\n",
      "  \u001b[90m[0656b61e] \u001b[39m\u001b[91m- GLFW_jll v3.4.0+2\u001b[39m\n",
      "  \u001b[90m[d2c73de3] \u001b[39m\u001b[91m- GR_jll v0.73.17+0\u001b[39m\n",
      "  \u001b[90m[b0724c58] \u001b[39m\u001b[91m- GettextRuntime_jll v0.22.4+0\u001b[39m\n",
      "  \u001b[90m[61579ee1] \u001b[39m\u001b[91m- Ghostscript_jll v9.55.1+0\u001b[39m\n",
      "  \u001b[90m[7746bdde] \u001b[39m\u001b[91m- Glib_jll v2.86.0+0\u001b[39m\n",
      "  \u001b[90m[3b182d85] \u001b[39m\u001b[91m- Graphite2_jll v1.3.15+0\u001b[39m\n",
      "  \u001b[90m[2e76f6c2] \u001b[39m\u001b[91m- HarfBuzz_jll v8.5.1+0\u001b[39m\n",
      "  \u001b[90m[aacddb02] \u001b[39m\u001b[91m- JpegTurbo_jll v3.1.3+0\u001b[39m\n",
      "  \u001b[90m[c1c5ebd0] \u001b[39m\u001b[91m- LAME_jll v3.100.3+0\u001b[39m\n",
      "  \u001b[90m[88015f11] \u001b[39m\u001b[91m- LERC_jll v4.0.1+0\u001b[39m\n",
      "  \u001b[90m[1d63c593] \u001b[39m\u001b[91m- LLVMOpenMP_jll v18.1.8+0\u001b[39m\n",
      "  \u001b[90m[dd4b983a] \u001b[39m\u001b[91m- LZO_jll v2.10.3+0\u001b[39m\n",
      "  \u001b[90m[e9f186c6] \u001b[39m\u001b[91m- Libffi_jll v3.4.7+0\u001b[39m\n",
      "  \u001b[90m[7e76a0d4] \u001b[39m\u001b[91m- Libglvnd_jll v1.7.1+1\u001b[39m\n",
      "  \u001b[90m[94ce4f54] \u001b[39m\u001b[91m- Libiconv_jll v1.18.0+0\u001b[39m\n",
      "  \u001b[90m[4b2f31a3] \u001b[39m\u001b[91m- Libmount_jll v2.41.1+0\u001b[39m\n",
      "  \u001b[90m[89763e89] \u001b[39m\u001b[91m- Libtiff_jll v4.7.1+0\u001b[39m\n",
      "  \u001b[90m[38a345b3] \u001b[39m\u001b[91m- Libuuid_jll v2.41.1+0\u001b[39m\n",
      "  \u001b[90m[e7412a2a] \u001b[39m\u001b[91m- Ogg_jll v1.3.6+0\u001b[39m\n",
      "  \u001b[90m[91d4177d] \u001b[39m\u001b[91m- Opus_jll v1.5.2+0\u001b[39m\n",
      "  \u001b[90m[36c8627f] \u001b[39m\u001b[91m- Pango_jll v1.56.4+0\u001b[39m\n",
      "  \u001b[90m[30392449] \u001b[39m\u001b[91m- Pixman_jll v0.44.2+0\u001b[39m\n",
      "  \u001b[90m[c0090381] \u001b[39m\u001b[91m- Qt6Base_jll v6.8.2+1\u001b[39m\n",
      "  \u001b[90m[629bc702] \u001b[39m\u001b[91m- Qt6Declarative_jll v6.8.2+1\u001b[39m\n",
      "  \u001b[90m[ce943373] \u001b[39m\u001b[91m- Qt6ShaderTools_jll v6.8.2+1\u001b[39m\n",
      "  \u001b[90m[e99dba38] \u001b[39m\u001b[91m- Qt6Wayland_jll v6.8.2+1\u001b[39m\n",
      "  \u001b[90m[a44049a8] \u001b[39m\u001b[91m- Vulkan_Loader_jll v1.3.243+0\u001b[39m\n",
      "  \u001b[90m[a2964d1f] \u001b[39m\u001b[91m- Wayland_jll v1.24.0+0\u001b[39m\n",
      "  \u001b[90m[ffd25f8a] \u001b[39m\u001b[91m- XZ_jll v5.8.1+0\u001b[39m\n",
      "  \u001b[90m[f67eecfb] \u001b[39m\u001b[91m- Xorg_libICE_jll v1.1.2+0\u001b[39m\n",
      "  \u001b[90m[c834827a] \u001b[39m\u001b[91m- Xorg_libSM_jll v1.2.6+0\u001b[39m\n",
      "  \u001b[90m[4f6342f7] \u001b[39m\u001b[91m- Xorg_libX11_jll v1.8.12+0\u001b[39m\n",
      "  \u001b[90m[0c0b7dd1] \u001b[39m\u001b[91m- Xorg_libXau_jll v1.0.13+0\u001b[39m\n",
      "  \u001b[90m[935fb764] \u001b[39m\u001b[91m- Xorg_libXcursor_jll v1.2.4+0\u001b[39m\n",
      "  \u001b[90m[a3789734] \u001b[39m\u001b[91m- Xorg_libXdmcp_jll v1.1.6+0\u001b[39m\n",
      "  \u001b[90m[1082639a] \u001b[39m\u001b[91m- Xorg_libXext_jll v1.3.7+0\u001b[39m\n",
      "  \u001b[90m[d091e8ba] \u001b[39m\u001b[91m- Xorg_libXfixes_jll v6.0.1+0\u001b[39m\n",
      "  \u001b[90m[a51aa0fd] \u001b[39m\u001b[91m- Xorg_libXi_jll v1.8.3+0\u001b[39m\n",
      "  \u001b[90m[d1454406] \u001b[39m\u001b[91m- Xorg_libXinerama_jll v1.1.6+0\u001b[39m\n",
      "  \u001b[90m[ec84b674] \u001b[39m\u001b[91m- Xorg_libXrandr_jll v1.5.5+0\u001b[39m\n",
      "  \u001b[90m[ea2f1a96] \u001b[39m\u001b[91m- Xorg_libXrender_jll v0.9.12+0\u001b[39m\n",
      "  \u001b[90m[c7cfdc94] \u001b[39m\u001b[91m- Xorg_libxcb_jll v1.17.1+0\u001b[39m\n",
      "  \u001b[90m[cc61e674] \u001b[39m\u001b[91m- Xorg_libxkbfile_jll v1.1.3+0\u001b[39m\n",
      "  \u001b[90m[e920d4aa] \u001b[39m\u001b[91m- Xorg_xcb_util_cursor_jll v0.1.5+0\u001b[39m\n",
      "  \u001b[90m[12413925] \u001b[39m\u001b[91m- Xorg_xcb_util_image_jll v0.4.1+0\u001b[39m\n",
      "  \u001b[90m[2def613f] \u001b[39m\u001b[91m- Xorg_xcb_util_jll v0.4.1+0\u001b[39m\n",
      "  \u001b[90m[975044d2] \u001b[39m\u001b[91m- Xorg_xcb_util_keysyms_jll v0.4.1+0\u001b[39m\n",
      "  \u001b[90m[0d47668e] \u001b[39m\u001b[91m- Xorg_xcb_util_renderutil_jll v0.3.10+0\u001b[39m\n",
      "  \u001b[90m[c22f9ab0] \u001b[39m\u001b[91m- Xorg_xcb_util_wm_jll v0.4.2+0\u001b[39m\n",
      "  \u001b[90m[35661453] \u001b[39m\u001b[91m- Xorg_xkbcomp_jll v1.4.7+0\u001b[39m\n",
      "  \u001b[90m[33bec58e] \u001b[39m\u001b[91m- Xorg_xkeyboard_config_jll v2.44.0+0\u001b[39m\n",
      "  \u001b[90m[c5fb5394] \u001b[39m\u001b[91m- Xorg_xtrans_jll v1.6.0+0\u001b[39m\n",
      "  \u001b[90m[3161d3a3] \u001b[39m\u001b[91m- Zstd_jll v1.5.7+1\u001b[39m\n",
      "  \u001b[90m[35ca27e7] \u001b[39m\u001b[91m- eudev_jll v3.2.14+0\u001b[39m\n",
      "  \u001b[90m[214eeab7] \u001b[39m\u001b[91m- fzf_jll v0.61.1+0\u001b[39m\n",
      "  \u001b[90m[a4ae2306] \u001b[39m\u001b[91m- libaom_jll v3.12.1+0\u001b[39m\n",
      "  \u001b[90m[0ac62f75] \u001b[39m\u001b[91m- libass_jll v0.17.4+0\u001b[39m\n",
      "  \u001b[90m[1183f4f0] \u001b[39m\u001b[91m- libdecor_jll v0.2.2+0\u001b[39m\n",
      "  \u001b[90m[2db6ffa8] \u001b[39m\u001b[91m- libevdev_jll v1.13.4+0\u001b[39m\n",
      "  \u001b[90m[f638f0a6] \u001b[39m\u001b[91m- libfdk_aac_jll v2.0.4+0\u001b[39m\n",
      "  \u001b[90m[36db933b] \u001b[39m\u001b[91m- libinput_jll v1.28.1+0\u001b[39m\n",
      "  \u001b[90m[b53b4c65] \u001b[39m\u001b[91m- libpng_jll v1.6.50+0\u001b[39m\n",
      "  \u001b[90m[f27f6e37] \u001b[39m\u001b[91m- libvorbis_jll v1.3.8+0\u001b[39m\n",
      "  \u001b[90m[009596ad] \u001b[39m\u001b[91m- mtdev_jll v1.1.7+0\u001b[39m\n",
      "  \u001b[90m[1270edf5] \u001b[39m\u001b[91m- x264_jll v10164.0.1+0\u001b[39m\n",
      "  \u001b[90m[dfaa095f] \u001b[39m\u001b[91m- x265_jll v4.1.0+0\u001b[39m\n",
      "  \u001b[90m[d8fb68d0] \u001b[39m\u001b[91m- xkbcommon_jll v1.9.2+0\u001b[39m\n",
      "  \u001b[90m[efcefdf7] \u001b[39m\u001b[91m- PCRE2_jll v10.42.0+1\u001b[39m\n"
     ]
    },
    {
     "ename": "LoadError",
     "evalue": "The following package names could not be resolved:\n * GR (not found in project or manifest)",
     "output_type": "error",
     "traceback": [
      "The following package names could not be resolved:\n * GR (not found in project or manifest)",
      "",
      "Stacktrace:",
      " [1] \u001b[0m\u001b[1mpkgerror\u001b[22m\u001b[0m\u001b[1m(\u001b[22m\u001b[90mmsg\u001b[39m::\u001b[0mString\u001b[0m\u001b[1m)\u001b[22m",
      "\u001b[90m   @\u001b[39m \u001b[35mPkg.Types\u001b[39m \u001b[90mC:\\Users\\ARIANA\\AppData\\Local\\Programs\\Julia-1.11.6\\share\\julia\\stdlib\\v1.11\\Pkg\\src\\\u001b[39m\u001b[90m\u001b[4mTypes.jl:68\u001b[24m\u001b[39m",
      " [2] \u001b[0m\u001b[1mensure_resolved\u001b[22m\u001b[0m\u001b[1m(\u001b[22m\u001b[90mctx\u001b[39m::\u001b[0mPkg.Types.Context, \u001b[90mmanifest\u001b[39m::\u001b[0mPkg.Types.Manifest, \u001b[90mpkgs\u001b[39m::\u001b[0mVector\u001b[90m{Pkg.Types.PackageSpec}\u001b[39m; \u001b[90mregistry\u001b[39m::\u001b[0mBool\u001b[0m\u001b[1m)\u001b[22m",
      "\u001b[90m   @\u001b[39m \u001b[35mPkg.Types\u001b[39m \u001b[90mC:\\Users\\ARIANA\\AppData\\Local\\Programs\\Julia-1.11.6\\share\\julia\\stdlib\\v1.11\\Pkg\\src\\\u001b[39m\u001b[90m\u001b[4mTypes.jl:1040\u001b[24m\u001b[39m",
      " [3] \u001b[0m\u001b[1mensure_resolved\u001b[22m",
      "\u001b[90m   @\u001b[39m \u001b[90mC:\\Users\\ARIANA\\AppData\\Local\\Programs\\Julia-1.11.6\\share\\julia\\stdlib\\v1.11\\Pkg\\src\\\u001b[39m\u001b[90m\u001b[4mTypes.jl:991\u001b[24m\u001b[39m\u001b[90m [inlined]\u001b[39m",
      " [4] \u001b[0m\u001b[1mrm\u001b[22m\u001b[0m\u001b[1m(\u001b[22m\u001b[90mctx\u001b[39m::\u001b[0mPkg.Types.Context, \u001b[90mpkgs\u001b[39m::\u001b[0mVector\u001b[90m{Pkg.Types.PackageSpec}\u001b[39m; \u001b[90mmode\u001b[39m::\u001b[0mPkg.Types.PackageMode, \u001b[90mall_pkgs\u001b[39m::\u001b[0mBool, \u001b[90mkwargs\u001b[39m::\u001b[0m@Kwargs\u001b[90m{io::IOContext{IO}}\u001b[39m\u001b[0m\u001b[1m)\u001b[22m",
      "\u001b[90m   @\u001b[39m \u001b[35mPkg.API\u001b[39m \u001b[90mC:\\Users\\ARIANA\\AppData\\Local\\Programs\\Julia-1.11.6\\share\\julia\\stdlib\\v1.11\\Pkg\\src\\\u001b[39m\u001b[90m\u001b[4mAPI.jl:338\u001b[24m\u001b[39m",
      " [5] \u001b[0m\u001b[1mrm\u001b[22m\u001b[0m\u001b[1m(\u001b[22m\u001b[90mpkgs\u001b[39m::\u001b[0mVector\u001b[90m{Pkg.Types.PackageSpec}\u001b[39m; \u001b[90mio\u001b[39m::\u001b[0mIOContext\u001b[90m{IO}\u001b[39m, \u001b[90mkwargs\u001b[39m::\u001b[0m@Kwargs\u001b[90m{}\u001b[39m\u001b[0m\u001b[1m)\u001b[22m",
      "\u001b[90m   @\u001b[39m \u001b[35mPkg.API\u001b[39m \u001b[90mC:\\Users\\ARIANA\\AppData\\Local\\Programs\\Julia-1.11.6\\share\\julia\\stdlib\\v1.11\\Pkg\\src\\\u001b[39m\u001b[90m\u001b[4mAPI.jl:159\u001b[24m\u001b[39m",
      " [6] \u001b[0m\u001b[1mrm\u001b[22m\u001b[0m\u001b[1m(\u001b[22m\u001b[90mpkgs\u001b[39m::\u001b[0mVector\u001b[90m{Pkg.Types.PackageSpec}\u001b[39m\u001b[0m\u001b[1m)\u001b[22m",
      "\u001b[90m   @\u001b[39m \u001b[35mPkg.API\u001b[39m \u001b[90mC:\\Users\\ARIANA\\AppData\\Local\\Programs\\Julia-1.11.6\\share\\julia\\stdlib\\v1.11\\Pkg\\src\\\u001b[39m\u001b[90m\u001b[4mAPI.jl:148\u001b[24m\u001b[39m",
      " [7] \u001b[0m\u001b[1mrm\u001b[22m",
      "\u001b[90m   @\u001b[39m \u001b[90mC:\\Users\\ARIANA\\AppData\\Local\\Programs\\Julia-1.11.6\\share\\julia\\stdlib\\v1.11\\Pkg\\src\\\u001b[39m\u001b[90m\u001b[4mAPI.jl:147\u001b[24m\u001b[39m\u001b[90m [inlined]\u001b[39m",
      " [8] \u001b[0m\u001b[1mrm\u001b[22m\u001b[0m\u001b[1m(\u001b[22m\u001b[90mpkg\u001b[39m::\u001b[0mString\u001b[0m\u001b[1m)\u001b[22m",
      "\u001b[90m   @\u001b[39m \u001b[35mPkg.API\u001b[39m \u001b[90mC:\\Users\\ARIANA\\AppData\\Local\\Programs\\Julia-1.11.6\\share\\julia\\stdlib\\v1.11\\Pkg\\src\\\u001b[39m\u001b[90m\u001b[4mAPI.jl:146\u001b[24m\u001b[39m",
      " [9] top-level scope",
      "\u001b[90m   @\u001b[39m \u001b[90m\u001b[4mIn[14]:4\u001b[24m\u001b[39m"
     ]
    }
   ],
   "source": [
    "import Pkg\n",
    "Pkg.activate(\".\")\n",
    "Pkg.rm(\"Plots\")\n",
    "Pkg.rm(\"GR\")\n",
    "Pkg.gc()\n",
    "\n",
    "Pkg.add(\"PlotlyJS\")\n",
    "using PlotlyJS\n",
    "plot(scatter(x=1:5, y=(1:5).^2))  # prueba\n"
   ]
  },
  {
   "cell_type": "code",
   "execution_count": 16,
   "id": "605edb3d-430a-4547-acf8-b2cfb55597ba",
   "metadata": {},
   "outputs": [
    {
     "name": "stderr",
     "output_type": "stream",
     "text": [
      "\u001b[32m\u001b[1m  Activating\u001b[22m\u001b[39m project at `C:\\Users\\ARIANA`\n",
      "\u001b[32m\u001b[1m   Resolving\u001b[22m\u001b[39m package versions...\n",
      "\u001b[32m\u001b[1m  No Changes\u001b[22m\u001b[39m to `C:\\Users\\ARIANA\\Project.toml`\n",
      "\u001b[32m\u001b[1m  No Changes\u001b[22m\u001b[39m to `C:\\Users\\ARIANA\\Manifest.toml`\n"
     ]
    },
    {
     "data": {
      "application/vnd.webio.node+json": {
       "children": [],
       "instanceArgs": {
        "namespace": "html",
        "tag": "div"
       },
       "nodeType": "DOM",
       "props": {},
       "type": "node"
      },
      "text/html": [
       "<div style=\"padding: 1em; background-color: #f8d6da; border: 1px solid #f5c6cb; font-weight: bold;\">\n",
       "<p>The WebIO Jupyter extension was not detected. See the\n",
       "<a href=\"https://juliagizmos.github.io/WebIO.jl/latest/providers/ijulia/\" target=\"_blank\">\n",
       "    WebIO Jupyter integration documentation\n",
       "</a>\n",
       "for more information.\n",
       "</div>\n"
      ],
      "text/plain": [
       "WebIO._IJuliaInit()"
      ]
     },
     "metadata": {},
     "output_type": "display_data"
    },
    {
     "name": "stderr",
     "output_type": "stream",
     "text": [
      "\u001b[36m\u001b[1m[ \u001b[22m\u001b[39m\u001b[36m\u001b[1mInfo: \u001b[22m\u001b[39mPrecompiling IJuliaExt [8defba6f-844a-5524-a0e0-8562ac28b28e] (cache misses: wrong dep version loaded (2))\n",
      "\u001b[36m\u001b[1m[ \u001b[22m\u001b[39m\u001b[36m\u001b[1mInfo: \u001b[22m\u001b[39mPrecompiling IJuliaExt [b7a7f6bc-295a-5c2e-af64-cdcb9211a47b] (cache misses: wrong dep version loaded (2))\n"
     ]
    },
    {
     "data": {
      "application/vnd.plotly.v1+json": {
       "config": {
        "displayModeBar": null,
        "displaylogo": null,
        "doubleClickDelay": null,
        "editable": false,
        "linkText": null,
        "locale": null,
        "modeBarButtons": null,
        "modeBarButtonsToAdd": null,
        "modeBarButtonsToRemove": null,
        "plotlyServerURL": null,
        "responsive": true,
        "scrollZoom": true,
        "showEditInChartStudio": null,
        "showLink": false,
        "staticPlot": false,
        "toImageButtonOptions": null
       },
       "data": [
        {
         "fields": {
          "type": "scatter",
          "x": [
           1,
           2,
           3,
           4,
           5
          ],
          "y": [
           1,
           4,
           9,
           16,
           25
          ]
         }
        }
       ],
       "divid": {
        "value": 4.496865344053509e+35
       },
       "frames": [],
       "layout": {
        "fields": {
         "margin": {
          "b": 50,
          "l": 50,
          "r": 50,
          "t": 60
         },
         "template": {
          "data": {
           "bar": [
            {
             "fields": {
              "error_x": {
               "color": "#2a3f5f"
              },
              "error_y": {
               "color": "#2a3f5f"
              },
              "marker": {
               "line": {
                "color": "#E5ECF6",
                "width": 0.5
               }
              },
              "type": "bar"
             }
            }
           ],
           "barpolar": [
            {
             "fields": {
              "marker": {
               "line": {
                "color": "#E5ECF6",
                "width": 0.5
               }
              },
              "type": "barpolar"
             }
            }
           ],
           "carpet": [
            {
             "fields": {
              "aaxis": {
               "endlinecolor": "#2a3f5f",
               "gridcolor": "white",
               "linecolor": "white",
               "minorgridcolor": "white",
               "startlinecolor": "#2a3f5f"
              },
              "baxis": {
               "endlinecolor": "#2a3f5f",
               "gridcolor": "white",
               "linecolor": "white",
               "minorgridcolor": "white",
               "startlinecolor": "#2a3f5f"
              },
              "type": "carpet"
             }
            }
           ],
           "choropleth": [
            {
             "fields": {
              "colorbar": {
               "outlinewidth": 0,
               "ticks": ""
              },
              "type": "choropleth"
             }
            }
           ],
           "contour": [
            {
             "fields": {
              "colorbar": {
               "outlinewidth": 0,
               "ticks": ""
              },
              "colorscale": [
               [
                0,
                "#0d0887"
               ],
               [
                0.1111111111111111,
                "#46039f"
               ],
               [
                0.2222222222222222,
                "#7201a8"
               ],
               [
                0.3333333333333333,
                "#9c179e"
               ],
               [
                0.4444444444444444,
                "#bd3786"
               ],
               [
                0.5555555555555556,
                "#d8576b"
               ],
               [
                0.6666666666666666,
                "#ed7953"
               ],
               [
                0.7777777777777778,
                "#fb9f3a"
               ],
               [
                0.8888888888888888,
                "#fdca26"
               ],
               [
                1,
                "#f0f921"
               ]
              ],
              "type": "contour"
             }
            }
           ],
           "contourcarpet": [
            {
             "fields": {
              "colorbar": {
               "outlinewidth": 0,
               "ticks": ""
              },
              "type": "contourcarpet"
             }
            }
           ],
           "heatmap": [
            {
             "fields": {
              "colorbar": {
               "outlinewidth": 0,
               "ticks": ""
              },
              "colorscale": [
               [
                0,
                "#0d0887"
               ],
               [
                0.1111111111111111,
                "#46039f"
               ],
               [
                0.2222222222222222,
                "#7201a8"
               ],
               [
                0.3333333333333333,
                "#9c179e"
               ],
               [
                0.4444444444444444,
                "#bd3786"
               ],
               [
                0.5555555555555556,
                "#d8576b"
               ],
               [
                0.6666666666666666,
                "#ed7953"
               ],
               [
                0.7777777777777778,
                "#fb9f3a"
               ],
               [
                0.8888888888888888,
                "#fdca26"
               ],
               [
                1,
                "#f0f921"
               ]
              ],
              "type": "heatmap"
             }
            }
           ],
           "heatmapgl": [
            {
             "fields": {
              "colorbar": {
               "outlinewidth": 0,
               "ticks": ""
              },
              "colorscale": [
               [
                0,
                "#0d0887"
               ],
               [
                0.1111111111111111,
                "#46039f"
               ],
               [
                0.2222222222222222,
                "#7201a8"
               ],
               [
                0.3333333333333333,
                "#9c179e"
               ],
               [
                0.4444444444444444,
                "#bd3786"
               ],
               [
                0.5555555555555556,
                "#d8576b"
               ],
               [
                0.6666666666666666,
                "#ed7953"
               ],
               [
                0.7777777777777778,
                "#fb9f3a"
               ],
               [
                0.8888888888888888,
                "#fdca26"
               ],
               [
                1,
                "#f0f921"
               ]
              ],
              "type": "heatmapgl"
             }
            }
           ],
           "histogram": [
            {
             "fields": {
              "marker": {
               "colorbar": {
                "outlinewidth": 0,
                "ticks": ""
               }
              },
              "type": "histogram"
             }
            }
           ],
           "histogram2d": [
            {
             "fields": {
              "colorbar": {
               "outlinewidth": 0,
               "ticks": ""
              },
              "colorscale": [
               [
                0,
                "#0d0887"
               ],
               [
                0.1111111111111111,
                "#46039f"
               ],
               [
                0.2222222222222222,
                "#7201a8"
               ],
               [
                0.3333333333333333,
                "#9c179e"
               ],
               [
                0.4444444444444444,
                "#bd3786"
               ],
               [
                0.5555555555555556,
                "#d8576b"
               ],
               [
                0.6666666666666666,
                "#ed7953"
               ],
               [
                0.7777777777777778,
                "#fb9f3a"
               ],
               [
                0.8888888888888888,
                "#fdca26"
               ],
               [
                1,
                "#f0f921"
               ]
              ],
              "type": "histogram2d"
             }
            }
           ],
           "histogram2dcontour": [
            {
             "fields": {
              "colorbar": {
               "outlinewidth": 0,
               "ticks": ""
              },
              "colorscale": [
               [
                0,
                "#0d0887"
               ],
               [
                0.1111111111111111,
                "#46039f"
               ],
               [
                0.2222222222222222,
                "#7201a8"
               ],
               [
                0.3333333333333333,
                "#9c179e"
               ],
               [
                0.4444444444444444,
                "#bd3786"
               ],
               [
                0.5555555555555556,
                "#d8576b"
               ],
               [
                0.6666666666666666,
                "#ed7953"
               ],
               [
                0.7777777777777778,
                "#fb9f3a"
               ],
               [
                0.8888888888888888,
                "#fdca26"
               ],
               [
                1,
                "#f0f921"
               ]
              ],
              "type": "histogram2dcontour"
             }
            }
           ],
           "mesh3d": [
            {
             "fields": {
              "colorbar": {
               "outlinewidth": 0,
               "ticks": ""
              },
              "type": "mesh3d"
             }
            }
           ],
           "parcoords": [
            {
             "fields": {
              "line": {
               "colorbar": {
                "outlinewidth": 0,
                "ticks": ""
               }
              },
              "type": "parcoords"
             }
            }
           ],
           "pie": [
            {
             "fields": {
              "automargin": true,
              "type": "pie"
             }
            }
           ],
           "scatter": [
            {
             "fields": {
              "marker": {
               "colorbar": {
                "outlinewidth": 0,
                "ticks": ""
               }
              },
              "type": "scatter"
             }
            }
           ],
           "scatter3d": [
            {
             "fields": {
              "line": {
               "colorbar": {
                "outlinewidth": 0,
                "ticks": ""
               }
              },
              "marker": {
               "colorbar": {
                "outlinewidth": 0,
                "ticks": ""
               }
              },
              "type": "scatter3d"
             }
            }
           ],
           "scattercarpet": [
            {
             "fields": {
              "marker": {
               "colorbar": {
                "outlinewidth": 0,
                "ticks": ""
               }
              },
              "type": "scattercarpet"
             }
            }
           ],
           "scattergeo": [
            {
             "fields": {
              "marker": {
               "colorbar": {
                "outlinewidth": 0,
                "ticks": ""
               }
              },
              "type": "scattergeo"
             }
            }
           ],
           "scattergl": [
            {
             "fields": {
              "marker": {
               "colorbar": {
                "outlinewidth": 0,
                "ticks": ""
               }
              },
              "type": "scattergl"
             }
            }
           ],
           "scattermapbox": [
            {
             "fields": {
              "marker": {
               "colorbar": {
                "outlinewidth": 0,
                "ticks": ""
               }
              },
              "type": "scattermapbox"
             }
            }
           ],
           "scatterpolar": [
            {
             "fields": {
              "marker": {
               "colorbar": {
                "outlinewidth": 0,
                "ticks": ""
               }
              },
              "type": "scatterpolar"
             }
            }
           ],
           "scatterpolargl": [
            {
             "fields": {
              "marker": {
               "colorbar": {
                "outlinewidth": 0,
                "ticks": ""
               }
              },
              "type": "scatterpolargl"
             }
            }
           ],
           "scatterternary": [
            {
             "fields": {
              "marker": {
               "colorbar": {
                "outlinewidth": 0,
                "ticks": ""
               }
              },
              "type": "scatterternary"
             }
            }
           ],
           "surface": [
            {
             "fields": {
              "colorbar": {
               "outlinewidth": 0,
               "ticks": ""
              },
              "colorscale": [
               [
                0,
                "#0d0887"
               ],
               [
                0.1111111111111111,
                "#46039f"
               ],
               [
                0.2222222222222222,
                "#7201a8"
               ],
               [
                0.3333333333333333,
                "#9c179e"
               ],
               [
                0.4444444444444444,
                "#bd3786"
               ],
               [
                0.5555555555555556,
                "#d8576b"
               ],
               [
                0.6666666666666666,
                "#ed7953"
               ],
               [
                0.7777777777777778,
                "#fb9f3a"
               ],
               [
                0.8888888888888888,
                "#fdca26"
               ],
               [
                1,
                "#f0f921"
               ]
              ],
              "type": "surface"
             }
            }
           ],
           "table": [
            {
             "fields": {
              "cells": {
               "fill": {
                "color": "#EBF0F8"
               },
               "line": {
                "color": "white"
               }
              },
              "header": {
               "fill": {
                "color": "#C8D4E3"
               },
               "line": {
                "color": "white"
               }
              },
              "type": "table"
             }
            }
           ]
          },
          "layout": {
           "fields": {
            "annotationdefaults": {
             "arrowcolor": "#2a3f5f",
             "arrowhead": 0,
             "arrowwidth": 1
            },
            "autotypenumbers": "strict",
            "coloraxis": {
             "colorbar": {
              "outlinewidth": 0,
              "ticks": ""
             }
            },
            "colorscale": {
             "diverging": [
              [
               0,
               "#8e0152"
              ],
              [
               0.1,
               "#c51b7d"
              ],
              [
               0.2,
               "#de77ae"
              ],
              [
               0.3,
               "#f1b6da"
              ],
              [
               0.4,
               "#fde0ef"
              ],
              [
               0.5,
               "#f7f7f7"
              ],
              [
               0.6,
               "#e6f5d0"
              ],
              [
               0.7,
               "#b8e186"
              ],
              [
               0.8,
               "#7fbc41"
              ],
              [
               0.9,
               "#4d9221"
              ],
              [
               1,
               "#276419"
              ]
             ],
             "sequential": [
              [
               0,
               "#0d0887"
              ],
              [
               0.1111111111111111,
               "#46039f"
              ],
              [
               0.2222222222222222,
               "#7201a8"
              ],
              [
               0.3333333333333333,
               "#9c179e"
              ],
              [
               0.4444444444444444,
               "#bd3786"
              ],
              [
               0.5555555555555556,
               "#d8576b"
              ],
              [
               0.6666666666666666,
               "#ed7953"
              ],
              [
               0.7777777777777778,
               "#fb9f3a"
              ],
              [
               0.8888888888888888,
               "#fdca26"
              ],
              [
               1,
               "#f0f921"
              ]
             ],
             "sequentialminus": [
              [
               0,
               "#0d0887"
              ],
              [
               0.1111111111111111,
               "#46039f"
              ],
              [
               0.2222222222222222,
               "#7201a8"
              ],
              [
               0.3333333333333333,
               "#9c179e"
              ],
              [
               0.4444444444444444,
               "#bd3786"
              ],
              [
               0.5555555555555556,
               "#d8576b"
              ],
              [
               0.6666666666666666,
               "#ed7953"
              ],
              [
               0.7777777777777778,
               "#fb9f3a"
              ],
              [
               0.8888888888888888,
               "#fdca26"
              ],
              [
               1,
               "#f0f921"
              ]
             ]
            },
            "colorway": [
             "#636efa",
             "#EF553B",
             "#00cc96",
             "#ab63fa",
             "#FFA15A",
             "#19d3f3",
             "#FF6692",
             "#B6E880",
             "#FF97FF",
             "#FECB52"
            ],
            "font": {
             "color": "#2a3f5f"
            },
            "geo": {
             "bgcolor": "white",
             "lakecolor": "white",
             "landcolor": "#E5ECF6",
             "showlakes": true,
             "showland": true,
             "subunitcolor": "white"
            },
            "hoverlabel": {
             "align": "left"
            },
            "hovermode": "closest",
            "mapbox": {
             "style": "light"
            },
            "paper_bgcolor": "white",
            "plot_bgcolor": "#E5ECF6",
            "polar": {
             "angularaxis": {
              "gridcolor": "white",
              "linecolor": "white",
              "ticks": ""
             },
             "bgcolor": "#E5ECF6",
             "radialaxis": {
              "gridcolor": "white",
              "linecolor": "white",
              "ticks": ""
             }
            },
            "scene": {
             "xaxis": {
              "backgroundcolor": "#E5ECF6",
              "gridcolor": "white",
              "gridwidth": 2,
              "linecolor": "white",
              "showbackground": true,
              "ticks": "",
              "zerolinecolor": "white"
             },
             "yaxis": {
              "backgroundcolor": "#E5ECF6",
              "gridcolor": "white",
              "gridwidth": 2,
              "linecolor": "white",
              "showbackground": true,
              "ticks": "",
              "zerolinecolor": "white"
             },
             "zaxis": {
              "backgroundcolor": "#E5ECF6",
              "gridcolor": "white",
              "gridwidth": 2,
              "linecolor": "white",
              "showbackground": true,
              "ticks": "",
              "zerolinecolor": "white"
             }
            },
            "shapedefaults": {
             "line": {
              "color": "#2a3f5f"
             }
            },
            "ternary": {
             "aaxis": {
              "gridcolor": "white",
              "linecolor": "white",
              "ticks": ""
             },
             "baxis": {
              "gridcolor": "white",
              "linecolor": "white",
              "ticks": ""
             },
             "bgcolor": "#E5ECF6",
             "caxis": {
              "gridcolor": "white",
              "linecolor": "white",
              "ticks": ""
             }
            },
            "title": {
             "x": 0.05
            },
            "xaxis": {
             "automargin": true,
             "gridcolor": "white",
             "linecolor": "white",
             "ticks": "",
             "title": {
              "standoff": 15
             },
             "zerolinecolor": "white",
             "zerolinewidth": 2
            },
            "yaxis": {
             "automargin": true,
             "gridcolor": "white",
             "linecolor": "white",
             "ticks": "",
             "title": {
              "standoff": 15
             },
             "zerolinecolor": "white",
             "zerolinewidth": 2
            }
           }
          }
         }
        },
        "height": 360,
        "subplots": {
         "_heights": [
          1
         ],
         "_widths": [
          1
         ],
         "cols": 1,
         "column_titles": null,
         "column_widths": null,
         "grid_ref": [
          [
           [
            {
             "layout_keys": [
              "xaxis",
              "yaxis"
             ],
             "subplot_kind": "xy",
             "trace_kwargs": {
              "fields": {
               "xaxis": "x",
               "yaxis": "y"
              }
             }
            }
           ]
          ]
         ],
         "has_secondary_y": false,
         "horizontal_spacing": 0.2,
         "insets": null,
         "max_width": 1,
         "row_heights": null,
         "row_titles": null,
         "rows": 1,
         "shared_xaxes": false,
         "shared_yaxes": false,
         "specs": [
          [
           {
            "b": 0,
            "colspan": 1,
            "kind": "xy",
            "l": 0,
            "r": 0,
            "rowspan": 1,
            "secondary_y": false,
            "t": 0
           }
          ]
         ],
         "start_cell": "top-left",
         "subplot_titles": null,
         "vertical_spacing": 0.3,
         "x_title": null,
         "y_title": null
        }
       }
      },
      "text/html": [
       "<div\n",
       "    class=\"webio-mountpoint\"\n",
       "    data-webio-mountpoint=\"10966397135067019943\"\n",
       ">\n",
       "    <script>\n",
       "    (function(){\n",
       "    // Some integrations (namely, IJulia/Jupyter) use an alternate render pathway than\n",
       "    // just putting the html on the page. If WebIO isn't defined, then it's pretty likely\n",
       "    // that we're in one of those situations and the integration just isn't installed\n",
       "    // correctly.\n",
       "    if (typeof window.WebIO === \"undefined\") {\n",
       "        document\n",
       "            .querySelector('[data-webio-mountpoint=\"10966397135067019943\"]')\n",
       "            .innerHTML = (\n",
       "                '<div style=\"padding: 1em; background-color: #f8d6da; border: 1px solid #f5c6cb; font-weight: bold;\">' +\n",
       "                '<p><strong>WebIO not detected.</strong></p>' +\n",
       "                '<p>Please read ' +\n",
       "                '<a href=\"https://juliagizmos.github.io/WebIO.jl/latest/troubleshooting/not-detected/\" target=\"_blank\">the troubleshooting guide</a> ' +\n",
       "                'for more information on how to resolve this issue.</p>' +\n",
       "                '<p><a href=\"https://juliagizmos.github.io/WebIO.jl/latest/troubleshooting/not-detected/\" target=\"_blank\">https://juliagizmos.github.io/WebIO.jl/latest/troubleshooting/not-detected/</a></p>' +\n",
       "                '</div>'\n",
       "            );\n",
       "        return;\n",
       "    }\n",
       "    WebIO.mount(\n",
       "        document.querySelector('[data-webio-mountpoint=\"10966397135067019943\"]'),\n",
       "        {\"props\":{},\"nodeType\":\"Scope\",\"instanceArgs\":{\"id\":\"2671249172\",\"systemjs_options\":null,\"mount_callbacks\":[\"function () {\\n    var handler = ((function (Plotly,PlotlyWebIO){PlotlyWebIO.init(WebIO); var gd=this.dom.querySelector(\\\"#plot-00569b42-068a-442c-a7f6-70f2d2ad09fa\\\"); this.plotElem=gd; this.Plotly=Plotly; (window.Blink!==undefined) ? (gd.style.width=\\\"100%\\\", gd.style.height=\\\"100vh\\\", gd.style.marginLeft=\\\"0%\\\", gd.style.marginTop=\\\"0vh\\\") : undefined; window.onresize=(function (){return Plotly.Plots.resize(gd)}); Plotly.newPlot(gd,[{\\\"y\\\":[1,4,9,16,25],\\\"x\\\":[1,2,3,4,5],\\\"type\\\":\\\"scatter\\\"}],{\\\"template\\\":{\\\"data\\\":{\\\"choropleth\\\":[{\\\"colorbar\\\":{\\\"ticks\\\":\\\"\\\",\\\"outlinewidth\\\":0},\\\"type\\\":\\\"choropleth\\\"}],\\\"scattergl\\\":[{\\\"marker\\\":{\\\"colorbar\\\":{\\\"ticks\\\":\\\"\\\",\\\"outlinewidth\\\":0}},\\\"type\\\":\\\"scattergl\\\"}],\\\"scattermapbox\\\":[{\\\"marker\\\":{\\\"colorbar\\\":{\\\"ticks\\\":\\\"\\\",\\\"outlinewidth\\\":0}},\\\"type\\\":\\\"scattermapbox\\\"}],\\\"scattergeo\\\":[{\\\"marker\\\":{\\\"colorbar\\\":{\\\"ticks\\\":\\\"\\\",\\\"outlinewidth\\\":0}},\\\"type\\\":\\\"scattergeo\\\"}],\\\"contour\\\":[{\\\"colorbar\\\":{\\\"ticks\\\":\\\"\\\",\\\"outlinewidth\\\":0},\\\"colorscale\\\":[[0.0,\\\"#0d0887\\\"],[0.1111111111111111,\\\"#46039f\\\"],[0.2222222222222222,\\\"#7201a8\\\"],[0.3333333333333333,\\\"#9c179e\\\"],[0.4444444444444444,\\\"#bd3786\\\"],[0.5555555555555556,\\\"#d8576b\\\"],[0.6666666666666666,\\\"#ed7953\\\"],[0.7777777777777778,\\\"#fb9f3a\\\"],[0.8888888888888888,\\\"#fdca26\\\"],[1.0,\\\"#f0f921\\\"]],\\\"type\\\":\\\"contour\\\"}],\\\"barpolar\\\":[{\\\"marker\\\":{\\\"line\\\":{\\\"color\\\":\\\"#E5ECF6\\\",\\\"width\\\":0.5}},\\\"type\\\":\\\"barpolar\\\"}],\\\"scatter\\\":[{\\\"marker\\\":{\\\"colorbar\\\":{\\\"ticks\\\":\\\"\\\",\\\"outlinewidth\\\":0}},\\\"type\\\":\\\"scatter\\\"}],\\\"histogram\\\":[{\\\"marker\\\":{\\\"colorbar\\\":{\\\"ticks\\\":\\\"\\\",\\\"outlinewidth\\\":0}},\\\"type\\\":\\\"histogram\\\"}],\\\"surface\\\":[{\\\"colorbar\\\":{\\\"ticks\\\":\\\"\\\",\\\"outlinewidth\\\":0},\\\"colorscale\\\":[[0.0,\\\"#0d0887\\\"],[0.1111111111111111,\\\"#46039f\\\"],[0.2222222222222222,\\\"#7201a8\\\"],[0.3333333333333333,\\\"#9c179e\\\"],[0.4444444444444444,\\\"#bd3786\\\"],[0.5555555555555556,\\\"#d8576b\\\"],[0.6666666666666666,\\\"#ed7953\\\"],[0.7777777777777778,\\\"#fb9f3a\\\"],[0.8888888888888888,\\\"#fdca26\\\"],[1.0,\\\"#f0f921\\\"]],\\\"type\\\":\\\"surface\\\"}],\\\"mesh3d\\\":[{\\\"colorbar\\\":{\\\"ticks\\\":\\\"\\\",\\\"outlinewidth\\\":0},\\\"type\\\":\\\"mesh3d\\\"}],\\\"scatter3d\\\":[{\\\"marker\\\":{\\\"colorbar\\\":{\\\"ticks\\\":\\\"\\\",\\\"outlinewidth\\\":0}},\\\"line\\\":{\\\"colorbar\\\":{\\\"ticks\\\":\\\"\\\",\\\"outlinewidth\\\":0}},\\\"type\\\":\\\"scatter3d\\\"}],\\\"contourcarpet\\\":[{\\\"colorbar\\\":{\\\"ticks\\\":\\\"\\\",\\\"outlinewidth\\\":0},\\\"type\\\":\\\"contourcarpet\\\"}],\\\"heatmapgl\\\":[{\\\"colorbar\\\":{\\\"ticks\\\":\\\"\\\",\\\"outlinewidth\\\":0},\\\"colorscale\\\":[[0.0,\\\"#0d0887\\\"],[0.1111111111111111,\\\"#46039f\\\"],[0.2222222222222222,\\\"#7201a8\\\"],[0.3333333333333333,\\\"#9c179e\\\"],[0.4444444444444444,\\\"#bd3786\\\"],[0.5555555555555556,\\\"#d8576b\\\"],[0.6666666666666666,\\\"#ed7953\\\"],[0.7777777777777778,\\\"#fb9f3a\\\"],[0.8888888888888888,\\\"#fdca26\\\"],[1.0,\\\"#f0f921\\\"]],\\\"type\\\":\\\"heatmapgl\\\"}],\\\"pie\\\":[{\\\"automargin\\\":true,\\\"type\\\":\\\"pie\\\"}],\\\"scatterpolar\\\":[{\\\"marker\\\":{\\\"colorbar\\\":{\\\"ticks\\\":\\\"\\\",\\\"outlinewidth\\\":0}},\\\"type\\\":\\\"scatterpolar\\\"}],\\\"carpet\\\":[{\\\"aaxis\\\":{\\\"minorgridcolor\\\":\\\"white\\\",\\\"gridcolor\\\":\\\"white\\\",\\\"linecolor\\\":\\\"white\\\",\\\"endlinecolor\\\":\\\"#2a3f5f\\\",\\\"startlinecolor\\\":\\\"#2a3f5f\\\"},\\\"baxis\\\":{\\\"minorgridcolor\\\":\\\"white\\\",\\\"gridcolor\\\":\\\"white\\\",\\\"linecolor\\\":\\\"white\\\",\\\"endlinecolor\\\":\\\"#2a3f5f\\\",\\\"startlinecolor\\\":\\\"#2a3f5f\\\"},\\\"type\\\":\\\"carpet\\\"}],\\\"histogram2dcontour\\\":[{\\\"colorbar\\\":{\\\"ticks\\\":\\\"\\\",\\\"outlinewidth\\\":0},\\\"colorscale\\\":[[0.0,\\\"#0d0887\\\"],[0.1111111111111111,\\\"#46039f\\\"],[0.2222222222222222,\\\"#7201a8\\\"],[0.3333333333333333,\\\"#9c179e\\\"],[0.4444444444444444,\\\"#bd3786\\\"],[0.5555555555555556,\\\"#d8576b\\\"],[0.6666666666666666,\\\"#ed7953\\\"],[0.7777777777777778,\\\"#fb9f3a\\\"],[0.8888888888888888,\\\"#fdca26\\\"],[1.0,\\\"#f0f921\\\"]],\\\"type\\\":\\\"histogram2dcontour\\\"}],\\\"scatterternary\\\":[{\\\"marker\\\":{\\\"colorbar\\\":{\\\"ticks\\\":\\\"\\\",\\\"outlinewidth\\\":0}},\\\"type\\\":\\\"scatterternary\\\"}],\\\"histogram2d\\\":[{\\\"colorbar\\\":{\\\"ticks\\\":\\\"\\\",\\\"outlinewidth\\\":0},\\\"colorscale\\\":[[0.0,\\\"#0d0887\\\"],[0.1111111111111111,\\\"#46039f\\\"],[0.2222222222222222,\\\"#7201a8\\\"],[0.3333333333333333,\\\"#9c179e\\\"],[0.4444444444444444,\\\"#bd3786\\\"],[0.5555555555555556,\\\"#d8576b\\\"],[0.6666666666666666,\\\"#ed7953\\\"],[0.7777777777777778,\\\"#fb9f3a\\\"],[0.8888888888888888,\\\"#fdca26\\\"],[1.0,\\\"#f0f921\\\"]],\\\"type\\\":\\\"histogram2d\\\"}],\\\"bar\\\":[{\\\"error_y\\\":{\\\"color\\\":\\\"#2a3f5f\\\"},\\\"error_x\\\":{\\\"color\\\":\\\"#2a3f5f\\\"},\\\"marker\\\":{\\\"line\\\":{\\\"color\\\":\\\"#E5ECF6\\\",\\\"width\\\":0.5}},\\\"type\\\":\\\"bar\\\"}],\\\"table\\\":[{\\\"cells\\\":{\\\"fill\\\":{\\\"color\\\":\\\"#EBF0F8\\\"},\\\"line\\\":{\\\"color\\\":\\\"white\\\"}},\\\"header\\\":{\\\"fill\\\":{\\\"color\\\":\\\"#C8D4E3\\\"},\\\"line\\\":{\\\"color\\\":\\\"white\\\"}},\\\"type\\\":\\\"table\\\"}],\\\"scattercarpet\\\":[{\\\"marker\\\":{\\\"colorbar\\\":{\\\"ticks\\\":\\\"\\\",\\\"outlinewidth\\\":0}},\\\"type\\\":\\\"scattercarpet\\\"}],\\\"parcoords\\\":[{\\\"line\\\":{\\\"colorbar\\\":{\\\"ticks\\\":\\\"\\\",\\\"outlinewidth\\\":0}},\\\"type\\\":\\\"parcoords\\\"}],\\\"scatterpolargl\\\":[{\\\"marker\\\":{\\\"colorbar\\\":{\\\"ticks\\\":\\\"\\\",\\\"outlinewidth\\\":0}},\\\"type\\\":\\\"scatterpolargl\\\"}],\\\"heatmap\\\":[{\\\"colorbar\\\":{\\\"ticks\\\":\\\"\\\",\\\"outlinewidth\\\":0},\\\"colorscale\\\":[[0.0,\\\"#0d0887\\\"],[0.1111111111111111,\\\"#46039f\\\"],[0.2222222222222222,\\\"#7201a8\\\"],[0.3333333333333333,\\\"#9c179e\\\"],[0.4444444444444444,\\\"#bd3786\\\"],[0.5555555555555556,\\\"#d8576b\\\"],[0.6666666666666666,\\\"#ed7953\\\"],[0.7777777777777778,\\\"#fb9f3a\\\"],[0.8888888888888888,\\\"#fdca26\\\"],[1.0,\\\"#f0f921\\\"]],\\\"type\\\":\\\"heatmap\\\"}]},\\\"layout\\\":{\\\"geo\\\":{\\\"subunitcolor\\\":\\\"white\\\",\\\"lakecolor\\\":\\\"white\\\",\\\"bgcolor\\\":\\\"white\\\",\\\"landcolor\\\":\\\"#E5ECF6\\\",\\\"showland\\\":true,\\\"showlakes\\\":true},\\\"ternary\\\":{\\\"caxis\\\":{\\\"ticks\\\":\\\"\\\",\\\"gridcolor\\\":\\\"white\\\",\\\"linecolor\\\":\\\"white\\\"},\\\"aaxis\\\":{\\\"ticks\\\":\\\"\\\",\\\"gridcolor\\\":\\\"white\\\",\\\"linecolor\\\":\\\"white\\\"},\\\"bgcolor\\\":\\\"#E5ECF6\\\",\\\"baxis\\\":{\\\"ticks\\\":\\\"\\\",\\\"gridcolor\\\":\\\"white\\\",\\\"linecolor\\\":\\\"white\\\"}},\\\"plot_bgcolor\\\":\\\"#E5ECF6\\\",\\\"title\\\":{\\\"x\\\":0.05},\\\"autotypenumbers\\\":\\\"strict\\\",\\\"coloraxis\\\":{\\\"colorbar\\\":{\\\"ticks\\\":\\\"\\\",\\\"outlinewidth\\\":0}},\\\"colorway\\\":[\\\"#636efa\\\",\\\"#EF553B\\\",\\\"#00cc96\\\",\\\"#ab63fa\\\",\\\"#FFA15A\\\",\\\"#19d3f3\\\",\\\"#FF6692\\\",\\\"#B6E880\\\",\\\"#FF97FF\\\",\\\"#FECB52\\\"],\\\"paper_bgcolor\\\":\\\"white\\\",\\\"yaxis\\\":{\\\"ticks\\\":\\\"\\\",\\\"title\\\":{\\\"standoff\\\":15},\\\"gridcolor\\\":\\\"white\\\",\\\"linecolor\\\":\\\"white\\\",\\\"automargin\\\":true,\\\"zerolinewidth\\\":2,\\\"zerolinecolor\\\":\\\"white\\\"},\\\"mapbox\\\":{\\\"style\\\":\\\"light\\\"},\\\"hovermode\\\":\\\"closest\\\",\\\"xaxis\\\":{\\\"ticks\\\":\\\"\\\",\\\"title\\\":{\\\"standoff\\\":15},\\\"gridcolor\\\":\\\"white\\\",\\\"linecolor\\\":\\\"white\\\",\\\"automargin\\\":true,\\\"zerolinewidth\\\":2,\\\"zerolinecolor\\\":\\\"white\\\"},\\\"shapedefaults\\\":{\\\"line\\\":{\\\"color\\\":\\\"#2a3f5f\\\"}},\\\"hoverlabel\\\":{\\\"align\\\":\\\"left\\\"},\\\"polar\\\":{\\\"bgcolor\\\":\\\"#E5ECF6\\\",\\\"radialaxis\\\":{\\\"ticks\\\":\\\"\\\",\\\"gridcolor\\\":\\\"white\\\",\\\"linecolor\\\":\\\"white\\\"},\\\"angularaxis\\\":{\\\"ticks\\\":\\\"\\\",\\\"gridcolor\\\":\\\"white\\\",\\\"linecolor\\\":\\\"white\\\"}},\\\"font\\\":{\\\"color\\\":\\\"#2a3f5f\\\"},\\\"annotationdefaults\\\":{\\\"arrowcolor\\\":\\\"#2a3f5f\\\",\\\"arrowhead\\\":0,\\\"arrowwidth\\\":1},\\\"colorscale\\\":{\\\"sequential\\\":[[0.0,\\\"#0d0887\\\"],[0.1111111111111111,\\\"#46039f\\\"],[0.2222222222222222,\\\"#7201a8\\\"],[0.3333333333333333,\\\"#9c179e\\\"],[0.4444444444444444,\\\"#bd3786\\\"],[0.5555555555555556,\\\"#d8576b\\\"],[0.6666666666666666,\\\"#ed7953\\\"],[0.7777777777777778,\\\"#fb9f3a\\\"],[0.8888888888888888,\\\"#fdca26\\\"],[1.0,\\\"#f0f921\\\"]],\\\"sequentialminus\\\":[[0.0,\\\"#0d0887\\\"],[0.1111111111111111,\\\"#46039f\\\"],[0.2222222222222222,\\\"#7201a8\\\"],[0.3333333333333333,\\\"#9c179e\\\"],[0.4444444444444444,\\\"#bd3786\\\"],[0.5555555555555556,\\\"#d8576b\\\"],[0.6666666666666666,\\\"#ed7953\\\"],[0.7777777777777778,\\\"#fb9f3a\\\"],[0.8888888888888888,\\\"#fdca26\\\"],[1.0,\\\"#f0f921\\\"]],\\\"diverging\\\":[[0,\\\"#8e0152\\\"],[0.1,\\\"#c51b7d\\\"],[0.2,\\\"#de77ae\\\"],[0.3,\\\"#f1b6da\\\"],[0.4,\\\"#fde0ef\\\"],[0.5,\\\"#f7f7f7\\\"],[0.6,\\\"#e6f5d0\\\"],[0.7,\\\"#b8e186\\\"],[0.8,\\\"#7fbc41\\\"],[0.9,\\\"#4d9221\\\"],[1,\\\"#276419\\\"]]},\\\"scene\\\":{\\\"xaxis\\\":{\\\"ticks\\\":\\\"\\\",\\\"showbackground\\\":true,\\\"backgroundcolor\\\":\\\"#E5ECF6\\\",\\\"gridcolor\\\":\\\"white\\\",\\\"linecolor\\\":\\\"white\\\",\\\"gridwidth\\\":2,\\\"zerolinecolor\\\":\\\"white\\\"},\\\"yaxis\\\":{\\\"ticks\\\":\\\"\\\",\\\"showbackground\\\":true,\\\"backgroundcolor\\\":\\\"#E5ECF6\\\",\\\"gridcolor\\\":\\\"white\\\",\\\"linecolor\\\":\\\"white\\\",\\\"gridwidth\\\":2,\\\"zerolinecolor\\\":\\\"white\\\"},\\\"zaxis\\\":{\\\"ticks\\\":\\\"\\\",\\\"showbackground\\\":true,\\\"backgroundcolor\\\":\\\"#E5ECF6\\\",\\\"gridcolor\\\":\\\"white\\\",\\\"linecolor\\\":\\\"white\\\",\\\"gridwidth\\\":2,\\\"zerolinecolor\\\":\\\"white\\\"}}}},\\\"margin\\\":{\\\"l\\\":50,\\\"r\\\":50,\\\"t\\\":60,\\\"b\\\":50}},{\\\"scrollZoom\\\":true,\\\"staticPlot\\\":false,\\\"editable\\\":false,\\\"responsive\\\":true,\\\"showLink\\\":false}); gd.on(\\\"plotly_hover\\\",(function (data){var filtered_data=WebIO.PlotlyCommands.filterEventData(gd,data,\\\"hover\\\"); return !(filtered_data.isnil) ? (WebIO.setval({\\\"id\\\":\\\"1\\\",\\\"name\\\":\\\"hover\\\",\\\"type\\\":\\\"observable\\\",\\\"scope\\\":\\\"2671249172\\\"},filtered_data.out)) : undefined})); gd.on(\\\"plotly_unhover\\\",(function (){return WebIO.setval({\\\"id\\\":\\\"1\\\",\\\"name\\\":\\\"hover\\\",\\\"type\\\":\\\"observable\\\",\\\"scope\\\":\\\"2671249172\\\"},{})})); gd.on(\\\"plotly_selected\\\",(function (data){var filtered_data=WebIO.PlotlyCommands.filterEventData(gd,data,\\\"selected\\\"); return !(filtered_data.isnil) ? (WebIO.setval({\\\"id\\\":\\\"2\\\",\\\"name\\\":\\\"selected\\\",\\\"type\\\":\\\"observable\\\",\\\"scope\\\":\\\"2671249172\\\"},filtered_data.out)) : undefined})); gd.on(\\\"plotly_deselect\\\",(function (){return WebIO.setval({\\\"id\\\":\\\"2\\\",\\\"name\\\":\\\"selected\\\",\\\"type\\\":\\\"observable\\\",\\\"scope\\\":\\\"2671249172\\\"},{})})); gd.on(\\\"plotly_relayout\\\",(function (data){var filtered_data=WebIO.PlotlyCommands.filterEventData(gd,data,\\\"relayout\\\"); return !(filtered_data.isnil) ? (WebIO.setval({\\\"id\\\":\\\"4\\\",\\\"name\\\":\\\"relayout\\\",\\\"type\\\":\\\"observable\\\",\\\"scope\\\":\\\"2671249172\\\"},filtered_data.out)) : undefined})); return gd.on(\\\"plotly_click\\\",(function (data){var filtered_data=WebIO.PlotlyCommands.filterEventData(gd,data,\\\"click\\\"); return !(filtered_data.isnil) ? (WebIO.setval({\\\"id\\\":\\\"3\\\",\\\"name\\\":\\\"click\\\",\\\"type\\\":\\\"observable\\\",\\\"scope\\\":\\\"2671249172\\\"},filtered_data.out)) : undefined}))}));\\n    (WebIO.importBlock({\\\"data\\\":[{\\\"url\\\":\\\"\\/assetserver\\/26f54536c374a3a98e21c487a5188702b8fe19d4-plotly.min.js\\\",\\\"name\\\":\\\"Plotly\\\",\\\"type\\\":\\\"js\\\"},{\\\"url\\\":\\\"\\/assetserver\\/f97ae8cf67373ab9a0c202149bc041d29dce0ae6-plotly_webio.bundle.js\\\",\\\"name\\\":null,\\\"type\\\":\\\"js\\\"}],\\\"type\\\":\\\"async_block\\\"})).then((imports) => handler.apply(this, imports));\\n}\\n\"],\"handlers\":{\"_commands\":[\"(function (args){var fn=args.shift(); var elem=this.plotElem; var Plotly=this.Plotly; args.unshift(elem); return Plotly[fn].apply(this,args)})\"],\"__get_gd_contents\":[\"(function (prop){prop==\\\"data\\\" ? (WebIO.setval({\\\"id\\\":\\\"6\\\",\\\"name\\\":\\\"__gd_contents\\\",\\\"type\\\":\\\"observable\\\",\\\"scope\\\":\\\"2671249172\\\"},this.plotElem.data)) : undefined; return prop==\\\"layout\\\" ? (WebIO.setval({\\\"id\\\":\\\"6\\\",\\\"name\\\":\\\"__gd_contents\\\",\\\"type\\\":\\\"observable\\\",\\\"scope\\\":\\\"2671249172\\\"},this.plotElem.layout)) : undefined})\"],\"_downloadImage\":[\"(function (options){return this.Plotly.downloadImage(this.plotElem,options)})\"],\"_toImage\":[\"(function (options){return this.Plotly.toImage(this.plotElem,options).then((function (data){return WebIO.setval({\\\"id\\\":\\\"5\\\",\\\"name\\\":\\\"image\\\",\\\"type\\\":\\\"observable\\\",\\\"scope\\\":\\\"2671249172\\\"},data)}))})\"]},\"observables\":{\"image\":{\"id\":\"5\",\"value\":\"\",\"sync\":true},\"click\":{\"id\":\"3\",\"value\":{},\"sync\":false},\"__gd_contents\":{\"id\":\"6\",\"value\":{},\"sync\":false},\"_commands\":{\"id\":\"7\",\"value\":[],\"sync\":false},\"__get_gd_contents\":{\"id\":\"10\",\"value\":\"\",\"sync\":false},\"_downloadImage\":{\"id\":\"9\",\"value\":{},\"sync\":false},\"selected\":{\"id\":\"2\",\"value\":{},\"sync\":false},\"relayout\":{\"id\":\"4\",\"value\":{},\"sync\":false},\"_toImage\":{\"id\":\"8\",\"value\":{},\"sync\":false},\"hover\":{\"id\":\"1\",\"value\":{},\"sync\":false}},\"imports\":{\"data\":[{\"url\":\"\\/assetserver\\/26f54536c374a3a98e21c487a5188702b8fe19d4-plotly.min.js\",\"name\":\"Plotly\",\"type\":\"js\"},{\"url\":\"\\/assetserver\\/f97ae8cf67373ab9a0c202149bc041d29dce0ae6-plotly_webio.bundle.js\",\"name\":null,\"type\":\"js\"}],\"type\":\"async_block\"}},\"type\":\"node\",\"children\":[{\"props\":{\"id\":\"plot-00569b42-068a-442c-a7f6-70f2d2ad09fa\"},\"nodeType\":\"DOM\",\"instanceArgs\":{\"namespace\":\"html\",\"tag\":\"div\"},\"type\":\"node\",\"children\":[]}]},\n",
       "        window,\n",
       "    );\n",
       "    })()\n",
       "    </script>\n",
       "</div>\n"
      ],
      "text/plain": [
       "data: [\n",
       "  \"scatter with fields type, x, and y\"\n",
       "]\n",
       "\n",
       "layout: \"layout with fields margin and template\"\n",
       "\n"
      ]
     },
     "execution_count": 16,
     "metadata": {},
     "output_type": "execute_result"
    }
   ],
   "source": [
    "import Pkg\n",
    "Pkg.activate(\".\")\n",
    "Pkg.add(\"PlotlyJS\")   # si ya está instalado, no hará nada\n",
    "using PlotlyJS\n",
    "\n",
    "# prueba rápida\n",
    "plot(scatter(x=1:5, y=(1:5).^2))\n"
   ]
  },
  {
   "cell_type": "code",
   "execution_count": 20,
   "id": "f40559fe-6485-42c8-b7e1-bf086c23244a",
   "metadata": {},
   "outputs": [
    {
     "name": "stderr",
     "output_type": "stream",
     "text": [
      "\u001b[32m\u001b[1m  Activating\u001b[22m\u001b[39m project at `C:\\Users\\ARIANA`\n",
      "\u001b[32m\u001b[1m   Resolving\u001b[22m\u001b[39m package versions...\n",
      "\u001b[32m\u001b[1m   Installed\u001b[22m\u001b[39m AdaptivePredicates ────────── v1.2.0\n",
      "\u001b[32m\u001b[1m   Installed\u001b[22m\u001b[39m CRlibm_jll ────────────────── v1.0.1+0\n",
      "\u001b[32m\u001b[1m   Installed\u001b[22m\u001b[39m TriplotBase ───────────────── v0.1.0\n",
      "\u001b[32m\u001b[1m   Installed\u001b[22m\u001b[39m Ratios ────────────────────── v0.4.5\n",
      "\u001b[32m\u001b[1m   Installed\u001b[22m\u001b[39m IndirectArrays ────────────── v1.0.0\n",
      "\u001b[32m\u001b[1m   Installed\u001b[22m\u001b[39m GeometryBasics ────────────── v0.5.10\n",
      "\u001b[32m\u001b[1m   Installed\u001b[22m\u001b[39m ColorBrewer ───────────────── v0.4.1\n",
      "\u001b[32m\u001b[1m   Installed\u001b[22m\u001b[39m ImageCore ─────────────────── v0.10.5\n",
      "\u001b[32m\u001b[1m   Installed\u001b[22m\u001b[39m Cairo ─────────────────────── v1.1.1\n",
      "\u001b[32m\u001b[1m   Installed\u001b[22m\u001b[39m CEnum ─────────────────────── v0.5.0\n",
      "\u001b[32m\u001b[1m   Installed\u001b[22m\u001b[39m WebP ──────────────────────── v0.1.3\n",
      "\u001b[32m\u001b[1m   Installed\u001b[22m\u001b[39m Imath_jll ─────────────────── v3.1.11+0\n",
      "\u001b[32m\u001b[1m   Installed\u001b[22m\u001b[39m IterTools ─────────────────── v1.10.0\n",
      "\u001b[32m\u001b[1m   Installed\u001b[22m\u001b[39m Graphics ──────────────────── v1.1.3\n",
      "\u001b[32m\u001b[1m   Installed\u001b[22m\u001b[39m AbstractTrees ─────────────── v0.4.5\n",
      "\u001b[32m\u001b[1m   Installed\u001b[22m\u001b[39m Netpbm ────────────────────── v1.1.1\n",
      "\u001b[32m\u001b[1m   Installed\u001b[22m\u001b[39m SIMD ──────────────────────── v3.7.1\n",
      "\u001b[32m\u001b[1m   Installed\u001b[22m\u001b[39m Unitful ───────────────────── v1.25.0\n",
      "\u001b[32m\u001b[1m   Installed\u001b[22m\u001b[39m IntelOpenMP_jll ───────────── v2025.2.0+0\n",
      "\u001b[32m\u001b[1m   Installed\u001b[22m\u001b[39m SignedDistanceFields ──────── v0.4.0\n",
      "\u001b[32m\u001b[1m   Installed\u001b[22m\u001b[39m MKL_jll ───────────────────── v2025.2.0+0\n",
      "\u001b[32m\u001b[1m   Installed\u001b[22m\u001b[39m GridLayoutBase ────────────── v0.11.2\n",
      "\u001b[32m\u001b[1m   Installed\u001b[22m\u001b[39m KernelDensity ─────────────── v0.6.10\n",
      "\u001b[32m\u001b[1m   Installed\u001b[22m\u001b[39m JpegTurbo ─────────────────── v0.1.6\n",
      "\u001b[32m\u001b[1m   Installed\u001b[22m\u001b[39m Sixel ─────────────────────── v0.1.5\n",
      "\u001b[32m\u001b[1m   Installed\u001b[22m\u001b[39m ExactPredicates ───────────── v2.2.8\n",
      "\u001b[32m\u001b[1m   Installed\u001b[22m\u001b[39m oneTBB_jll ────────────────── v2022.0.0+0\n",
      "\u001b[32m\u001b[1m   Installed\u001b[22m\u001b[39m MosaicViews ───────────────── v0.3.4\n",
      "\u001b[32m\u001b[1m   Installed\u001b[22m\u001b[39m FFTW_jll ──────────────────── v3.3.11+0\n",
      "\u001b[32m\u001b[1m   Installed\u001b[22m\u001b[39m AxisAlgorithms ────────────── v1.1.0\n",
      "\u001b[32m\u001b[1m   Installed\u001b[22m\u001b[39m FreeTypeAbstraction ───────── v0.10.8\n",
      "\u001b[32m\u001b[1m   Installed\u001b[22m\u001b[39m OpenBLASConsistentFPCSR_jll ─ v0.3.29+0\n",
      "\u001b[32m\u001b[1m   Installed\u001b[22m\u001b[39m Automa ────────────────────── v1.1.0\n",
      "\u001b[32m\u001b[1m   Installed\u001b[22m\u001b[39m FreeType ──────────────────── v4.1.1\n",
      "\u001b[32m\u001b[1m   Installed\u001b[22m\u001b[39m StructArrays ──────────────── v0.7.1\n",
      "\u001b[32m\u001b[1m   Installed\u001b[22m\u001b[39m RoundingEmulator ──────────── v0.2.1\n",
      "\u001b[32m\u001b[1m   Installed\u001b[22m\u001b[39m ComputePipeline ───────────── v0.1.4\n",
      "\u001b[32m\u001b[1m   Installed\u001b[22m\u001b[39m AxisArrays ────────────────── v0.4.8\n",
      "\u001b[32m\u001b[1m   Installed\u001b[22m\u001b[39m FFMPEG_jll ────────────────── v6.1.3+0\n",
      "\u001b[32m\u001b[1m   Installed\u001b[22m\u001b[39m Packing ───────────────────── v0.5.1\n",
      "\u001b[32m\u001b[1m   Installed\u001b[22m\u001b[39m Inflate ───────────────────── v0.1.5\n",
      "\u001b[32m\u001b[1m   Installed\u001b[22m\u001b[39m PolygonOps ────────────────── v0.1.2\n",
      "\u001b[32m\u001b[1m   Installed\u001b[22m\u001b[39m Giflib_jll ────────────────── v5.2.3+0\n",
      "\u001b[32m\u001b[1m   Installed\u001b[22m\u001b[39m PkgVersion ────────────────── v0.3.3\n",
      "\u001b[32m\u001b[1m   Installed\u001b[22m\u001b[39m PNGFiles ──────────────────── v0.4.4\n",
      "\u001b[32m\u001b[1m   Installed\u001b[22m\u001b[39m ImageBase ─────────────────── v0.1.7\n",
      "\u001b[32m\u001b[1m   Installed\u001b[22m\u001b[39m ImageAxes ─────────────────── v0.6.12\n",
      "\u001b[32m\u001b[1m   Installed\u001b[22m\u001b[39m QOI ───────────────────────── v1.0.1\n",
      "\u001b[32m\u001b[1m   Installed\u001b[22m\u001b[39m ImageIO ───────────────────── v0.6.9\n",
      "\u001b[32m\u001b[1m   Installed\u001b[22m\u001b[39m WoodburyMatrices ──────────── v1.0.0\n",
      "\u001b[32m\u001b[1m   Installed\u001b[22m\u001b[39m Extents ───────────────────── v0.1.6\n",
      "\u001b[32m\u001b[1m   Installed\u001b[22m\u001b[39m FFTW ──────────────────────── v1.10.0\n",
      "\u001b[32m\u001b[1m   Installed\u001b[22m\u001b[39m FilePaths ─────────────────── v0.8.3\n",
      "\u001b[32m\u001b[1m   Installed\u001b[22m\u001b[39m EarCut_jll ────────────────── v2.2.4+0\n",
      "\u001b[32m\u001b[1m   Installed\u001b[22m\u001b[39m StackViews ────────────────── v0.1.2\n",
      "\u001b[32m\u001b[1m   Installed\u001b[22m\u001b[39m Makie ─────────────────────── v0.24.6\n",
      "\u001b[32m\u001b[1m   Installed\u001b[22m\u001b[39m OffsetArrays ──────────────── v1.17.0\n",
      "\u001b[32m\u001b[1m   Installed\u001b[22m\u001b[39m isoband_jll ───────────────── v0.2.3+0\n",
      "\u001b[32m\u001b[1m   Installed\u001b[22m\u001b[39m CairoMakie ────────────────── v0.15.6\n",
      "\u001b[32m\u001b[1m   Installed\u001b[22m\u001b[39m ImageMetadata ─────────────── v0.9.10\n",
      "\u001b[32m\u001b[1m   Installed\u001b[22m\u001b[39m MappedArrays ──────────────── v0.4.2\n",
      "\u001b[32m\u001b[1m   Installed\u001b[22m\u001b[39m ShaderAbstractions ────────── v0.5.0\n",
      "\u001b[32m\u001b[1m   Installed\u001b[22m\u001b[39m PaddedViews ───────────────── v0.5.12\n",
      "\u001b[32m\u001b[1m   Installed\u001b[22m\u001b[39m Animations ────────────────── v0.4.2\n",
      "\u001b[32m\u001b[1m   Installed\u001b[22m\u001b[39m TiffImages ────────────────── v0.11.6\n",
      "\u001b[32m\u001b[1m   Installed\u001b[22m\u001b[39m Isoband ───────────────────── v0.1.1\n",
      "\u001b[32m\u001b[1m   Installed\u001b[22m\u001b[39m RangeArrays ───────────────── v0.3.2\n",
      "\u001b[32m\u001b[1m   Installed\u001b[22m\u001b[39m AbstractFFTs ──────────────── v1.5.0\n",
      "\u001b[32m\u001b[1m   Installed\u001b[22m\u001b[39m LazyModules ───────────────── v0.3.1\n",
      "\u001b[32m\u001b[1m   Installed\u001b[22m\u001b[39m FileIO ────────────────────── v1.17.0\n",
      "\u001b[32m\u001b[1m   Installed\u001b[22m\u001b[39m OpenEXR_jll ───────────────── v3.2.4+0\n",
      "\u001b[32m\u001b[1m   Installed\u001b[22m\u001b[39m OpenEXR ───────────────────── v0.3.3\n",
      "\u001b[32m\u001b[1m   Installed\u001b[22m\u001b[39m IntervalSets ──────────────── v0.7.11\n",
      "\u001b[32m\u001b[1m   Installed\u001b[22m\u001b[39m IntervalArithmetic ────────── v0.22.36\n",
      "\u001b[32m\u001b[1m   Installed\u001b[22m\u001b[39m libsixel_jll ──────────────── v1.10.5+0\n",
      "\u001b[32m\u001b[1m   Installed\u001b[22m\u001b[39m MathTeXEngine ─────────────── v0.6.6\n",
      "\u001b[32m\u001b[1m   Installed\u001b[22m\u001b[39m Interpolations ────────────── v0.16.2\n",
      "\u001b[32m\u001b[1m   Installed\u001b[22m\u001b[39m libwebp_jll ───────────────── v1.6.0+0\n",
      "\u001b[32m\u001b[1m   Installed\u001b[22m\u001b[39m BaseDirs ──────────────────── v1.3.2\n",
      "\u001b[32m\u001b[1m   Installed\u001b[22m\u001b[39m CRlibm ────────────────────── v1.0.2\n",
      "\u001b[32m\u001b[1m   Installed\u001b[22m\u001b[39m DelaunayTriangulation ─────── v1.6.4\n",
      "\u001b[32m\u001b[1m    Updating\u001b[22m\u001b[39m `C:\\Users\\ARIANA\\Project.toml`\n",
      "  \u001b[90m[13f3f980] \u001b[39m\u001b[92m+ CairoMakie v0.15.6\u001b[39m\n",
      "\u001b[32m\u001b[1m    Updating\u001b[22m\u001b[39m `C:\\Users\\ARIANA\\Manifest.toml`\n",
      "  \u001b[90m[621f4979] \u001b[39m\u001b[92m+ AbstractFFTs v1.5.0\u001b[39m\n",
      "  \u001b[90m[1520ce14] \u001b[39m\u001b[92m+ AbstractTrees v0.4.5\u001b[39m\n",
      "  \u001b[90m[35492f91] \u001b[39m\u001b[92m+ AdaptivePredicates v1.2.0\u001b[39m\n",
      "  \u001b[90m[27a7e980] \u001b[39m\u001b[92m+ Animations v0.4.2\u001b[39m\n",
      "  \u001b[90m[67c07d97] \u001b[39m\u001b[92m+ Automa v1.1.0\u001b[39m\n",
      "  \u001b[90m[13072b0f] \u001b[39m\u001b[92m+ AxisAlgorithms v1.1.0\u001b[39m\n",
      "  \u001b[90m[39de3d68] \u001b[39m\u001b[92m+ AxisArrays v0.4.8\u001b[39m\n",
      "  \u001b[90m[18cc8868] \u001b[39m\u001b[92m+ BaseDirs v1.3.2\u001b[39m\n",
      "  \u001b[90m[fa961155] \u001b[39m\u001b[92m+ CEnum v0.5.0\u001b[39m\n",
      "  \u001b[90m[96374032] \u001b[39m\u001b[92m+ CRlibm v1.0.2\u001b[39m\n",
      "  \u001b[90m[159f3aea] \u001b[39m\u001b[92m+ Cairo v1.1.1\u001b[39m\n",
      "  \u001b[90m[13f3f980] \u001b[39m\u001b[92m+ CairoMakie v0.15.6\u001b[39m\n",
      "  \u001b[90m[a2cac450] \u001b[39m\u001b[92m+ ColorBrewer v0.4.1\u001b[39m\n",
      "  \u001b[90m[35d6a980] \u001b[39m\u001b[92m+ ColorSchemes v3.31.0\u001b[39m\n",
      "  \u001b[90m[c3611d14] \u001b[39m\u001b[92m+ ColorVectorSpace v0.11.0\u001b[39m\n",
      "  \u001b[90m[5ae59095] \u001b[39m\u001b[92m+ Colors v0.13.1\u001b[39m\n",
      "  \u001b[90m[95dc2771] \u001b[39m\u001b[92m+ ComputePipeline v0.1.4\u001b[39m\n",
      "  \u001b[90m[d38c429a] \u001b[39m\u001b[92m+ Contour v0.6.3\u001b[39m\n",
      "  \u001b[90m[927a84f5] \u001b[39m\u001b[92m+ DelaunayTriangulation v1.6.4\u001b[39m\n",
      "  \u001b[90m[429591f6] \u001b[39m\u001b[92m+ ExactPredicates v2.2.8\u001b[39m\n",
      "  \u001b[90m[411431e0] \u001b[39m\u001b[92m+ Extents v0.1.6\u001b[39m\n",
      "  \u001b[90m[7a1cc6ca] \u001b[39m\u001b[92m+ FFTW v1.10.0\u001b[39m\n",
      "  \u001b[90m[5789e2e9] \u001b[39m\u001b[92m+ FileIO v1.17.0\u001b[39m\n",
      "\u001b[33m⌅\u001b[39m \u001b[90m[8fc22ac5] \u001b[39m\u001b[92m+ FilePaths v0.8.3\u001b[39m\n",
      "  \u001b[90m[1fa38f19] \u001b[39m\u001b[92m+ Format v1.3.7\u001b[39m\n",
      "  \u001b[90m[b38be410] \u001b[39m\u001b[92m+ FreeType v4.1.1\u001b[39m\n",
      "  \u001b[90m[663a7486] \u001b[39m\u001b[92m+ FreeTypeAbstraction v0.10.8\u001b[39m\n",
      "  \u001b[90m[5c1252a2] \u001b[39m\u001b[92m+ GeometryBasics v0.5.10\u001b[39m\n",
      "  \u001b[90m[a2bd30eb] \u001b[39m\u001b[92m+ Graphics v1.1.3\u001b[39m\n",
      "  \u001b[90m[3955a311] \u001b[39m\u001b[92m+ GridLayoutBase v0.11.2\u001b[39m\n",
      "  \u001b[90m[42e2da0e] \u001b[39m\u001b[92m+ Grisu v1.0.2\u001b[39m\n",
      "  \u001b[90m[2803e5a7] \u001b[39m\u001b[92m+ ImageAxes v0.6.12\u001b[39m\n",
      "  \u001b[90m[c817782e] \u001b[39m\u001b[92m+ ImageBase v0.1.7\u001b[39m\n",
      "  \u001b[90m[a09fc81d] \u001b[39m\u001b[92m+ ImageCore v0.10.5\u001b[39m\n",
      "  \u001b[90m[82e4d734] \u001b[39m\u001b[92m+ ImageIO v0.6.9\u001b[39m\n",
      "  \u001b[90m[bc367c6b] \u001b[39m\u001b[92m+ ImageMetadata v0.9.10\u001b[39m\n",
      "  \u001b[90m[9b13fd28] \u001b[39m\u001b[92m+ IndirectArrays v1.0.0\u001b[39m\n",
      "  \u001b[90m[d25df0c9] \u001b[39m\u001b[92m+ Inflate v0.1.5\u001b[39m\n",
      "  \u001b[90m[a98d9a8b] \u001b[39m\u001b[92m+ Interpolations v0.16.2\u001b[39m\n",
      "\u001b[33m⌅\u001b[39m \u001b[90m[d1acc4aa] \u001b[39m\u001b[92m+ IntervalArithmetic v0.22.36\u001b[39m\n",
      "  \u001b[90m[8197267c] \u001b[39m\u001b[92m+ IntervalSets v0.7.11\u001b[39m\n",
      "  \u001b[90m[f1662d9f] \u001b[39m\u001b[92m+ Isoband v0.1.1\u001b[39m\n",
      "  \u001b[90m[c8e1da08] \u001b[39m\u001b[92m+ IterTools v1.10.0\u001b[39m\n",
      "  \u001b[90m[b835a17e] \u001b[39m\u001b[92m+ JpegTurbo v0.1.6\u001b[39m\n",
      "  \u001b[90m[5ab0869b] \u001b[39m\u001b[92m+ KernelDensity v0.6.10\u001b[39m\n",
      "  \u001b[90m[8cdb02fc] \u001b[39m\u001b[92m+ LazyModules v0.3.1\u001b[39m\n",
      "  \u001b[90m[ee78f7c6] \u001b[39m\u001b[92m+ Makie v0.24.6\u001b[39m\n",
      "  \u001b[90m[dbb5928d] \u001b[39m\u001b[92m+ MappedArrays v0.4.2\u001b[39m\n",
      "  \u001b[90m[0a4f8689] \u001b[39m\u001b[92m+ MathTeXEngine v0.6.6\u001b[39m\n",
      "  \u001b[90m[e94cdb99] \u001b[39m\u001b[92m+ MosaicViews v0.3.4\u001b[39m\n",
      "  \u001b[90m[f09324ee] \u001b[39m\u001b[92m+ Netpbm v1.1.1\u001b[39m\n",
      "  \u001b[90m[510215fc] \u001b[39m\u001b[92m+ Observables v0.5.5\u001b[39m\n",
      "  \u001b[90m[6fe1bfb0] \u001b[39m\u001b[92m+ OffsetArrays v1.17.0\u001b[39m\n",
      "  \u001b[90m[52e1d378] \u001b[39m\u001b[92m+ OpenEXR v0.3.3\u001b[39m\n",
      "  \u001b[90m[f57f5aa1] \u001b[39m\u001b[92m+ PNGFiles v0.4.4\u001b[39m\n",
      "  \u001b[90m[19eb6ba3] \u001b[39m\u001b[92m+ Packing v0.5.1\u001b[39m\n",
      "  \u001b[90m[5432bcbf] \u001b[39m\u001b[92m+ PaddedViews v0.5.12\u001b[39m\n",
      "  \u001b[90m[eebad327] \u001b[39m\u001b[92m+ PkgVersion v0.3.3\u001b[39m\n",
      "  \u001b[90m[995b91a9] \u001b[39m\u001b[92m+ PlotUtils v1.4.3\u001b[39m\n",
      "  \u001b[90m[647866c9] \u001b[39m\u001b[92m+ PolygonOps v0.1.2\u001b[39m\n",
      "  \u001b[90m[4b34888f] \u001b[39m\u001b[92m+ QOI v1.0.1\u001b[39m\n",
      "  \u001b[90m[b3c3ace0] \u001b[39m\u001b[92m+ RangeArrays v0.3.2\u001b[39m\n",
      "  \u001b[90m[c84ed2f1] \u001b[39m\u001b[92m+ Ratios v0.4.5\u001b[39m\n",
      "  \u001b[90m[5eaf0fd0] \u001b[39m\u001b[92m+ RoundingEmulator v0.2.1\u001b[39m\n",
      "  \u001b[90m[fdea26ae] \u001b[39m\u001b[92m+ SIMD v3.7.1\u001b[39m\n",
      "  \u001b[90m[65257c39] \u001b[39m\u001b[92m+ ShaderAbstractions v0.5.0\u001b[39m\n",
      "  \u001b[90m[992d4aef] \u001b[39m\u001b[92m+ Showoff v1.0.3\u001b[39m\n",
      "  \u001b[90m[73760f76] \u001b[39m\u001b[92m+ SignedDistanceFields v0.4.0\u001b[39m\n",
      "  \u001b[90m[45858cf5] \u001b[39m\u001b[92m+ Sixel v0.1.5\u001b[39m\n",
      "  \u001b[90m[cae243ae] \u001b[39m\u001b[92m+ StackViews v0.1.2\u001b[39m\n",
      "  \u001b[90m[09ab397b] \u001b[39m\u001b[92m+ StructArrays v0.7.1\u001b[39m\n",
      "  \u001b[90m[62fd8b95] \u001b[39m\u001b[92m+ TensorCore v0.1.1\u001b[39m\n",
      "  \u001b[90m[731e570b] \u001b[39m\u001b[92m+ TiffImages v0.11.6\u001b[39m\n",
      "  \u001b[90m[981d1d27] \u001b[39m\u001b[92m+ TriplotBase v0.1.0\u001b[39m\n",
      "  \u001b[90m[1cfade01] \u001b[39m\u001b[92m+ UnicodeFun v0.4.1\u001b[39m\n",
      "  \u001b[90m[1986cc42] \u001b[39m\u001b[92m+ Unitful v1.25.0\u001b[39m\n",
      "  \u001b[90m[e3aaa7dc] \u001b[39m\u001b[92m+ WebP v0.1.3\u001b[39m\n",
      "  \u001b[90m[efce3f68] \u001b[39m\u001b[92m+ WoodburyMatrices v1.0.0\u001b[39m\n",
      "  \u001b[90m[6e34b625] \u001b[39m\u001b[92m+ Bzip2_jll v1.0.9+0\u001b[39m\n",
      "  \u001b[90m[4e9b3aee] \u001b[39m\u001b[92m+ CRlibm_jll v1.0.1+0\u001b[39m\n",
      "  \u001b[90m[83423d85] \u001b[39m\u001b[92m+ Cairo_jll v1.18.5+0\u001b[39m\n",
      "  \u001b[90m[5ae413db] \u001b[39m\u001b[92m+ EarCut_jll v2.2.4+0\u001b[39m\n",
      "  \u001b[90m[2e619515] \u001b[39m\u001b[92m+ Expat_jll v2.7.1+0\u001b[39m\n",
      "\u001b[33m⌅\u001b[39m \u001b[90m[b22a6f82] \u001b[39m\u001b[92m+ FFMPEG_jll v6.1.3+0\u001b[39m\n",
      "  \u001b[90m[f5851436] \u001b[39m\u001b[92m+ FFTW_jll v3.3.11+0\u001b[39m\n",
      "  \u001b[90m[a3f928ae] \u001b[39m\u001b[92m+ Fontconfig_jll v2.17.1+0\u001b[39m\n",
      "  \u001b[90m[d7e528f0] \u001b[39m\u001b[92m+ FreeType2_jll v2.13.4+0\u001b[39m\n",
      "  \u001b[90m[559328eb] \u001b[39m\u001b[92m+ FriBidi_jll v1.0.17+0\u001b[39m\n",
      "  \u001b[90m[b0724c58] \u001b[39m\u001b[92m+ GettextRuntime_jll v0.22.4+0\u001b[39m\n",
      "  \u001b[90m[59f7168a] \u001b[39m\u001b[92m+ Giflib_jll v5.2.3+0\u001b[39m\n",
      "  \u001b[90m[7746bdde] \u001b[39m\u001b[92m+ Glib_jll v2.86.0+0\u001b[39m\n",
      "  \u001b[90m[3b182d85] \u001b[39m\u001b[92m+ Graphite2_jll v1.3.15+0\u001b[39m\n",
      "  \u001b[90m[2e76f6c2] \u001b[39m\u001b[92m+ HarfBuzz_jll v8.5.1+0\u001b[39m\n",
      "  \u001b[90m[905a6f67] \u001b[39m\u001b[92m+ Imath_jll v3.1.11+0\u001b[39m\n",
      "  \u001b[90m[1d5cc7b8] \u001b[39m\u001b[92m+ IntelOpenMP_jll v2025.2.0+0\u001b[39m\n",
      "  \u001b[90m[aacddb02] \u001b[39m\u001b[92m+ JpegTurbo_jll v3.1.3+0\u001b[39m\n",
      "  \u001b[90m[c1c5ebd0] \u001b[39m\u001b[92m+ LAME_jll v3.100.3+0\u001b[39m\n",
      "  \u001b[90m[88015f11] \u001b[39m\u001b[92m+ LERC_jll v4.0.1+0\u001b[39m\n",
      "  \u001b[90m[1d63c593] \u001b[39m\u001b[92m+ LLVMOpenMP_jll v18.1.8+0\u001b[39m\n",
      "  \u001b[90m[dd4b983a] \u001b[39m\u001b[92m+ LZO_jll v2.10.3+0\u001b[39m\n",
      "  \u001b[90m[e9f186c6] \u001b[39m\u001b[92m+ Libffi_jll v3.4.7+0\u001b[39m\n",
      "  \u001b[90m[7e76a0d4] \u001b[39m\u001b[92m+ Libglvnd_jll v1.7.1+1\u001b[39m\n",
      "  \u001b[90m[94ce4f54] \u001b[39m\u001b[92m+ Libiconv_jll v1.18.0+0\u001b[39m\n",
      "  \u001b[90m[4b2f31a3] \u001b[39m\u001b[92m+ Libmount_jll v2.41.1+0\u001b[39m\n",
      "  \u001b[90m[89763e89] \u001b[39m\u001b[92m+ Libtiff_jll v4.7.1+0\u001b[39m\n",
      "  \u001b[90m[38a345b3] \u001b[39m\u001b[92m+ Libuuid_jll v2.41.1+0\u001b[39m\n",
      "  \u001b[90m[856f044c] \u001b[39m\u001b[92m+ MKL_jll v2025.2.0+0\u001b[39m\n",
      "  \u001b[90m[e7412a2a] \u001b[39m\u001b[92m+ Ogg_jll v1.3.6+0\u001b[39m\n",
      "  \u001b[90m[6cdc7f73] \u001b[39m\u001b[92m+ OpenBLASConsistentFPCSR_jll v0.3.29+0\u001b[39m\n",
      "  \u001b[90m[18a262bb] \u001b[39m\u001b[92m+ OpenEXR_jll v3.2.4+0\u001b[39m\n",
      "  \u001b[90m[91d4177d] \u001b[39m\u001b[92m+ Opus_jll v1.5.2+0\u001b[39m\n",
      "  \u001b[90m[36c8627f] \u001b[39m\u001b[92m+ Pango_jll v1.56.4+0\u001b[39m\n",
      "\u001b[33m⌅\u001b[39m \u001b[90m[30392449] \u001b[39m\u001b[92m+ Pixman_jll v0.44.2+0\u001b[39m\n",
      "  \u001b[90m[ffd25f8a] \u001b[39m\u001b[92m+ XZ_jll v5.8.1+0\u001b[39m\n",
      "  \u001b[90m[4f6342f7] \u001b[39m\u001b[92m+ Xorg_libX11_jll v1.8.12+0\u001b[39m\n",
      "  \u001b[90m[0c0b7dd1] \u001b[39m\u001b[92m+ Xorg_libXau_jll v1.0.13+0\u001b[39m\n",
      "  \u001b[90m[a3789734] \u001b[39m\u001b[92m+ Xorg_libXdmcp_jll v1.1.6+0\u001b[39m\n",
      "  \u001b[90m[1082639a] \u001b[39m\u001b[92m+ Xorg_libXext_jll v1.3.7+0\u001b[39m\n",
      "  \u001b[90m[ea2f1a96] \u001b[39m\u001b[92m+ Xorg_libXrender_jll v0.9.12+0\u001b[39m\n",
      "  \u001b[90m[c7cfdc94] \u001b[39m\u001b[92m+ Xorg_libxcb_jll v1.17.1+0\u001b[39m\n",
      "  \u001b[90m[c5fb5394] \u001b[39m\u001b[92m+ Xorg_xtrans_jll v1.6.0+0\u001b[39m\n",
      "  \u001b[90m[3161d3a3] \u001b[39m\u001b[92m+ Zstd_jll v1.5.7+1\u001b[39m\n",
      "  \u001b[90m[9a68df92] \u001b[39m\u001b[92m+ isoband_jll v0.2.3+0\u001b[39m\n",
      "  \u001b[90m[a4ae2306] \u001b[39m\u001b[92m+ libaom_jll v3.12.1+0\u001b[39m\n",
      "  \u001b[90m[0ac62f75] \u001b[39m\u001b[92m+ libass_jll v0.17.4+0\u001b[39m\n",
      "  \u001b[90m[f638f0a6] \u001b[39m\u001b[92m+ libfdk_aac_jll v2.0.4+0\u001b[39m\n",
      "  \u001b[90m[b53b4c65] \u001b[39m\u001b[92m+ libpng_jll v1.6.50+0\u001b[39m\n",
      "  \u001b[90m[075b6546] \u001b[39m\u001b[92m+ libsixel_jll v1.10.5+0\u001b[39m\n",
      "  \u001b[90m[f27f6e37] \u001b[39m\u001b[92m+ libvorbis_jll v1.3.8+0\u001b[39m\n",
      "  \u001b[90m[c5f90fcd] \u001b[39m\u001b[92m+ libwebp_jll v1.6.0+0\u001b[39m\n",
      "  \u001b[90m[1317d2d5] \u001b[39m\u001b[92m+ oneTBB_jll v2022.0.0+0\u001b[39m\n",
      "  \u001b[90m[1270edf5] \u001b[39m\u001b[92m+ x264_jll v10164.0.1+0\u001b[39m\n",
      "  \u001b[90m[dfaa095f] \u001b[39m\u001b[92m+ x265_jll v4.1.0+0\u001b[39m\n",
      "  \u001b[90m[8bf52ea8] \u001b[39m\u001b[92m+ CRC32c v1.11.0\u001b[39m\n",
      "  \u001b[90m[4af54fe1] \u001b[39m\u001b[92m+ LazyArtifacts v1.11.0\u001b[39m\n",
      "  \u001b[90m[1a1011a3] \u001b[39m\u001b[92m+ SharedArrays v1.11.0\u001b[39m\n",
      "  \u001b[90m[efcefdf7] \u001b[39m\u001b[92m+ PCRE2_jll v10.42.0+1\u001b[39m\n",
      "\u001b[36m\u001b[1m        Info\u001b[22m\u001b[39m Packages marked with \u001b[33m⌅\u001b[39m have new versions available but compatibility constraints restrict them from upgrading. To see why use `status --outdated -m`\n",
      "\u001b[92m\u001b[1mPrecompiling\u001b[22m\u001b[39m project...\n",
      "   2868.0 ms\u001b[32m  ✓ \u001b[39m\u001b[90mPolygonOps\u001b[39m\n",
      "   2936.2 ms\u001b[32m  ✓ \u001b[39m\u001b[90mLazyModules\u001b[39m\n",
      "   2903.9 ms\u001b[32m  ✓ \u001b[39m\u001b[90mCEnum\u001b[39m\n",
      "   2916.7 ms\u001b[32m  ✓ \u001b[39m\u001b[90mTriplotBase\u001b[39m\n",
      "   2952.6 ms\u001b[32m  ✓ \u001b[39m\u001b[90mRoundingEmulator\u001b[39m\n",
      "   2898.7 ms\u001b[32m  ✓ \u001b[39m\u001b[90mAbstractTrees\u001b[39m\n",
      "    872.4 ms\u001b[32m  ✓ \u001b[39m\u001b[90mIndirectArrays\u001b[39m\n",
      "    850.0 ms\u001b[32m  ✓ \u001b[39m\u001b[90mRangeArrays\u001b[39m\n",
      "   1103.4 ms\u001b[32m  ✓ \u001b[39m\u001b[90mExtents\u001b[39m\n",
      "   1353.2 ms\u001b[32m  ✓ \u001b[39m\u001b[90mAbstractFFTs\u001b[39m\n",
      "   1293.0 ms\u001b[32m  ✓ \u001b[39m\u001b[90mIterTools\u001b[39m\n",
      "   1074.4 ms\u001b[32m  ✓ \u001b[39m\u001b[90mInflate\u001b[39m\n",
      "    934.0 ms\u001b[32m  ✓ \u001b[39m\u001b[90mMappedArrays\u001b[39m\n",
      "   1069.4 ms\u001b[32m  ✓ \u001b[39m\u001b[90mIntervalSets\u001b[39m\n",
      "   6688.9 ms\u001b[32m  ✓ \u001b[39m\u001b[90mAdaptivePredicates\u001b[39m\n",
      "    877.9 ms\u001b[32m  ✓ \u001b[39m\u001b[90mRatios\u001b[39m\n",
      "   2501.2 ms\u001b[32m  ✓ \u001b[39m\u001b[90mOffsetArrays\u001b[39m\n",
      "   1348.0 ms\u001b[32m  ✓ \u001b[39m\u001b[90mImath_jll\u001b[39m\n",
      "   1818.4 ms\u001b[32m  ✓ \u001b[39m\u001b[90mComputePipeline\u001b[39m\n",
      "         \u001b[91m  ✗ \u001b[39m\u001b[90mBaseDirs\u001b[39m\n",
      "   1949.7 ms\u001b[32m  ✓ \u001b[39m\u001b[90mWoodburyMatrices\u001b[39m\n",
      "   1917.6 ms\u001b[32m  ✓ \u001b[39m\u001b[90mStructArrays\u001b[39m\n",
      "   1314.5 ms\u001b[32m  ✓ \u001b[39m\u001b[90moneTBB_jll\u001b[39m\n",
      "    831.0 ms\u001b[32m  ✓ \u001b[39m\u001b[90mSignedDistanceFields\u001b[39m\n",
      "   1163.6 ms\u001b[32m  ✓ \u001b[39m\u001b[90mOpenBLASConsistentFPCSR_jll\u001b[39m\n",
      "   1235.9 ms\u001b[32m  ✓ \u001b[39m\u001b[90mGiflib_jll\u001b[39m\n",
      "   1248.8 ms\u001b[32m  ✓ \u001b[39m\u001b[90mFFTW_jll\u001b[39m\n",
      "   1478.1 ms\u001b[32m  ✓ \u001b[39m\u001b[90mlibsixel_jll\u001b[39m\n",
      "   1490.5 ms\u001b[32m  ✓ \u001b[39m\u001b[90mAnimations\u001b[39m\n",
      "   1469.0 ms\u001b[32m  ✓ \u001b[39m\u001b[90mGraphics\u001b[39m\n",
      "   1727.0 ms\u001b[32m  ✓ \u001b[39m\u001b[90mFilePaths\u001b[39m\n",
      "   1713.3 ms\u001b[32m  ✓ \u001b[39m\u001b[90mColorBrewer\u001b[39m\n",
      "   1170.2 ms\u001b[32m  ✓ \u001b[39m\u001b[90mEarCut_jll\u001b[39m\n",
      "   1204.7 ms\u001b[32m  ✓ \u001b[39m\u001b[90misoband_jll\u001b[39m\n",
      "   1193.7 ms\u001b[32m  ✓ \u001b[39m\u001b[90mCRlibm_jll\u001b[39m\n",
      "   3528.0 ms\u001b[32m  ✓ \u001b[39m\u001b[90mPkgVersion\u001b[39m\n",
      "   2009.4 ms\u001b[32m  ✓ \u001b[39m\u001b[90mFreeType\u001b[39m\n",
      "   2429.6 ms\u001b[32m  ✓ \u001b[39m\u001b[90mIntelOpenMP_jll\u001b[39m\n",
      "   1275.1 ms\u001b[32m  ✓ \u001b[39m\u001b[90mAbstractFFTs → AbstractFFTsChainRulesCoreExt\u001b[39m\n",
      "    762.0 ms\u001b[32m  ✓ \u001b[39m\u001b[90mIntervalSets → IntervalSetsStatisticsExt\u001b[39m\n",
      "    752.3 ms\u001b[32m  ✓ \u001b[39m\u001b[90mIntervalSets → IntervalSetsRandomExt\u001b[39m\n",
      "   3544.3 ms\u001b[32m  ✓ \u001b[39m\u001b[90mFFMPEG_jll\u001b[39m\n",
      "    769.0 ms\u001b[32m  ✓ \u001b[39m\u001b[90mConstructionBase → ConstructionBaseIntervalSetsExt\u001b[39m\n",
      "   1163.2 ms\u001b[32m  ✓ \u001b[39m\u001b[90mIntervalSets → IntervalSetsRecipesBaseExt\u001b[39m\n",
      "   2638.0 ms\u001b[32m  ✓ \u001b[39m\u001b[90mAbstractFFTs → AbstractFFTsTestExt\u001b[39m\n",
      "   1431.8 ms\u001b[32m  ✓ \u001b[39m\u001b[90mAccessors → IntervalSetsExt\u001b[39m\n",
      "    798.8 ms\u001b[32m  ✓ \u001b[39m\u001b[90mRatios → RatiosFixedPointNumbersExt\u001b[39m\n",
      "    771.0 ms\u001b[32m  ✓ \u001b[39m\u001b[90mOffsetArrays → OffsetArraysAdaptExt\u001b[39m\n",
      "    862.2 ms\u001b[32m  ✓ \u001b[39m\u001b[90mPaddedViews\u001b[39m\n",
      "    810.2 ms\u001b[32m  ✓ \u001b[39m\u001b[90mStackViews\u001b[39m\n",
      "   1130.7 ms\u001b[32m  ✓ \u001b[39m\u001b[90mAxisAlgorithms\u001b[39m\n",
      "   1370.7 ms\u001b[32m  ✓ \u001b[39m\u001b[90mOpenEXR_jll\u001b[39m\n",
      "    916.6 ms\u001b[32m  ✓ \u001b[39m\u001b[90mStructArrays → StructArraysLinearAlgebraExt\u001b[39m\n",
      "   1182.0 ms\u001b[32m  ✓ \u001b[39m\u001b[90mStructArrays → StructArraysSparseArraysExt\u001b[39m\n",
      "    852.1 ms\u001b[32m  ✓ \u001b[39m\u001b[90mStructArrays → StructArraysAdaptExt\u001b[39m\n",
      "   9201.6 ms\u001b[32m  ✓ \u001b[39m\u001b[90mFileIO\u001b[39m\n",
      "   1830.2 ms\u001b[32m  ✓ \u001b[39m\u001b[90mStructArrays → StructArraysStaticArraysExt\u001b[39m\n",
      "   1199.4 ms\u001b[32m  ✓ \u001b[39m\u001b[90mAccessors → StructArraysExt\u001b[39m\n",
      "   2187.3 ms\u001b[32m  ✓ \u001b[39m\u001b[90mStructArrays → StructArraysGPUArraysCoreExt\u001b[39m\n",
      "   1298.6 ms\u001b[32m  ✓ \u001b[39m\u001b[90mBangBang → BangBangStructArraysExt\u001b[39m\n",
      "    923.3 ms\u001b[32m  ✓ \u001b[39m\u001b[90mIsoband\u001b[39m\n",
      "   1817.8 ms\u001b[32m  ✓ \u001b[39m\u001b[90mlibwebp_jll\u001b[39m\n",
      "   1999.9 ms\u001b[32m  ✓ \u001b[39m\u001b[90mCRlibm\u001b[39m\n",
      "   2779.0 ms\u001b[32m  ✓ \u001b[39m\u001b[90mCairo\u001b[39m\n",
      "   1599.1 ms\u001b[32m  ✓ \u001b[39m\u001b[90mAxisArrays\u001b[39m\n",
      "    897.5 ms\u001b[32m  ✓ \u001b[39m\u001b[90mMosaicViews\u001b[39m\n",
      "   2528.9 ms\u001b[32m  ✓ \u001b[39m\u001b[90mMKL_jll\u001b[39m\n",
      "  18098.0 ms\u001b[32m  ✓ \u001b[39m\u001b[90mSIMD\u001b[39m\n",
      "   3493.3 ms\u001b[32m  ✓ \u001b[39m\u001b[90mFileIO → HTTPExt\u001b[39m\n",
      "   3207.5 ms\u001b[32m  ✓ \u001b[39m\u001b[90mQOI\u001b[39m\n",
      "   4102.3 ms\u001b[32m  ✓ \u001b[39m\u001b[90mInterpolations\u001b[39m\n",
      "   3113.5 ms\u001b[32m  ✓ \u001b[39m\u001b[90mOpenEXR\u001b[39m\n",
      "   4343.9 ms\u001b[32m  ✓ \u001b[39m\u001b[90mIntervalArithmetic\u001b[39m\n",
      "   2620.9 ms\u001b[32m  ✓ \u001b[39m\u001b[90mInterpolations → InterpolationsForwardDiffExt\u001b[39m\n",
      "   1210.4 ms\u001b[32m  ✓ \u001b[39m\u001b[90mIntervalArithmetic → IntervalArithmeticForwardDiffExt\u001b[39m\n",
      "   1391.0 ms\u001b[32m  ✓ \u001b[39m\u001b[90mIntervalArithmetic → IntervalArithmeticSparseArraysExt\u001b[39m\n",
      "   1224.6 ms\u001b[32m  ✓ \u001b[39m\u001b[90mIntervalArithmetic → IntervalArithmeticLinearAlgebraExt\u001b[39m\n",
      "   1283.3 ms\u001b[32m  ✓ \u001b[39m\u001b[90mIntervalArithmetic → IntervalArithmeticRecipesBaseExt\u001b[39m\n",
      "    917.0 ms\u001b[32m  ✓ \u001b[39m\u001b[90mIntervalArithmetic → IntervalArithmeticIntervalSetsExt\u001b[39m\n",
      "    974.4 ms\u001b[32m  ✓ \u001b[39m\u001b[90mIntervalArithmetic → IntervalArithmeticDiffRulesExt\u001b[39m\n",
      "  25638.5 ms\u001b[32m  ✓ \u001b[39m\u001b[90mGeometryBasics\u001b[39m\n",
      "  42359.0 ms\u001b[32m  ✓ \u001b[39m\u001b[90mUnitful\u001b[39m\n",
      "   7757.7 ms\u001b[32m  ✓ \u001b[39m\u001b[90mExactPredicates\u001b[39m\n",
      "  21148.6 ms\u001b[32m  ✓ \u001b[39m\u001b[90mFFTW\u001b[39m\n",
      "   2187.8 ms\u001b[32m  ✓ \u001b[39m\u001b[90mPacking\u001b[39m\n",
      "   2592.9 ms\u001b[32m  ✓ \u001b[39m\u001b[90mShaderAbstractions\u001b[39m\n",
      "   1711.8 ms\u001b[32m  ✓ \u001b[39m\u001b[90mUnitful → ForwardDiffExt\u001b[39m\n",
      "   1362.2 ms\u001b[32m  ✓ \u001b[39m\u001b[90mUnitful → InverseFunctionsUnitfulExt\u001b[39m\n",
      "   1383.0 ms\u001b[32m  ✓ \u001b[39m\u001b[90mUnitful → ConstructionBaseUnitfulExt\u001b[39m\n",
      "   1406.1 ms\u001b[32m  ✓ \u001b[39m\u001b[90mUnitful → PrintfExt\u001b[39m\n",
      "   1609.0 ms\u001b[32m  ✓ \u001b[39m\u001b[90mAccessors → UnitfulExt\u001b[39m\n",
      "  28576.8 ms\u001b[32m  ✓ \u001b[39m\u001b[90mAutoma\u001b[39m\n",
      "         \u001b[91m  ✗ \u001b[39m\u001b[90mFreeTypeAbstraction\u001b[39m\n",
      "   2496.4 ms\u001b[32m  ✓ \u001b[39m\u001b[90mInterpolations → InterpolationsUnitfulExt\u001b[39m\n",
      "   2370.7 ms\u001b[32m  ✓ \u001b[39m\u001b[90mNNlib → NNlibFFTWExt\u001b[39m\n",
      "  13336.6 ms\u001b[32m  ✓ \u001b[39m\u001b[90mGridLayoutBase\u001b[39m\n",
      "   3803.8 ms\u001b[32m  ✓ \u001b[39m\u001b[90mKernelDensity\u001b[39m\n",
      "   8210.8 ms\u001b[32m  ✓ \u001b[39m\u001b[90mDelaunayTriangulation\u001b[39m\n",
      "         \u001b[91m  ✗ \u001b[39m\u001b[90mMathTeXEngine\u001b[39m\n",
      "  47743.0 ms\u001b[32m  ✓ \u001b[39m\u001b[90mImageCore\u001b[39m\n",
      "   3707.2 ms\u001b[32m  ✓ \u001b[39m\u001b[90mImageBase\u001b[39m\n",
      "   4227.5 ms\u001b[32m  ✓ \u001b[39m\u001b[90mWebP\u001b[39m\n",
      "   5368.1 ms\u001b[32m  ✓ \u001b[39m\u001b[90mSixel\u001b[39m\n",
      "   5465.2 ms\u001b[32m  ✓ \u001b[39m\u001b[90mJpegTurbo\u001b[39m\n",
      "   3060.5 ms\u001b[32m  ✓ \u001b[39m\u001b[90mImageAxes\u001b[39m\n",
      "   7707.9 ms\u001b[32m  ✓ \u001b[39m\u001b[90mPNGFiles\u001b[39m\n",
      "   1869.6 ms\u001b[32m  ✓ \u001b[39m\u001b[90mImageMetadata\u001b[39m\n",
      "   2716.2 ms\u001b[32m  ✓ \u001b[39m\u001b[90mNetpbm\u001b[39m\n",
      "  67584.1 ms\u001b[32m  ✓ \u001b[39m\u001b[90mTiffImages\u001b[39m\n",
      "   1787.4 ms\u001b[32m  ✓ \u001b[39m\u001b[90mImageIO\u001b[39m\n",
      "         \u001b[91m  ✗ \u001b[39m\u001b[90mMakie\u001b[39m\n",
      "         \u001b[91m  ✗ \u001b[39mCairoMakie\n",
      "  107 dependencies successfully precompiled in 118 seconds. 315 already precompiled.\n",
      "  \u001b[33m1\u001b[39m dependency had output during precompilation:\u001b[33m\n",
      "┌ \u001b[39mCRlibm\u001b[33m\n",
      "│  \u001b[39m\u001b[36m\u001b[1m[ \u001b[22m\u001b[39m\u001b[36m\u001b[1mInfo: \u001b[22m\u001b[39mCRlibm is shadowing MPFR\u001b[33m\n",
      "└  \u001b[39m\n",
      "  \u001b[91m5\u001b[39m dependencies errored.\n",
      "  For a report of the errors see `julia> err`. To retry use `pkg> precompile`\n"
     ]
    }
   ],
   "source": [
    "import Pkg\n",
    "Pkg.activate(\".\")\n",
    "Pkg.add([\n",
    "    \"IJulia\",\n",
    "    \"MLJ\",\n",
    "    \"MLJLinearModels\",\n",
    "    \"DataFrames\",\n",
    "    \"Random\",\n",
    "    \"Statistics\",\n",
    "    \"CairoMakie\"\n",
    "])\n"
   ]
  },
  {
   "cell_type": "code",
   "execution_count": 23,
   "id": "ecaac722-eadc-4735-b806-2252d3c0c93f",
   "metadata": {},
   "outputs": [
    {
     "name": "stderr",
     "output_type": "stream",
     "text": [
      "\u001b[32m\u001b[1m  Activating\u001b[22m\u001b[39m project at `C:\\Users\\ARIANA`\n",
      "\u001b[32m\u001b[1m    Updating\u001b[22m\u001b[39m registry at `C:\\Users\\ARIANA\\.julia\\registries\\General.toml`\n",
      "\u001b[32m\u001b[1m  No Changes\u001b[22m\u001b[39m to `C:\\Users\\ARIANA\\Project.toml`\n",
      "\u001b[32m\u001b[1m  No Changes\u001b[22m\u001b[39m to `C:\\Users\\ARIANA\\Manifest.toml`\n",
      "\u001b[92m\u001b[1mPrecompiling\u001b[22m\u001b[39m project...\n",
      "         \u001b[91m  ✗ \u001b[39m\u001b[90mBaseDirs\u001b[39m\n",
      "         \u001b[91m  ✗ \u001b[39m\u001b[90mFreeTypeAbstraction\u001b[39m\n",
      "         \u001b[91m  ✗ \u001b[39m\u001b[90mMathTeXEngine\u001b[39m\n",
      "         \u001b[91m  ✗ \u001b[39m\u001b[90mMakie\u001b[39m\n",
      "         \u001b[91m  ✗ \u001b[39mCairoMakie\n",
      "  0 dependencies successfully precompiled in 31 seconds. 422 already precompiled.\n",
      "  \u001b[91m5\u001b[39m dependencies errored.\n",
      "  For a report of the errors see `julia> err`. To retry use `pkg> precompile`\n",
      "\u001b[92m\u001b[1mPrecompiling\u001b[22m\u001b[39m project...\n",
      "         \u001b[91m  ✗ \u001b[39m\u001b[90mBaseDirs\u001b[39m\n",
      "         \u001b[91m  ✗ \u001b[39m\u001b[90mFreeTypeAbstraction\u001b[39m\n",
      "         \u001b[91m  ✗ \u001b[39m\u001b[90mMathTeXEngine\u001b[39m\n",
      "         \u001b[91m  ✗ \u001b[39m\u001b[90mMakie\u001b[39m\n",
      "         \u001b[91m  ✗ \u001b[39mCairoMakie\n",
      "  0 dependencies successfully precompiled in 31 seconds. 422 already precompiled.\n",
      "\n"
     ]
    },
    {
     "ename": "LoadError",
     "evalue": "The following 1 direct dependency failed to precompile:\n\nCairoMakie \n\nFailed to precompile CairoMakie [13f3f980-e62b-5c42-98c6-ff1f3baf88f0] to \"C:\\\\Users\\\\ARIANA\\\\.julia\\\\compiled\\\\v1.11\\\\CairoMakie\\\\jl_734F.tmp\".\n\u001b[91m\u001b[1mERROR: \u001b[22m\u001b[39mLoadError: ReadOnlyMemoryError()\nStacktrace:\n [1] \u001b[0m\u001b[1mknownfolder\u001b[22m\u001b[0m\u001b[1m(\u001b[22m\u001b[90mid\u001b[39m::\u001b[0mSymbol\u001b[0m\u001b[1m)\u001b[22m\n\u001b[90m   @\u001b[39m \u001b[35mBaseDirs\u001b[39m \u001b[90mC:\\Users\\ARIANA\\.julia\\packages\\BaseDirs\\mpcEg\\src\\\u001b[39m\u001b[90m\u001b[4mnt.jl:169\u001b[24m\u001b[39m\n [2] \u001b[0m\u001b[1mknownfolder\u001b[22m\n\u001b[90m   @\u001b[39m \u001b[90mC:\\Users\\ARIANA\\.julia\\packages\\BaseDirs\\mpcEg\\src\\\u001b[39m\u001b[90m\u001b[4mnt.jl:187\u001b[24m\u001b[39m\u001b[90m [inlined]\u001b[39m\n [3] \u001b[0m\u001b[1mrelevantfolders\u001b[22m\u001b[0m\u001b[1m(\u001b[22m\u001b[0m\u001b[1m)\u001b[22m\n\u001b[90m   @\u001b[39m \u001b[35mBaseDirs\u001b[39m \u001b[90mC:\\Users\\ARIANA\\.julia\\packages\\BaseDirs\\mpcEg\\src\\\u001b[39m\u001b[90m\u001b[4mnt.jl:210\u001b[24m\u001b[39m\n [4] \u001b[0m\u001b[1mreload\u001b[22m\u001b[0m\u001b[1m(\u001b[22m\u001b[0m\u001b[1m)\u001b[22m\n\u001b[90m   @\u001b[39m \u001b[35mBaseDirs\u001b[39m \u001b[90mC:\\Users\\ARIANA\\.julia\\packages\\BaseDirs\\mpcEg\\src\\\u001b[39m\u001b[90m\u001b[4mnt.jl:241\u001b[24m\u001b[39m\n [5] top-level scope\n\u001b[90m   @\u001b[39m \u001b[90mC:\\Users\\ARIANA\\.julia\\packages\\BaseDirs\\mpcEg\\src\\\u001b[39m\u001b[90m\u001b[4mBaseDirs.jl:94\u001b[24m\u001b[39m\n [6] \u001b[0m\u001b[1minclude\u001b[22m\n\u001b[90m   @\u001b[39m \u001b[90m.\\\u001b[39m\u001b[90m\u001b[4mBase.jl:562\u001b[24m\u001b[39m\u001b[90m [inlined]\u001b[39m\n [7] \u001b[0m\u001b[1minclude_package_for_output\u001b[22m\u001b[0m\u001b[1m(\u001b[22m\u001b[90mpkg\u001b[39m::\u001b[0mBase.PkgId, \u001b[90minput\u001b[39m::\u001b[0mString, \u001b[90mdepot_path\u001b[39m::\u001b[0mVector\u001b[90m{String}\u001b[39m, \u001b[90mdl_load_path\u001b[39m::\u001b[0mVector\u001b[90m{String}\u001b[39m, \u001b[90mload_path\u001b[39m::\u001b[0mVector\u001b[90m{String}\u001b[39m, \u001b[90mconcrete_deps\u001b[39m::\u001b[0mVector\u001b[90m{Pair{Base.PkgId, UInt128}}\u001b[39m, \u001b[90msource\u001b[39m::\u001b[0mString\u001b[0m\u001b[1m)\u001b[22m\n\u001b[90m   @\u001b[39m \u001b[90mBase\u001b[39m \u001b[90m.\\\u001b[39m\u001b[90m\u001b[4mloading.jl:2881\u001b[24m\u001b[39m\n [8] top-level scope\n\u001b[90m   @\u001b[39m \u001b[90m\u001b[4mstdin:6\u001b[24m\u001b[39m\nin expression starting at C:\\Users\\ARIANA\\.julia\\packages\\BaseDirs\\mpcEg\\src\\BaseDirs.jl:1\nin expression starting at stdin:6\n\u001b[91m\u001b[1mERROR: \u001b[22m\u001b[39mLoadError: Failed to precompile BaseDirs [18cc8868-cbac-4acf-b575-c8ff214dc66f] to \"C:\\\\Users\\\\ARIANA\\\\.julia\\\\compiled\\\\v1.11\\\\BaseDirs\\\\jl_7870.tmp\".\nStacktrace:\n  [1] \u001b[0m\u001b[1merror\u001b[22m\u001b[0m\u001b[1m(\u001b[22m\u001b[90ms\u001b[39m::\u001b[0mString\u001b[0m\u001b[1m)\u001b[22m\n\u001b[90m    @\u001b[39m \u001b[90mBase\u001b[39m \u001b[90m.\\\u001b[39m\u001b[90m\u001b[4merror.jl:35\u001b[24m\u001b[39m\n  [2] \u001b[0m\u001b[1mcompilecache\u001b[22m\u001b[0m\u001b[1m(\u001b[22m\u001b[90mpkg\u001b[39m::\u001b[0mBase.PkgId, \u001b[90mpath\u001b[39m::\u001b[0mString, \u001b[90minternal_stderr\u001b[39m::\u001b[0mIO, \u001b[90minternal_stdout\u001b[39m::\u001b[0mIO, \u001b[90mkeep_loaded_modules\u001b[39m::\u001b[0mBool; \u001b[90mflags\u001b[39m::\u001b[0mCmd, \u001b[90mcacheflags\u001b[39m::\u001b[0mBase.CacheFlags, \u001b[90mreasons\u001b[39m::\u001b[0mDict\u001b[90m{String, Int32}\u001b[39m, \u001b[90mloadable_exts\u001b[39m::\u001b[0mNothing\u001b[0m\u001b[1m)\u001b[22m\n\u001b[90m    @\u001b[39m \u001b[90mBase\u001b[39m \u001b[90m.\\\u001b[39m\u001b[90m\u001b[4mloading.jl:3174\u001b[24m\u001b[39m\n  [3] \u001b[0m\u001b[1m(::Base.var\"#1110#1111\"{Base.PkgId})\u001b[22m\u001b[0m\u001b[1m(\u001b[22m\u001b[0m\u001b[1m)\u001b[22m\n\u001b[90m    @\u001b[39m \u001b[90mBase\u001b[39m \u001b[90m.\\\u001b[39m\u001b[90m\u001b[4mloading.jl:2579\u001b[24m\u001b[39m\n  [4] \u001b[0m\u001b[1mmkpidlock\u001b[22m\u001b[0m\u001b[1m(\u001b[22m\u001b[90mf\u001b[39m::\u001b[0mBase.var\"#1110#1111\"\u001b[90m{Base.PkgId}\u001b[39m, \u001b[90mat\u001b[39m::\u001b[0mString, \u001b[90mpid\u001b[39m::\u001b[0mInt32; \u001b[90mkwopts\u001b[39m::\u001b[0m@Kwargs\u001b[90m{stale_age::Int32, wait::Bool}\u001b[39m\u001b[0m\u001b[1m)\u001b[22m\n\u001b[90m    @\u001b[39m \u001b[35mFileWatching.Pidfile\u001b[39m \u001b[90mC:\\Users\\ARIANA\\AppData\\Local\\Programs\\Julia-1.11.6\\share\\julia\\stdlib\\v1.11\\FileWatching\\src\\\u001b[39m\u001b[90m\u001b[4mpidfile.jl:95\u001b[24m\u001b[39m\n  [5] \u001b[0m\u001b[1m#mkpidlock#6\u001b[22m\n\u001b[90m    @\u001b[39m \u001b[90mC:\\Users\\ARIANA\\AppData\\Local\\Programs\\Julia-1.11.6\\share\\julia\\stdlib\\v1.11\\FileWatching\\src\\\u001b[39m\u001b[90m\u001b[4mpidfile.jl:90\u001b[24m\u001b[39m\u001b[90m [inlined]\u001b[39m\n  [6] \u001b[0m\u001b[1mtrymkpidlock\u001b[22m\u001b[0m\u001b[1m(\u001b[22m::\u001b[0mFunction, ::\u001b[0mVararg\u001b[90m{Any}\u001b[39m; \u001b[90mkwargs\u001b[39m::\u001b[0m@Kwargs\u001b[90m{stale_age::Int32}\u001b[39m\u001b[0m\u001b[1m)\u001b[22m\n\u001b[90m    @\u001b[39m \u001b[35mFileWatching.Pidfile\u001b[39m \u001b[90mC:\\Users\\ARIANA\\AppData\\Local\\Programs\\Julia-1.11.6\\share\\julia\\stdlib\\v1.11\\FileWatching\\src\\\u001b[39m\u001b[90m\u001b[4mpidfile.jl:116\u001b[24m\u001b[39m\n  [7] \u001b[0m\u001b[1m#invokelatest#2\u001b[22m\n\u001b[90m    @\u001b[39m \u001b[90m.\\\u001b[39m\u001b[90m\u001b[4messentials.jl:1057\u001b[24m\u001b[39m\u001b[90m [inlined]\u001b[39m\n  [8] \u001b[0m\u001b[1minvokelatest\u001b[22m\n\u001b[90m    @\u001b[39m \u001b[90m.\\\u001b[39m\u001b[90m\u001b[4messentials.jl:1052\u001b[24m\u001b[39m\u001b[90m [inlined]\u001b[39m\n  [9] \u001b[0m\u001b[1mmaybe_cachefile_lock\u001b[22m\u001b[0m\u001b[1m(\u001b[22m\u001b[90mf\u001b[39m::\u001b[0mBase.var\"#1110#1111\"\u001b[90m{Base.PkgId}\u001b[39m, \u001b[90mpkg\u001b[39m::\u001b[0mBase.PkgId, \u001b[90msrcpath\u001b[39m::\u001b[0mString; \u001b[90mstale_age\u001b[39m::\u001b[0mInt32\u001b[0m\u001b[1m)\u001b[22m\n\u001b[90m    @\u001b[39m \u001b[90mBase\u001b[39m \u001b[90m.\\\u001b[39m\u001b[90m\u001b[4mloading.jl:3698\u001b[24m\u001b[39m\n [10] \u001b[0m\u001b[1mmaybe_cachefile_lock\u001b[22m\n\u001b[90m    @\u001b[39m \u001b[90m.\\\u001b[39m\u001b[90m\u001b[4mloading.jl:3695\u001b[24m\u001b[39m\u001b[90m [inlined]\u001b[39m\n [11] \u001b[0m\u001b[1m_require\u001b[22m\u001b[0m\u001b[1m(\u001b[22m\u001b[90mpkg\u001b[39m::\u001b[0mBase.PkgId, \u001b[90menv\u001b[39m::\u001b[0mString\u001b[0m\u001b[1m)\u001b[22m\n\u001b[90m    @\u001b[39m \u001b[90mBase\u001b[39m \u001b[90m.\\\u001b[39m\u001b[90m\u001b[4mloading.jl:2565\u001b[24m\u001b[39m\n [12] \u001b[0m\u001b[1m__require_prelocked\u001b[22m\u001b[0m\u001b[1m(\u001b[22m\u001b[90muuidkey\u001b[39m::\u001b[0mBase.PkgId, \u001b[90menv\u001b[39m::\u001b[0mString\u001b[0m\u001b[1m)\u001b[22m\n\u001b[90m    @\u001b[39m \u001b[90mBase\u001b[39m \u001b[90m.\\\u001b[39m\u001b[90m\u001b[4mloading.jl:2388\u001b[24m\u001b[39m\n [13] \u001b[0m\u001b[1m#invoke_in_world#3\u001b[22m\n\u001b[90m    @\u001b[39m \u001b[90m.\\\u001b[39m\u001b[90m\u001b[4messentials.jl:1089\u001b[24m\u001b[39m\u001b[90m [inlined]\u001b[39m\n [14] \u001b[0m\u001b[1minvoke_in_world\u001b[22m\n\u001b[90m    @\u001b[39m \u001b[90m.\\\u001b[39m\u001b[90m\u001b[4messentials.jl:1086\u001b[24m\u001b[39m\u001b[90m [inlined]\u001b[39m\n [15] \u001b[0m\u001b[1m_require_prelocked\u001b[22m\u001b[0m\u001b[1m(\u001b[22m\u001b[90muuidkey\u001b[39m::\u001b[0mBase.PkgId, \u001b[90menv\u001b[39m::\u001b[0mString\u001b[0m\u001b[1m)\u001b[22m\n\u001b[90m    @\u001b[39m \u001b[90mBase\u001b[39m \u001b[90m.\\\u001b[39m\u001b[90m\u001b[4mloading.jl:2375\u001b[24m\u001b[39m\n [16] \u001b[0m\u001b[1mmacro expansion\u001b[22m\n\u001b[90m    @\u001b[39m \u001b[90m.\\\u001b[39m\u001b[90m\u001b[4mloading.jl:2314\u001b[24m\u001b[39m\u001b[90m [inlined]\u001b[39m\n [17] \u001b[0m\u001b[1mmacro expansion\u001b[22m\n\u001b[90m    @\u001b[39m \u001b[90m.\\\u001b[39m\u001b[90m\u001b[4mlock.jl:273\u001b[24m\u001b[39m\u001b[90m [inlined]\u001b[39m\n [18] \u001b[0m\u001b[1m__require\u001b[22m\u001b[0m\u001b[1m(\u001b[22m\u001b[90minto\u001b[39m::\u001b[0mModule, \u001b[90mmod\u001b[39m::\u001b[0mSymbol\u001b[0m\u001b[1m)\u001b[22m\n\u001b[90m    @\u001b[39m \u001b[90mBase\u001b[39m \u001b[90m.\\\u001b[39m\u001b[90m\u001b[4mloading.jl:2271\u001b[24m\u001b[39m\n [19] \u001b[0m\u001b[1m#invoke_in_world#3\u001b[22m\n\u001b[90m    @\u001b[39m \u001b[90m.\\\u001b[39m\u001b[90m\u001b[4messentials.jl:1089\u001b[24m\u001b[39m\u001b[90m [inlined]\u001b[39m\n [20] \u001b[0m\u001b[1minvoke_in_world\u001b[22m\n\u001b[90m    @\u001b[39m \u001b[90m.\\\u001b[39m\u001b[90m\u001b[4messentials.jl:1086\u001b[24m\u001b[39m\u001b[90m [inlined]\u001b[39m\n [21] \u001b[0m\u001b[1mrequire\u001b[22m\u001b[0m\u001b[1m(\u001b[22m\u001b[90minto\u001b[39m::\u001b[0mModule, \u001b[90mmod\u001b[39m::\u001b[0mSymbol\u001b[0m\u001b[1m)\u001b[22m\n\u001b[90m    @\u001b[39m \u001b[90mBase\u001b[39m \u001b[90m.\\\u001b[39m\u001b[90m\u001b[4mloading.jl:2260\u001b[24m\u001b[39m\n [22] \u001b[0m\u001b[1minclude\u001b[22m\n\u001b[90m    @\u001b[39m \u001b[90m.\\\u001b[39m\u001b[90m\u001b[4mBase.jl:562\u001b[24m\u001b[39m\u001b[90m [inlined]\u001b[39m\n [23] \u001b[0m\u001b[1minclude_package_for_output\u001b[22m\u001b[0m\u001b[1m(\u001b[22m\u001b[90mpkg\u001b[39m::\u001b[0mBase.PkgId, \u001b[90minput\u001b[39m::\u001b[0mString, \u001b[90mdepot_path\u001b[39m::\u001b[0mVector\u001b[90m{String}\u001b[39m, \u001b[90mdl_load_path\u001b[39m::\u001b[0mVector\u001b[90m{String}\u001b[39m, \u001b[90mload_path\u001b[39m::\u001b[0mVector\u001b[90m{String}\u001b[39m, \u001b[90mconcrete_deps\u001b[39m::\u001b[0mVector\u001b[90m{Pair{Base.PkgId, UInt128}}\u001b[39m, \u001b[90msource\u001b[39m::\u001b[0mString\u001b[0m\u001b[1m)\u001b[22m\n\u001b[90m    @\u001b[39m \u001b[90mBase\u001b[39m \u001b[90m.\\\u001b[39m\u001b[90m\u001b[4mloading.jl:2881\u001b[24m\u001b[39m\n [24] top-level scope\n\u001b[90m    @\u001b[39m \u001b[90m\u001b[4mstdin:6\u001b[24m\u001b[39m\nin expression starting at C:\\Users\\ARIANA\\.julia\\packages\\FreeTypeAbstraction\\GGCCW\\src\\FreeTypeAbstraction.jl:1\nin expression starting at stdin:6\n\u001b[91m\u001b[1mERROR: \u001b[22m\u001b[39mLoadError: Failed to precompile FreeTypeAbstraction [663a7486-cb36-511b-a19d-713bb74d65c9] to \"C:\\\\Users\\\\ARIANA\\\\.julia\\\\compiled\\\\v1.11\\\\FreeTypeAbstraction\\\\jl_73BD.tmp\".\nStacktrace:\n  [1] \u001b[0m\u001b[1merror\u001b[22m\u001b[0m\u001b[1m(\u001b[22m\u001b[90ms\u001b[39m::\u001b[0mString\u001b[0m\u001b[1m)\u001b[22m\n\u001b[90m    @\u001b[39m \u001b[90mBase\u001b[39m \u001b[90m.\\\u001b[39m\u001b[90m\u001b[4merror.jl:35\u001b[24m\u001b[39m\n  [2] \u001b[0m\u001b[1mcompilecache\u001b[22m\u001b[0m\u001b[1m(\u001b[22m\u001b[90mpkg\u001b[39m::\u001b[0mBase.PkgId, \u001b[90mpath\u001b[39m::\u001b[0mString, \u001b[90minternal_stderr\u001b[39m::\u001b[0mIO, \u001b[90minternal_stdout\u001b[39m::\u001b[0mIO, \u001b[90mkeep_loaded_modules\u001b[39m::\u001b[0mBool; \u001b[90mflags\u001b[39m::\u001b[0mCmd, \u001b[90mcacheflags\u001b[39m::\u001b[0mBase.CacheFlags, \u001b[90mreasons\u001b[39m::\u001b[0mDict\u001b[90m{String, Int32}\u001b[39m, \u001b[90mloadable_exts\u001b[39m::\u001b[0mNothing\u001b[0m\u001b[1m)\u001b[22m\n\u001b[90m    @\u001b[39m \u001b[90mBase\u001b[39m \u001b[90m.\\\u001b[39m\u001b[90m\u001b[4mloading.jl:3174\u001b[24m\u001b[39m\n  [3] \u001b[0m\u001b[1m(::Base.var\"#1110#1111\"{Base.PkgId})\u001b[22m\u001b[0m\u001b[1m(\u001b[22m\u001b[0m\u001b[1m)\u001b[22m\n\u001b[90m    @\u001b[39m \u001b[90mBase\u001b[39m \u001b[90m.\\\u001b[39m\u001b[90m\u001b[4mloading.jl:2579\u001b[24m\u001b[39m\n  [4] \u001b[0m\u001b[1mmkpidlock\u001b[22m\u001b[0m\u001b[1m(\u001b[22m\u001b[90mf\u001b[39m::\u001b[0mBase.var\"#1110#1111\"\u001b[90m{Base.PkgId}\u001b[39m, \u001b[90mat\u001b[39m::\u001b[0mString, \u001b[90mpid\u001b[39m::\u001b[0mInt32; \u001b[90mkwopts\u001b[39m::\u001b[0m@Kwargs\u001b[90m{stale_age::Int32, wait::Bool}\u001b[39m\u001b[0m\u001b[1m)\u001b[22m\n\u001b[90m    @\u001b[39m \u001b[35mFileWatching.Pidfile\u001b[39m \u001b[90mC:\\Users\\ARIANA\\AppData\\Local\\Programs\\Julia-1.11.6\\share\\julia\\stdlib\\v1.11\\FileWatching\\src\\\u001b[39m\u001b[90m\u001b[4mpidfile.jl:95\u001b[24m\u001b[39m\n  [5] \u001b[0m\u001b[1m#mkpidlock#6\u001b[22m\n\u001b[90m    @\u001b[39m \u001b[90mC:\\Users\\ARIANA\\AppData\\Local\\Programs\\Julia-1.11.6\\share\\julia\\stdlib\\v1.11\\FileWatching\\src\\\u001b[39m\u001b[90m\u001b[4mpidfile.jl:90\u001b[24m\u001b[39m\u001b[90m [inlined]\u001b[39m\n  [6] \u001b[0m\u001b[1mtrymkpidlock\u001b[22m\u001b[0m\u001b[1m(\u001b[22m::\u001b[0mFunction, ::\u001b[0mVararg\u001b[90m{Any}\u001b[39m; \u001b[90mkwargs\u001b[39m::\u001b[0m@Kwargs\u001b[90m{stale_age::Int32}\u001b[39m\u001b[0m\u001b[1m)\u001b[22m\n\u001b[90m    @\u001b[39m \u001b[35mFileWatching.Pidfile\u001b[39m \u001b[90mC:\\Users\\ARIANA\\AppData\\Local\\Programs\\Julia-1.11.6\\share\\julia\\stdlib\\v1.11\\FileWatching\\src\\\u001b[39m\u001b[90m\u001b[4mpidfile.jl:116\u001b[24m\u001b[39m\n  [7] \u001b[0m\u001b[1m#invokelatest#2\u001b[22m\n\u001b[90m    @\u001b[39m \u001b[90m.\\\u001b[39m\u001b[90m\u001b[4messentials.jl:1057\u001b[24m\u001b[39m\u001b[90m [inlined]\u001b[39m\n  [8] \u001b[0m\u001b[1minvokelatest\u001b[22m\n\u001b[90m    @\u001b[39m \u001b[90m.\\\u001b[39m\u001b[90m\u001b[4messentials.jl:1052\u001b[24m\u001b[39m\u001b[90m [inlined]\u001b[39m\n  [9] \u001b[0m\u001b[1mmaybe_cachefile_lock\u001b[22m\u001b[0m\u001b[1m(\u001b[22m\u001b[90mf\u001b[39m::\u001b[0mBase.var\"#1110#1111\"\u001b[90m{Base.PkgId}\u001b[39m, \u001b[90mpkg\u001b[39m::\u001b[0mBase.PkgId, \u001b[90msrcpath\u001b[39m::\u001b[0mString; \u001b[90mstale_age\u001b[39m::\u001b[0mInt32\u001b[0m\u001b[1m)\u001b[22m\n\u001b[90m    @\u001b[39m \u001b[90mBase\u001b[39m \u001b[90m.\\\u001b[39m\u001b[90m\u001b[4mloading.jl:3698\u001b[24m\u001b[39m\n [10] \u001b[0m\u001b[1mmaybe_cachefile_lock\u001b[22m\n\u001b[90m    @\u001b[39m \u001b[90m.\\\u001b[39m\u001b[90m\u001b[4mloading.jl:3695\u001b[24m\u001b[39m\u001b[90m [inlined]\u001b[39m\n [11] \u001b[0m\u001b[1m_require\u001b[22m\u001b[0m\u001b[1m(\u001b[22m\u001b[90mpkg\u001b[39m::\u001b[0mBase.PkgId, \u001b[90menv\u001b[39m::\u001b[0mString\u001b[0m\u001b[1m)\u001b[22m\n\u001b[90m    @\u001b[39m \u001b[90mBase\u001b[39m \u001b[90m.\\\u001b[39m\u001b[90m\u001b[4mloading.jl:2565\u001b[24m\u001b[39m\n [12] \u001b[0m\u001b[1m__require_prelocked\u001b[22m\u001b[0m\u001b[1m(\u001b[22m\u001b[90muuidkey\u001b[39m::\u001b[0mBase.PkgId, \u001b[90menv\u001b[39m::\u001b[0mString\u001b[0m\u001b[1m)\u001b[22m\n\u001b[90m    @\u001b[39m \u001b[90mBase\u001b[39m \u001b[90m.\\\u001b[39m\u001b[90m\u001b[4mloading.jl:2388\u001b[24m\u001b[39m\n [13] \u001b[0m\u001b[1m#invoke_in_world#3\u001b[22m\n\u001b[90m    @\u001b[39m \u001b[90m.\\\u001b[39m\u001b[90m\u001b[4messentials.jl:1089\u001b[24m\u001b[39m\u001b[90m [inlined]\u001b[39m\n [14] \u001b[0m\u001b[1minvoke_in_world\u001b[22m\n\u001b[90m    @\u001b[39m \u001b[90m.\\\u001b[39m\u001b[90m\u001b[4messentials.jl:1086\u001b[24m\u001b[39m\u001b[90m [inlined]\u001b[39m\n [15] \u001b[0m\u001b[1m_require_prelocked\u001b[22m\u001b[0m\u001b[1m(\u001b[22m\u001b[90muuidkey\u001b[39m::\u001b[0mBase.PkgId, \u001b[90menv\u001b[39m::\u001b[0mString\u001b[0m\u001b[1m)\u001b[22m\n\u001b[90m    @\u001b[39m \u001b[90mBase\u001b[39m \u001b[90m.\\\u001b[39m\u001b[90m\u001b[4mloading.jl:2375\u001b[24m\u001b[39m\n [16] \u001b[0m\u001b[1mmacro expansion\u001b[22m\n\u001b[90m    @\u001b[39m \u001b[90m.\\\u001b[39m\u001b[90m\u001b[4mloading.jl:2314\u001b[24m\u001b[39m\u001b[90m [inlined]\u001b[39m\n [17] \u001b[0m\u001b[1mmacro expansion\u001b[22m\n\u001b[90m    @\u001b[39m \u001b[90m.\\\u001b[39m\u001b[90m\u001b[4mlock.jl:273\u001b[24m\u001b[39m\u001b[90m [inlined]\u001b[39m\n [18] \u001b[0m\u001b[1m__require\u001b[22m\u001b[0m\u001b[1m(\u001b[22m\u001b[90minto\u001b[39m::\u001b[0mModule, \u001b[90mmod\u001b[39m::\u001b[0mSymbol\u001b[0m\u001b[1m)\u001b[22m\n\u001b[90m    @\u001b[39m \u001b[90mBase\u001b[39m \u001b[90m.\\\u001b[39m\u001b[90m\u001b[4mloading.jl:2271\u001b[24m\u001b[39m\n [19] \u001b[0m\u001b[1m#invoke_in_world#3\u001b[22m\n\u001b[90m    @\u001b[39m \u001b[90m.\\\u001b[39m\u001b[90m\u001b[4messentials.jl:1089\u001b[24m\u001b[39m\u001b[90m [inlined]\u001b[39m\n [20] \u001b[0m\u001b[1minvoke_in_world\u001b[22m\n\u001b[90m    @\u001b[39m \u001b[90m.\\\u001b[39m\u001b[90m\u001b[4messentials.jl:1086\u001b[24m\u001b[39m\u001b[90m [inlined]\u001b[39m\n [21] \u001b[0m\u001b[1mrequire\u001b[22m\u001b[0m\u001b[1m(\u001b[22m\u001b[90minto\u001b[39m::\u001b[0mModule, \u001b[90mmod\u001b[39m::\u001b[0mSymbol\u001b[0m\u001b[1m)\u001b[22m\n\u001b[90m    @\u001b[39m \u001b[90mBase\u001b[39m \u001b[90m.\\\u001b[39m\u001b[90m\u001b[4mloading.jl:2260\u001b[24m\u001b[39m\n [22] \u001b[0m\u001b[1minclude\u001b[22m\n\u001b[90m    @\u001b[39m \u001b[90m.\\\u001b[39m\u001b[90m\u001b[4mBase.jl:562\u001b[24m\u001b[39m\u001b[90m [inlined]\u001b[39m\n [23] \u001b[0m\u001b[1minclude_package_for_output\u001b[22m\u001b[0m\u001b[1m(\u001b[22m\u001b[90mpkg\u001b[39m::\u001b[0mBase.PkgId, \u001b[90minput\u001b[39m::\u001b[0mString, \u001b[90mdepot_path\u001b[39m::\u001b[0mVector\u001b[90m{String}\u001b[39m, \u001b[90mdl_load_path\u001b[39m::\u001b[0mVector\u001b[90m{String}\u001b[39m, \u001b[90mload_path\u001b[39m::\u001b[0mVector\u001b[90m{String}\u001b[39m, \u001b[90mconcrete_deps\u001b[39m::\u001b[0mVector\u001b[90m{Pair{Base.PkgId, UInt128}}\u001b[39m, \u001b[90msource\u001b[39m::\u001b[0mString\u001b[0m\u001b[1m)\u001b[22m\n\u001b[90m    @\u001b[39m \u001b[90mBase\u001b[39m \u001b[90m.\\\u001b[39m\u001b[90m\u001b[4mloading.jl:2881\u001b[24m\u001b[39m\n [24] top-level scope\n\u001b[90m    @\u001b[39m \u001b[90m\u001b[4mstdin:6\u001b[24m\u001b[39m\nin expression starting at C:\\Users\\ARIANA\\.julia\\packages\\MathTeXEngine\\8VxpV\\src\\MathTeXEngine.jl:1\nin expression starting at stdin:6\n\u001b[91m\u001b[1mERROR: \u001b[22m\u001b[39mLoadError: Failed to precompile MathTeXEngine [0a4f8689-d25c-4efe-a92b-7142dfc1aa53] to \"C:\\\\Users\\\\ARIANA\\\\.julia\\\\compiled\\\\v1.11\\\\MathTeXEngine\\\\jl_719A.tmp\".\nStacktrace:\n  [1] \u001b[0m\u001b[1merror\u001b[22m\u001b[0m\u001b[1m(\u001b[22m\u001b[90ms\u001b[39m::\u001b[0mString\u001b[0m\u001b[1m)\u001b[22m\n\u001b[90m    @\u001b[39m \u001b[90mBase\u001b[39m \u001b[90m.\\\u001b[39m\u001b[90m\u001b[4merror.jl:35\u001b[24m\u001b[39m\n  [2] \u001b[0m\u001b[1mcompilecache\u001b[22m\u001b[0m\u001b[1m(\u001b[22m\u001b[90mpkg\u001b[39m::\u001b[0mBase.PkgId, \u001b[90mpath\u001b[39m::\u001b[0mString, \u001b[90minternal_stderr\u001b[39m::\u001b[0mIO, \u001b[90minternal_stdout\u001b[39m::\u001b[0mIO, \u001b[90mkeep_loaded_modules\u001b[39m::\u001b[0mBool; \u001b[90mflags\u001b[39m::\u001b[0mCmd, \u001b[90mcacheflags\u001b[39m::\u001b[0mBase.CacheFlags, \u001b[90mreasons\u001b[39m::\u001b[0mDict\u001b[90m{String, Int32}\u001b[39m, \u001b[90mloadable_exts\u001b[39m::\u001b[0mNothing\u001b[0m\u001b[1m)\u001b[22m\n\u001b[90m    @\u001b[39m \u001b[90mBase\u001b[39m \u001b[90m.\\\u001b[39m\u001b[90m\u001b[4mloading.jl:3174\u001b[24m\u001b[39m\n  [3] \u001b[0m\u001b[1m(::Base.var\"#1110#1111\"{Base.PkgId})\u001b[22m\u001b[0m\u001b[1m(\u001b[22m\u001b[0m\u001b[1m)\u001b[22m\n\u001b[90m    @\u001b[39m \u001b[90mBase\u001b[39m \u001b[90m.\\\u001b[39m\u001b[90m\u001b[4mloading.jl:2579\u001b[24m\u001b[39m\n  [4] \u001b[0m\u001b[1mmkpidlock\u001b[22m\u001b[0m\u001b[1m(\u001b[22m\u001b[90mf\u001b[39m::\u001b[0mBase.var\"#1110#1111\"\u001b[90m{Base.PkgId}\u001b[39m, \u001b[90mat\u001b[39m::\u001b[0mString, \u001b[90mpid\u001b[39m::\u001b[0mInt32; \u001b[90mkwopts\u001b[39m::\u001b[0m@Kwargs\u001b[90m{stale_age::Int32, wait::Bool}\u001b[39m\u001b[0m\u001b[1m)\u001b[22m\n\u001b[90m    @\u001b[39m \u001b[35mFileWatching.Pidfile\u001b[39m \u001b[90mC:\\Users\\ARIANA\\AppData\\Local\\Programs\\Julia-1.11.6\\share\\julia\\stdlib\\v1.11\\FileWatching\\src\\\u001b[39m\u001b[90m\u001b[4mpidfile.jl:95\u001b[24m\u001b[39m\n  [5] \u001b[0m\u001b[1m#mkpidlock#6\u001b[22m\n\u001b[90m    @\u001b[39m \u001b[90mC:\\Users\\ARIANA\\AppData\\Local\\Programs\\Julia-1.11.6\\share\\julia\\stdlib\\v1.11\\FileWatching\\src\\\u001b[39m\u001b[90m\u001b[4mpidfile.jl:90\u001b[24m\u001b[39m\u001b[90m [inlined]\u001b[39m\n  [6] \u001b[0m\u001b[1mtrymkpidlock\u001b[22m\u001b[0m\u001b[1m(\u001b[22m::\u001b[0mFunction, ::\u001b[0mVararg\u001b[90m{Any}\u001b[39m; \u001b[90mkwargs\u001b[39m::\u001b[0m@Kwargs\u001b[90m{stale_age::Int32}\u001b[39m\u001b[0m\u001b[1m)\u001b[22m\n\u001b[90m    @\u001b[39m \u001b[35mFileWatching.Pidfile\u001b[39m \u001b[90mC:\\Users\\ARIANA\\AppData\\Local\\Programs\\Julia-1.11.6\\share\\julia\\stdlib\\v1.11\\FileWatching\\src\\\u001b[39m\u001b[90m\u001b[4mpidfile.jl:116\u001b[24m\u001b[39m\n  [7] \u001b[0m\u001b[1m#invokelatest#2\u001b[22m\n\u001b[90m    @\u001b[39m \u001b[90m.\\\u001b[39m\u001b[90m\u001b[4messentials.jl:1057\u001b[24m\u001b[39m\u001b[90m [inlined]\u001b[39m\n  [8] \u001b[0m\u001b[1minvokelatest\u001b[22m\n\u001b[90m    @\u001b[39m \u001b[90m.\\\u001b[39m\u001b[90m\u001b[4messentials.jl:1052\u001b[24m\u001b[39m\u001b[90m [inlined]\u001b[39m\n  [9] \u001b[0m\u001b[1mmaybe_cachefile_lock\u001b[22m\u001b[0m\u001b[1m(\u001b[22m\u001b[90mf\u001b[39m::\u001b[0mBase.var\"#1110#1111\"\u001b[90m{Base.PkgId}\u001b[39m, \u001b[90mpkg\u001b[39m::\u001b[0mBase.PkgId, \u001b[90msrcpath\u001b[39m::\u001b[0mString; \u001b[90mstale_age\u001b[39m::\u001b[0mInt32\u001b[0m\u001b[1m)\u001b[22m\n\u001b[90m    @\u001b[39m \u001b[90mBase\u001b[39m \u001b[90m.\\\u001b[39m\u001b[90m\u001b[4mloading.jl:3698\u001b[24m\u001b[39m\n [10] \u001b[0m\u001b[1mmaybe_cachefile_lock\u001b[22m\n\u001b[90m    @\u001b[39m \u001b[90m.\\\u001b[39m\u001b[90m\u001b[4mloading.jl:3695\u001b[24m\u001b[39m\u001b[90m [inlined]\u001b[39m\n [11] \u001b[0m\u001b[1m_require\u001b[22m\u001b[0m\u001b[1m(\u001b[22m\u001b[90mpkg\u001b[39m::\u001b[0mBase.PkgId, \u001b[90menv\u001b[39m::\u001b[0mString\u001b[0m\u001b[1m)\u001b[22m\n\u001b[90m    @\u001b[39m \u001b[90mBase\u001b[39m \u001b[90m.\\\u001b[39m\u001b[90m\u001b[4mloading.jl:2565\u001b[24m\u001b[39m\n [12] \u001b[0m\u001b[1m__require_prelocked\u001b[22m\u001b[0m\u001b[1m(\u001b[22m\u001b[90muuidkey\u001b[39m::\u001b[0mBase.PkgId, \u001b[90menv\u001b[39m::\u001b[0mString\u001b[0m\u001b[1m)\u001b[22m\n\u001b[90m    @\u001b[39m \u001b[90mBase\u001b[39m \u001b[90m.\\\u001b[39m\u001b[90m\u001b[4mloading.jl:2388\u001b[24m\u001b[39m\n [13] \u001b[0m\u001b[1m#invoke_in_world#3\u001b[22m\n\u001b[90m    @\u001b[39m \u001b[90m.\\\u001b[39m\u001b[90m\u001b[4messentials.jl:1089\u001b[24m\u001b[39m\u001b[90m [inlined]\u001b[39m\n [14] \u001b[0m\u001b[1minvoke_in_world\u001b[22m\n\u001b[90m    @\u001b[39m \u001b[90m.\\\u001b[39m\u001b[90m\u001b[4messentials.jl:1086\u001b[24m\u001b[39m\u001b[90m [inlined]\u001b[39m\n [15] \u001b[0m\u001b[1m_require_prelocked\u001b[22m\u001b[0m\u001b[1m(\u001b[22m\u001b[90muuidkey\u001b[39m::\u001b[0mBase.PkgId, \u001b[90menv\u001b[39m::\u001b[0mString\u001b[0m\u001b[1m)\u001b[22m\n\u001b[90m    @\u001b[39m \u001b[90mBase\u001b[39m \u001b[90m.\\\u001b[39m\u001b[90m\u001b[4mloading.jl:2375\u001b[24m\u001b[39m\n [16] \u001b[0m\u001b[1mmacro expansion\u001b[22m\n\u001b[90m    @\u001b[39m \u001b[90m.\\\u001b[39m\u001b[90m\u001b[4mloading.jl:2314\u001b[24m\u001b[39m\u001b[90m [inlined]\u001b[39m\n [17] \u001b[0m\u001b[1mmacro expansion\u001b[22m\n\u001b[90m    @\u001b[39m \u001b[90m.\\\u001b[39m\u001b[90m\u001b[4mlock.jl:273\u001b[24m\u001b[39m\u001b[90m [inlined]\u001b[39m\n [18] \u001b[0m\u001b[1m__require\u001b[22m\u001b[0m\u001b[1m(\u001b[22m\u001b[90minto\u001b[39m::\u001b[0mModule, \u001b[90mmod\u001b[39m::\u001b[0mSymbol\u001b[0m\u001b[1m)\u001b[22m\n\u001b[90m    @\u001b[39m \u001b[90mBase\u001b[39m \u001b[90m.\\\u001b[39m\u001b[90m\u001b[4mloading.jl:2271\u001b[24m\u001b[39m\n [19] \u001b[0m\u001b[1m#invoke_in_world#3\u001b[22m\n\u001b[90m    @\u001b[39m \u001b[90m.\\\u001b[39m\u001b[90m\u001b[4messentials.jl:1089\u001b[24m\u001b[39m\u001b[90m [inlined]\u001b[39m\n [20] \u001b[0m\u001b[1minvoke_in_world\u001b[22m\n\u001b[90m    @\u001b[39m \u001b[90m.\\\u001b[39m\u001b[90m\u001b[4messentials.jl:1086\u001b[24m\u001b[39m\u001b[90m [inlined]\u001b[39m\n [21] \u001b[0m\u001b[1mrequire\u001b[22m\u001b[0m\u001b[1m(\u001b[22m\u001b[90minto\u001b[39m::\u001b[0mModule, \u001b[90mmod\u001b[39m::\u001b[0mSymbol\u001b[0m\u001b[1m)\u001b[22m\n\u001b[90m    @\u001b[39m \u001b[90mBase\u001b[39m \u001b[90m.\\\u001b[39m\u001b[90m\u001b[4mloading.jl:2260\u001b[24m\u001b[39m\n [22] \u001b[0m\u001b[1minclude\u001b[22m\n\u001b[90m    @\u001b[39m \u001b[90m.\\\u001b[39m\u001b[90m\u001b[4mBase.jl:562\u001b[24m\u001b[39m\u001b[90m [inlined]\u001b[39m\n [23] \u001b[0m\u001b[1minclude_package_for_output\u001b[22m\u001b[0m\u001b[1m(\u001b[22m\u001b[90mpkg\u001b[39m::\u001b[0mBase.PkgId, \u001b[90minput\u001b[39m::\u001b[0mString, \u001b[90mdepot_path\u001b[39m::\u001b[0mVector\u001b[90m{String}\u001b[39m, \u001b[90mdl_load_path\u001b[39m::\u001b[0mVector\u001b[90m{String}\u001b[39m, \u001b[90mload_path\u001b[39m::\u001b[0mVector\u001b[90m{String}\u001b[39m, \u001b[90mconcrete_deps\u001b[39m::\u001b[0mVector\u001b[90m{Pair{Base.PkgId, UInt128}}\u001b[39m, \u001b[90msource\u001b[39m::\u001b[0mString\u001b[0m\u001b[1m)\u001b[22m\n\u001b[90m    @\u001b[39m \u001b[90mBase\u001b[39m \u001b[90m.\\\u001b[39m\u001b[90m\u001b[4mloading.jl:2881\u001b[24m\u001b[39m\n [24] top-level scope\n\u001b[90m    @\u001b[39m \u001b[90m\u001b[4mstdin:6\u001b[24m\u001b[39m\nin expression starting at C:\\Users\\ARIANA\\.julia\\packages\\Makie\\4JW9B\\src\\Makie.jl:1\nin expression starting at stdin:6\n\u001b[91m\u001b[1mERROR: \u001b[22m\u001b[39mLoadError: Failed to precompile Makie [ee78f7c6-11fb-53f2-987a-cfe4a2b5a57a] to \"C:\\\\Users\\\\ARIANA\\\\.julia\\\\compiled\\\\v1.11\\\\Makie\\\\jl_7062.tmp\".\nStacktrace:\n  [1] \u001b[0m\u001b[1merror\u001b[22m\u001b[0m\u001b[1m(\u001b[22m\u001b[90ms\u001b[39m::\u001b[0mString\u001b[0m\u001b[1m)\u001b[22m\n\u001b[90m    @\u001b[39m \u001b[90mBase\u001b[39m \u001b[90m.\\\u001b[39m\u001b[90m\u001b[4merror.jl:35\u001b[24m\u001b[39m\n  [2] \u001b[0m\u001b[1mcompilecache\u001b[22m\u001b[0m\u001b[1m(\u001b[22m\u001b[90mpkg\u001b[39m::\u001b[0mBase.PkgId, \u001b[90mpath\u001b[39m::\u001b[0mString, \u001b[90minternal_stderr\u001b[39m::\u001b[0mIO, \u001b[90minternal_stdout\u001b[39m::\u001b[0mIO, \u001b[90mkeep_loaded_modules\u001b[39m::\u001b[0mBool; \u001b[90mflags\u001b[39m::\u001b[0mCmd, \u001b[90mcacheflags\u001b[39m::\u001b[0mBase.CacheFlags, \u001b[90mreasons\u001b[39m::\u001b[0mDict\u001b[90m{String, Int32}\u001b[39m, \u001b[90mloadable_exts\u001b[39m::\u001b[0mNothing\u001b[0m\u001b[1m)\u001b[22m\n\u001b[90m    @\u001b[39m \u001b[90mBase\u001b[39m \u001b[90m.\\\u001b[39m\u001b[90m\u001b[4mloading.jl:3174\u001b[24m\u001b[39m\n  [3] \u001b[0m\u001b[1m(::Base.var\"#1110#1111\"{Base.PkgId})\u001b[22m\u001b[0m\u001b[1m(\u001b[22m\u001b[0m\u001b[1m)\u001b[22m\n\u001b[90m    @\u001b[39m \u001b[90mBase\u001b[39m \u001b[90m.\\\u001b[39m\u001b[90m\u001b[4mloading.jl:2579\u001b[24m\u001b[39m\n  [4] \u001b[0m\u001b[1mmkpidlock\u001b[22m\u001b[0m\u001b[1m(\u001b[22m\u001b[90mf\u001b[39m::\u001b[0mBase.var\"#1110#1111\"\u001b[90m{Base.PkgId}\u001b[39m, \u001b[90mat\u001b[39m::\u001b[0mString, \u001b[90mpid\u001b[39m::\u001b[0mInt32; \u001b[90mkwopts\u001b[39m::\u001b[0m@Kwargs\u001b[90m{stale_age::Int32, wait::Bool}\u001b[39m\u001b[0m\u001b[1m)\u001b[22m\n\u001b[90m    @\u001b[39m \u001b[35mFileWatching.Pidfile\u001b[39m \u001b[90mC:\\Users\\ARIANA\\AppData\\Local\\Programs\\Julia-1.11.6\\share\\julia\\stdlib\\v1.11\\FileWatching\\src\\\u001b[39m\u001b[90m\u001b[4mpidfile.jl:95\u001b[24m\u001b[39m\n  [5] \u001b[0m\u001b[1m#mkpidlock#6\u001b[22m\n\u001b[90m    @\u001b[39m \u001b[90mC:\\Users\\ARIANA\\AppData\\Local\\Programs\\Julia-1.11.6\\share\\julia\\stdlib\\v1.11\\FileWatching\\src\\\u001b[39m\u001b[90m\u001b[4mpidfile.jl:90\u001b[24m\u001b[39m\u001b[90m [inlined]\u001b[39m\n  [6] \u001b[0m\u001b[1mtrymkpidlock\u001b[22m\u001b[0m\u001b[1m(\u001b[22m::\u001b[0mFunction, ::\u001b[0mVararg\u001b[90m{Any}\u001b[39m; \u001b[90mkwargs\u001b[39m::\u001b[0m@Kwargs\u001b[90m{stale_age::Int32}\u001b[39m\u001b[0m\u001b[1m)\u001b[22m\n\u001b[90m    @\u001b[39m \u001b[35mFileWatching.Pidfile\u001b[39m \u001b[90mC:\\Users\\ARIANA\\AppData\\Local\\Programs\\Julia-1.11.6\\share\\julia\\stdlib\\v1.11\\FileWatching\\src\\\u001b[39m\u001b[90m\u001b[4mpidfile.jl:116\u001b[24m\u001b[39m\n  [7] \u001b[0m\u001b[1m#invokelatest#2\u001b[22m\n\u001b[90m    @\u001b[39m \u001b[90m.\\\u001b[39m\u001b[90m\u001b[4messentials.jl:1057\u001b[24m\u001b[39m\u001b[90m [inlined]\u001b[39m\n  [8] \u001b[0m\u001b[1minvokelatest\u001b[22m\n\u001b[90m    @\u001b[39m \u001b[90m.\\\u001b[39m\u001b[90m\u001b[4messentials.jl:1052\u001b[24m\u001b[39m\u001b[90m [inlined]\u001b[39m\n  [9] \u001b[0m\u001b[1mmaybe_cachefile_lock\u001b[22m\u001b[0m\u001b[1m(\u001b[22m\u001b[90mf\u001b[39m::\u001b[0mBase.var\"#1110#1111\"\u001b[90m{Base.PkgId}\u001b[39m, \u001b[90mpkg\u001b[39m::\u001b[0mBase.PkgId, \u001b[90msrcpath\u001b[39m::\u001b[0mString; \u001b[90mstale_age\u001b[39m::\u001b[0mInt32\u001b[0m\u001b[1m)\u001b[22m\n\u001b[90m    @\u001b[39m \u001b[90mBase\u001b[39m \u001b[90m.\\\u001b[39m\u001b[90m\u001b[4mloading.jl:3698\u001b[24m\u001b[39m\n [10] \u001b[0m\u001b[1mmaybe_cachefile_lock\u001b[22m\n\u001b[90m    @\u001b[39m \u001b[90m.\\\u001b[39m\u001b[90m\u001b[4mloading.jl:3695\u001b[24m\u001b[39m\u001b[90m [inlined]\u001b[39m\n [11] \u001b[0m\u001b[1m_require\u001b[22m\u001b[0m\u001b[1m(\u001b[22m\u001b[90mpkg\u001b[39m::\u001b[0mBase.PkgId, \u001b[90menv\u001b[39m::\u001b[0mString\u001b[0m\u001b[1m)\u001b[22m\n\u001b[90m    @\u001b[39m \u001b[90mBase\u001b[39m \u001b[90m.\\\u001b[39m\u001b[90m\u001b[4mloading.jl:2565\u001b[24m\u001b[39m\n [12] \u001b[0m\u001b[1m__require_prelocked\u001b[22m\u001b[0m\u001b[1m(\u001b[22m\u001b[90muuidkey\u001b[39m::\u001b[0mBase.PkgId, \u001b[90menv\u001b[39m::\u001b[0mString\u001b[0m\u001b[1m)\u001b[22m\n\u001b[90m    @\u001b[39m \u001b[90mBase\u001b[39m \u001b[90m.\\\u001b[39m\u001b[90m\u001b[4mloading.jl:2388\u001b[24m\u001b[39m\n [13] \u001b[0m\u001b[1m#invoke_in_world#3\u001b[22m\n\u001b[90m    @\u001b[39m \u001b[90m.\\\u001b[39m\u001b[90m\u001b[4messentials.jl:1089\u001b[24m\u001b[39m\u001b[90m [inlined]\u001b[39m\n [14] \u001b[0m\u001b[1minvoke_in_world\u001b[22m\n\u001b[90m    @\u001b[39m \u001b[90m.\\\u001b[39m\u001b[90m\u001b[4messentials.jl:1086\u001b[24m\u001b[39m\u001b[90m [inlined]\u001b[39m\n [15] \u001b[0m\u001b[1m_require_prelocked\u001b[22m\u001b[0m\u001b[1m(\u001b[22m\u001b[90muuidkey\u001b[39m::\u001b[0mBase.PkgId, \u001b[90menv\u001b[39m::\u001b[0mString\u001b[0m\u001b[1m)\u001b[22m\n\u001b[90m    @\u001b[39m \u001b[90mBase\u001b[39m \u001b[90m.\\\u001b[39m\u001b[90m\u001b[4mloading.jl:2375\u001b[24m\u001b[39m\n [16] \u001b[0m\u001b[1mmacro expansion\u001b[22m\n\u001b[90m    @\u001b[39m \u001b[90m.\\\u001b[39m\u001b[90m\u001b[4mloading.jl:2314\u001b[24m\u001b[39m\u001b[90m [inlined]\u001b[39m\n [17] \u001b[0m\u001b[1mmacro expansion\u001b[22m\n\u001b[90m    @\u001b[39m \u001b[90m.\\\u001b[39m\u001b[90m\u001b[4mlock.jl:273\u001b[24m\u001b[39m\u001b[90m [inlined]\u001b[39m\n [18] \u001b[0m\u001b[1m__require\u001b[22m\u001b[0m\u001b[1m(\u001b[22m\u001b[90minto\u001b[39m::\u001b[0mModule, \u001b[90mmod\u001b[39m::\u001b[0mSymbol\u001b[0m\u001b[1m)\u001b[22m\n\u001b[90m    @\u001b[39m \u001b[90mBase\u001b[39m \u001b[90m.\\\u001b[39m\u001b[90m\u001b[4mloading.jl:2271\u001b[24m\u001b[39m\n [19] \u001b[0m\u001b[1m#invoke_in_world#3\u001b[22m\n\u001b[90m    @\u001b[39m \u001b[90m.\\\u001b[39m\u001b[90m\u001b[4messentials.jl:1089\u001b[24m\u001b[39m\u001b[90m [inlined]\u001b[39m\n [20] \u001b[0m\u001b[1minvoke_in_world\u001b[22m\n\u001b[90m    @\u001b[39m \u001b[90m.\\\u001b[39m\u001b[90m\u001b[4messentials.jl:1086\u001b[24m\u001b[39m\u001b[90m [inlined]\u001b[39m\n [21] \u001b[0m\u001b[1mrequire\u001b[22m\u001b[0m\u001b[1m(\u001b[22m\u001b[90minto\u001b[39m::\u001b[0mModule, \u001b[90mmod\u001b[39m::\u001b[0mSymbol\u001b[0m\u001b[1m)\u001b[22m\n\u001b[90m    @\u001b[39m \u001b[90mBase\u001b[39m \u001b[90m.\\\u001b[39m\u001b[90m\u001b[4mloading.jl:2260\u001b[24m\u001b[39m\n [22] \u001b[0m\u001b[1minclude\u001b[22m\n\u001b[90m    @\u001b[39m \u001b[90m.\\\u001b[39m\u001b[90m\u001b[4mBase.jl:562\u001b[24m\u001b[39m\u001b[90m [inlined]\u001b[39m\n [23] \u001b[0m\u001b[1minclude_package_for_output\u001b[22m\u001b[0m\u001b[1m(\u001b[22m\u001b[90mpkg\u001b[39m::\u001b[0mBase.PkgId, \u001b[90minput\u001b[39m::\u001b[0mString, \u001b[90mdepot_path\u001b[39m::\u001b[0mVector\u001b[90m{String}\u001b[39m, \u001b[90mdl_load_path\u001b[39m::\u001b[0mVector\u001b[90m{String}\u001b[39m, \u001b[90mload_path\u001b[39m::\u001b[0mVector\u001b[90m{String}\u001b[39m, \u001b[90mconcrete_deps\u001b[39m::\u001b[0mVector\u001b[90m{Pair{Base.PkgId, UInt128}}\u001b[39m, \u001b[90msource\u001b[39m::\u001b[0mNothing\u001b[0m\u001b[1m)\u001b[22m\n\u001b[90m    @\u001b[39m \u001b[90mBase\u001b[39m \u001b[90m.\\\u001b[39m\u001b[90m\u001b[4mloading.jl:2881\u001b[24m\u001b[39m\n [24] top-level scope\n\u001b[90m    @\u001b[39m \u001b[90m\u001b[4mstdin:6\u001b[24m\u001b[39m\nin expression starting at C:\\Users\\ARIANA\\.julia\\packages\\CairoMakie\\F8YX7\\src\\CairoMakie.jl:1\nin expression starting at stdin:",
     "output_type": "error",
     "traceback": [
      "The following 1 direct dependency failed to precompile:\n\nCairoMakie \n\nFailed to precompile CairoMakie [13f3f980-e62b-5c42-98c6-ff1f3baf88f0] to \"C:\\\\Users\\\\ARIANA\\\\.julia\\\\compiled\\\\v1.11\\\\CairoMakie\\\\jl_734F.tmp\".\n\u001b[91m\u001b[1mERROR: \u001b[22m\u001b[39mLoadError: ReadOnlyMemoryError()\nStacktrace:\n [1] \u001b[0m\u001b[1mknownfolder\u001b[22m\u001b[0m\u001b[1m(\u001b[22m\u001b[90mid\u001b[39m::\u001b[0mSymbol\u001b[0m\u001b[1m)\u001b[22m\n\u001b[90m   @\u001b[39m \u001b[35mBaseDirs\u001b[39m \u001b[90mC:\\Users\\ARIANA\\.julia\\packages\\BaseDirs\\mpcEg\\src\\\u001b[39m\u001b[90m\u001b[4mnt.jl:169\u001b[24m\u001b[39m\n [2] \u001b[0m\u001b[1mknownfolder\u001b[22m\n\u001b[90m   @\u001b[39m \u001b[90mC:\\Users\\ARIANA\\.julia\\packages\\BaseDirs\\mpcEg\\src\\\u001b[39m\u001b[90m\u001b[4mnt.jl:187\u001b[24m\u001b[39m\u001b[90m [inlined]\u001b[39m\n [3] \u001b[0m\u001b[1mrelevantfolders\u001b[22m\u001b[0m\u001b[1m(\u001b[22m\u001b[0m\u001b[1m)\u001b[22m\n\u001b[90m   @\u001b[39m \u001b[35mBaseDirs\u001b[39m \u001b[90mC:\\Users\\ARIANA\\.julia\\packages\\BaseDirs\\mpcEg\\src\\\u001b[39m\u001b[90m\u001b[4mnt.jl:210\u001b[24m\u001b[39m\n [4] \u001b[0m\u001b[1mreload\u001b[22m\u001b[0m\u001b[1m(\u001b[22m\u001b[0m\u001b[1m)\u001b[22m\n\u001b[90m   @\u001b[39m \u001b[35mBaseDirs\u001b[39m \u001b[90mC:\\Users\\ARIANA\\.julia\\packages\\BaseDirs\\mpcEg\\src\\\u001b[39m\u001b[90m\u001b[4mnt.jl:241\u001b[24m\u001b[39m\n [5] top-level scope\n\u001b[90m   @\u001b[39m \u001b[90mC:\\Users\\ARIANA\\.julia\\packages\\BaseDirs\\mpcEg\\src\\\u001b[39m\u001b[90m\u001b[4mBaseDirs.jl:94\u001b[24m\u001b[39m\n [6] \u001b[0m\u001b[1minclude\u001b[22m\n\u001b[90m   @\u001b[39m \u001b[90m.\\\u001b[39m\u001b[90m\u001b[4mBase.jl:562\u001b[24m\u001b[39m\u001b[90m [inlined]\u001b[39m\n [7] \u001b[0m\u001b[1minclude_package_for_output\u001b[22m\u001b[0m\u001b[1m(\u001b[22m\u001b[90mpkg\u001b[39m::\u001b[0mBase.PkgId, \u001b[90minput\u001b[39m::\u001b[0mString, \u001b[90mdepot_path\u001b[39m::\u001b[0mVector\u001b[90m{String}\u001b[39m, \u001b[90mdl_load_path\u001b[39m::\u001b[0mVector\u001b[90m{String}\u001b[39m, \u001b[90mload_path\u001b[39m::\u001b[0mVector\u001b[90m{String}\u001b[39m, \u001b[90mconcrete_deps\u001b[39m::\u001b[0mVector\u001b[90m{Pair{Base.PkgId, UInt128}}\u001b[39m, \u001b[90msource\u001b[39m::\u001b[0mString\u001b[0m\u001b[1m)\u001b[22m\n\u001b[90m   @\u001b[39m \u001b[90mBase\u001b[39m \u001b[90m.\\\u001b[39m\u001b[90m\u001b[4mloading.jl:2881\u001b[24m\u001b[39m\n [8] top-level scope\n\u001b[90m   @\u001b[39m \u001b[90m\u001b[4mstdin:6\u001b[24m\u001b[39m\nin expression starting at C:\\Users\\ARIANA\\.julia\\packages\\BaseDirs\\mpcEg\\src\\BaseDirs.jl:1\nin expression starting at stdin:6\n\u001b[91m\u001b[1mERROR: \u001b[22m\u001b[39mLoadError: Failed to precompile BaseDirs [18cc8868-cbac-4acf-b575-c8ff214dc66f] to \"C:\\\\Users\\\\ARIANA\\\\.julia\\\\compiled\\\\v1.11\\\\BaseDirs\\\\jl_7870.tmp\".\nStacktrace:\n  [1] \u001b[0m\u001b[1merror\u001b[22m\u001b[0m\u001b[1m(\u001b[22m\u001b[90ms\u001b[39m::\u001b[0mString\u001b[0m\u001b[1m)\u001b[22m\n\u001b[90m    @\u001b[39m \u001b[90mBase\u001b[39m \u001b[90m.\\\u001b[39m\u001b[90m\u001b[4merror.jl:35\u001b[24m\u001b[39m\n  [2] \u001b[0m\u001b[1mcompilecache\u001b[22m\u001b[0m\u001b[1m(\u001b[22m\u001b[90mpkg\u001b[39m::\u001b[0mBase.PkgId, \u001b[90mpath\u001b[39m::\u001b[0mString, \u001b[90minternal_stderr\u001b[39m::\u001b[0mIO, \u001b[90minternal_stdout\u001b[39m::\u001b[0mIO, \u001b[90mkeep_loaded_modules\u001b[39m::\u001b[0mBool; \u001b[90mflags\u001b[39m::\u001b[0mCmd, \u001b[90mcacheflags\u001b[39m::\u001b[0mBase.CacheFlags, \u001b[90mreasons\u001b[39m::\u001b[0mDict\u001b[90m{String, Int32}\u001b[39m, \u001b[90mloadable_exts\u001b[39m::\u001b[0mNothing\u001b[0m\u001b[1m)\u001b[22m\n\u001b[90m    @\u001b[39m \u001b[90mBase\u001b[39m \u001b[90m.\\\u001b[39m\u001b[90m\u001b[4mloading.jl:3174\u001b[24m\u001b[39m\n  [3] \u001b[0m\u001b[1m(::Base.var\"#1110#1111\"{Base.PkgId})\u001b[22m\u001b[0m\u001b[1m(\u001b[22m\u001b[0m\u001b[1m)\u001b[22m\n\u001b[90m    @\u001b[39m \u001b[90mBase\u001b[39m \u001b[90m.\\\u001b[39m\u001b[90m\u001b[4mloading.jl:2579\u001b[24m\u001b[39m\n  [4] \u001b[0m\u001b[1mmkpidlock\u001b[22m\u001b[0m\u001b[1m(\u001b[22m\u001b[90mf\u001b[39m::\u001b[0mBase.var\"#1110#1111\"\u001b[90m{Base.PkgId}\u001b[39m, \u001b[90mat\u001b[39m::\u001b[0mString, \u001b[90mpid\u001b[39m::\u001b[0mInt32; \u001b[90mkwopts\u001b[39m::\u001b[0m@Kwargs\u001b[90m{stale_age::Int32, wait::Bool}\u001b[39m\u001b[0m\u001b[1m)\u001b[22m\n\u001b[90m    @\u001b[39m \u001b[35mFileWatching.Pidfile\u001b[39m \u001b[90mC:\\Users\\ARIANA\\AppData\\Local\\Programs\\Julia-1.11.6\\share\\julia\\stdlib\\v1.11\\FileWatching\\src\\\u001b[39m\u001b[90m\u001b[4mpidfile.jl:95\u001b[24m\u001b[39m\n  [5] \u001b[0m\u001b[1m#mkpidlock#6\u001b[22m\n\u001b[90m    @\u001b[39m \u001b[90mC:\\Users\\ARIANA\\AppData\\Local\\Programs\\Julia-1.11.6\\share\\julia\\stdlib\\v1.11\\FileWatching\\src\\\u001b[39m\u001b[90m\u001b[4mpidfile.jl:90\u001b[24m\u001b[39m\u001b[90m [inlined]\u001b[39m\n  [6] \u001b[0m\u001b[1mtrymkpidlock\u001b[22m\u001b[0m\u001b[1m(\u001b[22m::\u001b[0mFunction, ::\u001b[0mVararg\u001b[90m{Any}\u001b[39m; \u001b[90mkwargs\u001b[39m::\u001b[0m@Kwargs\u001b[90m{stale_age::Int32}\u001b[39m\u001b[0m\u001b[1m)\u001b[22m\n\u001b[90m    @\u001b[39m \u001b[35mFileWatching.Pidfile\u001b[39m \u001b[90mC:\\Users\\ARIANA\\AppData\\Local\\Programs\\Julia-1.11.6\\share\\julia\\stdlib\\v1.11\\FileWatching\\src\\\u001b[39m\u001b[90m\u001b[4mpidfile.jl:116\u001b[24m\u001b[39m\n  [7] \u001b[0m\u001b[1m#invokelatest#2\u001b[22m\n\u001b[90m    @\u001b[39m \u001b[90m.\\\u001b[39m\u001b[90m\u001b[4messentials.jl:1057\u001b[24m\u001b[39m\u001b[90m [inlined]\u001b[39m\n  [8] \u001b[0m\u001b[1minvokelatest\u001b[22m\n\u001b[90m    @\u001b[39m \u001b[90m.\\\u001b[39m\u001b[90m\u001b[4messentials.jl:1052\u001b[24m\u001b[39m\u001b[90m [inlined]\u001b[39m\n  [9] \u001b[0m\u001b[1mmaybe_cachefile_lock\u001b[22m\u001b[0m\u001b[1m(\u001b[22m\u001b[90mf\u001b[39m::\u001b[0mBase.var\"#1110#1111\"\u001b[90m{Base.PkgId}\u001b[39m, \u001b[90mpkg\u001b[39m::\u001b[0mBase.PkgId, \u001b[90msrcpath\u001b[39m::\u001b[0mString; \u001b[90mstale_age\u001b[39m::\u001b[0mInt32\u001b[0m\u001b[1m)\u001b[22m\n\u001b[90m    @\u001b[39m \u001b[90mBase\u001b[39m \u001b[90m.\\\u001b[39m\u001b[90m\u001b[4mloading.jl:3698\u001b[24m\u001b[39m\n [10] \u001b[0m\u001b[1mmaybe_cachefile_lock\u001b[22m\n\u001b[90m    @\u001b[39m \u001b[90m.\\\u001b[39m\u001b[90m\u001b[4mloading.jl:3695\u001b[24m\u001b[39m\u001b[90m [inlined]\u001b[39m\n [11] \u001b[0m\u001b[1m_require\u001b[22m\u001b[0m\u001b[1m(\u001b[22m\u001b[90mpkg\u001b[39m::\u001b[0mBase.PkgId, \u001b[90menv\u001b[39m::\u001b[0mString\u001b[0m\u001b[1m)\u001b[22m\n\u001b[90m    @\u001b[39m \u001b[90mBase\u001b[39m \u001b[90m.\\\u001b[39m\u001b[90m\u001b[4mloading.jl:2565\u001b[24m\u001b[39m\n [12] \u001b[0m\u001b[1m__require_prelocked\u001b[22m\u001b[0m\u001b[1m(\u001b[22m\u001b[90muuidkey\u001b[39m::\u001b[0mBase.PkgId, \u001b[90menv\u001b[39m::\u001b[0mString\u001b[0m\u001b[1m)\u001b[22m\n\u001b[90m    @\u001b[39m \u001b[90mBase\u001b[39m \u001b[90m.\\\u001b[39m\u001b[90m\u001b[4mloading.jl:2388\u001b[24m\u001b[39m\n [13] \u001b[0m\u001b[1m#invoke_in_world#3\u001b[22m\n\u001b[90m    @\u001b[39m \u001b[90m.\\\u001b[39m\u001b[90m\u001b[4messentials.jl:1089\u001b[24m\u001b[39m\u001b[90m [inlined]\u001b[39m\n [14] \u001b[0m\u001b[1minvoke_in_world\u001b[22m\n\u001b[90m    @\u001b[39m \u001b[90m.\\\u001b[39m\u001b[90m\u001b[4messentials.jl:1086\u001b[24m\u001b[39m\u001b[90m [inlined]\u001b[39m\n [15] \u001b[0m\u001b[1m_require_prelocked\u001b[22m\u001b[0m\u001b[1m(\u001b[22m\u001b[90muuidkey\u001b[39m::\u001b[0mBase.PkgId, \u001b[90menv\u001b[39m::\u001b[0mString\u001b[0m\u001b[1m)\u001b[22m\n\u001b[90m    @\u001b[39m \u001b[90mBase\u001b[39m \u001b[90m.\\\u001b[39m\u001b[90m\u001b[4mloading.jl:2375\u001b[24m\u001b[39m\n [16] \u001b[0m\u001b[1mmacro expansion\u001b[22m\n\u001b[90m    @\u001b[39m \u001b[90m.\\\u001b[39m\u001b[90m\u001b[4mloading.jl:2314\u001b[24m\u001b[39m\u001b[90m [inlined]\u001b[39m\n [17] \u001b[0m\u001b[1mmacro expansion\u001b[22m\n\u001b[90m    @\u001b[39m \u001b[90m.\\\u001b[39m\u001b[90m\u001b[4mlock.jl:273\u001b[24m\u001b[39m\u001b[90m [inlined]\u001b[39m\n [18] \u001b[0m\u001b[1m__require\u001b[22m\u001b[0m\u001b[1m(\u001b[22m\u001b[90minto\u001b[39m::\u001b[0mModule, \u001b[90mmod\u001b[39m::\u001b[0mSymbol\u001b[0m\u001b[1m)\u001b[22m\n\u001b[90m    @\u001b[39m \u001b[90mBase\u001b[39m \u001b[90m.\\\u001b[39m\u001b[90m\u001b[4mloading.jl:2271\u001b[24m\u001b[39m\n [19] \u001b[0m\u001b[1m#invoke_in_world#3\u001b[22m\n\u001b[90m    @\u001b[39m \u001b[90m.\\\u001b[39m\u001b[90m\u001b[4messentials.jl:1089\u001b[24m\u001b[39m\u001b[90m [inlined]\u001b[39m\n [20] \u001b[0m\u001b[1minvoke_in_world\u001b[22m\n\u001b[90m    @\u001b[39m \u001b[90m.\\\u001b[39m\u001b[90m\u001b[4messentials.jl:1086\u001b[24m\u001b[39m\u001b[90m [inlined]\u001b[39m\n [21] \u001b[0m\u001b[1mrequire\u001b[22m\u001b[0m\u001b[1m(\u001b[22m\u001b[90minto\u001b[39m::\u001b[0mModule, \u001b[90mmod\u001b[39m::\u001b[0mSymbol\u001b[0m\u001b[1m)\u001b[22m\n\u001b[90m    @\u001b[39m \u001b[90mBase\u001b[39m \u001b[90m.\\\u001b[39m\u001b[90m\u001b[4mloading.jl:2260\u001b[24m\u001b[39m\n [22] \u001b[0m\u001b[1minclude\u001b[22m\n\u001b[90m    @\u001b[39m \u001b[90m.\\\u001b[39m\u001b[90m\u001b[4mBase.jl:562\u001b[24m\u001b[39m\u001b[90m [inlined]\u001b[39m\n [23] \u001b[0m\u001b[1minclude_package_for_output\u001b[22m\u001b[0m\u001b[1m(\u001b[22m\u001b[90mpkg\u001b[39m::\u001b[0mBase.PkgId, \u001b[90minput\u001b[39m::\u001b[0mString, \u001b[90mdepot_path\u001b[39m::\u001b[0mVector\u001b[90m{String}\u001b[39m, \u001b[90mdl_load_path\u001b[39m::\u001b[0mVector\u001b[90m{String}\u001b[39m, \u001b[90mload_path\u001b[39m::\u001b[0mVector\u001b[90m{String}\u001b[39m, \u001b[90mconcrete_deps\u001b[39m::\u001b[0mVector\u001b[90m{Pair{Base.PkgId, UInt128}}\u001b[39m, \u001b[90msource\u001b[39m::\u001b[0mString\u001b[0m\u001b[1m)\u001b[22m\n\u001b[90m    @\u001b[39m \u001b[90mBase\u001b[39m \u001b[90m.\\\u001b[39m\u001b[90m\u001b[4mloading.jl:2881\u001b[24m\u001b[39m\n [24] top-level scope\n\u001b[90m    @\u001b[39m \u001b[90m\u001b[4mstdin:6\u001b[24m\u001b[39m\nin expression starting at C:\\Users\\ARIANA\\.julia\\packages\\FreeTypeAbstraction\\GGCCW\\src\\FreeTypeAbstraction.jl:1\nin expression starting at stdin:6\n\u001b[91m\u001b[1mERROR: \u001b[22m\u001b[39mLoadError: Failed to precompile FreeTypeAbstraction [663a7486-cb36-511b-a19d-713bb74d65c9] to \"C:\\\\Users\\\\ARIANA\\\\.julia\\\\compiled\\\\v1.11\\\\FreeTypeAbstraction\\\\jl_73BD.tmp\".\nStacktrace:\n  [1] \u001b[0m\u001b[1merror\u001b[22m\u001b[0m\u001b[1m(\u001b[22m\u001b[90ms\u001b[39m::\u001b[0mString\u001b[0m\u001b[1m)\u001b[22m\n\u001b[90m    @\u001b[39m \u001b[90mBase\u001b[39m \u001b[90m.\\\u001b[39m\u001b[90m\u001b[4merror.jl:35\u001b[24m\u001b[39m\n  [2] \u001b[0m\u001b[1mcompilecache\u001b[22m\u001b[0m\u001b[1m(\u001b[22m\u001b[90mpkg\u001b[39m::\u001b[0mBase.PkgId, \u001b[90mpath\u001b[39m::\u001b[0mString, \u001b[90minternal_stderr\u001b[39m::\u001b[0mIO, \u001b[90minternal_stdout\u001b[39m::\u001b[0mIO, \u001b[90mkeep_loaded_modules\u001b[39m::\u001b[0mBool; \u001b[90mflags\u001b[39m::\u001b[0mCmd, \u001b[90mcacheflags\u001b[39m::\u001b[0mBase.CacheFlags, \u001b[90mreasons\u001b[39m::\u001b[0mDict\u001b[90m{String, Int32}\u001b[39m, \u001b[90mloadable_exts\u001b[39m::\u001b[0mNothing\u001b[0m\u001b[1m)\u001b[22m\n\u001b[90m    @\u001b[39m \u001b[90mBase\u001b[39m \u001b[90m.\\\u001b[39m\u001b[90m\u001b[4mloading.jl:3174\u001b[24m\u001b[39m\n  [3] \u001b[0m\u001b[1m(::Base.var\"#1110#1111\"{Base.PkgId})\u001b[22m\u001b[0m\u001b[1m(\u001b[22m\u001b[0m\u001b[1m)\u001b[22m\n\u001b[90m    @\u001b[39m \u001b[90mBase\u001b[39m \u001b[90m.\\\u001b[39m\u001b[90m\u001b[4mloading.jl:2579\u001b[24m\u001b[39m\n  [4] \u001b[0m\u001b[1mmkpidlock\u001b[22m\u001b[0m\u001b[1m(\u001b[22m\u001b[90mf\u001b[39m::\u001b[0mBase.var\"#1110#1111\"\u001b[90m{Base.PkgId}\u001b[39m, \u001b[90mat\u001b[39m::\u001b[0mString, \u001b[90mpid\u001b[39m::\u001b[0mInt32; \u001b[90mkwopts\u001b[39m::\u001b[0m@Kwargs\u001b[90m{stale_age::Int32, wait::Bool}\u001b[39m\u001b[0m\u001b[1m)\u001b[22m\n\u001b[90m    @\u001b[39m \u001b[35mFileWatching.Pidfile\u001b[39m \u001b[90mC:\\Users\\ARIANA\\AppData\\Local\\Programs\\Julia-1.11.6\\share\\julia\\stdlib\\v1.11\\FileWatching\\src\\\u001b[39m\u001b[90m\u001b[4mpidfile.jl:95\u001b[24m\u001b[39m\n  [5] \u001b[0m\u001b[1m#mkpidlock#6\u001b[22m\n\u001b[90m    @\u001b[39m \u001b[90mC:\\Users\\ARIANA\\AppData\\Local\\Programs\\Julia-1.11.6\\share\\julia\\stdlib\\v1.11\\FileWatching\\src\\\u001b[39m\u001b[90m\u001b[4mpidfile.jl:90\u001b[24m\u001b[39m\u001b[90m [inlined]\u001b[39m\n  [6] \u001b[0m\u001b[1mtrymkpidlock\u001b[22m\u001b[0m\u001b[1m(\u001b[22m::\u001b[0mFunction, ::\u001b[0mVararg\u001b[90m{Any}\u001b[39m; \u001b[90mkwargs\u001b[39m::\u001b[0m@Kwargs\u001b[90m{stale_age::Int32}\u001b[39m\u001b[0m\u001b[1m)\u001b[22m\n\u001b[90m    @\u001b[39m \u001b[35mFileWatching.Pidfile\u001b[39m \u001b[90mC:\\Users\\ARIANA\\AppData\\Local\\Programs\\Julia-1.11.6\\share\\julia\\stdlib\\v1.11\\FileWatching\\src\\\u001b[39m\u001b[90m\u001b[4mpidfile.jl:116\u001b[24m\u001b[39m\n  [7] \u001b[0m\u001b[1m#invokelatest#2\u001b[22m\n\u001b[90m    @\u001b[39m \u001b[90m.\\\u001b[39m\u001b[90m\u001b[4messentials.jl:1057\u001b[24m\u001b[39m\u001b[90m [inlined]\u001b[39m\n  [8] \u001b[0m\u001b[1minvokelatest\u001b[22m\n\u001b[90m    @\u001b[39m \u001b[90m.\\\u001b[39m\u001b[90m\u001b[4messentials.jl:1052\u001b[24m\u001b[39m\u001b[90m [inlined]\u001b[39m\n  [9] \u001b[0m\u001b[1mmaybe_cachefile_lock\u001b[22m\u001b[0m\u001b[1m(\u001b[22m\u001b[90mf\u001b[39m::\u001b[0mBase.var\"#1110#1111\"\u001b[90m{Base.PkgId}\u001b[39m, \u001b[90mpkg\u001b[39m::\u001b[0mBase.PkgId, \u001b[90msrcpath\u001b[39m::\u001b[0mString; \u001b[90mstale_age\u001b[39m::\u001b[0mInt32\u001b[0m\u001b[1m)\u001b[22m\n\u001b[90m    @\u001b[39m \u001b[90mBase\u001b[39m \u001b[90m.\\\u001b[39m\u001b[90m\u001b[4mloading.jl:3698\u001b[24m\u001b[39m\n [10] \u001b[0m\u001b[1mmaybe_cachefile_lock\u001b[22m\n\u001b[90m    @\u001b[39m \u001b[90m.\\\u001b[39m\u001b[90m\u001b[4mloading.jl:3695\u001b[24m\u001b[39m\u001b[90m [inlined]\u001b[39m\n [11] \u001b[0m\u001b[1m_require\u001b[22m\u001b[0m\u001b[1m(\u001b[22m\u001b[90mpkg\u001b[39m::\u001b[0mBase.PkgId, \u001b[90menv\u001b[39m::\u001b[0mString\u001b[0m\u001b[1m)\u001b[22m\n\u001b[90m    @\u001b[39m \u001b[90mBase\u001b[39m \u001b[90m.\\\u001b[39m\u001b[90m\u001b[4mloading.jl:2565\u001b[24m\u001b[39m\n [12] \u001b[0m\u001b[1m__require_prelocked\u001b[22m\u001b[0m\u001b[1m(\u001b[22m\u001b[90muuidkey\u001b[39m::\u001b[0mBase.PkgId, \u001b[90menv\u001b[39m::\u001b[0mString\u001b[0m\u001b[1m)\u001b[22m\n\u001b[90m    @\u001b[39m \u001b[90mBase\u001b[39m \u001b[90m.\\\u001b[39m\u001b[90m\u001b[4mloading.jl:2388\u001b[24m\u001b[39m\n [13] \u001b[0m\u001b[1m#invoke_in_world#3\u001b[22m\n\u001b[90m    @\u001b[39m \u001b[90m.\\\u001b[39m\u001b[90m\u001b[4messentials.jl:1089\u001b[24m\u001b[39m\u001b[90m [inlined]\u001b[39m\n [14] \u001b[0m\u001b[1minvoke_in_world\u001b[22m\n\u001b[90m    @\u001b[39m \u001b[90m.\\\u001b[39m\u001b[90m\u001b[4messentials.jl:1086\u001b[24m\u001b[39m\u001b[90m [inlined]\u001b[39m\n [15] \u001b[0m\u001b[1m_require_prelocked\u001b[22m\u001b[0m\u001b[1m(\u001b[22m\u001b[90muuidkey\u001b[39m::\u001b[0mBase.PkgId, \u001b[90menv\u001b[39m::\u001b[0mString\u001b[0m\u001b[1m)\u001b[22m\n\u001b[90m    @\u001b[39m \u001b[90mBase\u001b[39m \u001b[90m.\\\u001b[39m\u001b[90m\u001b[4mloading.jl:2375\u001b[24m\u001b[39m\n [16] \u001b[0m\u001b[1mmacro expansion\u001b[22m\n\u001b[90m    @\u001b[39m \u001b[90m.\\\u001b[39m\u001b[90m\u001b[4mloading.jl:2314\u001b[24m\u001b[39m\u001b[90m [inlined]\u001b[39m\n [17] \u001b[0m\u001b[1mmacro expansion\u001b[22m\n\u001b[90m    @\u001b[39m \u001b[90m.\\\u001b[39m\u001b[90m\u001b[4mlock.jl:273\u001b[24m\u001b[39m\u001b[90m [inlined]\u001b[39m\n [18] \u001b[0m\u001b[1m__require\u001b[22m\u001b[0m\u001b[1m(\u001b[22m\u001b[90minto\u001b[39m::\u001b[0mModule, \u001b[90mmod\u001b[39m::\u001b[0mSymbol\u001b[0m\u001b[1m)\u001b[22m\n\u001b[90m    @\u001b[39m \u001b[90mBase\u001b[39m \u001b[90m.\\\u001b[39m\u001b[90m\u001b[4mloading.jl:2271\u001b[24m\u001b[39m\n [19] \u001b[0m\u001b[1m#invoke_in_world#3\u001b[22m\n\u001b[90m    @\u001b[39m \u001b[90m.\\\u001b[39m\u001b[90m\u001b[4messentials.jl:1089\u001b[24m\u001b[39m\u001b[90m [inlined]\u001b[39m\n [20] \u001b[0m\u001b[1minvoke_in_world\u001b[22m\n\u001b[90m    @\u001b[39m \u001b[90m.\\\u001b[39m\u001b[90m\u001b[4messentials.jl:1086\u001b[24m\u001b[39m\u001b[90m [inlined]\u001b[39m\n [21] \u001b[0m\u001b[1mrequire\u001b[22m\u001b[0m\u001b[1m(\u001b[22m\u001b[90minto\u001b[39m::\u001b[0mModule, \u001b[90mmod\u001b[39m::\u001b[0mSymbol\u001b[0m\u001b[1m)\u001b[22m\n\u001b[90m    @\u001b[39m \u001b[90mBase\u001b[39m \u001b[90m.\\\u001b[39m\u001b[90m\u001b[4mloading.jl:2260\u001b[24m\u001b[39m\n [22] \u001b[0m\u001b[1minclude\u001b[22m\n\u001b[90m    @\u001b[39m \u001b[90m.\\\u001b[39m\u001b[90m\u001b[4mBase.jl:562\u001b[24m\u001b[39m\u001b[90m [inlined]\u001b[39m\n [23] \u001b[0m\u001b[1minclude_package_for_output\u001b[22m\u001b[0m\u001b[1m(\u001b[22m\u001b[90mpkg\u001b[39m::\u001b[0mBase.PkgId, \u001b[90minput\u001b[39m::\u001b[0mString, \u001b[90mdepot_path\u001b[39m::\u001b[0mVector\u001b[90m{String}\u001b[39m, \u001b[90mdl_load_path\u001b[39m::\u001b[0mVector\u001b[90m{String}\u001b[39m, \u001b[90mload_path\u001b[39m::\u001b[0mVector\u001b[90m{String}\u001b[39m, \u001b[90mconcrete_deps\u001b[39m::\u001b[0mVector\u001b[90m{Pair{Base.PkgId, UInt128}}\u001b[39m, \u001b[90msource\u001b[39m::\u001b[0mString\u001b[0m\u001b[1m)\u001b[22m\n\u001b[90m    @\u001b[39m \u001b[90mBase\u001b[39m \u001b[90m.\\\u001b[39m\u001b[90m\u001b[4mloading.jl:2881\u001b[24m\u001b[39m\n [24] top-level scope\n\u001b[90m    @\u001b[39m \u001b[90m\u001b[4mstdin:6\u001b[24m\u001b[39m\nin expression starting at C:\\Users\\ARIANA\\.julia\\packages\\MathTeXEngine\\8VxpV\\src\\MathTeXEngine.jl:1\nin expression starting at stdin:6\n\u001b[91m\u001b[1mERROR: \u001b[22m\u001b[39mLoadError: Failed to precompile MathTeXEngine [0a4f8689-d25c-4efe-a92b-7142dfc1aa53] to \"C:\\\\Users\\\\ARIANA\\\\.julia\\\\compiled\\\\v1.11\\\\MathTeXEngine\\\\jl_719A.tmp\".\nStacktrace:\n  [1] \u001b[0m\u001b[1merror\u001b[22m\u001b[0m\u001b[1m(\u001b[22m\u001b[90ms\u001b[39m::\u001b[0mString\u001b[0m\u001b[1m)\u001b[22m\n\u001b[90m    @\u001b[39m \u001b[90mBase\u001b[39m \u001b[90m.\\\u001b[39m\u001b[90m\u001b[4merror.jl:35\u001b[24m\u001b[39m\n  [2] \u001b[0m\u001b[1mcompilecache\u001b[22m\u001b[0m\u001b[1m(\u001b[22m\u001b[90mpkg\u001b[39m::\u001b[0mBase.PkgId, \u001b[90mpath\u001b[39m::\u001b[0mString, \u001b[90minternal_stderr\u001b[39m::\u001b[0mIO, \u001b[90minternal_stdout\u001b[39m::\u001b[0mIO, \u001b[90mkeep_loaded_modules\u001b[39m::\u001b[0mBool; \u001b[90mflags\u001b[39m::\u001b[0mCmd, \u001b[90mcacheflags\u001b[39m::\u001b[0mBase.CacheFlags, \u001b[90mreasons\u001b[39m::\u001b[0mDict\u001b[90m{String, Int32}\u001b[39m, \u001b[90mloadable_exts\u001b[39m::\u001b[0mNothing\u001b[0m\u001b[1m)\u001b[22m\n\u001b[90m    @\u001b[39m \u001b[90mBase\u001b[39m \u001b[90m.\\\u001b[39m\u001b[90m\u001b[4mloading.jl:3174\u001b[24m\u001b[39m\n  [3] \u001b[0m\u001b[1m(::Base.var\"#1110#1111\"{Base.PkgId})\u001b[22m\u001b[0m\u001b[1m(\u001b[22m\u001b[0m\u001b[1m)\u001b[22m\n\u001b[90m    @\u001b[39m \u001b[90mBase\u001b[39m \u001b[90m.\\\u001b[39m\u001b[90m\u001b[4mloading.jl:2579\u001b[24m\u001b[39m\n  [4] \u001b[0m\u001b[1mmkpidlock\u001b[22m\u001b[0m\u001b[1m(\u001b[22m\u001b[90mf\u001b[39m::\u001b[0mBase.var\"#1110#1111\"\u001b[90m{Base.PkgId}\u001b[39m, \u001b[90mat\u001b[39m::\u001b[0mString, \u001b[90mpid\u001b[39m::\u001b[0mInt32; \u001b[90mkwopts\u001b[39m::\u001b[0m@Kwargs\u001b[90m{stale_age::Int32, wait::Bool}\u001b[39m\u001b[0m\u001b[1m)\u001b[22m\n\u001b[90m    @\u001b[39m \u001b[35mFileWatching.Pidfile\u001b[39m \u001b[90mC:\\Users\\ARIANA\\AppData\\Local\\Programs\\Julia-1.11.6\\share\\julia\\stdlib\\v1.11\\FileWatching\\src\\\u001b[39m\u001b[90m\u001b[4mpidfile.jl:95\u001b[24m\u001b[39m\n  [5] \u001b[0m\u001b[1m#mkpidlock#6\u001b[22m\n\u001b[90m    @\u001b[39m \u001b[90mC:\\Users\\ARIANA\\AppData\\Local\\Programs\\Julia-1.11.6\\share\\julia\\stdlib\\v1.11\\FileWatching\\src\\\u001b[39m\u001b[90m\u001b[4mpidfile.jl:90\u001b[24m\u001b[39m\u001b[90m [inlined]\u001b[39m\n  [6] \u001b[0m\u001b[1mtrymkpidlock\u001b[22m\u001b[0m\u001b[1m(\u001b[22m::\u001b[0mFunction, ::\u001b[0mVararg\u001b[90m{Any}\u001b[39m; \u001b[90mkwargs\u001b[39m::\u001b[0m@Kwargs\u001b[90m{stale_age::Int32}\u001b[39m\u001b[0m\u001b[1m)\u001b[22m\n\u001b[90m    @\u001b[39m \u001b[35mFileWatching.Pidfile\u001b[39m \u001b[90mC:\\Users\\ARIANA\\AppData\\Local\\Programs\\Julia-1.11.6\\share\\julia\\stdlib\\v1.11\\FileWatching\\src\\\u001b[39m\u001b[90m\u001b[4mpidfile.jl:116\u001b[24m\u001b[39m\n  [7] \u001b[0m\u001b[1m#invokelatest#2\u001b[22m\n\u001b[90m    @\u001b[39m \u001b[90m.\\\u001b[39m\u001b[90m\u001b[4messentials.jl:1057\u001b[24m\u001b[39m\u001b[90m [inlined]\u001b[39m\n  [8] \u001b[0m\u001b[1minvokelatest\u001b[22m\n\u001b[90m    @\u001b[39m \u001b[90m.\\\u001b[39m\u001b[90m\u001b[4messentials.jl:1052\u001b[24m\u001b[39m\u001b[90m [inlined]\u001b[39m\n  [9] \u001b[0m\u001b[1mmaybe_cachefile_lock\u001b[22m\u001b[0m\u001b[1m(\u001b[22m\u001b[90mf\u001b[39m::\u001b[0mBase.var\"#1110#1111\"\u001b[90m{Base.PkgId}\u001b[39m, \u001b[90mpkg\u001b[39m::\u001b[0mBase.PkgId, \u001b[90msrcpath\u001b[39m::\u001b[0mString; \u001b[90mstale_age\u001b[39m::\u001b[0mInt32\u001b[0m\u001b[1m)\u001b[22m\n\u001b[90m    @\u001b[39m \u001b[90mBase\u001b[39m \u001b[90m.\\\u001b[39m\u001b[90m\u001b[4mloading.jl:3698\u001b[24m\u001b[39m\n [10] \u001b[0m\u001b[1mmaybe_cachefile_lock\u001b[22m\n\u001b[90m    @\u001b[39m \u001b[90m.\\\u001b[39m\u001b[90m\u001b[4mloading.jl:3695\u001b[24m\u001b[39m\u001b[90m [inlined]\u001b[39m\n [11] \u001b[0m\u001b[1m_require\u001b[22m\u001b[0m\u001b[1m(\u001b[22m\u001b[90mpkg\u001b[39m::\u001b[0mBase.PkgId, \u001b[90menv\u001b[39m::\u001b[0mString\u001b[0m\u001b[1m)\u001b[22m\n\u001b[90m    @\u001b[39m \u001b[90mBase\u001b[39m \u001b[90m.\\\u001b[39m\u001b[90m\u001b[4mloading.jl:2565\u001b[24m\u001b[39m\n [12] \u001b[0m\u001b[1m__require_prelocked\u001b[22m\u001b[0m\u001b[1m(\u001b[22m\u001b[90muuidkey\u001b[39m::\u001b[0mBase.PkgId, \u001b[90menv\u001b[39m::\u001b[0mString\u001b[0m\u001b[1m)\u001b[22m\n\u001b[90m    @\u001b[39m \u001b[90mBase\u001b[39m \u001b[90m.\\\u001b[39m\u001b[90m\u001b[4mloading.jl:2388\u001b[24m\u001b[39m\n [13] \u001b[0m\u001b[1m#invoke_in_world#3\u001b[22m\n\u001b[90m    @\u001b[39m \u001b[90m.\\\u001b[39m\u001b[90m\u001b[4messentials.jl:1089\u001b[24m\u001b[39m\u001b[90m [inlined]\u001b[39m\n [14] \u001b[0m\u001b[1minvoke_in_world\u001b[22m\n\u001b[90m    @\u001b[39m \u001b[90m.\\\u001b[39m\u001b[90m\u001b[4messentials.jl:1086\u001b[24m\u001b[39m\u001b[90m [inlined]\u001b[39m\n [15] \u001b[0m\u001b[1m_require_prelocked\u001b[22m\u001b[0m\u001b[1m(\u001b[22m\u001b[90muuidkey\u001b[39m::\u001b[0mBase.PkgId, \u001b[90menv\u001b[39m::\u001b[0mString\u001b[0m\u001b[1m)\u001b[22m\n\u001b[90m    @\u001b[39m \u001b[90mBase\u001b[39m \u001b[90m.\\\u001b[39m\u001b[90m\u001b[4mloading.jl:2375\u001b[24m\u001b[39m\n [16] \u001b[0m\u001b[1mmacro expansion\u001b[22m\n\u001b[90m    @\u001b[39m \u001b[90m.\\\u001b[39m\u001b[90m\u001b[4mloading.jl:2314\u001b[24m\u001b[39m\u001b[90m [inlined]\u001b[39m\n [17] \u001b[0m\u001b[1mmacro expansion\u001b[22m\n\u001b[90m    @\u001b[39m \u001b[90m.\\\u001b[39m\u001b[90m\u001b[4mlock.jl:273\u001b[24m\u001b[39m\u001b[90m [inlined]\u001b[39m\n [18] \u001b[0m\u001b[1m__require\u001b[22m\u001b[0m\u001b[1m(\u001b[22m\u001b[90minto\u001b[39m::\u001b[0mModule, \u001b[90mmod\u001b[39m::\u001b[0mSymbol\u001b[0m\u001b[1m)\u001b[22m\n\u001b[90m    @\u001b[39m \u001b[90mBase\u001b[39m \u001b[90m.\\\u001b[39m\u001b[90m\u001b[4mloading.jl:2271\u001b[24m\u001b[39m\n [19] \u001b[0m\u001b[1m#invoke_in_world#3\u001b[22m\n\u001b[90m    @\u001b[39m \u001b[90m.\\\u001b[39m\u001b[90m\u001b[4messentials.jl:1089\u001b[24m\u001b[39m\u001b[90m [inlined]\u001b[39m\n [20] \u001b[0m\u001b[1minvoke_in_world\u001b[22m\n\u001b[90m    @\u001b[39m \u001b[90m.\\\u001b[39m\u001b[90m\u001b[4messentials.jl:1086\u001b[24m\u001b[39m\u001b[90m [inlined]\u001b[39m\n [21] \u001b[0m\u001b[1mrequire\u001b[22m\u001b[0m\u001b[1m(\u001b[22m\u001b[90minto\u001b[39m::\u001b[0mModule, \u001b[90mmod\u001b[39m::\u001b[0mSymbol\u001b[0m\u001b[1m)\u001b[22m\n\u001b[90m    @\u001b[39m \u001b[90mBase\u001b[39m \u001b[90m.\\\u001b[39m\u001b[90m\u001b[4mloading.jl:2260\u001b[24m\u001b[39m\n [22] \u001b[0m\u001b[1minclude\u001b[22m\n\u001b[90m    @\u001b[39m \u001b[90m.\\\u001b[39m\u001b[90m\u001b[4mBase.jl:562\u001b[24m\u001b[39m\u001b[90m [inlined]\u001b[39m\n [23] \u001b[0m\u001b[1minclude_package_for_output\u001b[22m\u001b[0m\u001b[1m(\u001b[22m\u001b[90mpkg\u001b[39m::\u001b[0mBase.PkgId, \u001b[90minput\u001b[39m::\u001b[0mString, \u001b[90mdepot_path\u001b[39m::\u001b[0mVector\u001b[90m{String}\u001b[39m, \u001b[90mdl_load_path\u001b[39m::\u001b[0mVector\u001b[90m{String}\u001b[39m, \u001b[90mload_path\u001b[39m::\u001b[0mVector\u001b[90m{String}\u001b[39m, \u001b[90mconcrete_deps\u001b[39m::\u001b[0mVector\u001b[90m{Pair{Base.PkgId, UInt128}}\u001b[39m, \u001b[90msource\u001b[39m::\u001b[0mString\u001b[0m\u001b[1m)\u001b[22m\n\u001b[90m    @\u001b[39m \u001b[90mBase\u001b[39m \u001b[90m.\\\u001b[39m\u001b[90m\u001b[4mloading.jl:2881\u001b[24m\u001b[39m\n [24] top-level scope\n\u001b[90m    @\u001b[39m \u001b[90m\u001b[4mstdin:6\u001b[24m\u001b[39m\nin expression starting at C:\\Users\\ARIANA\\.julia\\packages\\Makie\\4JW9B\\src\\Makie.jl:1\nin expression starting at stdin:6\n\u001b[91m\u001b[1mERROR: \u001b[22m\u001b[39mLoadError: Failed to precompile Makie [ee78f7c6-11fb-53f2-987a-cfe4a2b5a57a] to \"C:\\\\Users\\\\ARIANA\\\\.julia\\\\compiled\\\\v1.11\\\\Makie\\\\jl_7062.tmp\".\nStacktrace:\n  [1] \u001b[0m\u001b[1merror\u001b[22m\u001b[0m\u001b[1m(\u001b[22m\u001b[90ms\u001b[39m::\u001b[0mString\u001b[0m\u001b[1m)\u001b[22m\n\u001b[90m    @\u001b[39m \u001b[90mBase\u001b[39m \u001b[90m.\\\u001b[39m\u001b[90m\u001b[4merror.jl:35\u001b[24m\u001b[39m\n  [2] \u001b[0m\u001b[1mcompilecache\u001b[22m\u001b[0m\u001b[1m(\u001b[22m\u001b[90mpkg\u001b[39m::\u001b[0mBase.PkgId, \u001b[90mpath\u001b[39m::\u001b[0mString, \u001b[90minternal_stderr\u001b[39m::\u001b[0mIO, \u001b[90minternal_stdout\u001b[39m::\u001b[0mIO, \u001b[90mkeep_loaded_modules\u001b[39m::\u001b[0mBool; \u001b[90mflags\u001b[39m::\u001b[0mCmd, \u001b[90mcacheflags\u001b[39m::\u001b[0mBase.CacheFlags, \u001b[90mreasons\u001b[39m::\u001b[0mDict\u001b[90m{String, Int32}\u001b[39m, \u001b[90mloadable_exts\u001b[39m::\u001b[0mNothing\u001b[0m\u001b[1m)\u001b[22m\n\u001b[90m    @\u001b[39m \u001b[90mBase\u001b[39m \u001b[90m.\\\u001b[39m\u001b[90m\u001b[4mloading.jl:3174\u001b[24m\u001b[39m\n  [3] \u001b[0m\u001b[1m(::Base.var\"#1110#1111\"{Base.PkgId})\u001b[22m\u001b[0m\u001b[1m(\u001b[22m\u001b[0m\u001b[1m)\u001b[22m\n\u001b[90m    @\u001b[39m \u001b[90mBase\u001b[39m \u001b[90m.\\\u001b[39m\u001b[90m\u001b[4mloading.jl:2579\u001b[24m\u001b[39m\n  [4] \u001b[0m\u001b[1mmkpidlock\u001b[22m\u001b[0m\u001b[1m(\u001b[22m\u001b[90mf\u001b[39m::\u001b[0mBase.var\"#1110#1111\"\u001b[90m{Base.PkgId}\u001b[39m, \u001b[90mat\u001b[39m::\u001b[0mString, \u001b[90mpid\u001b[39m::\u001b[0mInt32; \u001b[90mkwopts\u001b[39m::\u001b[0m@Kwargs\u001b[90m{stale_age::Int32, wait::Bool}\u001b[39m\u001b[0m\u001b[1m)\u001b[22m\n\u001b[90m    @\u001b[39m \u001b[35mFileWatching.Pidfile\u001b[39m \u001b[90mC:\\Users\\ARIANA\\AppData\\Local\\Programs\\Julia-1.11.6\\share\\julia\\stdlib\\v1.11\\FileWatching\\src\\\u001b[39m\u001b[90m\u001b[4mpidfile.jl:95\u001b[24m\u001b[39m\n  [5] \u001b[0m\u001b[1m#mkpidlock#6\u001b[22m\n\u001b[90m    @\u001b[39m \u001b[90mC:\\Users\\ARIANA\\AppData\\Local\\Programs\\Julia-1.11.6\\share\\julia\\stdlib\\v1.11\\FileWatching\\src\\\u001b[39m\u001b[90m\u001b[4mpidfile.jl:90\u001b[24m\u001b[39m\u001b[90m [inlined]\u001b[39m\n  [6] \u001b[0m\u001b[1mtrymkpidlock\u001b[22m\u001b[0m\u001b[1m(\u001b[22m::\u001b[0mFunction, ::\u001b[0mVararg\u001b[90m{Any}\u001b[39m; \u001b[90mkwargs\u001b[39m::\u001b[0m@Kwargs\u001b[90m{stale_age::Int32}\u001b[39m\u001b[0m\u001b[1m)\u001b[22m\n\u001b[90m    @\u001b[39m \u001b[35mFileWatching.Pidfile\u001b[39m \u001b[90mC:\\Users\\ARIANA\\AppData\\Local\\Programs\\Julia-1.11.6\\share\\julia\\stdlib\\v1.11\\FileWatching\\src\\\u001b[39m\u001b[90m\u001b[4mpidfile.jl:116\u001b[24m\u001b[39m\n  [7] \u001b[0m\u001b[1m#invokelatest#2\u001b[22m\n\u001b[90m    @\u001b[39m \u001b[90m.\\\u001b[39m\u001b[90m\u001b[4messentials.jl:1057\u001b[24m\u001b[39m\u001b[90m [inlined]\u001b[39m\n  [8] \u001b[0m\u001b[1minvokelatest\u001b[22m\n\u001b[90m    @\u001b[39m \u001b[90m.\\\u001b[39m\u001b[90m\u001b[4messentials.jl:1052\u001b[24m\u001b[39m\u001b[90m [inlined]\u001b[39m\n  [9] \u001b[0m\u001b[1mmaybe_cachefile_lock\u001b[22m\u001b[0m\u001b[1m(\u001b[22m\u001b[90mf\u001b[39m::\u001b[0mBase.var\"#1110#1111\"\u001b[90m{Base.PkgId}\u001b[39m, \u001b[90mpkg\u001b[39m::\u001b[0mBase.PkgId, \u001b[90msrcpath\u001b[39m::\u001b[0mString; \u001b[90mstale_age\u001b[39m::\u001b[0mInt32\u001b[0m\u001b[1m)\u001b[22m\n\u001b[90m    @\u001b[39m \u001b[90mBase\u001b[39m \u001b[90m.\\\u001b[39m\u001b[90m\u001b[4mloading.jl:3698\u001b[24m\u001b[39m\n [10] \u001b[0m\u001b[1mmaybe_cachefile_lock\u001b[22m\n\u001b[90m    @\u001b[39m \u001b[90m.\\\u001b[39m\u001b[90m\u001b[4mloading.jl:3695\u001b[24m\u001b[39m\u001b[90m [inlined]\u001b[39m\n [11] \u001b[0m\u001b[1m_require\u001b[22m\u001b[0m\u001b[1m(\u001b[22m\u001b[90mpkg\u001b[39m::\u001b[0mBase.PkgId, \u001b[90menv\u001b[39m::\u001b[0mString\u001b[0m\u001b[1m)\u001b[22m\n\u001b[90m    @\u001b[39m \u001b[90mBase\u001b[39m \u001b[90m.\\\u001b[39m\u001b[90m\u001b[4mloading.jl:2565\u001b[24m\u001b[39m\n [12] \u001b[0m\u001b[1m__require_prelocked\u001b[22m\u001b[0m\u001b[1m(\u001b[22m\u001b[90muuidkey\u001b[39m::\u001b[0mBase.PkgId, \u001b[90menv\u001b[39m::\u001b[0mString\u001b[0m\u001b[1m)\u001b[22m\n\u001b[90m    @\u001b[39m \u001b[90mBase\u001b[39m \u001b[90m.\\\u001b[39m\u001b[90m\u001b[4mloading.jl:2388\u001b[24m\u001b[39m\n [13] \u001b[0m\u001b[1m#invoke_in_world#3\u001b[22m\n\u001b[90m    @\u001b[39m \u001b[90m.\\\u001b[39m\u001b[90m\u001b[4messentials.jl:1089\u001b[24m\u001b[39m\u001b[90m [inlined]\u001b[39m\n [14] \u001b[0m\u001b[1minvoke_in_world\u001b[22m\n\u001b[90m    @\u001b[39m \u001b[90m.\\\u001b[39m\u001b[90m\u001b[4messentials.jl:1086\u001b[24m\u001b[39m\u001b[90m [inlined]\u001b[39m\n [15] \u001b[0m\u001b[1m_require_prelocked\u001b[22m\u001b[0m\u001b[1m(\u001b[22m\u001b[90muuidkey\u001b[39m::\u001b[0mBase.PkgId, \u001b[90menv\u001b[39m::\u001b[0mString\u001b[0m\u001b[1m)\u001b[22m\n\u001b[90m    @\u001b[39m \u001b[90mBase\u001b[39m \u001b[90m.\\\u001b[39m\u001b[90m\u001b[4mloading.jl:2375\u001b[24m\u001b[39m\n [16] \u001b[0m\u001b[1mmacro expansion\u001b[22m\n\u001b[90m    @\u001b[39m \u001b[90m.\\\u001b[39m\u001b[90m\u001b[4mloading.jl:2314\u001b[24m\u001b[39m\u001b[90m [inlined]\u001b[39m\n [17] \u001b[0m\u001b[1mmacro expansion\u001b[22m\n\u001b[90m    @\u001b[39m \u001b[90m.\\\u001b[39m\u001b[90m\u001b[4mlock.jl:273\u001b[24m\u001b[39m\u001b[90m [inlined]\u001b[39m\n [18] \u001b[0m\u001b[1m__require\u001b[22m\u001b[0m\u001b[1m(\u001b[22m\u001b[90minto\u001b[39m::\u001b[0mModule, \u001b[90mmod\u001b[39m::\u001b[0mSymbol\u001b[0m\u001b[1m)\u001b[22m\n\u001b[90m    @\u001b[39m \u001b[90mBase\u001b[39m \u001b[90m.\\\u001b[39m\u001b[90m\u001b[4mloading.jl:2271\u001b[24m\u001b[39m\n [19] \u001b[0m\u001b[1m#invoke_in_world#3\u001b[22m\n\u001b[90m    @\u001b[39m \u001b[90m.\\\u001b[39m\u001b[90m\u001b[4messentials.jl:1089\u001b[24m\u001b[39m\u001b[90m [inlined]\u001b[39m\n [20] \u001b[0m\u001b[1minvoke_in_world\u001b[22m\n\u001b[90m    @\u001b[39m \u001b[90m.\\\u001b[39m\u001b[90m\u001b[4messentials.jl:1086\u001b[24m\u001b[39m\u001b[90m [inlined]\u001b[39m\n [21] \u001b[0m\u001b[1mrequire\u001b[22m\u001b[0m\u001b[1m(\u001b[22m\u001b[90minto\u001b[39m::\u001b[0mModule, \u001b[90mmod\u001b[39m::\u001b[0mSymbol\u001b[0m\u001b[1m)\u001b[22m\n\u001b[90m    @\u001b[39m \u001b[90mBase\u001b[39m \u001b[90m.\\\u001b[39m\u001b[90m\u001b[4mloading.jl:2260\u001b[24m\u001b[39m\n [22] \u001b[0m\u001b[1minclude\u001b[22m\n\u001b[90m    @\u001b[39m \u001b[90m.\\\u001b[39m\u001b[90m\u001b[4mBase.jl:562\u001b[24m\u001b[39m\u001b[90m [inlined]\u001b[39m\n [23] \u001b[0m\u001b[1minclude_package_for_output\u001b[22m\u001b[0m\u001b[1m(\u001b[22m\u001b[90mpkg\u001b[39m::\u001b[0mBase.PkgId, \u001b[90minput\u001b[39m::\u001b[0mString, \u001b[90mdepot_path\u001b[39m::\u001b[0mVector\u001b[90m{String}\u001b[39m, \u001b[90mdl_load_path\u001b[39m::\u001b[0mVector\u001b[90m{String}\u001b[39m, \u001b[90mload_path\u001b[39m::\u001b[0mVector\u001b[90m{String}\u001b[39m, \u001b[90mconcrete_deps\u001b[39m::\u001b[0mVector\u001b[90m{Pair{Base.PkgId, UInt128}}\u001b[39m, \u001b[90msource\u001b[39m::\u001b[0mNothing\u001b[0m\u001b[1m)\u001b[22m\n\u001b[90m    @\u001b[39m \u001b[90mBase\u001b[39m \u001b[90m.\\\u001b[39m\u001b[90m\u001b[4mloading.jl:2881\u001b[24m\u001b[39m\n [24] top-level scope\n\u001b[90m    @\u001b[39m \u001b[90m\u001b[4mstdin:6\u001b[24m\u001b[39m\nin expression starting at C:\\Users\\ARIANA\\.julia\\packages\\CairoMakie\\F8YX7\\src\\CairoMakie.jl:1\nin expression starting at stdin:",
      "",
      "Stacktrace:",
      "  [1] \u001b[0m\u001b[1m_precompilepkgs\u001b[22m\u001b[0m\u001b[1m(\u001b[22m\u001b[90mpkgs\u001b[39m::\u001b[0mVector\u001b[90m{String}\u001b[39m, \u001b[90minternal_call\u001b[39m::\u001b[0mBool, \u001b[90mstrict\u001b[39m::\u001b[0mBool, \u001b[90mwarn_loaded\u001b[39m::\u001b[0mBool, \u001b[90mtiming\u001b[39m::\u001b[0mBool, \u001b[90m_from_loading\u001b[39m::\u001b[0mBool, \u001b[90mconfigs\u001b[39m::\u001b[0mVector\u001b[90m{Pair{Cmd, Base.CacheFlags}}\u001b[39m, \u001b[90mio\u001b[39m::\u001b[0mIOContext\u001b[90m{IO}\u001b[39m, \u001b[90mfancyprint\u001b[39m::\u001b[0mBool, \u001b[90mignore_loaded\u001b[39m::\u001b[0mBool\u001b[0m\u001b[1m)\u001b[22m",
      "\u001b[90m    @\u001b[39m \u001b[90mBase.Precompilation\u001b[39m \u001b[90m.\\\u001b[39m\u001b[90m\u001b[4mprecompilation.jl:1089\u001b[24m\u001b[39m",
      "  [2] \u001b[0m\u001b[1m#precompilepkgs#10\u001b[22m",
      "\u001b[90m    @\u001b[39m \u001b[90m.\\\u001b[39m\u001b[90m\u001b[4mprecompilation.jl:411\u001b[24m\u001b[39m\u001b[90m [inlined]\u001b[39m",
      "  [3] \u001b[0m\u001b[1m(::Pkg.API.var\"#225#226\"{Bool, Bool, Bool, Bool, Bool, Pair{Cmd, Base.CacheFlags}, Vector{Pkg.Types.PackageSpec}})\u001b[22m\u001b[0m\u001b[1m(\u001b[22m\u001b[0m\u001b[1m)\u001b[22m",
      "\u001b[90m    @\u001b[39m \u001b[35mPkg.API\u001b[39m \u001b[90mC:\\Users\\ARIANA\\AppData\\Local\\Programs\\Julia-1.11.6\\share\\julia\\stdlib\\v1.11\\Pkg\\src\\\u001b[39m\u001b[90m\u001b[4mAPI.jl:1158\u001b[24m\u001b[39m",
      "  [4] \u001b[0m\u001b[1mactivate\u001b[22m\u001b[0m\u001b[1m(\u001b[22m\u001b[90mf\u001b[39m::\u001b[0mPkg.API.var\"#225#226\"\u001b[90m{Bool, Bool, Bool, Bool, Bool, Pair{Cmd, Base.CacheFlags}, Vector{Pkg.Types.PackageSpec}}\u001b[39m, \u001b[90mnew_project\u001b[39m::\u001b[0mString\u001b[0m\u001b[1m)\u001b[22m",
      "\u001b[90m    @\u001b[39m \u001b[35mPkg.API\u001b[39m \u001b[90mC:\\Users\\ARIANA\\AppData\\Local\\Programs\\Julia-1.11.6\\share\\julia\\stdlib\\v1.11\\Pkg\\src\\\u001b[39m\u001b[90m\u001b[4mAPI.jl:1379\u001b[24m\u001b[39m",
      "  [5] \u001b[0m\u001b[1mprecompile\u001b[22m\u001b[0m\u001b[1m(\u001b[22m\u001b[90mctx\u001b[39m::\u001b[0mPkg.Types.Context, \u001b[90mpkgs\u001b[39m::\u001b[0mVector\u001b[90m{Pkg.Types.PackageSpec}\u001b[39m; \u001b[90minternal_call\u001b[39m::\u001b[0mBool, \u001b[90mstrict\u001b[39m::\u001b[0mBool, \u001b[90mwarn_loaded\u001b[39m::\u001b[0mBool, \u001b[90malready_instantiated\u001b[39m::\u001b[0mBool, \u001b[90mtiming\u001b[39m::\u001b[0mBool, \u001b[90m_from_loading\u001b[39m::\u001b[0mBool, \u001b[90mconfigs\u001b[39m::\u001b[0mPair\u001b[90m{Cmd, Base.CacheFlags}\u001b[39m, \u001b[90mkwargs\u001b[39m::\u001b[0m@Kwargs\u001b[90m{io::IOContext{IO}}\u001b[39m\u001b[0m\u001b[1m)\u001b[22m",
      "\u001b[90m    @\u001b[39m \u001b[35mPkg.API\u001b[39m \u001b[90mC:\\Users\\ARIANA\\AppData\\Local\\Programs\\Julia-1.11.6\\share\\julia\\stdlib\\v1.11\\Pkg\\src\\\u001b[39m\u001b[90m\u001b[4mAPI.jl:1156\u001b[24m\u001b[39m",
      "  [6] \u001b[0m\u001b[1mprecompile\u001b[22m\u001b[0m\u001b[1m(\u001b[22m\u001b[90mpkgs\u001b[39m::\u001b[0mVector\u001b[90m{Pkg.Types.PackageSpec}\u001b[39m; \u001b[90mio\u001b[39m::\u001b[0mIOContext\u001b[90m{IO}\u001b[39m, \u001b[90mkwargs\u001b[39m::\u001b[0m@Kwargs\u001b[90m{}\u001b[39m\u001b[0m\u001b[1m)\u001b[22m",
      "\u001b[90m    @\u001b[39m \u001b[35mPkg.API\u001b[39m \u001b[90mC:\\Users\\ARIANA\\AppData\\Local\\Programs\\Julia-1.11.6\\share\\julia\\stdlib\\v1.11\\Pkg\\src\\\u001b[39m\u001b[90m\u001b[4mAPI.jl:159\u001b[24m\u001b[39m",
      "  [7] \u001b[0m\u001b[1mprecompile\u001b[22m\u001b[0m\u001b[1m(\u001b[22m\u001b[90mpkgs\u001b[39m::\u001b[0mVector\u001b[90m{Pkg.Types.PackageSpec}\u001b[39m\u001b[0m\u001b[1m)\u001b[22m",
      "\u001b[90m    @\u001b[39m \u001b[35mPkg.API\u001b[39m \u001b[90mC:\\Users\\ARIANA\\AppData\\Local\\Programs\\Julia-1.11.6\\share\\julia\\stdlib\\v1.11\\Pkg\\src\\\u001b[39m\u001b[90m\u001b[4mAPI.jl:148\u001b[24m\u001b[39m",
      "  [8] \u001b[0m\u001b[1mprecompile\u001b[22m\u001b[0m\u001b[1m(\u001b[22m; \u001b[90mname\u001b[39m::\u001b[0mNothing, \u001b[90muuid\u001b[39m::\u001b[0mNothing, \u001b[90mversion\u001b[39m::\u001b[0mNothing, \u001b[90murl\u001b[39m::\u001b[0mNothing, \u001b[90mrev\u001b[39m::\u001b[0mNothing, \u001b[90mpath\u001b[39m::\u001b[0mNothing, \u001b[90mmode\u001b[39m::\u001b[0mPkg.Types.PackageMode, \u001b[90msubdir\u001b[39m::\u001b[0mNothing, \u001b[90mkwargs\u001b[39m::\u001b[0m@Kwargs\u001b[90m{}\u001b[39m\u001b[0m\u001b[1m)\u001b[22m",
      "\u001b[90m    @\u001b[39m \u001b[35mPkg.API\u001b[39m \u001b[90mC:\\Users\\ARIANA\\AppData\\Local\\Programs\\Julia-1.11.6\\share\\julia\\stdlib\\v1.11\\Pkg\\src\\\u001b[39m\u001b[90m\u001b[4mAPI.jl:174\u001b[24m\u001b[39m",
      "  [9] \u001b[0m\u001b[1mprecompile\u001b[22m\u001b[0m\u001b[1m(\u001b[22m\u001b[0m\u001b[1m)\u001b[22m",
      "\u001b[90m    @\u001b[39m \u001b[35mPkg.API\u001b[39m \u001b[90mC:\\Users\\ARIANA\\AppData\\Local\\Programs\\Julia-1.11.6\\share\\julia\\stdlib\\v1.11\\Pkg\\src\\\u001b[39m\u001b[90m\u001b[4mAPI.jl:165\u001b[24m\u001b[39m",
      " [10] top-level scope",
      "\u001b[90m    @\u001b[39m \u001b[90m\u001b[4mIn[23]:4\u001b[24m\u001b[39m"
     ]
    }
   ],
   "source": [
    "import Pkg\n",
    "Pkg.activate(\".\")\n",
    "Pkg.update()\n",
    "Pkg.precompile()\n",
    "\n",
    "# reconstruir las que fallaron\n",
    "for pkg in [\"FreeTypeAbstraction\",\"MathTeXEngine\",\"Makie\",\"CairoMakie\"]\n",
    "    try\n",
    "        Pkg.build(pkg)\n",
    "    catch e\n",
    "        @warn \"build($pkg) falló\" exception=(e, catch_backtrace())\n",
    "    end\n",
    "end\n"
   ]
  },
  {
   "cell_type": "code",
   "execution_count": 25,
   "id": "3b3354d9-258a-4838-9dbf-e09eda8c8bf8",
   "metadata": {},
   "outputs": [
    {
     "name": "stderr",
     "output_type": "stream",
     "text": [
      "\u001b[32m\u001b[1m  Activating\u001b[22m\u001b[39m project at `C:\\Users\\ARIANA`\n",
      "\u001b[32m\u001b[1m    Updating\u001b[22m\u001b[39m `C:\\Users\\ARIANA\\Project.toml`\n",
      "  \u001b[90m[13f3f980] \u001b[39m\u001b[91m- CairoMakie v0.15.6\u001b[39m\n",
      "\u001b[32m\u001b[1m    Updating\u001b[22m\u001b[39m `C:\\Users\\ARIANA\\Manifest.toml`\n",
      "  \u001b[90m[621f4979] \u001b[39m\u001b[91m- AbstractFFTs v1.5.0\u001b[39m\n",
      "  \u001b[90m[1520ce14] \u001b[39m\u001b[91m- AbstractTrees v0.4.5\u001b[39m\n",
      "  \u001b[90m[35492f91] \u001b[39m\u001b[91m- AdaptivePredicates v1.2.0\u001b[39m\n",
      "  \u001b[90m[27a7e980] \u001b[39m\u001b[91m- Animations v0.4.2\u001b[39m\n",
      "  \u001b[90m[67c07d97] \u001b[39m\u001b[91m- Automa v1.1.0\u001b[39m\n",
      "  \u001b[90m[13072b0f] \u001b[39m\u001b[91m- AxisAlgorithms v1.1.0\u001b[39m\n",
      "  \u001b[90m[39de3d68] \u001b[39m\u001b[91m- AxisArrays v0.4.8\u001b[39m\n",
      "  \u001b[90m[18cc8868] \u001b[39m\u001b[91m- BaseDirs v1.3.2\u001b[39m\n",
      "  \u001b[90m[fa961155] \u001b[39m\u001b[91m- CEnum v0.5.0\u001b[39m\n",
      "  \u001b[90m[96374032] \u001b[39m\u001b[91m- CRlibm v1.0.2\u001b[39m\n",
      "  \u001b[90m[159f3aea] \u001b[39m\u001b[91m- Cairo v1.1.1\u001b[39m\n",
      "  \u001b[90m[13f3f980] \u001b[39m\u001b[91m- CairoMakie v0.15.6\u001b[39m\n",
      "  \u001b[90m[a2cac450] \u001b[39m\u001b[91m- ColorBrewer v0.4.1\u001b[39m\n",
      "  \u001b[90m[35d6a980] \u001b[39m\u001b[91m- ColorSchemes v3.31.0\u001b[39m\n",
      "  \u001b[90m[c3611d14] \u001b[39m\u001b[91m- ColorVectorSpace v0.11.0\u001b[39m\n",
      "  \u001b[90m[5ae59095] \u001b[39m\u001b[91m- Colors v0.13.1\u001b[39m\n",
      "  \u001b[90m[95dc2771] \u001b[39m\u001b[91m- ComputePipeline v0.1.4\u001b[39m\n",
      "  \u001b[90m[d38c429a] \u001b[39m\u001b[91m- Contour v0.6.3\u001b[39m\n",
      "  \u001b[90m[927a84f5] \u001b[39m\u001b[91m- DelaunayTriangulation v1.6.4\u001b[39m\n",
      "  \u001b[90m[429591f6] \u001b[39m\u001b[91m- ExactPredicates v2.2.8\u001b[39m\n",
      "  \u001b[90m[411431e0] \u001b[39m\u001b[91m- Extents v0.1.6\u001b[39m\n",
      "  \u001b[90m[7a1cc6ca] \u001b[39m\u001b[91m- FFTW v1.10.0\u001b[39m\n",
      "  \u001b[90m[5789e2e9] \u001b[39m\u001b[91m- FileIO v1.17.0\u001b[39m\n",
      "  \u001b[90m[8fc22ac5] \u001b[39m\u001b[91m- FilePaths v0.8.3\u001b[39m\n",
      "  \u001b[90m[1fa38f19] \u001b[39m\u001b[91m- Format v1.3.7\u001b[39m\n",
      "  \u001b[90m[b38be410] \u001b[39m\u001b[91m- FreeType v4.1.1\u001b[39m\n",
      "  \u001b[90m[663a7486] \u001b[39m\u001b[91m- FreeTypeAbstraction v0.10.8\u001b[39m\n",
      "  \u001b[90m[5c1252a2] \u001b[39m\u001b[91m- GeometryBasics v0.5.10\u001b[39m\n",
      "  \u001b[90m[a2bd30eb] \u001b[39m\u001b[91m- Graphics v1.1.3\u001b[39m\n",
      "  \u001b[90m[3955a311] \u001b[39m\u001b[91m- GridLayoutBase v0.11.2\u001b[39m\n",
      "  \u001b[90m[42e2da0e] \u001b[39m\u001b[91m- Grisu v1.0.2\u001b[39m\n",
      "  \u001b[90m[2803e5a7] \u001b[39m\u001b[91m- ImageAxes v0.6.12\u001b[39m\n",
      "  \u001b[90m[c817782e] \u001b[39m\u001b[91m- ImageBase v0.1.7\u001b[39m\n",
      "  \u001b[90m[a09fc81d] \u001b[39m\u001b[91m- ImageCore v0.10.5\u001b[39m\n",
      "  \u001b[90m[82e4d734] \u001b[39m\u001b[91m- ImageIO v0.6.9\u001b[39m\n",
      "  \u001b[90m[bc367c6b] \u001b[39m\u001b[91m- ImageMetadata v0.9.10\u001b[39m\n",
      "  \u001b[90m[9b13fd28] \u001b[39m\u001b[91m- IndirectArrays v1.0.0\u001b[39m\n",
      "  \u001b[90m[d25df0c9] \u001b[39m\u001b[91m- Inflate v0.1.5\u001b[39m\n",
      "  \u001b[90m[a98d9a8b] \u001b[39m\u001b[91m- Interpolations v0.16.2\u001b[39m\n",
      "  \u001b[90m[d1acc4aa] \u001b[39m\u001b[91m- IntervalArithmetic v0.22.36\u001b[39m\n",
      "  \u001b[90m[8197267c] \u001b[39m\u001b[91m- IntervalSets v0.7.11\u001b[39m\n",
      "  \u001b[90m[f1662d9f] \u001b[39m\u001b[91m- Isoband v0.1.1\u001b[39m\n",
      "  \u001b[90m[c8e1da08] \u001b[39m\u001b[91m- IterTools v1.10.0\u001b[39m\n",
      "  \u001b[90m[b835a17e] \u001b[39m\u001b[91m- JpegTurbo v0.1.6\u001b[39m\n",
      "  \u001b[90m[5ab0869b] \u001b[39m\u001b[91m- KernelDensity v0.6.10\u001b[39m\n",
      "  \u001b[90m[8cdb02fc] \u001b[39m\u001b[91m- LazyModules v0.3.1\u001b[39m\n",
      "  \u001b[90m[ee78f7c6] \u001b[39m\u001b[91m- Makie v0.24.6\u001b[39m\n",
      "  \u001b[90m[dbb5928d] \u001b[39m\u001b[91m- MappedArrays v0.4.2\u001b[39m\n",
      "  \u001b[90m[0a4f8689] \u001b[39m\u001b[91m- MathTeXEngine v0.6.6\u001b[39m\n",
      "  \u001b[90m[e94cdb99] \u001b[39m\u001b[91m- MosaicViews v0.3.4\u001b[39m\n",
      "  \u001b[90m[f09324ee] \u001b[39m\u001b[91m- Netpbm v1.1.1\u001b[39m\n",
      "  \u001b[90m[510215fc] \u001b[39m\u001b[91m- Observables v0.5.5\u001b[39m\n",
      "  \u001b[90m[6fe1bfb0] \u001b[39m\u001b[91m- OffsetArrays v1.17.0\u001b[39m\n",
      "  \u001b[90m[52e1d378] \u001b[39m\u001b[91m- OpenEXR v0.3.3\u001b[39m\n",
      "  \u001b[90m[f57f5aa1] \u001b[39m\u001b[91m- PNGFiles v0.4.4\u001b[39m\n",
      "  \u001b[90m[19eb6ba3] \u001b[39m\u001b[91m- Packing v0.5.1\u001b[39m\n",
      "  \u001b[90m[5432bcbf] \u001b[39m\u001b[91m- PaddedViews v0.5.12\u001b[39m\n",
      "  \u001b[90m[eebad327] \u001b[39m\u001b[91m- PkgVersion v0.3.3\u001b[39m\n",
      "  \u001b[90m[995b91a9] \u001b[39m\u001b[91m- PlotUtils v1.4.3\u001b[39m\n",
      "  \u001b[90m[647866c9] \u001b[39m\u001b[91m- PolygonOps v0.1.2\u001b[39m\n",
      "  \u001b[90m[4b34888f] \u001b[39m\u001b[91m- QOI v1.0.1\u001b[39m\n",
      "  \u001b[90m[b3c3ace0] \u001b[39m\u001b[91m- RangeArrays v0.3.2\u001b[39m\n",
      "  \u001b[90m[c84ed2f1] \u001b[39m\u001b[91m- Ratios v0.4.5\u001b[39m\n",
      "  \u001b[90m[5eaf0fd0] \u001b[39m\u001b[91m- RoundingEmulator v0.2.1\u001b[39m\n",
      "  \u001b[90m[fdea26ae] \u001b[39m\u001b[91m- SIMD v3.7.1\u001b[39m\n",
      "  \u001b[90m[65257c39] \u001b[39m\u001b[91m- ShaderAbstractions v0.5.0\u001b[39m\n",
      "  \u001b[90m[992d4aef] \u001b[39m\u001b[91m- Showoff v1.0.3\u001b[39m\n",
      "  \u001b[90m[73760f76] \u001b[39m\u001b[91m- SignedDistanceFields v0.4.0\u001b[39m\n",
      "  \u001b[90m[45858cf5] \u001b[39m\u001b[91m- Sixel v0.1.5\u001b[39m\n",
      "  \u001b[90m[cae243ae] \u001b[39m\u001b[91m- StackViews v0.1.2\u001b[39m\n",
      "  \u001b[90m[09ab397b] \u001b[39m\u001b[91m- StructArrays v0.7.1\u001b[39m\n",
      "  \u001b[90m[62fd8b95] \u001b[39m\u001b[91m- TensorCore v0.1.1\u001b[39m\n",
      "  \u001b[90m[731e570b] \u001b[39m\u001b[91m- TiffImages v0.11.6\u001b[39m\n",
      "  \u001b[90m[981d1d27] \u001b[39m\u001b[91m- TriplotBase v0.1.0\u001b[39m\n",
      "  \u001b[90m[1cfade01] \u001b[39m\u001b[91m- UnicodeFun v0.4.1\u001b[39m\n",
      "  \u001b[90m[1986cc42] \u001b[39m\u001b[91m- Unitful v1.25.0\u001b[39m\n",
      "  \u001b[90m[e3aaa7dc] \u001b[39m\u001b[91m- WebP v0.1.3\u001b[39m\n",
      "  \u001b[90m[efce3f68] \u001b[39m\u001b[91m- WoodburyMatrices v1.0.0\u001b[39m\n",
      "  \u001b[90m[6e34b625] \u001b[39m\u001b[91m- Bzip2_jll v1.0.9+0\u001b[39m\n",
      "  \u001b[90m[4e9b3aee] \u001b[39m\u001b[91m- CRlibm_jll v1.0.1+0\u001b[39m\n",
      "  \u001b[90m[83423d85] \u001b[39m\u001b[91m- Cairo_jll v1.18.5+0\u001b[39m\n",
      "  \u001b[90m[5ae413db] \u001b[39m\u001b[91m- EarCut_jll v2.2.4+0\u001b[39m\n",
      "  \u001b[90m[2e619515] \u001b[39m\u001b[91m- Expat_jll v2.7.1+0\u001b[39m\n",
      "  \u001b[90m[b22a6f82] \u001b[39m\u001b[91m- FFMPEG_jll v6.1.3+0\u001b[39m\n",
      "  \u001b[90m[f5851436] \u001b[39m\u001b[91m- FFTW_jll v3.3.11+0\u001b[39m\n",
      "  \u001b[90m[a3f928ae] \u001b[39m\u001b[91m- Fontconfig_jll v2.17.1+0\u001b[39m\n",
      "  \u001b[90m[d7e528f0] \u001b[39m\u001b[91m- FreeType2_jll v2.13.4+0\u001b[39m\n",
      "  \u001b[90m[559328eb] \u001b[39m\u001b[91m- FriBidi_jll v1.0.17+0\u001b[39m\n",
      "  \u001b[90m[b0724c58] \u001b[39m\u001b[91m- GettextRuntime_jll v0.22.4+0\u001b[39m\n",
      "  \u001b[90m[59f7168a] \u001b[39m\u001b[91m- Giflib_jll v5.2.3+0\u001b[39m\n",
      "  \u001b[90m[7746bdde] \u001b[39m\u001b[91m- Glib_jll v2.86.0+0\u001b[39m\n",
      "  \u001b[90m[3b182d85] \u001b[39m\u001b[91m- Graphite2_jll v1.3.15+0\u001b[39m\n",
      "  \u001b[90m[2e76f6c2] \u001b[39m\u001b[91m- HarfBuzz_jll v8.5.1+0\u001b[39m\n",
      "  \u001b[90m[905a6f67] \u001b[39m\u001b[91m- Imath_jll v3.1.11+0\u001b[39m\n",
      "  \u001b[90m[1d5cc7b8] \u001b[39m\u001b[91m- IntelOpenMP_jll v2025.2.0+0\u001b[39m\n",
      "  \u001b[90m[aacddb02] \u001b[39m\u001b[91m- JpegTurbo_jll v3.1.3+0\u001b[39m\n",
      "  \u001b[90m[c1c5ebd0] \u001b[39m\u001b[91m- LAME_jll v3.100.3+0\u001b[39m\n",
      "  \u001b[90m[88015f11] \u001b[39m\u001b[91m- LERC_jll v4.0.1+0\u001b[39m\n",
      "  \u001b[90m[1d63c593] \u001b[39m\u001b[91m- LLVMOpenMP_jll v18.1.8+0\u001b[39m\n",
      "  \u001b[90m[dd4b983a] \u001b[39m\u001b[91m- LZO_jll v2.10.3+0\u001b[39m\n",
      "  \u001b[90m[e9f186c6] \u001b[39m\u001b[91m- Libffi_jll v3.4.7+0\u001b[39m\n",
      "  \u001b[90m[7e76a0d4] \u001b[39m\u001b[91m- Libglvnd_jll v1.7.1+1\u001b[39m\n",
      "  \u001b[90m[94ce4f54] \u001b[39m\u001b[91m- Libiconv_jll v1.18.0+0\u001b[39m\n",
      "  \u001b[90m[4b2f31a3] \u001b[39m\u001b[91m- Libmount_jll v2.41.1+0\u001b[39m\n",
      "  \u001b[90m[89763e89] \u001b[39m\u001b[91m- Libtiff_jll v4.7.1+0\u001b[39m\n",
      "  \u001b[90m[38a345b3] \u001b[39m\u001b[91m- Libuuid_jll v2.41.1+0\u001b[39m\n",
      "  \u001b[90m[856f044c] \u001b[39m\u001b[91m- MKL_jll v2025.2.0+0\u001b[39m\n",
      "  \u001b[90m[e7412a2a] \u001b[39m\u001b[91m- Ogg_jll v1.3.6+0\u001b[39m\n",
      "  \u001b[90m[6cdc7f73] \u001b[39m\u001b[91m- OpenBLASConsistentFPCSR_jll v0.3.29+0\u001b[39m\n",
      "  \u001b[90m[18a262bb] \u001b[39m\u001b[91m- OpenEXR_jll v3.2.4+0\u001b[39m\n",
      "  \u001b[90m[91d4177d] \u001b[39m\u001b[91m- Opus_jll v1.5.2+0\u001b[39m\n",
      "  \u001b[90m[36c8627f] \u001b[39m\u001b[91m- Pango_jll v1.56.4+0\u001b[39m\n",
      "  \u001b[90m[30392449] \u001b[39m\u001b[91m- Pixman_jll v0.44.2+0\u001b[39m\n",
      "  \u001b[90m[ffd25f8a] \u001b[39m\u001b[91m- XZ_jll v5.8.1+0\u001b[39m\n",
      "  \u001b[90m[4f6342f7] \u001b[39m\u001b[91m- Xorg_libX11_jll v1.8.12+0\u001b[39m\n",
      "  \u001b[90m[0c0b7dd1] \u001b[39m\u001b[91m- Xorg_libXau_jll v1.0.13+0\u001b[39m\n",
      "  \u001b[90m[a3789734] \u001b[39m\u001b[91m- Xorg_libXdmcp_jll v1.1.6+0\u001b[39m\n",
      "  \u001b[90m[1082639a] \u001b[39m\u001b[91m- Xorg_libXext_jll v1.3.7+0\u001b[39m\n",
      "  \u001b[90m[ea2f1a96] \u001b[39m\u001b[91m- Xorg_libXrender_jll v0.9.12+0\u001b[39m\n",
      "  \u001b[90m[c7cfdc94] \u001b[39m\u001b[91m- Xorg_libxcb_jll v1.17.1+0\u001b[39m\n",
      "  \u001b[90m[c5fb5394] \u001b[39m\u001b[91m- Xorg_xtrans_jll v1.6.0+0\u001b[39m\n",
      "  \u001b[90m[3161d3a3] \u001b[39m\u001b[91m- Zstd_jll v1.5.7+1\u001b[39m\n",
      "  \u001b[90m[9a68df92] \u001b[39m\u001b[91m- isoband_jll v0.2.3+0\u001b[39m\n",
      "  \u001b[90m[a4ae2306] \u001b[39m\u001b[91m- libaom_jll v3.12.1+0\u001b[39m\n",
      "  \u001b[90m[0ac62f75] \u001b[39m\u001b[91m- libass_jll v0.17.4+0\u001b[39m\n",
      "  \u001b[90m[f638f0a6] \u001b[39m\u001b[91m- libfdk_aac_jll v2.0.4+0\u001b[39m\n",
      "  \u001b[90m[b53b4c65] \u001b[39m\u001b[91m- libpng_jll v1.6.50+0\u001b[39m\n",
      "  \u001b[90m[075b6546] \u001b[39m\u001b[91m- libsixel_jll v1.10.5+0\u001b[39m\n",
      "  \u001b[90m[f27f6e37] \u001b[39m\u001b[91m- libvorbis_jll v1.3.8+0\u001b[39m\n",
      "  \u001b[90m[c5f90fcd] \u001b[39m\u001b[91m- libwebp_jll v1.6.0+0\u001b[39m\n",
      "  \u001b[90m[1317d2d5] \u001b[39m\u001b[91m- oneTBB_jll v2022.0.0+0\u001b[39m\n",
      "  \u001b[90m[1270edf5] \u001b[39m\u001b[91m- x264_jll v10164.0.1+0\u001b[39m\n",
      "  \u001b[90m[dfaa095f] \u001b[39m\u001b[91m- x265_jll v4.1.0+0\u001b[39m\n",
      "  \u001b[90m[8bf52ea8] \u001b[39m\u001b[91m- CRC32c v1.11.0\u001b[39m\n",
      "  \u001b[90m[4af54fe1] \u001b[39m\u001b[91m- LazyArtifacts v1.11.0\u001b[39m\n",
      "  \u001b[90m[1a1011a3] \u001b[39m\u001b[91m- SharedArrays v1.11.0\u001b[39m\n",
      "  \u001b[90m[efcefdf7] \u001b[39m\u001b[91m- PCRE2_jll v10.42.0+1\u001b[39m\n",
      "\u001b[32m\u001b[1m   Resolving\u001b[22m\u001b[39m package versions...\n",
      "\u001b[32m\u001b[1m   Installed\u001b[22m\u001b[39m PyPlot ─ v2.11.6\n",
      "\u001b[32m\u001b[1m   Installed\u001b[22m\u001b[39m PyCall ─ v1.96.4\n",
      "\u001b[32m\u001b[1m    Updating\u001b[22m\u001b[39m `C:\\Users\\ARIANA\\Project.toml`\n",
      "  \u001b[90m[03970b2e] \u001b[39m\u001b[92m+ MLJTuning v0.8.8\u001b[39m\n",
      "  \u001b[90m[d330b81b] \u001b[39m\u001b[92m+ PyPlot v2.11.6\u001b[39m\n",
      "\u001b[32m\u001b[1m    Updating\u001b[22m\u001b[39m `C:\\Users\\ARIANA\\Manifest.toml`\n",
      "  \u001b[90m[5ae59095] \u001b[39m\u001b[92m+ Colors v0.13.1\u001b[39m\n",
      "  \u001b[90m[438e738f] \u001b[39m\u001b[92m+ PyCall v1.96.4\u001b[39m\n",
      "  \u001b[90m[d330b81b] \u001b[39m\u001b[92m+ PyPlot v2.11.6\u001b[39m\n",
      "\u001b[32m\u001b[1m    Building\u001b[22m\u001b[39m PyCall → `C:\\Users\\ARIANA\\.julia\\scratchspaces\\44cfe95a-1eb2-52ea-b672-e2afdf69b78f\\9816a3826b0ebf49ab4926e2b18842ad8b5c8f04\\build.log`\n",
      "\u001b[92m\u001b[1mPrecompiling\u001b[22m\u001b[39m project...\n",
      "  19935.0 ms\u001b[32m  ✓ \u001b[39m\u001b[90mPyCall\u001b[39m\n",
      "   3547.6 ms\u001b[32m  ✓ \u001b[39mPyPlot\n",
      "  2 dependencies successfully precompiled in 25 seconds. 259 already precompiled.\n",
      "\u001b[32m\u001b[1m    Building\u001b[22m\u001b[39m Conda ─→ `C:\\Users\\ARIANA\\.julia\\scratchspaces\\44cfe95a-1eb2-52ea-b672-e2afdf69b78f\\b19db3927f0db4151cb86d073689f2428e524576\\build.log`\n",
      "\u001b[32m\u001b[1m    Building\u001b[22m\u001b[39m PyCall → `C:\\Users\\ARIANA\\.julia\\scratchspaces\\44cfe95a-1eb2-52ea-b672-e2afdf69b78f\\9816a3826b0ebf49ab4926e2b18842ad8b5c8f04\\build.log`\n"
     ]
    }
   ],
   "source": [
    "import Pkg\n",
    "Pkg.activate(\".\")\n",
    "\n",
    "# quitar backends problemáticos\n",
    "for pkg in [\"Makie\",\"CairoMakie\",\"Plots\",\"PlotlyJS\",\"GR\"]\n",
    "    try Pkg.rm(pkg) catch; end\n",
    "end\n",
    "\n",
    "# instalar lo necesario\n",
    "Pkg.add([\"DataFrames\",\"MLJ\",\"MLJLinearModels\",\"MLJTuning\",\"PyPlot\",\"Random\",\"Statistics\"])\n",
    "\n",
    "# forzar PyPlot a usar el Python embebido de PyCall\n",
    "ENV[\"PYTHON\"] = \"\"\n",
    "Pkg.build(\"PyCall\")\n",
    "\n",
    "Pkg.precompile()\n"
   ]
  },
  {
   "cell_type": "code",
   "execution_count": 27,
   "id": "1865c418-835e-47c6-a497-be71963eb8d0",
   "metadata": {},
   "outputs": [
    {
     "name": "stderr",
     "output_type": "stream",
     "text": [
      "\u001b[36m\u001b[1m[ \u001b[22m\u001b[39m\u001b[36m\u001b[1mInfo: \u001b[22m\u001b[39mInstalling matplotlib via the Conda matplotlib package...\n",
      "\u001b[36m\u001b[1m[ \u001b[22m\u001b[39m\u001b[36m\u001b[1mInfo: \u001b[22m\u001b[39mRunning `conda install -y matplotlib` in root environment\n"
     ]
    },
    {
     "name": "stdout",
     "output_type": "stream",
     "text": [
      "Collecting package metadata (current_repodata.json): ...working... done\n",
      "Solving environment: ...working... done\n",
      "\n",
      "## Package Plan ##\n",
      "\n",
      "  environment location: C:\\Users\\ARIANA\\.julia\\conda\\3\\i686\n",
      "\n",
      "  added / updated specs:\n",
      "    - matplotlib\n",
      "\n",
      "\n",
      "The following packages will be downloaded:\n",
      "\n",
      "    package                    |            build\n",
      "    ---------------------------|-----------------\n",
      "    brotli-1.0.9               |       h33f27b4_0         413 KB\n",
      "    cycler-0.11.0              |     pyhd3eb1b0_0          12 KB\n",
      "    fonttools-4.25.0           |     pyhd3eb1b0_0         632 KB\n",
      "    freetype-2.10.4            |       h5b497f6_0         422 KB\n",
      "    icu-58.2                   |       ha925a31_3         9.3 MB\n",
      "    jpeg-9e                    |       hc431981_0         236 KB\n",
      "    kiwisolver-1.4.2           |   py39h6986bd8_0          50 KB\n",
      "    libpng-1.6.37              |       h2a8f88b_0         280 KB\n",
      "    libtiff-4.2.0              |       h85af5b5_0         759 KB\n",
      "    libwebp-1.2.2              |       hc431981_0         522 KB\n",
      "    lz4-c-1.9.3                |       hc431981_1         118 KB\n",
      "    matplotlib-3.5.1           |   py39h9f7ea03_1          29 KB\n",
      "    matplotlib-base-3.5.1      |   py39h6986bd8_1         5.6 MB\n",
      "    munkres-1.1.4              |             py_0          13 KB\n",
      "    packaging-21.3             |     pyhd3eb1b0_0          36 KB\n",
      "    pillow-9.0.1               |   py39hc6e4d3e_0         834 KB\n",
      "    pyparsing-3.0.4            |     pyhd3eb1b0_0          81 KB\n",
      "    pyqt-5.9.2                 |   py39h6986bd8_6         2.4 MB\n",
      "    python-dateutil-2.8.2      |     pyhd3eb1b0_0         233 KB\n",
      "    qt-5.9.7                   |   vc14h73c81de_0        63.4 MB\n",
      "    sip-4.19.13                |   py39h6986bd8_0         238 KB\n",
      "    tk-8.6.12                  |       hc431981_0         2.7 MB\n",
      "    tornado-6.1                |   py39hc431981_0         620 KB\n",
      "    xz-5.2.5                   |       h559d222_1         217 KB\n",
      "    zlib-1.2.12                |       h3c9058a_2         104 KB\n",
      "    zstd-1.4.9                 |       h8c83ad5_0         405 KB\n",
      "    ------------------------------------------------------------\n",
      "                                           Total:        89.5 MB\n",
      "\n",
      "The following NEW packages will be INSTALLED:\n",
      "\n",
      "  brotli             pkgs/main/win-32::brotli-1.0.9-h33f27b4_0\n",
      "  cycler             pkgs/main/noarch::cycler-0.11.0-pyhd3eb1b0_0\n",
      "  fonttools          pkgs/main/noarch::fonttools-4.25.0-pyhd3eb1b0_0\n",
      "  freetype           pkgs/main/win-32::freetype-2.10.4-h5b497f6_0\n",
      "  icu                pkgs/main/win-32::icu-58.2-ha925a31_3\n",
      "  jpeg               pkgs/main/win-32::jpeg-9e-hc431981_0\n",
      "  kiwisolver         pkgs/main/win-32::kiwisolver-1.4.2-py39h6986bd8_0\n",
      "  libpng             pkgs/main/win-32::libpng-1.6.37-h2a8f88b_0\n",
      "  libtiff            pkgs/main/win-32::libtiff-4.2.0-h85af5b5_0\n",
      "  libwebp            pkgs/main/win-32::libwebp-1.2.2-hc431981_0\n",
      "  lz4-c              pkgs/main/win-32::lz4-c-1.9.3-hc431981_1\n",
      "  matplotlib         pkgs/main/win-32::matplotlib-3.5.1-py39h9f7ea03_1\n",
      "  matplotlib-base    pkgs/main/win-32::matplotlib-base-3.5.1-py39h6986bd8_1\n",
      "  munkres            pkgs/main/noarch::munkres-1.1.4-py_0\n",
      "  packaging          pkgs/main/noarch::packaging-21.3-pyhd3eb1b0_0\n",
      "  pillow             pkgs/main/win-32::pillow-9.0.1-py39hc6e4d3e_0\n",
      "  pyparsing          pkgs/main/noarch::pyparsing-3.0.4-pyhd3eb1b0_0\n",
      "  pyqt               pkgs/main/win-32::pyqt-5.9.2-py39h6986bd8_6\n",
      "  python-dateutil    pkgs/main/noarch::python-dateutil-2.8.2-pyhd3eb1b0_0\n",
      "  qt                 pkgs/main/win-32::qt-5.9.7-vc14h73c81de_0\n",
      "  sip                pkgs/main/win-32::sip-4.19.13-py39h6986bd8_0\n",
      "  tk                 pkgs/main/win-32::tk-8.6.12-hc431981_0\n",
      "  tornado            pkgs/main/win-32::tornado-6.1-py39hc431981_0\n",
      "  xz                 pkgs/main/win-32::xz-5.2.5-h559d222_1\n",
      "  zlib               pkgs/main/win-32::zlib-1.2.12-h3c9058a_2\n",
      "  zstd               pkgs/main/win-32::zstd-1.4.9-h8c83ad5_0\n",
      "\n",
      "\n",
      "\n",
      "Downloading and Extracting Packages\n",
      "icu-58.2             | 9.3 MB    |            |   0% "
     ]
    },
    {
     "name": "stderr",
     "output_type": "stream",
     "text": [
      "\n",
      "\n",
      "==> WARNING: A newer version of conda exists. <==\n",
      "  current version: 4.12.0\n",
      "  latest version: 4.13.0\n",
      "\n",
      "Please update conda by running\n",
      "\n",
      "    $ conda update -n base -c defaults conda\n",
      "\n",
      "\n"
     ]
    },
    {
     "name": "stdout",
     "output_type": "stream",
     "text": [
      "icu-58.2             | 9.3 MB    | ########## | 100% \n",
      "libpng-1.6.37        | 280 KB    | ########## | 100% \n",
      "pyparsing-3.0.4      | 81 KB     | ########## | 100% \n",
      "sip-4.19.13          | 238 KB    | ########## | 100% \n",
      "brotli-1.0.9         | 413 KB    | ########## | 100% \n",
      "xz-5.2.5             | 217 KB    | ########## | 100% \n",
      "qt-5.9.7             | 63.4 MB   | ########## | 100% \n",
      "kiwisolver-1.4.2     | 50 KB     | ########## | 100% \n",
      "zlib-1.2.12          | 104 KB    | ########## | 100% \n",
      "tornado-6.1          | 620 KB    | ########## | 100% \n",
      "jpeg-9e              | 236 KB    | ########## | 100% \n",
      "zstd-1.4.9           | 405 KB    | ########## | 100% \n",
      "pyqt-5.9.2           | 2.4 MB    | ########## | 100% \n",
      "matplotlib-base-3.5. | 5.6 MB    | ########## | 100% \n",
      "munkres-1.1.4        | 13 KB     | ########## | 100% \n",
      "cycler-0.11.0        | 12 KB     | ########## | 100% \n",
      "python-dateutil-2.8. | 233 KB    | ########## | 100% \n",
      "libwebp-1.2.2        | 522 KB    | ########## | 100% \n",
      "pillow-9.0.1         | 834 KB    | ########## | 100% \n",
      "lz4-c-1.9.3          | 118 KB    | ########## | 100% \n",
      "freetype-2.10.4      | 422 KB    | ########## | 100% \n",
      "packaging-21.3       | 36 KB     | ########## | 100% \n",
      "libtiff-4.2.0        | 759 KB    | ########## | 100% \n",
      "matplotlib-3.5.1     | 29 KB     | ########## | 100% \n",
      "fonttools-4.25.0     | 632 KB    | ########## | 100% \n",
      "tk-8.6.12            | 2.7 MB    | ########## | 100% \n",
      "Preparing transaction: ...working... done\n",
      "Verifying transaction: ...working... done\n",
      "Executing transaction: ...working... done\n"
     ]
    },
    {
     "name": "stderr",
     "output_type": "stream",
     "text": [
      "WARNING: using PyPlot.plot in module Main conflicts with an existing identifier.\n",
      "WARNING: using PyPlot.scatter in module Main conflicts with an existing identifier.\n"
     ]
    },
    {
     "ename": "LoadError",
     "evalue": "UndefVarError: `rcParams` not defined in `Main`\nSuggestion: check for spelling errors or missing imports.",
     "output_type": "error",
     "traceback": [
      "UndefVarError: `rcParams` not defined in `Main`\nSuggestion: check for spelling errors or missing imports.",
      "",
      "Stacktrace:",
      " [1] top-level scope",
      "\u001b[90m   @\u001b[39m \u001b[90m\u001b[4mIn[27]:8\u001b[24m\u001b[39m"
     ]
    }
   ],
   "source": [
    "using Random, Statistics, DataFrames\n",
    "using MLJ\n",
    "LassoRegressor = @load LassoRegressor pkg=MLJLinearModels verbosity=0\n",
    "using MLJTuning\n",
    "using PyPlot\n",
    "\n",
    "Random.seed!(123)\n",
    "rcParams[\"figure.dpi\"] = 110\n"
   ]
  },
  {
   "cell_type": "code",
   "execution_count": 29,
   "id": "3f73fdd7-1f02-4f49-a764-cb895301f9a4",
   "metadata": {},
   "outputs": [
    {
     "data": {
      "text/plain": [
       "([-3.628487638319958, 0.8644378485101258, 8.638294728062109, -1.4211692825198767, 5.2610251870903095, -6.355612006617173, -3.3141342438483004, 0.399152360982595, 7.348571568562778, 4.53457300435181  …  6.353216521040807, 1.0504688214755622, 0.04322936309797154, 2.5609193563707633, -5.946762326759157, -7.309974788167495, 1.6163893996421033, 6.984486053322858, -2.9058710999365074, 5.05076775197051], [-0.5730892452490105, -0.22522323387962295, 2.83333103999251, 1.3940337712794597, 3.9534343302116013, 5.334147140628396, -6.368000517351146, 0.6430243578506492, -3.401997282444109, 2.592630875053494  …  2.3685426653310957, -2.4663646678779974, 3.6292383926668728, 7.954778183628583, 4.187777733208974, 0.6827837073560117, -1.091285656620466, -5.0698108207807895, 1.5235223673528995, -0.3858973938388055])"
      ]
     },
     "execution_count": 29,
     "metadata": {},
     "output_type": "execute_result"
    }
   ],
   "source": [
    "n, p = 300, 30\n",
    "X = randn(n, p)\n",
    "β = zeros(p); β[1:5] .= [3.0, -2.0, 1.5, 1.0, -0.5]\n",
    "y = X*β .+ 0.8*randn(n)\n",
    "\n",
    "Xdf = DataFrame(X, :auto)\n",
    "train, test = partition(1:n, 0.7, rng=123)\n",
    "Xtr, Xte = Xdf[train, :], Xdf[test, :]\n",
    "ytr, yte = y[train], y[test]\n"
   ]
  },
  {
   "cell_type": "code",
   "execution_count": 31,
   "id": "a4a10336-0782-4848-a155-1d910c76024f",
   "metadata": {},
   "outputs": [
    {
     "data": {
      "text/plain": [
       "lasso_fit_stats (generic function with 1 method)"
      ]
     },
     "execution_count": 31,
     "metadata": {},
     "output_type": "execute_result"
    }
   ],
   "source": [
    "function lasso_fit_stats(λ)\n",
    "    m = LassoRegressor(lambda=λ, fit_intercept=true, standardize=true)\n",
    "    mach = machine(m, Xtr, ytr) |> fit!\n",
    "    ŷtr = collect(predict(mach, Xtr))\n",
    "    ŷte = collect(predict(mach, Xte))\n",
    "    tr_mse = mean((ŷtr .- ytr).^2)\n",
    "    te_mse = mean((ŷte .- yte).^2)\n",
    "    coefs = fitted_params(mach).coefs\n",
    "    nnz = count(!≈(0.0), coefs)\n",
    "    return tr_mse, te_mse, nnz, coefs\n",
    "end\n"
   ]
  },
  {
   "cell_type": "code",
   "execution_count": 35,
   "id": "b68a9ee2-2e66-42f1-8729-b0fc871b1ff2",
   "metadata": {},
   "outputs": [
    {
     "data": {
      "image/png": "[encoded data removed]",
      "text/plain": [
       "Figure(PyObject <Figure size 640x480 with 1 Axes>)"
      ]
     },
     "metadata": {},
     "output_type": "display_data"
    },
    {
     "data": {
      "image/png": "[encoded data removed]",
      "text/plain": [
       "Figure(PyObject <Figure size 640x480 with 1 Axes>)"
      ]
     },
     "metadata": {},
     "output_type": "display_data"
    },
    {
     "data": {
      "text/plain": [
       "PyObject Text(0.5, 1.0, 'Sparsidad vs λ')"
      ]
     },
     "execution_count": 35,
     "metadata": {},
     "output_type": "execute_result"
    }
   ],
   "source": [
    "plt.figure(); plt.plot(log10.(λs), tr_mse, label=\"MSE train\"); plt.plot(log10.(λs), te_mse, label=\"MSE test\")\n",
    "plt.xlabel(\"log10(λ)\"); plt.ylabel(\"MSE\"); plt.legend(); plt.title(\"Error vs regularización\")\n",
    "\n",
    "plt.figure(); plt.plot(log10.(λs), nnz, marker=\"o\")\n",
    "plt.xlabel(\"log10(λ)\"); plt.ylabel(\"# coeficientes ≠ 0\"); plt.title(\"Sparsidad vs λ\")\n"
   ]
  },
  {
   "cell_type": "code",
   "execution_count": 51,
   "id": "915923c9-1738-43bf-9a5b-4d4da69cf7ba",
   "metadata": {},
   "outputs": [
    {
     "name": "stderr",
     "output_type": "stream",
     "text": [
      "\u001b[36m\u001b[1m[ \u001b[22m\u001b[39m\u001b[36m\u001b[1mInfo: \u001b[22m\u001b[39mTraining machine(Standardizer(features = Symbol[], …), …).\n"
     ]
    },
    {
     "data": {
      "text/plain": [
       "lasso_fit_stats (generic function with 1 method)"
      ]
     },
     "execution_count": 51,
     "metadata": {},
     "output_type": "execute_result"
    }
   ],
   "source": [
    "using MLJ, MLJLinearModels, Statistics, PyPlot\n",
    "\n",
    "# Estandarizar con train y aplicar a test\n",
    "std_mach = machine(Standardizer(), Xtr) |> fit!\n",
    "Ztr = MLJ.transform(std_mach, Xtr)\n",
    "Zte = MLJ.transform(std_mach, Xte)\n",
    "\n",
    "function lasso_fit_stats(λ)\n",
    "    m = LassoRegressor(lambda=λ, fit_intercept=true)\n",
    "    mach = machine(m, Ztr, ytr) |> fit!\n",
    "\n",
    "    ŷtr = collect(predict(mach, Ztr))\n",
    "    ŷte = collect(predict(mach, Zte))\n",
    "    tr_mse = mean((ŷtr .- ytr).^2)\n",
    "    te_mse = mean((ŷte .- yte).^2)\n",
    "\n",
    "    raw = fitted_params(mach).coefs\n",
    "    # convertir coefs a Vector{Float64} sin importar el tipo que llegue\n",
    "    vals = raw isa NamedTuple                 ? collect(values(raw)) :\n",
    "           raw isa AbstractDict               ? collect(values(raw)) :\n",
    "           raw isa AbstractVector{<:Pair}     ? last.(raw)           :\n",
    "                                                 collect(raw)\n",
    "\n",
    "    nnz = count(abs.(vals) .> 1e-8)\n",
    "    return tr_mse, te_mse, nnz\n",
    "end\n"
   ]
  },
  {
   "cell_type": "code",
   "execution_count": 53,
   "id": "2da77895-bdff-4554-bd62-0bb87a8923cd",
   "metadata": {},
   "outputs": [
    {
     "name": "stderr",
     "output_type": "stream",
     "text": [
      "\u001b[36m\u001b[1m[ \u001b[22m\u001b[39m\u001b[36m\u001b[1mInfo: \u001b[22m\u001b[39mTraining machine(LassoRegressor(lambda = 0.0001, …), …).\n",
      "\u001b[36m\u001b[1m┌ \u001b[22m\u001b[39m\u001b[36m\u001b[1mInfo: \u001b[22m\u001b[39mSolver: ProxGrad\n",
      "\u001b[36m\u001b[1m│ \u001b[22m\u001b[39m  accel: Bool true\n",
      "\u001b[36m\u001b[1m│ \u001b[22m\u001b[39m  max_iter: Int32 1000\n",
      "\u001b[36m\u001b[1m│ \u001b[22m\u001b[39m  tol: Float64 0.0001\n",
      "\u001b[36m\u001b[1m│ \u001b[22m\u001b[39m  max_inner: Int32 100\n",
      "\u001b[36m\u001b[1m│ \u001b[22m\u001b[39m  beta: Float64 0.8\n",
      "\u001b[36m\u001b[1m└ \u001b[22m\u001b[39m  gram: Bool false\n",
      "\u001b[36m\u001b[1m[ \u001b[22m\u001b[39m\u001b[36m\u001b[1mInfo: \u001b[22m\u001b[39mTraining machine(LassoRegressor(lambda = 0.00017782794100389227, …), …).\n",
      "\u001b[36m\u001b[1m┌ \u001b[22m\u001b[39m\u001b[36m\u001b[1mInfo: \u001b[22m\u001b[39mSolver: ProxGrad\n",
      "\u001b[36m\u001b[1m│ \u001b[22m\u001b[39m  accel: Bool true\n",
      "\u001b[36m\u001b[1m│ \u001b[22m\u001b[39m  max_iter: Int32 1000\n",
      "\u001b[36m\u001b[1m│ \u001b[22m\u001b[39m  tol: Float64 0.0001\n",
      "\u001b[36m\u001b[1m│ \u001b[22m\u001b[39m  max_inner: Int32 100\n",
      "\u001b[36m\u001b[1m│ \u001b[22m\u001b[39m  beta: Float64 0.8\n",
      "\u001b[36m\u001b[1m└ \u001b[22m\u001b[39m  gram: Bool false\n",
      "\u001b[36m\u001b[1m[ \u001b[22m\u001b[39m\u001b[36m\u001b[1mInfo: \u001b[22m\u001b[39mTraining machine(LassoRegressor(lambda = 0.00031622776601683794, …), …).\n",
      "\u001b[36m\u001b[1m┌ \u001b[22m\u001b[39m\u001b[36m\u001b[1mInfo: \u001b[22m\u001b[39mSolver: ProxGrad\n",
      "\u001b[36m\u001b[1m│ \u001b[22m\u001b[39m  accel: Bool true\n",
      "\u001b[36m\u001b[1m│ \u001b[22m\u001b[39m  max_iter: Int32 1000\n",
      "\u001b[36m\u001b[1m│ \u001b[22m\u001b[39m  tol: Float64 0.0001\n",
      "\u001b[36m\u001b[1m│ \u001b[22m\u001b[39m  max_inner: Int32 100\n",
      "\u001b[36m\u001b[1m│ \u001b[22m\u001b[39m  beta: Float64 0.8\n",
      "\u001b[36m\u001b[1m└ \u001b[22m\u001b[39m  gram: Bool false\n",
      "\u001b[36m\u001b[1m[ \u001b[22m\u001b[39m\u001b[36m\u001b[1mInfo: \u001b[22m\u001b[39mTraining machine(LassoRegressor(lambda = 0.0005623413251903491, …), …).\n",
      "\u001b[36m\u001b[1m┌ \u001b[22m\u001b[39m\u001b[36m\u001b[1mInfo: \u001b[22m\u001b[39mSolver: ProxGrad\n",
      "\u001b[36m\u001b[1m│ \u001b[22m\u001b[39m  accel: Bool true\n",
      "\u001b[36m\u001b[1m│ \u001b[22m\u001b[39m  max_iter: Int32 1000\n",
      "\u001b[36m\u001b[1m│ \u001b[22m\u001b[39m  tol: Float64 0.0001\n",
      "\u001b[36m\u001b[1m│ \u001b[22m\u001b[39m  max_inner: Int32 100\n",
      "\u001b[36m\u001b[1m│ \u001b[22m\u001b[39m  beta: Float64 0.8\n",
      "\u001b[36m\u001b[1m└ \u001b[22m\u001b[39m  gram: Bool false\n",
      "\u001b[36m\u001b[1m[ \u001b[22m\u001b[39m\u001b[36m\u001b[1mInfo: \u001b[22m\u001b[39mTraining machine(LassoRegressor(lambda = 0.001, …), …).\n",
      "\u001b[36m\u001b[1m┌ \u001b[22m\u001b[39m\u001b[36m\u001b[1mInfo: \u001b[22m\u001b[39mSolver: ProxGrad\n",
      "\u001b[36m\u001b[1m│ \u001b[22m\u001b[39m  accel: Bool true\n",
      "\u001b[36m\u001b[1m│ \u001b[22m\u001b[39m  max_iter: Int32 1000\n",
      "\u001b[36m\u001b[1m│ \u001b[22m\u001b[39m  tol: Float64 0.0001\n",
      "\u001b[36m\u001b[1m│ \u001b[22m\u001b[39m  max_inner: Int32 100\n",
      "\u001b[36m\u001b[1m│ \u001b[22m\u001b[39m  beta: Float64 0.8\n",
      "\u001b[36m\u001b[1m└ \u001b[22m\u001b[39m  gram: Bool false\n",
      "\u001b[36m\u001b[1m[ \u001b[22m\u001b[39m\u001b[36m\u001b[1mInfo: \u001b[22m\u001b[39mTraining machine(LassoRegressor(lambda = 0.0017782794100389228, …), …).\n",
      "\u001b[36m\u001b[1m┌ \u001b[22m\u001b[39m\u001b[36m\u001b[1mInfo: \u001b[22m\u001b[39mSolver: ProxGrad\n",
      "\u001b[36m\u001b[1m│ \u001b[22m\u001b[39m  accel: Bool true\n",
      "\u001b[36m\u001b[1m│ \u001b[22m\u001b[39m  max_iter: Int32 1000\n",
      "\u001b[36m\u001b[1m│ \u001b[22m\u001b[39m  tol: Float64 0.0001\n",
      "\u001b[36m\u001b[1m│ \u001b[22m\u001b[39m  max_inner: Int32 100\n",
      "\u001b[36m\u001b[1m│ \u001b[22m\u001b[39m  beta: Float64 0.8\n",
      "\u001b[36m\u001b[1m└ \u001b[22m\u001b[39m  gram: Bool false\n",
      "\u001b[36m\u001b[1m[ \u001b[22m\u001b[39m\u001b[36m\u001b[1mInfo: \u001b[22m\u001b[39mTraining machine(LassoRegressor(lambda = 0.0031622776601683794, …), …).\n",
      "\u001b[36m\u001b[1m┌ \u001b[22m\u001b[39m\u001b[36m\u001b[1mInfo: \u001b[22m\u001b[39mSolver: ProxGrad\n",
      "\u001b[36m\u001b[1m│ \u001b[22m\u001b[39m  accel: Bool true\n",
      "\u001b[36m\u001b[1m│ \u001b[22m\u001b[39m  max_iter: Int32 1000\n",
      "\u001b[36m\u001b[1m│ \u001b[22m\u001b[39m  tol: Float64 0.0001\n",
      "\u001b[36m\u001b[1m│ \u001b[22m\u001b[39m  max_inner: Int32 100\n",
      "\u001b[36m\u001b[1m│ \u001b[22m\u001b[39m  beta: Float64 0.8\n",
      "\u001b[36m\u001b[1m└ \u001b[22m\u001b[39m  gram: Bool false\n",
      "\u001b[36m\u001b[1m[ \u001b[22m\u001b[39m\u001b[36m\u001b[1mInfo: \u001b[22m\u001b[39mTraining machine(LassoRegressor(lambda = 0.005623413251903491, …), …).\n",
      "\u001b[36m\u001b[1m┌ \u001b[22m\u001b[39m\u001b[36m\u001b[1mInfo: \u001b[22m\u001b[39mSolver: ProxGrad\n",
      "\u001b[36m\u001b[1m│ \u001b[22m\u001b[39m  accel: Bool true\n",
      "\u001b[36m\u001b[1m│ \u001b[22m\u001b[39m  max_iter: Int32 1000\n",
      "\u001b[36m\u001b[1m│ \u001b[22m\u001b[39m  tol: Float64 0.0001\n",
      "\u001b[36m\u001b[1m│ \u001b[22m\u001b[39m  max_inner: Int32 100\n",
      "\u001b[36m\u001b[1m│ \u001b[22m\u001b[39m  beta: Float64 0.8\n",
      "\u001b[36m\u001b[1m└ \u001b[22m\u001b[39m  gram: Bool false\n",
      "\u001b[36m\u001b[1m[ \u001b[22m\u001b[39m\u001b[36m\u001b[1mInfo: \u001b[22m\u001b[39mTraining machine(LassoRegressor(lambda = 0.010000000000000002, …), …).\n",
      "\u001b[36m\u001b[1m┌ \u001b[22m\u001b[39m\u001b[36m\u001b[1mInfo: \u001b[22m\u001b[39mSolver: ProxGrad\n",
      "\u001b[36m\u001b[1m│ \u001b[22m\u001b[39m  accel: Bool true\n",
      "\u001b[36m\u001b[1m│ \u001b[22m\u001b[39m  max_iter: Int32 1000\n",
      "\u001b[36m\u001b[1m│ \u001b[22m\u001b[39m  tol: Float64 0.0001\n",
      "\u001b[36m\u001b[1m│ \u001b[22m\u001b[39m  max_inner: Int32 100\n",
      "\u001b[36m\u001b[1m│ \u001b[22m\u001b[39m  beta: Float64 0.8\n",
      "\u001b[36m\u001b[1m└ \u001b[22m\u001b[39m  gram: Bool false\n",
      "\u001b[36m\u001b[1m[ \u001b[22m\u001b[39m\u001b[36m\u001b[1mInfo: \u001b[22m\u001b[39mTraining machine(LassoRegressor(lambda = 0.01778279410038923, …), …).\n",
      "\u001b[36m\u001b[1m┌ \u001b[22m\u001b[39m\u001b[36m\u001b[1mInfo: \u001b[22m\u001b[39mSolver: ProxGrad\n",
      "\u001b[36m\u001b[1m│ \u001b[22m\u001b[39m  accel: Bool true\n",
      "\u001b[36m\u001b[1m│ \u001b[22m\u001b[39m  max_iter: Int32 1000\n",
      "\u001b[36m\u001b[1m│ \u001b[22m\u001b[39m  tol: Float64 0.0001\n",
      "\u001b[36m\u001b[1m│ \u001b[22m\u001b[39m  max_inner: Int32 100\n",
      "\u001b[36m\u001b[1m│ \u001b[22m\u001b[39m  beta: Float64 0.8\n",
      "\u001b[36m\u001b[1m└ \u001b[22m\u001b[39m  gram: Bool false\n",
      "\u001b[36m\u001b[1m[ \u001b[22m\u001b[39m\u001b[36m\u001b[1mInfo: \u001b[22m\u001b[39mTraining machine(LassoRegressor(lambda = 0.03162277660168379, …), …).\n",
      "\u001b[36m\u001b[1m┌ \u001b[22m\u001b[39m\u001b[36m\u001b[1mInfo: \u001b[22m\u001b[39mSolver: ProxGrad\n",
      "\u001b[36m\u001b[1m│ \u001b[22m\u001b[39m  accel: Bool true\n",
      "\u001b[36m\u001b[1m│ \u001b[22m\u001b[39m  max_iter: Int32 1000\n",
      "\u001b[36m\u001b[1m│ \u001b[22m\u001b[39m  tol: Float64 0.0001\n",
      "\u001b[36m\u001b[1m│ \u001b[22m\u001b[39m  max_inner: Int32 100\n",
      "\u001b[36m\u001b[1m│ \u001b[22m\u001b[39m  beta: Float64 0.8\n",
      "\u001b[36m\u001b[1m└ \u001b[22m\u001b[39m  gram: Bool false\n",
      "\u001b[36m\u001b[1m[ \u001b[22m\u001b[39m\u001b[36m\u001b[1mInfo: \u001b[22m\u001b[39mTraining machine(LassoRegressor(lambda = 0.05623413251903491, …), …).\n",
      "\u001b[36m\u001b[1m┌ \u001b[22m\u001b[39m\u001b[36m\u001b[1mInfo: \u001b[22m\u001b[39mSolver: ProxGrad\n",
      "\u001b[36m\u001b[1m│ \u001b[22m\u001b[39m  accel: Bool true\n",
      "\u001b[36m\u001b[1m│ \u001b[22m\u001b[39m  max_iter: Int32 1000\n",
      "\u001b[36m\u001b[1m│ \u001b[22m\u001b[39m  tol: Float64 0.0001\n",
      "\u001b[36m\u001b[1m│ \u001b[22m\u001b[39m  max_inner: Int32 100\n",
      "\u001b[36m\u001b[1m│ \u001b[22m\u001b[39m  beta: Float64 0.8\n",
      "\u001b[36m\u001b[1m└ \u001b[22m\u001b[39m  gram: Bool false\n",
      "\u001b[36m\u001b[1m[ \u001b[22m\u001b[39m\u001b[36m\u001b[1mInfo: \u001b[22m\u001b[39mTraining machine(LassoRegressor(lambda = 0.1, …), …).\n",
      "\u001b[36m\u001b[1m┌ \u001b[22m\u001b[39m\u001b[36m\u001b[1mInfo: \u001b[22m\u001b[39mSolver: ProxGrad\n",
      "\u001b[36m\u001b[1m│ \u001b[22m\u001b[39m  accel: Bool true\n",
      "\u001b[36m\u001b[1m│ \u001b[22m\u001b[39m  max_iter: Int32 1000\n",
      "\u001b[36m\u001b[1m│ \u001b[22m\u001b[39m  tol: Float64 0.0001\n",
      "\u001b[36m\u001b[1m│ \u001b[22m\u001b[39m  max_inner: Int32 100\n",
      "\u001b[36m\u001b[1m│ \u001b[22m\u001b[39m  beta: Float64 0.8\n",
      "\u001b[36m\u001b[1m└ \u001b[22m\u001b[39m  gram: Bool false\n",
      "\u001b[36m\u001b[1m[ \u001b[22m\u001b[39m\u001b[36m\u001b[1mInfo: \u001b[22m\u001b[39mTraining machine(LassoRegressor(lambda = 0.1778279410038923, …), …).\n",
      "\u001b[36m\u001b[1m┌ \u001b[22m\u001b[39m\u001b[36m\u001b[1mInfo: \u001b[22m\u001b[39mSolver: ProxGrad\n",
      "\u001b[36m\u001b[1m│ \u001b[22m\u001b[39m  accel: Bool true\n",
      "\u001b[36m\u001b[1m│ \u001b[22m\u001b[39m  max_iter: Int32 1000\n",
      "\u001b[36m\u001b[1m│ \u001b[22m\u001b[39m  tol: Float64 0.0001\n",
      "\u001b[36m\u001b[1m│ \u001b[22m\u001b[39m  max_inner: Int32 100\n",
      "\u001b[36m\u001b[1m│ \u001b[22m\u001b[39m  beta: Float64 0.8\n",
      "\u001b[36m\u001b[1m└ \u001b[22m\u001b[39m  gram: Bool false\n",
      "\u001b[36m\u001b[1m[ \u001b[22m\u001b[39m\u001b[36m\u001b[1mInfo: \u001b[22m\u001b[39mTraining machine(LassoRegressor(lambda = 0.31622776601683794, …), …).\n",
      "\u001b[36m\u001b[1m┌ \u001b[22m\u001b[39m\u001b[36m\u001b[1mInfo: \u001b[22m\u001b[39mSolver: ProxGrad\n",
      "\u001b[36m\u001b[1m│ \u001b[22m\u001b[39m  accel: Bool true\n",
      "\u001b[36m\u001b[1m│ \u001b[22m\u001b[39m  max_iter: Int32 1000\n",
      "\u001b[36m\u001b[1m│ \u001b[22m\u001b[39m  tol: Float64 0.0001\n",
      "\u001b[36m\u001b[1m│ \u001b[22m\u001b[39m  max_inner: Int32 100\n",
      "\u001b[36m\u001b[1m│ \u001b[22m\u001b[39m  beta: Float64 0.8\n",
      "\u001b[36m\u001b[1m└ \u001b[22m\u001b[39m  gram: Bool false\n",
      "\u001b[36m\u001b[1m[ \u001b[22m\u001b[39m\u001b[36m\u001b[1mInfo: \u001b[22m\u001b[39mTraining machine(LassoRegressor(lambda = 0.5623413251903491, …), …).\n",
      "\u001b[36m\u001b[1m┌ \u001b[22m\u001b[39m\u001b[36m\u001b[1mInfo: \u001b[22m\u001b[39mSolver: ProxGrad\n",
      "\u001b[36m\u001b[1m│ \u001b[22m\u001b[39m  accel: Bool true\n",
      "\u001b[36m\u001b[1m│ \u001b[22m\u001b[39m  max_iter: Int32 1000\n",
      "\u001b[36m\u001b[1m│ \u001b[22m\u001b[39m  tol: Float64 0.0001\n",
      "\u001b[36m\u001b[1m│ \u001b[22m\u001b[39m  max_inner: Int32 100\n",
      "\u001b[36m\u001b[1m│ \u001b[22m\u001b[39m  beta: Float64 0.8\n",
      "\u001b[36m\u001b[1m└ \u001b[22m\u001b[39m  gram: Bool false\n",
      "\u001b[36m\u001b[1m[ \u001b[22m\u001b[39m\u001b[36m\u001b[1mInfo: \u001b[22m\u001b[39mTraining machine(LassoRegressor(lambda = 1.0, …), …).\n",
      "\u001b[36m\u001b[1m┌ \u001b[22m\u001b[39m\u001b[36m\u001b[1mInfo: \u001b[22m\u001b[39mSolver: ProxGrad\n",
      "\u001b[36m\u001b[1m│ \u001b[22m\u001b[39m  accel: Bool true\n",
      "\u001b[36m\u001b[1m│ \u001b[22m\u001b[39m  max_iter: Int32 1000\n",
      "\u001b[36m\u001b[1m│ \u001b[22m\u001b[39m  tol: Float64 0.0001\n",
      "\u001b[36m\u001b[1m│ \u001b[22m\u001b[39m  max_inner: Int32 100\n",
      "\u001b[36m\u001b[1m│ \u001b[22m\u001b[39m  beta: Float64 0.8\n",
      "\u001b[36m\u001b[1m└ \u001b[22m\u001b[39m  gram: Bool false\n",
      "\u001b[36m\u001b[1m[ \u001b[22m\u001b[39m\u001b[36m\u001b[1mInfo: \u001b[22m\u001b[39mTraining machine(LassoRegressor(lambda = 1.7782794100389228, …), …).\n",
      "\u001b[36m\u001b[1m┌ \u001b[22m\u001b[39m\u001b[36m\u001b[1mInfo: \u001b[22m\u001b[39mSolver: ProxGrad\n",
      "\u001b[36m\u001b[1m│ \u001b[22m\u001b[39m  accel: Bool true\n",
      "\u001b[36m\u001b[1m│ \u001b[22m\u001b[39m  max_iter: Int32 1000\n",
      "\u001b[36m\u001b[1m│ \u001b[22m\u001b[39m  tol: Float64 0.0001\n",
      "\u001b[36m\u001b[1m│ \u001b[22m\u001b[39m  max_inner: Int32 100\n",
      "\u001b[36m\u001b[1m│ \u001b[22m\u001b[39m  beta: Float64 0.8\n",
      "\u001b[36m\u001b[1m└ \u001b[22m\u001b[39m  gram: Bool false\n",
      "\u001b[36m\u001b[1m[ \u001b[22m\u001b[39m\u001b[36m\u001b[1mInfo: \u001b[22m\u001b[39mTraining machine(LassoRegressor(lambda = 3.1622776601683795, …), …).\n",
      "\u001b[36m\u001b[1m┌ \u001b[22m\u001b[39m\u001b[36m\u001b[1mInfo: \u001b[22m\u001b[39mSolver: ProxGrad\n",
      "\u001b[36m\u001b[1m│ \u001b[22m\u001b[39m  accel: Bool true\n",
      "\u001b[36m\u001b[1m│ \u001b[22m\u001b[39m  max_iter: Int32 1000\n",
      "\u001b[36m\u001b[1m│ \u001b[22m\u001b[39m  tol: Float64 0.0001\n",
      "\u001b[36m\u001b[1m│ \u001b[22m\u001b[39m  max_inner: Int32 100\n",
      "\u001b[36m\u001b[1m│ \u001b[22m\u001b[39m  beta: Float64 0.8\n",
      "\u001b[36m\u001b[1m└ \u001b[22m\u001b[39m  gram: Bool false\n",
      "\u001b[36m\u001b[1m[ \u001b[22m\u001b[39m\u001b[36m\u001b[1mInfo: \u001b[22m\u001b[39mTraining machine(LassoRegressor(lambda = 5.623413251903491, …), …).\n",
      "\u001b[36m\u001b[1m┌ \u001b[22m\u001b[39m\u001b[36m\u001b[1mInfo: \u001b[22m\u001b[39mSolver: ProxGrad\n",
      "\u001b[36m\u001b[1m│ \u001b[22m\u001b[39m  accel: Bool true\n",
      "\u001b[36m\u001b[1m│ \u001b[22m\u001b[39m  max_iter: Int32 1000\n",
      "\u001b[36m\u001b[1m│ \u001b[22m\u001b[39m  tol: Float64 0.0001\n",
      "\u001b[36m\u001b[1m│ \u001b[22m\u001b[39m  max_inner: Int32 100\n",
      "\u001b[36m\u001b[1m│ \u001b[22m\u001b[39m  beta: Float64 0.8\n",
      "\u001b[36m\u001b[1m└ \u001b[22m\u001b[39m  gram: Bool false\n",
      "\u001b[36m\u001b[1m[ \u001b[22m\u001b[39m\u001b[36m\u001b[1mInfo: \u001b[22m\u001b[39mTraining machine(LassoRegressor(lambda = 10.0, …), …).\n",
      "\u001b[36m\u001b[1m┌ \u001b[22m\u001b[39m\u001b[36m\u001b[1mInfo: \u001b[22m\u001b[39mSolver: ProxGrad\n",
      "\u001b[36m\u001b[1m│ \u001b[22m\u001b[39m  accel: Bool true\n",
      "\u001b[36m\u001b[1m│ \u001b[22m\u001b[39m  max_iter: Int32 1000\n",
      "\u001b[36m\u001b[1m│ \u001b[22m\u001b[39m  tol: Float64 0.0001\n",
      "\u001b[36m\u001b[1m│ \u001b[22m\u001b[39m  max_inner: Int32 100\n",
      "\u001b[36m\u001b[1m│ \u001b[22m\u001b[39m  beta: Float64 0.8\n",
      "\u001b[36m\u001b[1m└ \u001b[22m\u001b[39m  gram: Bool false\n",
      "\u001b[36m\u001b[1m[ \u001b[22m\u001b[39m\u001b[36m\u001b[1mInfo: \u001b[22m\u001b[39mTraining machine(LassoRegressor(lambda = 17.78279410038923, …), …).\n",
      "\u001b[36m\u001b[1m┌ \u001b[22m\u001b[39m\u001b[36m\u001b[1mInfo: \u001b[22m\u001b[39mSolver: ProxGrad\n",
      "\u001b[36m\u001b[1m│ \u001b[22m\u001b[39m  accel: Bool true\n",
      "\u001b[36m\u001b[1m│ \u001b[22m\u001b[39m  max_iter: Int32 1000\n",
      "\u001b[36m\u001b[1m│ \u001b[22m\u001b[39m  tol: Float64 0.0001\n",
      "\u001b[36m\u001b[1m│ \u001b[22m\u001b[39m  max_inner: Int32 100\n",
      "\u001b[36m\u001b[1m│ \u001b[22m\u001b[39m  beta: Float64 0.8\n",
      "\u001b[36m\u001b[1m└ \u001b[22m\u001b[39m  gram: Bool false\n",
      "\u001b[36m\u001b[1m[ \u001b[22m\u001b[39m\u001b[36m\u001b[1mInfo: \u001b[22m\u001b[39mTraining machine(LassoRegressor(lambda = 31.622776601683793, …), …).\n",
      "\u001b[36m\u001b[1m┌ \u001b[22m\u001b[39m\u001b[36m\u001b[1mInfo: \u001b[22m\u001b[39mSolver: ProxGrad\n",
      "\u001b[36m\u001b[1m│ \u001b[22m\u001b[39m  accel: Bool true\n",
      "\u001b[36m\u001b[1m│ \u001b[22m\u001b[39m  max_iter: Int32 1000\n",
      "\u001b[36m\u001b[1m│ \u001b[22m\u001b[39m  tol: Float64 0.0001\n",
      "\u001b[36m\u001b[1m│ \u001b[22m\u001b[39m  max_inner: Int32 100\n",
      "\u001b[36m\u001b[1m│ \u001b[22m\u001b[39m  beta: Float64 0.8\n",
      "\u001b[36m\u001b[1m└ \u001b[22m\u001b[39m  gram: Bool false\n",
      "\u001b[36m\u001b[1m[ \u001b[22m\u001b[39m\u001b[36m\u001b[1mInfo: \u001b[22m\u001b[39mTraining machine(LassoRegressor(lambda = 56.23413251903491, …), …).\n",
      "\u001b[36m\u001b[1m┌ \u001b[22m\u001b[39m\u001b[36m\u001b[1mInfo: \u001b[22m\u001b[39mSolver: ProxGrad\n",
      "\u001b[36m\u001b[1m│ \u001b[22m\u001b[39m  accel: Bool true\n",
      "\u001b[36m\u001b[1m│ \u001b[22m\u001b[39m  max_iter: Int32 1000\n",
      "\u001b[36m\u001b[1m│ \u001b[22m\u001b[39m  tol: Float64 0.0001\n",
      "\u001b[36m\u001b[1m│ \u001b[22m\u001b[39m  max_inner: Int32 100\n",
      "\u001b[36m\u001b[1m│ \u001b[22m\u001b[39m  beta: Float64 0.8\n",
      "\u001b[36m\u001b[1m└ \u001b[22m\u001b[39m  gram: Bool false\n",
      "\u001b[36m\u001b[1m[ \u001b[22m\u001b[39m\u001b[36m\u001b[1mInfo: \u001b[22m\u001b[39mTraining machine(LassoRegressor(lambda = 100.0, …), …).\n",
      "\u001b[36m\u001b[1m┌ \u001b[22m\u001b[39m\u001b[36m\u001b[1mInfo: \u001b[22m\u001b[39mSolver: ProxGrad\n",
      "\u001b[36m\u001b[1m│ \u001b[22m\u001b[39m  accel: Bool true\n",
      "\u001b[36m\u001b[1m│ \u001b[22m\u001b[39m  max_iter: Int32 1000\n",
      "\u001b[36m\u001b[1m│ \u001b[22m\u001b[39m  tol: Float64 0.0001\n",
      "\u001b[36m\u001b[1m│ \u001b[22m\u001b[39m  max_inner: Int32 100\n",
      "\u001b[36m\u001b[1m│ \u001b[22m\u001b[39m  beta: Float64 0.8\n",
      "\u001b[36m\u001b[1m└ \u001b[22m\u001b[39m  gram: Bool false\n"
     ]
    },
    {
     "data": {
      "image/png": "[encoded data removed]",
      "text/plain": [
       "Figure(PyObject <Figure size 640x480 with 1 Axes>)"
      ]
     },
     "metadata": {},
     "output_type": "display_data"
    },
    {
     "data": {
      "image/png": "[encoded data removed]",
      "text/plain": [
       "Figure(PyObject <Figure size 640x480 with 1 Axes>)"
      ]
     },
     "metadata": {},
     "output_type": "display_data"
    }
   ],
   "source": [
    "λs    = 10.0 .^ range(-4, 2, length=25)\n",
    "stats = [lasso_fit_stats(λ) for λ in λs]\n",
    "\n",
    "tr_mse = first.(stats)\n",
    "te_mse = getindex.(stats, 2)\n",
    "nnz    = getindex.(stats, 3)\n",
    "\n",
    "plt.figure(); plt.plot(log10.(λs), tr_mse, label=\"MSE train\")\n",
    "plt.plot(log10.(λs), te_mse, label=\"MSE test\")\n",
    "plt.xlabel(\"log10(λ)\"); plt.ylabel(\"MSE\"); plt.legend(); plt.title(\"Error vs regularización\");\n",
    "\n",
    "plt.figure(); plt.plot(log10.(λs), nnz, marker=\"o\")\n",
    "plt.xlabel(\"log10(λ)\"); plt.ylabel(\"# coeficientes ≠ 0\"); plt.title(\"Sparsidad vs λ\");\n"
   ]
  },
  {
   "cell_type": "code",
   "execution_count": 55,
   "id": "23ec8fac-9fcf-4627-94d8-4d8afd736c18",
   "metadata": {},
   "outputs": [
    {
     "name": "stderr",
     "output_type": "stream",
     "text": [
      "\u001b[36m\u001b[1m[ \u001b[22m\u001b[39m\u001b[36m\u001b[1mInfo: \u001b[22m\u001b[39mTraining machine(DeterministicTunedModel(model = LassoRegressor(lambda = 1.0, …), …), …).\n",
      "\u001b[36m\u001b[1m[ \u001b[22m\u001b[39m\u001b[36m\u001b[1mInfo: \u001b[22m\u001b[39mAttempting to evaluate 25 models.\n",
      "\u001b[33mEvaluating over 25 metamodels: 100%[=========================] Time: 0:00:13\u001b[39m\n"
     ]
    },
    {
     "name": "stdout",
     "output_type": "stream",
     "text": [
      "λ óptimo por CV = 0.05623413251903491\n"
     ]
    },
    {
     "data": {
      "image/png": "[encoded data removed]",
      "text/plain": [
       "Figure(PyObject <Figure size 640x480 with 1 Axes>)"
      ]
     },
     "metadata": {},
     "output_type": "display_data"
    },
    {
     "data": {
      "image/png": "[encoded data removed]",
      "text/plain": [
       "Figure(PyObject <Figure size 640x480 with 1 Axes>)"
      ]
     },
     "metadata": {},
     "output_type": "display_data"
    }
   ],
   "source": [
    "# λ óptimo con validación cruzada (5-fold)\n",
    "cv   = CV(nfolds=5, shuffle=true, rng=123)\n",
    "base = LassoRegressor()\n",
    "rλ   = range(base, :lambda, lower=1e-4, upper=1e2, scale=:log10)\n",
    "tm   = TunedModel(model=base, resampling=cv, tuning=Grid(resolution=25),\n",
    "                  range=rλ, measure=rms)\n",
    "tmch = machine(tm, Ztr, ytr) |> fit!\n",
    "bestλ = fitted_params(tmch).best_model.lambda\n",
    "println(\"λ óptimo por CV = \", bestλ)\n",
    "\n",
    "# remarcar λ óptimo en la curva de error\n",
    "plt.figure(); plt.plot(log10.(λs), tr_mse, label=\"MSE train\")\n",
    "plt.plot(log10.(λs), te_mse, label=\"MSE test\")\n",
    "plt.axvline(log10(bestλ)); plt.legend(); plt.xlabel(\"log10(λ)\"); plt.ylabel(\"MSE\")\n",
    "plt.title(\"CV: λ óptimo (línea)\")\n",
    "\n",
    "# boceto del split k-fold (1 = validación en cada fila)\n",
    "k = 5; npts = length(ytr); M = zeros(Int, k, npts)\n",
    "perm = randperm(npts); cuts = round.(Int, range(0, npts, length=k+1))\n",
    "for i in 1:k\n",
    "    M[i, perm[cuts[i]+1 : cuts[i+1]]] .= 1\n",
    "end\n",
    "plt.figure(); plt.imshow(M, aspect=\"auto\")\n",
    "plt.xlabel(\"índice de observación\"); plt.ylabel(\"fold\"); plt.title(\"Esquema k-fold (1 = validación)\");\n"
   ]
  },
  {
   "cell_type": "code",
   "execution_count": null,
   "id": "f18443e8-0ca2-44f0-938e-71d7f807b9a0",
   "metadata": {},
   "outputs": [],
   "source": []
  },
  {
   "cell_type": "code",
   "execution_count": null,
   "id": "42d11968-3cee-473d-9ef1-ff25e4282e62",
   "metadata": {},
   "outputs": [],
   "source": []
  }
 ],
 "metadata": {
  "kernelspec": {
   "display_name": "Julia 1.11.6",
   "language": "julia",
   "name": "julia-1.11"
  },
  "language_info": {
   "file_extension": ".jl",
   "mimetype": "application/julia",
   "name": "julia",
   "version": "1.11.6"
  }
 },
 "nbformat": 4,
 "nbformat_minor": 5
}

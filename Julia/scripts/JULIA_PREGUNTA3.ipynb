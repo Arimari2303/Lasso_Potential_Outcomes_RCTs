{
 "cells": [
  {
   "cell_type": "code",
   "execution_count": 2,
   "id": "e04caeff-0b4c-45dc-afc5-0e548131e3c7",
   "metadata": {},
   "outputs": [
    {
     "ename": "LoadError",
     "evalue": "MethodError: no method matching installed(::String)\nThe function `installed` exists, but no method is defined for this combination of argument types.\n\n\u001b[0mClosest candidates are:\n\u001b[0m  installed()\n\u001b[0m\u001b[90m   @\u001b[39m \u001b[35mPkg\u001b[39m \u001b[90mC:\\Users\\ARIANA\\AppData\\Local\\Programs\\Julia-1.11.6\\share\\julia\\stdlib\\v1.11\\Pkg\\src\\\u001b[39m\u001b[90m\u001b[4mPkg.jl:784\u001b[24m\u001b[39m\n",
     "output_type": "error",
     "traceback": [
      "MethodError: no method matching installed(::String)\nThe function `installed` exists, but no method is defined for this combination of argument types.\n\n\u001b[0mClosest candidates are:\n\u001b[0m  installed()\n\u001b[0m\u001b[90m   @\u001b[39m \u001b[35mPkg\u001b[39m \u001b[90mC:\\Users\\ARIANA\\AppData\\Local\\Programs\\Julia-1.11.6\\share\\julia\\stdlib\\v1.11\\Pkg\\src\\\u001b[39m\u001b[90m\u001b[4mPkg.jl:784\u001b[24m\u001b[39m\n",
      "",
      "Stacktrace:",
      " [1] top-level scope",
      "\u001b[90m   @\u001b[39m \u001b[90m.\\\u001b[39m\u001b[90m\u001b[4mIn[2]:5\u001b[24m\u001b[39m"
     ]
    }
   ],
   "source": [
    "using Pkg\n",
    "\n",
    "# Instalar si no están\n",
    "for pkg in [\"DataFrames\", \"Distributions\", \"GLM\", \"HypothesisTests\", \"Lasso\"]\n",
    "    if !Pkg.installed(pkg)\n",
    "        Pkg.add(pkg)\n",
    "    end\n",
    "end\n",
    "\n",
    "# Cargar librerías\n",
    "using DataFrames\n",
    "using Distributions\n",
    "using GLM\n",
    "using HypothesisTests\n",
    "using Lasso\n",
    "\n",
    "println(\"✓ Todas las librerías listas\")"
   ]
  },
  {
   "cell_type": "code",
   "execution_count": 4,
   "id": "6de36e37-3844-4a53-a8e0-3667a90fe62d",
   "metadata": {},
   "outputs": [
    {
     "name": "stdout",
     "output_type": "stream",
     "text": [
      "Set([\"DataFrames\", \"MLJLinearModels\", \"Lasso\", \"Distributions\", \"GLM\", \"HypothesisTests\"])\n"
     ]
    }
   ],
   "source": [
    "names = Set([info.name for (_, info) in Pkg.dependencies()])\n",
    "println(names ∩ Set([\"DataFrames\",\"Distributions\",\"GLM\",\"HypothesisTests\",\"Lasso\",\"MLJLinearModels\"]))"
   ]
  },
  {
   "cell_type": "code",
   "execution_count": 6,
   "id": "b9ae727a-32f9-405a-a2f2-30c19ab381ff",
   "metadata": {},
   "outputs": [
    {
     "name": "stderr",
     "output_type": "stream",
     "text": [
      "\u001b[32m\u001b[1m   Resolving\u001b[22m\u001b[39m package versions...\n",
      "\u001b[32m\u001b[1m  No Changes\u001b[22m\u001b[39m to `C:\\Users\\ARIANA\\Project.toml`\n",
      "\u001b[32m\u001b[1m  No Changes\u001b[22m\u001b[39m to `C:\\Users\\ARIANA\\Manifest.toml`\n",
      "\u001b[32m\u001b[1m   Resolving\u001b[22m\u001b[39m package versions...\n",
      "\u001b[32m\u001b[1m  No Changes\u001b[22m\u001b[39m to `C:\\Users\\ARIANA\\Project.toml`\n",
      "\u001b[32m\u001b[1m  No Changes\u001b[22m\u001b[39m to `C:\\Users\\ARIANA\\Manifest.toml`\n",
      "\u001b[32m\u001b[1m   Resolving\u001b[22m\u001b[39m package versions...\n",
      "\u001b[32m\u001b[1m  No Changes\u001b[22m\u001b[39m to `C:\\Users\\ARIANA\\Project.toml`\n",
      "\u001b[32m\u001b[1m  No Changes\u001b[22m\u001b[39m to `C:\\Users\\ARIANA\\Manifest.toml`\n",
      "\u001b[32m\u001b[1m   Resolving\u001b[22m\u001b[39m package versions...\n",
      "\u001b[32m\u001b[1m  No Changes\u001b[22m\u001b[39m to `C:\\Users\\ARIANA\\Project.toml`\n",
      "\u001b[32m\u001b[1m  No Changes\u001b[22m\u001b[39m to `C:\\Users\\ARIANA\\Manifest.toml`\n",
      "\u001b[32m\u001b[1m   Resolving\u001b[22m\u001b[39m package versions...\n",
      "\u001b[32m\u001b[1m  No Changes\u001b[22m\u001b[39m to `C:\\Users\\ARIANA\\Project.toml`\n",
      "\u001b[32m\u001b[1m  No Changes\u001b[22m\u001b[39m to `C:\\Users\\ARIANA\\Manifest.toml`\n"
     ]
    },
    {
     "name": "stdout",
     "output_type": "stream",
     "text": [
      "✓ Todas las librerías listas\n"
     ]
    }
   ],
   "source": [
    "using Pkg\n",
    "\n",
    "# Paquetes objetivo\n",
    "pkgs = [\"DataFrames\",\"Distributions\",\"GLM\",\"HypothesisTests\",\"Lasso\"]\n",
    "\n",
    "# Instala o actualiza a la versión compatible (idempotente)\n",
    "for p in pkgs\n",
    "    try\n",
    "        Pkg.add(p)\n",
    "    catch e\n",
    "        @warn \"No se pudo instalar $(p)\" exception=e\n",
    "    end\n",
    "end\n",
    "\n",
    "# Carga básicos\n",
    "using DataFrames\n",
    "using Distributions\n",
    "using GLM\n",
    "using HypothesisTests\n",
    "\n",
    "# Lasso: si falla, cae a alternativa\n",
    "try\n",
    "    using Lasso\n",
    "catch\n",
    "    @info \"Paquete Lasso no disponible. Instalando alternativa MLJLinearModels (L1).\"\n",
    "    Pkg.add(\"MLJLinearModels\")\n",
    "    using MLJLinearModels\n",
    "end\n",
    "\n",
    "println(\"✓ Todas las librerías listas\")"
   ]
  },
  {
   "cell_type": "code",
   "execution_count": 8,
   "id": "2d76d805-f8c9-4987-9458-c64c2ab421e6",
   "metadata": {},
   "outputs": [
    {
     "data": {
      "text/plain": [
       "1000-element Vector{Float64}:\n",
       "  0.7768113331191083\n",
       " -0.2602114854397375\n",
       "  0.03960482391335382\n",
       "  0.799281986744393\n",
       "  1.5031486251776052\n",
       " -0.4579783404994724\n",
       "  0.26599370423462365\n",
       " -0.969281186279706\n",
       "  0.9007027430415538\n",
       "  3.5970176475017626\n",
       "  1.2012396854805574\n",
       "  2.477306063967831\n",
       "  1.1385671502470969\n",
       "  ⋮\n",
       "  0.5055518733172706\n",
       "  2.0007185862221304\n",
       "  1.4461040934328426\n",
       "  0.43756249400442626\n",
       "  1.9840803937753524\n",
       "  1.4305308755318278\n",
       "  1.9296898518403791\n",
       "  0.2941845243101905\n",
       "  1.9422745497949871\n",
       "  0.008397572026267675\n",
       " -0.029111158491312544\n",
       "  3.192716729419783"
      ]
     },
     "execution_count": 8,
     "metadata": {},
     "output_type": "execute_result"
    }
   ],
   "source": [
    "using Random, Distributions\n",
    "\n",
    "Random.seed!(42)\n",
    "n = 1000\n",
    "\n",
    "# Covariables\n",
    "X1 = rand(Normal(0,1), n)\n",
    "X3 = rand(Normal(0,1), n)\n",
    "X2 = rand(Binomial(1,0.5), n)\n",
    "X4 = rand(Binomial(1,0.5), n)\n",
    "\n",
    "# Tratamiento\n",
    "D  = rand(Binomial(1,0.5), n)\n",
    "\n",
    "# Error\n",
    "ϵ  = rand(Normal(0,1), n)\n",
    "\n",
    "# Outcome\n",
    "Y = 2 .* D .+ 0.5 .* X1 .- 0.3 .* X2 .+ 0.2 .* X3 .+ ϵ"
   ]
  },
  {
   "cell_type": "code",
   "execution_count": 12,
   "id": "614858d8-caf1-4477-9440-ed87eb34fddc",
   "metadata": {},
   "outputs": [
    {
     "name": "stdout",
     "output_type": "stream",
     "text": [
      "============================================================\n",
      "3.1 DATA SIMULATION - COMPLETADO\n",
      "============================================================\n",
      "Primeras 5 filas:\n"
     ]
    },
    {
     "data": {
      "text/html": [
       "<div><div style = \"float: left;\"><span>5×6 DataFrame</span></div><div style = \"clear: both;\"></div></div><div class = \"data-frame\" style = \"overflow-x: scroll;\"><table class = \"data-frame\" style = \"margin-bottom: 6px;\"><thead><tr class = \"header\"><th class = \"rowNumber\" style = \"font-weight: bold; text-align: right;\">Row</th><th style = \"text-align: left;\">Y</th><th style = \"text-align: left;\">D</th><th style = \"text-align: left;\">X1</th><th style = \"text-align: left;\">X2</th><th style = \"text-align: left;\">X3</th><th style = \"text-align: left;\">X4</th></tr><tr class = \"subheader headerLastRow\"><th class = \"rowNumber\" style = \"font-weight: bold; text-align: right;\"></th><th title = \"Float64\" style = \"text-align: left;\">Float64</th><th title = \"Int32\" style = \"text-align: left;\">Int32</th><th title = \"Float64\" style = \"text-align: left;\">Float64</th><th title = \"Int32\" style = \"text-align: left;\">Int32</th><th title = \"Float64\" style = \"text-align: left;\">Float64</th><th title = \"Int32\" style = \"text-align: left;\">Int32</th></tr></thead><tbody><tr><td class = \"rowNumber\" style = \"font-weight: bold; text-align: right;\">1</td><td style = \"text-align: right;\">0.776811</td><td style = \"text-align: right;\">1</td><td style = \"text-align: right;\">-0.363357</td><td style = \"text-align: right;\">1</td><td style = \"text-align: right;\">-0.01988</td><td style = \"text-align: right;\">1</td></tr><tr><td class = \"rowNumber\" style = \"font-weight: bold; text-align: right;\">2</td><td style = \"text-align: right;\">-0.260211</td><td style = \"text-align: right;\">1</td><td style = \"text-align: right;\">0.251737</td><td style = \"text-align: right;\">1</td><td style = \"text-align: right;\">0.218246</td><td style = \"text-align: right;\">0</td></tr><tr><td class = \"rowNumber\" style = \"font-weight: bold; text-align: right;\">3</td><td style = \"text-align: right;\">0.0396048</td><td style = \"text-align: right;\">0</td><td style = \"text-align: right;\">-0.314988</td><td style = \"text-align: right;\">1</td><td style = \"text-align: right;\">1.52856</td><td style = \"text-align: right;\">1</td></tr><tr><td class = \"rowNumber\" style = \"font-weight: bold; text-align: right;\">4</td><td style = \"text-align: right;\">0.799282</td><td style = \"text-align: right;\">0</td><td style = \"text-align: right;\">-0.311252</td><td style = \"text-align: right;\">0</td><td style = \"text-align: right;\">-0.764316</td><td style = \"text-align: right;\">0</td></tr><tr><td class = \"rowNumber\" style = \"font-weight: bold; text-align: right;\">5</td><td style = \"text-align: right;\">1.50315</td><td style = \"text-align: right;\">1</td><td style = \"text-align: right;\">0.816307</td><td style = \"text-align: right;\">1</td><td style = \"text-align: right;\">-2.02765</td><td style = \"text-align: right;\">1</td></tr></tbody></table></div>"
      ],
      "text/latex": [
       "\\begin{tabular}{r|cccccc}\n",
       "\t& Y & D & X1 & X2 & X3 & X4\\\\\n",
       "\t\\hline\n",
       "\t& Float64 & Int32 & Float64 & Int32 & Float64 & Int32\\\\\n",
       "\t\\hline\n",
       "\t1 & 0.776811 & 1 & -0.363357 & 1 & -0.01988 & 1 \\\\\n",
       "\t2 & -0.260211 & 1 & 0.251737 & 1 & 0.218246 & 0 \\\\\n",
       "\t3 & 0.0396048 & 0 & -0.314988 & 1 & 1.52856 & 1 \\\\\n",
       "\t4 & 0.799282 & 0 & -0.311252 & 0 & -0.764316 & 0 \\\\\n",
       "\t5 & 1.50315 & 1 & 0.816307 & 1 & -2.02765 & 1 \\\\\n",
       "\\end{tabular}\n"
      ],
      "text/plain": [
       "\u001b[1m5×6 DataFrame\u001b[0m\n",
       "\u001b[1m Row \u001b[0m│\u001b[1m Y          \u001b[0m\u001b[1m D     \u001b[0m\u001b[1m X1        \u001b[0m\u001b[1m X2    \u001b[0m\u001b[1m X3        \u001b[0m\u001b[1m X4    \u001b[0m\n",
       "     │\u001b[90m Float64    \u001b[0m\u001b[90m Int32 \u001b[0m\u001b[90m Float64   \u001b[0m\u001b[90m Int32 \u001b[0m\u001b[90m Float64   \u001b[0m\u001b[90m Int32 \u001b[0m\n",
       "─────┼───────────────────────────────────────────────────────\n",
       "   1 │  0.776811       1  -0.363357      1  -0.01988       1\n",
       "   2 │ -0.260211       1   0.251737      1   0.218246      0\n",
       "   3 │  0.0396048      0  -0.314988      1   1.52856       1\n",
       "   4 │  0.799282       0  -0.311252      0  -0.764316      0\n",
       "   5 │  1.50315        1   0.816307      1  -2.02765       1"
      ]
     },
     "metadata": {},
     "output_type": "display_data"
    },
    {
     "name": "stdout",
     "output_type": "stream",
     "text": [
      "Dimensión del DataFrame: (1000, 6)\n"
     ]
    }
   ],
   "source": [
    "using DataFrames\n",
    "\n",
    "df = DataFrame(Y=Y, D=D, X1=X1, X2=X2, X3=X3, X4=X4)\n",
    "\n",
    "println(\"=\"^60)\n",
    "println(\"3.1 DATA SIMULATION - COMPLETADO\")\n",
    "println(\"=\"^60)\n",
    "println(\"Primeras 5 filas:\")\n",
    "display(first(df, 5))\n",
    "println(\"Dimensión del DataFrame: \", size(df))"
   ]
  },
  {
   "cell_type": "code",
   "execution_count": 14,
   "id": "c9335f83-63e5-478e-8dc8-714513cbe3fb",
   "metadata": {},
   "outputs": [
    {
     "name": "stdout",
     "output_type": "stream",
     "text": [
      "\n",
      "BALANCE CHECK - Comparación de medias\n",
      "X1:\n",
      "  Media tratamiento: -0.061429513646864324\n",
      "  Media control:     -0.0588083593394067\n",
      "  Diferencia:        -0.0026211543074576224\n",
      "  p-valor:           0.9665323026719614\n",
      "----------------------------------------\n",
      "X2:\n",
      "  Media tratamiento: 0.536144578313253\n",
      "  Media control:     0.48406374501992033\n",
      "  Diferencia:        0.052080833293332685\n",
      "  p-valor:           0.0996962104234329\n",
      "----------------------------------------\n",
      "X3:\n",
      "  Media tratamiento: 0.024307422156750916\n",
      "  Media control:     0.013996148542409171\n",
      "  Diferencia:        0.010311273614341745\n",
      "  p-valor:           0.8725831710469407\n",
      "----------------------------------------\n",
      "X4:\n",
      "  Media tratamiento: 0.5281124497991968\n",
      "  Media control:     0.5059760956175299\n",
      "  Diferencia:        0.02213635418166693\n",
      "  p-valor:           0.484160686513487\n",
      "----------------------------------------\n"
     ]
    }
   ],
   "source": [
    "using HypothesisTests, Statistics\n",
    "\n",
    "tratamiento = filter(:D => ==(1), df)\n",
    "control     = filter(:D => ==(0), df)\n",
    "\n",
    "function balance_check(var::Symbol)\n",
    "    x = tratamiento[:, var]; y = control[:, var]\n",
    "    test = UnequalVarianceTTest(x, y)\n",
    "    println(string(var), \":\")\n",
    "    println(\"  Media tratamiento: \", mean(x))\n",
    "    println(\"  Media control:     \", mean(y))\n",
    "    println(\"  Diferencia:        \", mean(x) - mean(y))\n",
    "    println(\"  p-valor:           \", pvalue(test))\n",
    "    println(\"-\"^40)\n",
    "end\n",
    "\n",
    "println(\"\\nBALANCE CHECK - Comparación de medias\")\n",
    "for v in (:X1, :X2, :X3, :X4)\n",
    "    balance_check(v)\n",
    "end\n"
   ]
  },
  {
   "cell_type": "code",
   "execution_count": 16,
   "id": "a94577cc-86d1-4515-8b9a-5ce384a0454c",
   "metadata": {},
   "outputs": [
    {
     "name": "stdout",
     "output_type": "stream",
     "text": [
      "=== REGRESIÓN SIMPLE (Y ~ D) ===\n"
     ]
    },
    {
     "ename": "LoadError",
     "evalue": "UndefVarError: `coeftable` not defined in `Main`\nHint: It looks like two or more modules export different bindings with this name, resulting in ambiguity. Try explicitly importing it from a particular module, or qualifying the name with the module it should come from.\nHint: a global variable of this name may be made accessible by importing StatsBase in the current active module Main\nHint: a global variable of this name also exists in GLM.\nHint: a global variable of this name also exists in Lasso.",
     "output_type": "error",
     "traceback": [
      "UndefVarError: `coeftable` not defined in `Main`\nHint: It looks like two or more modules export different bindings with this name, resulting in ambiguity. Try explicitly importing it from a particular module, or qualifying the name with the module it should come from.\nHint: a global variable of this name may be made accessible by importing StatsBase in the current active module Main\nHint: a global variable of this name also exists in GLM.\nHint: a global variable of this name also exists in Lasso.",
      "",
      "Stacktrace:",
      " [1] top-level scope",
      "\u001b[90m   @\u001b[39m \u001b[90m\u001b[4mIn[16]:5\u001b[24m\u001b[39m"
     ]
    }
   ],
   "source": [
    "using GLM, StatsModels, Statistics\n",
    "\n",
    "modelo_simple = lm(@formula(Y ~ D), df)\n",
    "println(\"=== REGRESIÓN SIMPLE (Y ~ D) ===\")\n",
    "display(coeftable(modelo_simple))\n",
    "\n",
    "β_D_simple  = coef(modelo_simple)[2]\n",
    "se_D_simple = stderror(modelo_simple)[2]\n",
    "println(\"Coef. D (ATE): \", round(β_D_simple, digits=3))\n",
    "println(\"SE:            \", round(se_D_simple, digits=3))\n"
   ]
  },
  {
   "cell_type": "code",
   "execution_count": 18,
   "id": "549a7667-36d8-4b46-9856-329d48dcf5a7",
   "metadata": {},
   "outputs": [
    {
     "name": "stdout",
     "output_type": "stream",
     "text": [
      "=== REGRESIÓN SIMPLE (Y ~ D) ===\n"
     ]
    },
    {
     "data": {
      "text/markdown": [
       "|             |     Coef. | Std. Error |     t | Pr(>|t|) | Lower 95% |  Upper 95% |\n",
       "|:------------|----------:|-----------:|------:|:---------|:----------|-----------:|\n",
       "| (Intercept) | -0.156536 |  0.0517306 | -3.03 |   0.0025 | -0.258049 | -0.0550224 |\n",
       "| D           |  1.96305  |  0.0733049 | 26.78 |   <1e-99 |  1.8192   |  2.1069 |"
      ],
      "text/plain": [
       "──────────────────────────────────────────────────────────────────────────\n",
       "                 Coef.  Std. Error      t  Pr(>|t|)  Lower 95%   Upper 95%\n",
       "──────────────────────────────────────────────────────────────────────────\n",
       "(Intercept)  -0.156536   0.0517306  -3.03    0.0025  -0.258049  -0.0550224\n",
       "D             1.96305    0.0733049  26.78    <1e-99   1.8192     2.1069\n",
       "──────────────────────────────────────────────────────────────────────────"
      ]
     },
     "metadata": {},
     "output_type": "display_data"
    },
    {
     "name": "stdout",
     "output_type": "stream",
     "text": [
      "Coef. D (ATE): 1.963\n",
      "SE:            0.073\n"
     ]
    }
   ],
   "source": [
    "using GLM, StatsModels, Statistics\n",
    "\n",
    "modelo_simple = lm(@formula(Y ~ D), df)\n",
    "println(\"=== REGRESIÓN SIMPLE (Y ~ D) ===\")\n",
    "display(GLM.coeftable(modelo_simple))\n",
    "\n",
    "β_D_simple  = coef(modelo_simple)[2]\n",
    "se_D_simple = stderror(modelo_simple)[2]\n",
    "println(\"Coef. D (ATE): \", round(β_D_simple, digits=3))\n",
    "println(\"SE:            \", round(se_D_simple, digits=3))\n"
   ]
  },
  {
   "cell_type": "code",
   "execution_count": 20,
   "id": "5b26393a-3252-48fd-a422-5636dbc446ae",
   "metadata": {},
   "outputs": [
    {
     "name": "stdout",
     "output_type": "stream",
     "text": [
      "=== REGRESIÓN CON CONTROLES ===\n"
     ]
    },
    {
     "data": {
      "text/markdown": [
       "|             |      Coef. | Std. Error |     t | Pr(>|t|) |  Lower 95% |  Upper 95% |\n",
       "|:------------|-----------:|-----------:|------:|:---------|:-----------|-----------:|\n",
       "| (Intercept) |  0.0795487 |  0.0648201 |  1.23 |   0.2200 | -0.0476512 |  0.206749 |\n",
       "| D           |  1.98177   |  0.0653341 | 30.33 |   <1e-99 |  1.85357   |  2.10998 |\n",
       "| X1          |  0.48678   |  0.0330758 | 14.72 |   <1e-43 |  0.421873  |  0.551686 |\n",
       "| X2          | -0.319956  |  0.0653371 | -4.90 |   <1e-05 | -0.448171  | -0.191742 |\n",
       "| X3          |  0.156724  |  0.0321395 |  4.88 |   <1e-05 |  0.0936552 |  0.219793 |\n",
       "| X4          | -0.10825   |  0.0653549 | -1.66 |   0.0980 | -0.236499  |  0.0199992 |"
      ],
      "text/plain": [
       "────────────────────────────────────────────────────────────────────────────\n",
       "                  Coef.  Std. Error      t  Pr(>|t|)   Lower 95%   Upper 95%\n",
       "────────────────────────────────────────────────────────────────────────────\n",
       "(Intercept)   0.0795487   0.0648201   1.23    0.2200  -0.0476512   0.206749\n",
       "D             1.98177     0.0653341  30.33    <1e-99   1.85357     2.10998\n",
       "X1            0.48678     0.0330758  14.72    <1e-43   0.421873    0.551686\n",
       "X2           -0.319956    0.0653371  -4.90    <1e-05  -0.448171   -0.191742\n",
       "X3            0.156724    0.0321395   4.88    <1e-05   0.0936552   0.219793\n",
       "X4           -0.10825     0.0653549  -1.66    0.0980  -0.236499    0.0199992\n",
       "────────────────────────────────────────────────────────────────────────────"
      ]
     },
     "metadata": {},
     "output_type": "display_data"
    },
    {
     "name": "stdout",
     "output_type": "stream",
     "text": [
      "Coef. D (ATE): 1.982\n",
      "SE:            0.065\n"
     ]
    }
   ],
   "source": [
    "modelo_completo = lm(@formula(Y ~ D + X1 + X2 + X3 + X4), df)\n",
    "println(\"=== REGRESIÓN CON CONTROLES ===\")\n",
    "display(GLM.coeftable(modelo_completo))\n",
    "\n",
    "β_D_comp  = coef(modelo_completo)[2]\n",
    "se_D_comp = stderror(modelo_completo)[2]\n",
    "println(\"Coef. D (ATE): \", round(β_D_comp, digits=3))\n",
    "println(\"SE:            \", round(se_D_comp, digits=3))\n"
   ]
  },
  {
   "cell_type": "code",
   "execution_count": 22,
   "id": "7f2d0ad5-405c-493d-9a3e-bbc1c61448d7",
   "metadata": {},
   "outputs": [
    {
     "name": "stdout",
     "output_type": "stream",
     "text": [
      "=== COMPARACIÓN ===\n",
      "Diferencia en ATE: 0.019\n",
      "Diferencia en SE:  -0.008\n"
     ]
    }
   ],
   "source": [
    "println(\"=== COMPARACIÓN ===\")\n",
    "println(\"Diferencia en ATE: \", round(β_D_comp - β_D_simple, digits=3))\n",
    "println(\"Diferencia en SE:  \", round(se_D_comp - se_D_simple, digits=3))\n"
   ]
  },
  {
   "cell_type": "code",
   "execution_count": 38,
   "id": "15c589f6-fa08-4d71-bb3f-b5023aea5f7b",
   "metadata": {},
   "outputs": [
    {
     "name": "stdout",
     "output_type": "stream",
     "text": [
      "\n",
      "=== LASSO TEÓRICO (CD) ===\n",
      "λ (crudo): 86.88282045755983 | λ/n: 0.08688282045755984\n"
     ]
    },
    {
     "data": {
      "text/html": [
       "<div><div style = \"float: left;\"><span>4×3 DataFrame</span></div><div style = \"clear: both;\"></div></div><div class = \"data-frame\" style = \"overflow-x: scroll;\"><table class = \"data-frame\" style = \"margin-bottom: 6px;\"><thead><tr class = \"header\"><th class = \"rowNumber\" style = \"font-weight: bold; text-align: right;\">Row</th><th style = \"text-align: left;\">Variable</th><th style = \"text-align: left;\">Coeficiente</th><th style = \"text-align: left;\">Abs</th></tr><tr class = \"subheader headerLastRow\"><th class = \"rowNumber\" style = \"font-weight: bold; text-align: right;\"></th><th title = \"Symbol\" style = \"text-align: left;\">Symbol</th><th title = \"Float64\" style = \"text-align: left;\">Float64</th><th title = \"Float64\" style = \"text-align: left;\">Float64</th></tr></thead><tbody><tr><td class = \"rowNumber\" style = \"font-weight: bold; text-align: right;\">1</td><td style = \"text-align: left;\">X1</td><td style = \"text-align: right;\">0.477602</td><td style = \"text-align: right;\">0.477602</td></tr><tr><td class = \"rowNumber\" style = \"font-weight: bold; text-align: right;\">2</td><td style = \"text-align: left;\">X3</td><td style = \"text-align: right;\">0.161351</td><td style = \"text-align: right;\">0.161351</td></tr><tr><td class = \"rowNumber\" style = \"font-weight: bold; text-align: right;\">3</td><td style = \"text-align: left;\">X2</td><td style = \"text-align: right;\">-0.12236</td><td style = \"text-align: right;\">0.12236</td></tr><tr><td class = \"rowNumber\" style = \"font-weight: bold; text-align: right;\">4</td><td style = \"text-align: left;\">X4</td><td style = \"text-align: right;\">0.0303106</td><td style = \"text-align: right;\">0.0303106</td></tr></tbody></table></div>"
      ],
      "text/latex": [
       "\\begin{tabular}{r|ccc}\n",
       "\t& Variable & Coeficiente & Abs\\\\\n",
       "\t\\hline\n",
       "\t& Symbol & Float64 & Float64\\\\\n",
       "\t\\hline\n",
       "\t1 & X1 & 0.477602 & 0.477602 \\\\\n",
       "\t2 & X3 & 0.161351 & 0.161351 \\\\\n",
       "\t3 & X2 & -0.12236 & 0.12236 \\\\\n",
       "\t4 & X4 & 0.0303106 & 0.0303106 \\\\\n",
       "\\end{tabular}\n"
      ],
      "text/plain": [
       "\u001b[1m4×3 DataFrame\u001b[0m\n",
       "\u001b[1m Row \u001b[0m│\u001b[1m Variable \u001b[0m\u001b[1m Coeficiente \u001b[0m\u001b[1m Abs       \u001b[0m\n",
       "     │\u001b[90m Symbol   \u001b[0m\u001b[90m Float64     \u001b[0m\u001b[90m Float64   \u001b[0m\n",
       "─────┼──────────────────────────────────\n",
       "   1 │ X1          0.477602   0.477602\n",
       "   2 │ X3          0.161351   0.161351\n",
       "   3 │ X2         -0.12236    0.12236\n",
       "   4 │ X4          0.0303106  0.0303106"
      ]
     },
     "metadata": {},
     "output_type": "display_data"
    },
    {
     "name": "stdout",
     "output_type": "stream",
     "text": [
      "Seleccionadas (teórico): [:X1, :X3, :X2, :X4]\n"
     ]
    }
   ],
   "source": [
    "using Statistics, Distributions, DataFrames, GLM, StatsModels, LinearAlgebra\n",
    "\n",
    "soft_threshold(z, γ) = sign(z) * max(abs(z) - γ, 0.0)\n",
    "\n",
    "function lasso_cd(X::AbstractMatrix, y::AbstractVector; λ::Float64,\n",
    "                  fit_intercept::Bool=true, standardize::Bool=false,\n",
    "                  maxiter::Int=5_000, tol::Float64=1e-6)\n",
    "    Xc = copy(X); yc = copy(y)\n",
    "    μx = zeros(size(X,2)); σx = ones(size(X,2))\n",
    "    μy = 0.0\n",
    "\n",
    "    if standardize\n",
    "        for j in 1:size(X,2)\n",
    "            μx[j] = mean(Xc[:,j]); σx[j] = std(Xc[:,j])\n",
    "            σx[j] > 0 ? (Xc[:,j] .-= μx[j]; Xc[:,j] ./= σx[j]) : nothing\n",
    "        end\n",
    "    end\n",
    "    if fit_intercept\n",
    "        μy = mean(yc); yc .-= μy\n",
    "    end\n",
    "\n",
    "    n, p = size(Xc)\n",
    "    β = zeros(p)\n",
    "    r = copy(yc)\n",
    "\n",
    "    @views xnorm2 = [sum(Xc[:, j].^2) for j in 1:p]\n",
    "\n",
    "    for _ in 1:maxiter\n",
    "        maxchg = 0.0\n",
    "        @views for j in 1:p\n",
    "            r .+= β[j] .* Xc[:, j]\n",
    "            ρ = dot(Xc[:, j], r)\n",
    "            β_new = soft_threshold(ρ, λ) / xnorm2[j]\n",
    "            r .-= β_new .* Xc[:, j]\n",
    "            maxchg = max(maxchg, abs(β_new - β[j]))\n",
    "            β[j] = β_new\n",
    "        end\n",
    "        if maxchg < tol\n",
    "            break\n",
    "        end\n",
    "    end\n",
    "\n",
    "    β_out = copy(β); α = 0.0\n",
    "    if standardize\n",
    "        β_out .= β_out ./ σx\n",
    "        if fit_intercept\n",
    "            α = μy - sum(μx .* β_out)\n",
    "        end\n",
    "    else\n",
    "        if fit_intercept\n",
    "            α = μy\n",
    "        end\n",
    "    end\n",
    "    return β_out, α\n",
    "end\n",
    "\n",
    "# --- prepara datos ---\n",
    "X = Matrix(df[:, [:X1, :X2, :X3, :X4]])\n",
    "y = df.Y\n",
    "\n",
    "Xstd = copy(X)\n",
    "for j in (1, 3)\n",
    "    μ = mean(X[:, j]); σ = std(X[:, j])\n",
    "    σ > 0 ? (Xstd[:, j] .= (X[:, j] .- μ) ./ σ) : nothing\n",
    "end\n",
    "\n",
    "chernozhukov_lambda(n, p; confidence=0.95) = begin\n",
    "    c = 1.1; α = 1 - confidence; z = quantile(Normal(), 1 - α/(2p))\n",
    "    c * sqrt(n) * z\n",
    "end\n",
    "\n",
    "nX, pX = size(Xstd)\n",
    "λ_ch  = chernozhukov_lambda(nX, pX)\n",
    "λ_use = λ_ch / nX\n",
    "\n",
    "β_theo, α_theo = lasso_cd(Xstd, y; λ=λ_use, fit_intercept=true, standardize=false)\n",
    "\n",
    "pnames = [:X1, :X2, :X3, :X4]\n",
    "coef_theo_df = DataFrame(Variable=pnames, Coeficiente=β_theo)\n",
    "coef_theo_df.Abs = abs.(coef_theo_df.Coeficiente)\n",
    "sort!(coef_theo_df, :Abs, rev=true)\n",
    "\n",
    "println(\"\\n=== LASSO TEÓRICO (CD) ===\")\n",
    "println(\"λ (crudo): \", λ_ch, \" | λ/n: \", λ_use)\n",
    "display(coef_theo_df)\n",
    "\n",
    "ε = 1e-8\n",
    "vars_sel_theo = vec(coef_theo_df[abs.(coef_theo_df.Coeficiente) .> ε, :Variable])\n",
    "println(\"Seleccionadas (teórico): \", vars_sel_theo)\n"
   ]
  },
  {
   "cell_type": "code",
   "execution_count": 40,
   "id": "777f8a0a-300b-4883-88ee-b40db95e605f",
   "metadata": {},
   "outputs": [
    {
     "name": "stdout",
     "output_type": "stream",
     "text": [
      "\n",
      "=== LASSO CV (CD) ===\n",
      "λ óptimo CV: 0.4344141022877992\n"
     ]
    },
    {
     "data": {
      "text/html": [
       "<div><div style = \"float: left;\"><span>4×3 DataFrame</span></div><div style = \"clear: both;\"></div></div><div class = \"data-frame\" style = \"overflow-x: scroll;\"><table class = \"data-frame\" style = \"margin-bottom: 6px;\"><thead><tr class = \"header\"><th class = \"rowNumber\" style = \"font-weight: bold; text-align: right;\">Row</th><th style = \"text-align: left;\">Variable</th><th style = \"text-align: left;\">Coeficiente</th><th style = \"text-align: left;\">Abs</th></tr><tr class = \"subheader headerLastRow\"><th class = \"rowNumber\" style = \"font-weight: bold; text-align: right;\"></th><th title = \"Symbol\" style = \"text-align: left;\">Symbol</th><th title = \"Float64\" style = \"text-align: left;\">Float64</th><th title = \"Float64\" style = \"text-align: left;\">Float64</th></tr></thead><tbody><tr><td class = \"rowNumber\" style = \"font-weight: bold; text-align: right;\">1</td><td style = \"text-align: left;\">X1</td><td style = \"text-align: right;\">0.477284</td><td style = \"text-align: right;\">0.477284</td></tr><tr><td class = \"rowNumber\" style = \"font-weight: bold; text-align: right;\">2</td><td style = \"text-align: left;\">X3</td><td style = \"text-align: right;\">0.161019</td><td style = \"text-align: right;\">0.161019</td></tr><tr><td class = \"rowNumber\" style = \"font-weight: bold; text-align: right;\">3</td><td style = \"text-align: left;\">X2</td><td style = \"text-align: right;\">-0.120964</td><td style = \"text-align: right;\">0.120964</td></tr><tr><td class = \"rowNumber\" style = \"font-weight: bold; text-align: right;\">4</td><td style = \"text-align: left;\">X4</td><td style = \"text-align: right;\">0.028941</td><td style = \"text-align: right;\">0.028941</td></tr></tbody></table></div>"
      ],
      "text/latex": [
       "\\begin{tabular}{r|ccc}\n",
       "\t& Variable & Coeficiente & Abs\\\\\n",
       "\t\\hline\n",
       "\t& Symbol & Float64 & Float64\\\\\n",
       "\t\\hline\n",
       "\t1 & X1 & 0.477284 & 0.477284 \\\\\n",
       "\t2 & X3 & 0.161019 & 0.161019 \\\\\n",
       "\t3 & X2 & -0.120964 & 0.120964 \\\\\n",
       "\t4 & X4 & 0.028941 & 0.028941 \\\\\n",
       "\\end{tabular}\n"
      ],
      "text/plain": [
       "\u001b[1m4×3 DataFrame\u001b[0m\n",
       "\u001b[1m Row \u001b[0m│\u001b[1m Variable \u001b[0m\u001b[1m Coeficiente \u001b[0m\u001b[1m Abs      \u001b[0m\n",
       "     │\u001b[90m Symbol   \u001b[0m\u001b[90m Float64     \u001b[0m\u001b[90m Float64  \u001b[0m\n",
       "─────┼─────────────────────────────────\n",
       "   1 │ X1           0.477284  0.477284\n",
       "   2 │ X3           0.161019  0.161019\n",
       "   3 │ X2          -0.120964  0.120964\n",
       "   4 │ X4           0.028941  0.028941"
      ]
     },
     "metadata": {},
     "output_type": "display_data"
    },
    {
     "name": "stdout",
     "output_type": "stream",
     "text": [
      "Seleccionadas (CV): [:X1, :X3, :X2, :X4]\n",
      "\n",
      "=== REGRESIONES RESTRINGIDAS ===\n",
      "Teórico:\n"
     ]
    },
    {
     "data": {
      "text/markdown": [
       "|             |      Coef. | Std. Error |     t | Pr(>|t|) |  Lower 95% |  Upper 95% |\n",
       "|:------------|-----------:|-----------:|------:|:---------|:-----------|-----------:|\n",
       "| (Intercept) |  0.0795487 |  0.0648201 |  1.23 |   0.2200 | -0.0476512 |  0.206749 |\n",
       "| D           |  1.98177   |  0.0653341 | 30.33 |   <1e-99 |  1.85357   |  2.10998 |\n",
       "| X1          |  0.48678   |  0.0330758 | 14.72 |   <1e-43 |  0.421873  |  0.551686 |\n",
       "| X3          |  0.156724  |  0.0321395 |  4.88 |   <1e-05 |  0.0936552 |  0.219793 |\n",
       "| X2          | -0.319956  |  0.0653371 | -4.90 |   <1e-05 | -0.448171  | -0.191742 |\n",
       "| X4          | -0.10825   |  0.0653549 | -1.66 |   0.0980 | -0.236499  |  0.0199992 |"
      ],
      "text/plain": [
       "────────────────────────────────────────────────────────────────────────────\n",
       "                  Coef.  Std. Error      t  Pr(>|t|)   Lower 95%   Upper 95%\n",
       "────────────────────────────────────────────────────────────────────────────\n",
       "(Intercept)   0.0795487   0.0648201   1.23    0.2200  -0.0476512   0.206749\n",
       "D             1.98177     0.0653341  30.33    <1e-99   1.85357     2.10998\n",
       "X1            0.48678     0.0330758  14.72    <1e-43   0.421873    0.551686\n",
       "X3            0.156724    0.0321395   4.88    <1e-05   0.0936552   0.219793\n",
       "X2           -0.319956    0.0653371  -4.90    <1e-05  -0.448171   -0.191742\n",
       "X4           -0.10825     0.0653549  -1.66    0.0980  -0.236499    0.0199992\n",
       "────────────────────────────────────────────────────────────────────────────"
      ]
     },
     "metadata": {},
     "output_type": "display_data"
    },
    {
     "name": "stdout",
     "output_type": "stream",
     "text": [
      "CV:\n"
     ]
    },
    {
     "data": {
      "text/markdown": [
       "|             |      Coef. | Std. Error |     t | Pr(>|t|) |  Lower 95% |  Upper 95% |\n",
       "|:------------|-----------:|-----------:|------:|:---------|:-----------|-----------:|\n",
       "| (Intercept) |  0.0795487 |  0.0648201 |  1.23 |   0.2200 | -0.0476512 |  0.206749 |\n",
       "| D           |  1.98177   |  0.0653341 | 30.33 |   <1e-99 |  1.85357   |  2.10998 |\n",
       "| X1          |  0.48678   |  0.0330758 | 14.72 |   <1e-43 |  0.421873  |  0.551686 |\n",
       "| X3          |  0.156724  |  0.0321395 |  4.88 |   <1e-05 |  0.0936552 |  0.219793 |\n",
       "| X2          | -0.319956  |  0.0653371 | -4.90 |   <1e-05 | -0.448171  | -0.191742 |\n",
       "| X4          | -0.10825   |  0.0653549 | -1.66 |   0.0980 | -0.236499  |  0.0199992 |"
      ],
      "text/plain": [
       "────────────────────────────────────────────────────────────────────────────\n",
       "                  Coef.  Std. Error      t  Pr(>|t|)   Lower 95%   Upper 95%\n",
       "────────────────────────────────────────────────────────────────────────────\n",
       "(Intercept)   0.0795487   0.0648201   1.23    0.2200  -0.0476512   0.206749\n",
       "D             1.98177     0.0653341  30.33    <1e-99   1.85357     2.10998\n",
       "X1            0.48678     0.0330758  14.72    <1e-43   0.421873    0.551686\n",
       "X3            0.156724    0.0321395   4.88    <1e-05   0.0936552   0.219793\n",
       "X2           -0.319956    0.0653371  -4.90    <1e-05  -0.448171   -0.191742\n",
       "X4           -0.10825     0.0653549  -1.66    0.0980  -0.236499    0.0199992\n",
       "────────────────────────────────────────────────────────────────────────────"
      ]
     },
     "metadata": {},
     "output_type": "display_data"
    },
    {
     "name": "stdout",
     "output_type": "stream",
     "text": [
      "\n",
      "=== COMPARACIÓN FINAL DE ATE ===\n",
      "ATE verdadero: 2.000\n",
      "ATE teórico:   1.982\n",
      "ATE CV:        1.982\n",
      "ATE completo:  1.982\n",
      "ATE simple:    1.963\n",
      "\n",
      "=== Escalas de λ ===\n",
      "λ CV: 0.4344141022877992 | λ Chernozhukov (λ/n): 0.08688282045755984 | Ratio CV/Ch: 5.0\n"
     ]
    }
   ],
   "source": [
    "using Random\n",
    "\n",
    "function cv_lasso(X, y; k::Int=5,\n",
    "                  λ_grid::AbstractVector=exp10.(range(log10(λ_use*5), log10(λ_use/200), length=40)),\n",
    "                  seed::Int=42)\n",
    "    Random.seed!(seed)\n",
    "    n = size(X,1)\n",
    "    idx = shuffle(1:n)\n",
    "    folds = [ idx[floor(Int,(i-1)*n/k)+1 : floor(Int,i*n/k)] for i in 1:k ]\n",
    "\n",
    "    mse = zeros(length(λ_grid))\n",
    "    for (g, λ) in pairs(λ_grid)\n",
    "        err = 0.0\n",
    "        for f in 1:k\n",
    "            test = folds[f]; train = setdiff(1:n, test)\n",
    "            β, α = lasso_cd(X[train, :], y[train]; λ=λ, fit_intercept=true, standardize=false)\n",
    "            yhat = α .+ X[test, :]*β\n",
    "            err += mean((y[test] .- yhat).^2)\n",
    "        end\n",
    "        mse[g] = err / k\n",
    "    end\n",
    "    j = argmin(mse)\n",
    "    return λ_grid[j], mse[j], λ_grid, mse\n",
    "end\n",
    "\n",
    "λ_cv, mse_cv, grid, grid_mse = cv_lasso(Xstd, y; k=5)\n",
    "β_cv, α_cv = lasso_cd(Xstd, y; λ=λ_cv, fit_intercept=true, standardize=false)\n",
    "\n",
    "coef_cv_df = DataFrame(Variable=pnames, Coeficiente=β_cv)\n",
    "coef_cv_df.Abs = abs.(coef_cv_df.Coeficiente)\n",
    "sort!(coef_cv_df, :Abs, rev=true)\n",
    "\n",
    "println(\"\\n=== LASSO CV (CD) ===\")\n",
    "println(\"λ óptimo CV: \", λ_cv)\n",
    "display(coef_cv_df)\n",
    "\n",
    "vars_sel_cv = vec(coef_cv_df[abs.(coef_cv_df.Coeficiente) .> ε, :Variable])\n",
    "println(\"Seleccionadas (CV): \", vars_sel_cv)\n",
    "\n",
    "# Re-estimación GLM\n",
    "function formula_from_vars(vars::Vector{Symbol})\n",
    "    isempty(vars) ? @formula(Y ~ D) : Term(:Y) ~ sum(Term.([:D; vars]))\n",
    "end\n",
    "\n",
    "f_theo = formula_from_vars(vars_sel_theo)\n",
    "f_cv   = formula_from_vars(vars_sel_cv)\n",
    "\n",
    "modelo_theo = lm(f_theo, df)\n",
    "modelo_cv   = lm(f_cv, df)\n",
    "\n",
    "println(\"\\n=== REGRESIONES RESTRINGIDAS ===\")\n",
    "println(\"Teórico:\"); display(GLM.coeftable(modelo_theo))\n",
    "println(\"CV:\");      display(GLM.coeftable(modelo_cv))\n",
    "\n",
    "β_D_theo = coef(modelo_theo)[2]\n",
    "β_D_cv   = coef(modelo_cv)[2]\n",
    "\n",
    "println(\"\\n=== COMPARACIÓN FINAL DE ATE ===\")\n",
    "println(\"ATE verdadero: 2.000\")\n",
    "println(\"ATE teórico:   \", round(β_D_theo,   digits=3))\n",
    "println(\"ATE CV:        \", round(β_D_cv,     digits=3))\n",
    "println(\"ATE completo:  \", round(β_D_comp,   digits=3))\n",
    "println(\"ATE simple:    \", round(β_D_simple, digits=3))\n",
    "\n",
    "println(\"\\n=== Escalas de λ ===\")\n",
    "println(\"λ CV: \", λ_cv, \" | λ Chernozhukov (λ/n): \", λ_use, \" | Ratio CV/Ch: \", λ_cv/λ_use)\n"
   ]
  },
  {
   "cell_type": "code",
   "execution_count": null,
   "id": "959dd73a-dff5-43a9-8a5e-98602de9c4cd",
   "metadata": {},
   "outputs": [],
   "source": []
  },
  {
   "cell_type": "code",
   "execution_count": null,
   "id": "5db1561f-b7ee-4e28-94f8-9b41e5172e70",
   "metadata": {},
   "outputs": [],
   "source": []
  }
 ],
 "metadata": {
  "kernelspec": {
   "display_name": "Julia 1.11.6",
   "language": "julia",
   "name": "julia-1.11"
  },
  "language_info": {
   "file_extension": ".jl",
   "mimetype": "application/julia",
   "name": "julia",
   "version": "1.11.6"
  }
 },
 "nbformat": 4,
 "nbformat_minor": 5
}

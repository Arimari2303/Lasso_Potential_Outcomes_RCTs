{
 "cells": [
  {
   "cell_type": "markdown",
   "id": "3222c898",
   "metadata": {},
   "source": [
    "# Ejercicio2"
   ]
  },
  {
   "cell_type": "markdown",
   "id": "8f7229d2",
   "metadata": {},
   "source": [
    "### Paso 1: Librerías y requerimientos"
   ]
  },
  {
   "cell_type": "code",
   "execution_count": 13,
   "id": "e4b8f0f0",
   "metadata": {},
   "outputs": [
    {
     "name": "stdout",
     "output_type": "stream",
     "text": [
      "Requirement already satisfied: patsy in c:\\users\\pc\\.conda\\envs\\lab2\\lib\\site-packages (1.0.1)\n",
      "Requirement already satisfied: numpy>=1.4 in c:\\users\\pc\\.conda\\envs\\lab2\\lib\\site-packages (from patsy) (2.2.6)\n"
     ]
    }
   ],
   "source": [
    "!pip install patsy"
   ]
  },
  {
   "cell_type": "code",
   "execution_count": 61,
   "id": "ac1b1fd5",
   "metadata": {},
   "outputs": [],
   "source": [
    "### Instalar todas las librerías\n",
    "import pandas as pd\n",
    "import numpy as np\n",
    "import matplotlib.pyplot as plt\n",
    "from sklearn.model_selection import train_test_split\n",
    "from sklearn.model_selection import cross_val_score, KFold\n",
    "from sklearn.preprocessing import PolynomialFeatures\n",
    "from sklearn.linear_model import Lasso\n",
    "from sklearn.metrics import r2_score\n",
    "from sklearn.linear_model import LassoCV, RidgeCV, LinearRegression\n",
    "from sklearn.preprocessing import StandardScaler\n",
    "from sklearn.linear_model import lasso_path\n",
    "import patsy\n",
    "import warnings\n",
    "warnings.simplefilter('ignore')\n",
    "np.random.seed(1234)"
   ]
  },
  {
   "cell_type": "markdown",
   "id": "019f18ef",
   "metadata": {},
   "source": [
    "### Paso 2: Leer la data y quedarnos con aquiellos sin missnig values"
   ]
  },
  {
   "cell_type": "code",
   "execution_count": null,
   "id": "18af9c8c",
   "metadata": {},
   "outputs": [
    {
     "data": {
      "text/html": [
       "<div>\n",
       "<style scoped>\n",
       "    .dataframe tbody tr th:only-of-type {\n",
       "        vertical-align: middle;\n",
       "    }\n",
       "\n",
       "    .dataframe tbody tr th {\n",
       "        vertical-align: top;\n",
       "    }\n",
       "\n",
       "    .dataframe thead th {\n",
       "        text-align: right;\n",
       "    }\n",
       "</style>\n",
       "<table border=\"1\" class=\"dataframe\">\n",
       "  <thead>\n",
       "    <tr style=\"text-align: right;\">\n",
       "      <th></th>\n",
       "      <th>STATCD</th>\n",
       "      <th>DISTCD</th>\n",
       "      <th>STATNAME</th>\n",
       "      <th>DISTNAME</th>\n",
       "      <th>DISTRICTS</th>\n",
       "      <th>BLOCKS</th>\n",
       "      <th>VILLAGES</th>\n",
       "      <th>TOTPOPULAT</th>\n",
       "      <th>P_URB_POP</th>\n",
       "      <th>POPULATION_0_6</th>\n",
       "      <th>...</th>\n",
       "      <th>CLS5</th>\n",
       "      <th>CLS6</th>\n",
       "      <th>CLS7</th>\n",
       "      <th>TCH1</th>\n",
       "      <th>TCH2</th>\n",
       "      <th>TCH3</th>\n",
       "      <th>TCH4</th>\n",
       "      <th>TCH5</th>\n",
       "      <th>TCH6</th>\n",
       "      <th>TCH7</th>\n",
       "    </tr>\n",
       "  </thead>\n",
       "  <tbody>\n",
       "    <tr>\n",
       "      <th>0</th>\n",
       "      <td>1</td>\n",
       "      <td>101</td>\n",
       "      <td>JAMMU &amp; KASHMIR</td>\n",
       "      <td>KUPWARA</td>\n",
       "      <td>1</td>\n",
       "      <td>13</td>\n",
       "      <td>391</td>\n",
       "      <td>875564.0</td>\n",
       "      <td>11.33</td>\n",
       "      <td>197001.90</td>\n",
       "      <td>...</td>\n",
       "      <td>23</td>\n",
       "      <td>852</td>\n",
       "      <td>239</td>\n",
       "      <td>2708</td>\n",
       "      <td>5205</td>\n",
       "      <td>43</td>\n",
       "      <td>70</td>\n",
       "      <td>28</td>\n",
       "      <td>1065</td>\n",
       "      <td>638</td>\n",
       "    </tr>\n",
       "    <tr>\n",
       "      <th>1</th>\n",
       "      <td>1</td>\n",
       "      <td>102</td>\n",
       "      <td>JAMMU &amp; KASHMIR</td>\n",
       "      <td>BARAMULA</td>\n",
       "      <td>1</td>\n",
       "      <td>18</td>\n",
       "      <td>678</td>\n",
       "      <td>1015503.0</td>\n",
       "      <td>17.19</td>\n",
       "      <td>161871.18</td>\n",
       "      <td>...</td>\n",
       "      <td>30</td>\n",
       "      <td>1665</td>\n",
       "      <td>360</td>\n",
       "      <td>2937</td>\n",
       "      <td>5873</td>\n",
       "      <td>236</td>\n",
       "      <td>60</td>\n",
       "      <td>105</td>\n",
       "      <td>2533</td>\n",
       "      <td>964</td>\n",
       "    </tr>\n",
       "    <tr>\n",
       "      <th>2</th>\n",
       "      <td>1</td>\n",
       "      <td>103</td>\n",
       "      <td>JAMMU &amp; KASHMIR</td>\n",
       "      <td>SRINAGAR</td>\n",
       "      <td>1</td>\n",
       "      <td>8</td>\n",
       "      <td>94</td>\n",
       "      <td>1269751.0</td>\n",
       "      <td>98.73</td>\n",
       "      <td>155798.45</td>\n",
       "      <td>...</td>\n",
       "      <td>0</td>\n",
       "      <td>2873</td>\n",
       "      <td>40</td>\n",
       "      <td>828</td>\n",
       "      <td>3647</td>\n",
       "      <td>1159</td>\n",
       "      <td>14</td>\n",
       "      <td>0</td>\n",
       "      <td>4757</td>\n",
       "      <td>129</td>\n",
       "    </tr>\n",
       "    <tr>\n",
       "      <th>3</th>\n",
       "      <td>1</td>\n",
       "      <td>104</td>\n",
       "      <td>JAMMU &amp; KASHMIR</td>\n",
       "      <td>BADGAM</td>\n",
       "      <td>1</td>\n",
       "      <td>13</td>\n",
       "      <td>523</td>\n",
       "      <td>735753.0</td>\n",
       "      <td>11.74</td>\n",
       "      <td>150755.79</td>\n",
       "      <td>...</td>\n",
       "      <td>8</td>\n",
       "      <td>1035</td>\n",
       "      <td>325</td>\n",
       "      <td>1878</td>\n",
       "      <td>3892</td>\n",
       "      <td>250</td>\n",
       "      <td>68</td>\n",
       "      <td>19</td>\n",
       "      <td>1493</td>\n",
       "      <td>716</td>\n",
       "    </tr>\n",
       "    <tr>\n",
       "      <th>4</th>\n",
       "      <td>1</td>\n",
       "      <td>105</td>\n",
       "      <td>JAMMU &amp; KASHMIR</td>\n",
       "      <td>PULWAMA</td>\n",
       "      <td>1</td>\n",
       "      <td>8</td>\n",
       "      <td>359</td>\n",
       "      <td>570060.0</td>\n",
       "      <td>13.80</td>\n",
       "      <td>97651.28</td>\n",
       "      <td>...</td>\n",
       "      <td>5</td>\n",
       "      <td>1101</td>\n",
       "      <td>209</td>\n",
       "      <td>1336</td>\n",
       "      <td>2682</td>\n",
       "      <td>113</td>\n",
       "      <td>90</td>\n",
       "      <td>38</td>\n",
       "      <td>1414</td>\n",
       "      <td>506</td>\n",
       "    </tr>\n",
       "    <tr>\n",
       "      <th>5</th>\n",
       "      <td>1</td>\n",
       "      <td>106</td>\n",
       "      <td>JAMMU &amp; KASHMIR</td>\n",
       "      <td>ANANTNAG</td>\n",
       "      <td>1</td>\n",
       "      <td>12</td>\n",
       "      <td>523</td>\n",
       "      <td>1070144.0</td>\n",
       "      <td>26.04</td>\n",
       "      <td>206323.76</td>\n",
       "      <td>...</td>\n",
       "      <td>22</td>\n",
       "      <td>1592</td>\n",
       "      <td>185</td>\n",
       "      <td>2084</td>\n",
       "      <td>6182</td>\n",
       "      <td>261</td>\n",
       "      <td>74</td>\n",
       "      <td>95</td>\n",
       "      <td>2491</td>\n",
       "      <td>597</td>\n",
       "    </tr>\n",
       "    <tr>\n",
       "      <th>6</th>\n",
       "      <td>1</td>\n",
       "      <td>107</td>\n",
       "      <td>JAMMU &amp; KASHMIR</td>\n",
       "      <td>LEH (LADAKH)</td>\n",
       "      <td>1</td>\n",
       "      <td>6</td>\n",
       "      <td>110</td>\n",
       "      <td>147104.0</td>\n",
       "      <td>42.96</td>\n",
       "      <td>11812.45</td>\n",
       "      <td>...</td>\n",
       "      <td>17</td>\n",
       "      <td>473</td>\n",
       "      <td>0</td>\n",
       "      <td>470</td>\n",
       "      <td>1160</td>\n",
       "      <td>62</td>\n",
       "      <td>19</td>\n",
       "      <td>45</td>\n",
       "      <td>813</td>\n",
       "      <td>0</td>\n",
       "    </tr>\n",
       "    <tr>\n",
       "      <th>7</th>\n",
       "      <td>1</td>\n",
       "      <td>108</td>\n",
       "      <td>JAMMU &amp; KASHMIR</td>\n",
       "      <td>KARGIL</td>\n",
       "      <td>1</td>\n",
       "      <td>7</td>\n",
       "      <td>134</td>\n",
       "      <td>143388.0</td>\n",
       "      <td>8.89</td>\n",
       "      <td>20404.11</td>\n",
       "      <td>...</td>\n",
       "      <td>3</td>\n",
       "      <td>220</td>\n",
       "      <td>99</td>\n",
       "      <td>471</td>\n",
       "      <td>1582</td>\n",
       "      <td>90</td>\n",
       "      <td>44</td>\n",
       "      <td>17</td>\n",
       "      <td>274</td>\n",
       "      <td>288</td>\n",
       "    </tr>\n",
       "    <tr>\n",
       "      <th>8</th>\n",
       "      <td>1</td>\n",
       "      <td>109</td>\n",
       "      <td>JAMMU &amp; KASHMIR</td>\n",
       "      <td>DODA</td>\n",
       "      <td>1</td>\n",
       "      <td>10</td>\n",
       "      <td>388</td>\n",
       "      <td>409576.0</td>\n",
       "      <td>7.95</td>\n",
       "      <td>71020.48</td>\n",
       "      <td>...</td>\n",
       "      <td>36</td>\n",
       "      <td>766</td>\n",
       "      <td>36</td>\n",
       "      <td>1867</td>\n",
       "      <td>3010</td>\n",
       "      <td>266</td>\n",
       "      <td>41</td>\n",
       "      <td>172</td>\n",
       "      <td>1391</td>\n",
       "      <td>102</td>\n",
       "    </tr>\n",
       "    <tr>\n",
       "      <th>9</th>\n",
       "      <td>1</td>\n",
       "      <td>110</td>\n",
       "      <td>JAMMU &amp; KASHMIR</td>\n",
       "      <td>UDHAMPUR</td>\n",
       "      <td>1</td>\n",
       "      <td>11</td>\n",
       "      <td>361</td>\n",
       "      <td>555357.0</td>\n",
       "      <td>19.72</td>\n",
       "      <td>82637.12</td>\n",
       "      <td>...</td>\n",
       "      <td>22</td>\n",
       "      <td>1151</td>\n",
       "      <td>6</td>\n",
       "      <td>2159</td>\n",
       "      <td>3069</td>\n",
       "      <td>811</td>\n",
       "      <td>27</td>\n",
       "      <td>118</td>\n",
       "      <td>1638</td>\n",
       "      <td>32</td>\n",
       "    </tr>\n",
       "  </tbody>\n",
       "</table>\n",
       "<p>10 rows × 100 columns</p>\n",
       "</div>"
      ],
      "text/plain": [
       "   STATCD  DISTCD         STATNAME      DISTNAME  DISTRICTS  BLOCKS  VILLAGES  \\\n",
       "0       1     101  JAMMU & KASHMIR       KUPWARA          1      13       391   \n",
       "1       1     102  JAMMU & KASHMIR      BARAMULA          1      18       678   \n",
       "2       1     103  JAMMU & KASHMIR      SRINAGAR          1       8        94   \n",
       "3       1     104  JAMMU & KASHMIR        BADGAM          1      13       523   \n",
       "4       1     105  JAMMU & KASHMIR       PULWAMA          1       8       359   \n",
       "5       1     106  JAMMU & KASHMIR      ANANTNAG          1      12       523   \n",
       "6       1     107  JAMMU & KASHMIR  LEH (LADAKH)          1       6       110   \n",
       "7       1     108  JAMMU & KASHMIR        KARGIL          1       7       134   \n",
       "8       1     109  JAMMU & KASHMIR          DODA          1      10       388   \n",
       "9       1     110  JAMMU & KASHMIR      UDHAMPUR          1      11       361   \n",
       "\n",
       "   TOTPOPULAT  P_URB_POP  POPULATION_0_6  ...  CLS5  CLS6  CLS7  TCH1  TCH2  \\\n",
       "0    875564.0      11.33       197001.90  ...    23   852   239  2708  5205   \n",
       "1   1015503.0      17.19       161871.18  ...    30  1665   360  2937  5873   \n",
       "2   1269751.0      98.73       155798.45  ...     0  2873    40   828  3647   \n",
       "3    735753.0      11.74       150755.79  ...     8  1035   325  1878  3892   \n",
       "4    570060.0      13.80        97651.28  ...     5  1101   209  1336  2682   \n",
       "5   1070144.0      26.04       206323.76  ...    22  1592   185  2084  6182   \n",
       "6    147104.0      42.96        11812.45  ...    17   473     0   470  1160   \n",
       "7    143388.0       8.89        20404.11  ...     3   220    99   471  1582   \n",
       "8    409576.0       7.95        71020.48  ...    36   766    36  1867  3010   \n",
       "9    555357.0      19.72        82637.12  ...    22  1151     6  2159  3069   \n",
       "\n",
       "   TCH3  TCH4  TCH5  TCH6  TCH7  \n",
       "0    43    70    28  1065   638  \n",
       "1   236    60   105  2533   964  \n",
       "2  1159    14     0  4757   129  \n",
       "3   250    68    19  1493   716  \n",
       "4   113    90    38  1414   506  \n",
       "5   261    74    95  2491   597  \n",
       "6    62    19    45   813     0  \n",
       "7    90    44    17   274   288  \n",
       "8   266    41   172  1391   102  \n",
       "9   811    27   118  1638    32  \n",
       "\n",
       "[10 rows x 100 columns]"
      ]
     },
     "execution_count": 15,
     "metadata": {},
     "output_type": "execute_result"
    }
   ],
   "source": [
    "df = pd.read_excel(\"../input/Districtwise_literacy_rates.xlsx\", sheet_name=0)\n",
    "df= df.dropna()\n",
    "df.head(5)\n"
   ]
  },
  {
   "cell_type": "markdown",
   "id": "540ece4b",
   "metadata": {},
   "source": [
    "### Paso 3: Histograma del literaacity hombres y Literacity mujeres"
   ]
  },
  {
   "cell_type": "code",
   "execution_count": 18,
   "id": "b4268b68",
   "metadata": {},
   "outputs": [
    {
     "data": {
      "image/png": "[encoded data removed]",
      "text/plain": [
       "<Figure size 1200x500 with 2 Axes>"
      ]
     },
     "metadata": {},
     "output_type": "display_data"
    }
   ],
   "source": [
    "fig, axes = plt.subplots(1, 2, figsize=(12,5), sharey=True)\n",
    "\n",
    "axes[0].hist(df[\"FEMALE_LIT\"], bins=20, color=\"pink\", alpha=0.7)\n",
    "axes[0].set_title(\"Female Literacy Rate\")\n",
    "axes[0].set_xlabel(\"Literacy rate (%)\")\n",
    "axes[0].set_ylabel(\"Frequency\")\n",
    "\n",
    "axes[1].hist(df[\"MALE_LIT\"], bins=20, color=\"green\", alpha=0.7)\n",
    "axes[1].set_title(\"Male Literacy Rate\")\n",
    "axes[1].set_xlabel(\"Literacy rate (%)\")\n",
    "\n",
    "plt.suptitle(\"Histograms of Literacy Rates by Gender\", fontsize=14)\n",
    "plt.tight_layout()\n",
    "plt.show()"
   ]
  },
  {
   "cell_type": "markdown",
   "id": "d418aa38",
   "metadata": {},
   "source": [
    "##### En este caso se ve claramente que la tasa de alfabetización en promedio tiene una distribución con una media centrada alrededor de 80 en los hombres y de 60 en las mujeres, siendo además en el caso femenino una distribución con cola a la izquierda y con la mayor cantidad de observaciones hacia valores más bajos. Esto contrasta con la distribución masculina, más concentrada y en niveles más elevados. Todo ello refleja la brecha de género que sigue existiendo en ese país respecto a la tasa de alfabetización, la cual probablemente se manifieste también en muchas otras áreas."
   ]
  },
  {
   "cell_type": "markdown",
   "id": "cd998453",
   "metadata": {},
   "source": [
    "### Paso 4: Estimación de una especificación de baja dimensión y cálculo del 𝑅2 en el set de prueba"
   ]
  },
  {
   "cell_type": "code",
   "execution_count": 31,
   "id": "5b368fd9",
   "metadata": {},
   "outputs": [
    {
     "data": {
      "text/plain": [
       "Index(['TOTPOPULAT', 'P_URB_POP', 'POPULATION_0_6', 'GROWTHRATE', 'SEXRATIO',\n",
       "       'P_SC_POP', 'P_ST_POP', 'MALE_LIT', 'TOT_6_10_15', 'TOT_11_13_15',\n",
       "       'SCH1', 'SCH2', 'SCH3', 'SCH4', 'SCH5', 'SCH6', 'SCH7', 'SCH9',\n",
       "       'SCHTOT', 'SCH1G', 'SCH2G', 'SCH3G', 'SCH4G', 'SCH5G', 'SCH6G', 'SCH7G',\n",
       "       'SCH9G', 'SCHTOTG', 'SCH1P', 'SCH2P', 'SCH3P', 'SCH4P', 'SCH5P',\n",
       "       'SCH6P', 'SCH7P', 'SCH9P', 'SCHTOTP', 'SCH1GR', 'SCH2GR', 'SCH3GR',\n",
       "       'SCH4GR', 'SCH5GR', 'SCH6GR', 'SCH7GR', 'SCH9GR', 'SCHTOTGR', 'SCH1PR',\n",
       "       'SCH2PR', 'SCH3PR', 'SCH4PR', 'SCH5PR', 'SCH6PR', 'SCH7PR', 'SCH9PR',\n",
       "       'SELE1', 'SELE2', 'SELE3', 'SELE4', 'SELE5', 'SELE6', 'SELE7', 'SCOMP1',\n",
       "       'SCOMP2', 'SCOMP3', 'SCOMP4', 'SCOMP5', 'SCOMP6', 'SCOMP7', 'ENR501',\n",
       "       'ENR502', 'ENR503', 'ENR504', 'ENR505', 'ENR506', 'ENR507', 'ENR509',\n",
       "       'CLS1', 'CLS2', 'CLS3', 'CLS4', 'CLS5', 'CLS6', 'CLS7', 'TCH1', 'TCH2',\n",
       "       'TCH3', 'TCH4', 'TCH5', 'TCH6', 'TCH7'],\n",
       "      dtype='object')"
      ]
     },
     "execution_count": 31,
     "metadata": {},
     "output_type": "execute_result"
    }
   ],
   "source": [
    "y = df['FEMALE_LIT']   \n",
    "Z = df.drop([\n",
    "    'FEMALE_LIT',   # variable objetivo\n",
    "    'STATCD',       # código de estado (ID, no explicativo)\n",
    "    'DISTCD',       # código de distrito (ID, no explicativo)\n",
    "    'STATNAME',     # nombre de estado (solo texto)\n",
    "    'DISTNAME',     # nombre de distrito (solo texto)\n",
    "    'DISTRICTS',    # número de distritos (no útil a nivel distrito)\n",
    "    'BLOCKS',       # número de bloques administrativos\n",
    "    'VILLAGES' ,     # número de aldeas\n",
    "    'OVERALL_LI'  ,  # multicolinealidad perfecta practicamente\n",
    "    'AREA_SQKM'     # area del \n",
    "], axis=1)\n",
    "Z.columns\n"
   ]
  },
  {
   "cell_type": "code",
   "execution_count": 41,
   "id": "b957b0b5",
   "metadata": {},
   "outputs": [],
   "source": [
    "formula = '0 + TOTPOPULAT + P_URB_POP + POPULATION_0_6 + GROWTHRATE + SEXRATIO + P_SC_POP + P_ST_POP + MALE_LIT + TOT_6_10_15 + TOT_11_13_15 + SCH1 + SCH2 + SCH3 + SCH4 + SCH5 + SCH6 + SCH7 + SCH9 + SCHTOT + SCH1G + SCH2G + SCH3G + SCH4G + SCH5G + SCH6G + SCH7G + SCH9G + SCHTOTG + SCH1P + SCH2P + SCH3P + SCH4P + SCH5P + SCH6P + SCH7P + SCH9P + SCHTOTP + SCH1GR + SCH2GR + SCH3GR + SCH4GR + SCH5GR + SCH6GR + SCH7GR + SCH9GR + SCHTOTGR + SCH1PR + SCH2PR + SCH3PR + SCH4PR + SCH5PR + SCH6PR + SCH7PR + SCH9PR + SELE1 + SELE2 + SELE3 + SELE4 + SELE5 + SELE6 + SELE7 + SCOMP1 + SCOMP2 + SCOMP3 + SCOMP4 + SCOMP5 + SCOMP6 + SCOMP7 + ENR501 + ENR502 + ENR503 + ENR504 + ENR505 + ENR506 + ENR507 + ENR509 + CLS1 + CLS2 + CLS3 + CLS4 + CLS5 + CLS6 + CLS7 + TCH1 + TCH2 + TCH3 + TCH4 + TCH5 + TCH6 + TCH7'\n",
    "Zbase = patsy.dmatrix(formula, Z, return_type='dataframe')\n",
    "Zbase = StandardScaler().fit_transform(Zbase)"
   ]
  },
  {
   "cell_type": "markdown",
   "id": "f9c03ebd",
   "metadata": {},
   "source": [
    "#### Dado que estamos usando Folds no es necesario separar un conjunto de prueba y tests porque el comando ya los crea los compara y nos devuelve el r2 medio"
   ]
  },
  {
   "cell_type": "code",
   "execution_count": 44,
   "id": "01ea8777",
   "metadata": {},
   "outputs": [
    {
     "name": "stdout",
     "output_type": "stream",
     "text": [
      "Modelo base R^2 (Lasso):  0.8553\n"
     ]
    }
   ],
   "source": [
    "cv = KFold(n_splits=5, shuffle=True, random_state=123)\n",
    "rsquares = cross_val_score(LassoCV(cv=cv), Zbase, y, scoring='r2', cv=cv, n_jobs=-1)\n",
    "print('Modelo base R^2 (Lasso): ', f'{np.mean(rsquares):.4f}')"
   ]
  },
  {
   "cell_type": "markdown",
   "id": "25a28dec",
   "metadata": {},
   "source": [
    "### Paso 5: Estime una especificación de alta dimensión (flexible): términos de interacción y términos al cuadrado y calcule el R2 \n"
   ]
  },
  {
   "cell_type": "markdown",
   "id": "5d67e9d5",
   "metadata": {},
   "source": [
    "#### Use PolynomialFeatures por la cantidad de interacciones que tendríamos que generar, era más conveniente que usar patsy, además un detalle importante es que tuve que no incluir las interacciones porque eran 129 mil regresores y no alcanzó el poder computacional"
   ]
  },
  {
   "cell_type": "code",
   "execution_count": null,
   "id": "a0ff5b13",
   "metadata": {},
   "outputs": [
    {
     "name": "stdout",
     "output_type": "stream",
     "text": [
      "Total features generadas: 129765\n",
      "Solo potencias (x, x^2, x^3): 270\n",
      "Shape final sin interacciones: (625, 270)\n"
     ]
    }
   ],
   "source": [
    "# Lista de variables base\n",
    "base_vars = [\n",
    "    \"TOTPOPULAT\",\"P_URB_POP\",\"POPULATION_0_6\",\"GROWTHRATE\",\"SEXRATIO\",\n",
    "    \"P_SC_POP\",\"P_ST_POP\",\"MALE_LIT\",\"TOT_6_10_15\",\"TOT_11_13_15\",\n",
    "    \"SCH1\",\"SCH2\",\"SCH3\",\"SCH4\",\"SCH5\",\"SCH6\",\"SCH7\",\"SCH9\",\"SCHTOT\",\n",
    "    \"SCH1G\",\"SCH2G\",\"SCH3G\",\"SCH4G\",\"SCH5G\",\"SCH6G\",\"SCH7G\",\"SCH9G\",\"SCHTOTG\",\n",
    "    \"SCH1P\",\"SCH2P\",\"SCH3P\",\"SCH4P\",\"SCH5P\",\"SCH6P\",\"SCH7P\",\"SCH9P\",\"SCHTOTP\",\n",
    "    \"SCH1GR\",\"SCH2GR\",\"SCH3GR\",\"SCH4GR\",\"SCH5GR\",\"SCH6GR\",\"SCH7GR\",\"SCH9GR\",\"SCHTOTGR\",\n",
    "    \"SCH1PR\",\"SCH2PR\",\"SCH3PR\",\"SCH4PR\",\"SCH5PR\",\"SCH6PR\",\"SCH7PR\",\"SCH9PR\",\n",
    "    \"SELE1\",\"SELE2\",\"SELE3\",\"SELE4\",\"SELE5\",\"SELE6\",\"SELE7\",\n",
    "    \"SCOMP1\",\"SCOMP2\",\"SCOMP3\",\"SCOMP4\",\"SCOMP5\",\"SCOMP6\",\"SCOMP7\",\n",
    "    \"ENR501\",\"ENR502\",\"ENR503\",\"ENR504\",\"ENR505\",\"ENR506\",\"ENR507\",\"ENR509\",\n",
    "    \"CLS1\",\"CLS2\",\"CLS3\",\"CLS4\",\"CLS5\",\"CLS6\",\"CLS7\",\n",
    "    \"TCH1\",\"TCH2\",\"TCH3\",\"TCH4\",\"TCH5\",\"TCH6\",\"TCH7\"\n",
    "]\n",
    "\n",
    "X = Z[base_vars]\n",
    "\n",
    "#Generamos todas las columnas (potencias + interacciones)\n",
    "poly = PolynomialFeatures(degree=3, include_bias=False)  \n",
    "X_poly = poly.fit_transform(X)\n",
    "names = poly.get_feature_names_out(base_vars)\n",
    "\n",
    "#Solo nos quedaremos con potencias porque con1 129 mil regresores no aguantaba el poder computacional\n",
    "# Nos quedamos solo con monomios: nombres SIN espacios (los espacios indican interacciones)\n",
    "mask_monomios = np.array([' ' not in n for n in names])\n",
    "X_powers = X_poly[:, mask_monomios]\n",
    "names_powers = names[mask_monomios]\n",
    "\n",
    "print(\"Total features generadas:\", len(names))\n",
    "print(\"Solo potencias (x, x^2, x^3):\", len(names_powers))\n",
    "\n",
    "scaler = StandardScaler().fit(X_powers)\n",
    "Zbase_flex = scaler.transform(X_powers)\n",
    "\n",
    "print(\"Shape final sin interacciones:\", Zbase_flex.shape)"
   ]
  },
  {
   "cell_type": "code",
   "execution_count": 59,
   "id": "a4583726",
   "metadata": {},
   "outputs": [
    {
     "name": "stdout",
     "output_type": "stream",
     "text": [
      "Modelo base R^2 (Lasso):  0.8789\n"
     ]
    }
   ],
   "source": [
    "cv = KFold(n_splits=5, shuffle=True, random_state=123)\n",
    "rsquares = cross_val_score(LassoCV(cv=cv), Zbase_flex, y, scoring='r2', cv=cv, n_jobs=-1)\n",
    "print('Modelo base R^2 (Lasso): ', f'{np.mean(rsquares):.4f}')"
   ]
  },
  {
   "cell_type": "markdown",
   "id": "1b0921b3",
   "metadata": {},
   "source": [
    "#### Podemos observar que el modelo lazo con potencias es mejor que el básico"
   ]
  },
  {
   "cell_type": "markdown",
   "id": "c1357d0b",
   "metadata": {},
   "source": [
    "### Paso 6: λ que va desde 10.000 hasta 0,001"
   ]
  },
  {
   "cell_type": "code",
   "execution_count": 66,
   "id": "06842d62",
   "metadata": {},
   "outputs": [
    {
     "data": {
      "image/png": "[encoded data removed]",
      "text/plain": [
       "<Figure size 700x500 with 1 Axes>"
      ]
     },
     "metadata": {},
     "output_type": "display_data"
    }
   ],
   "source": [
    "#Generamos las lambdas usando espacios logarítmicos de 10000 a 0.001\n",
    "# es decir 10 a la 4 hasta 10 a la -3\n",
    "lambdas = np.logspace(4, -3, num=200) \n",
    "\n",
    "# usmos la función lasso_path para calcular el camino directamente, ademas estamos usando el Z high dimension sin interacciones\n",
    "alphas, coefs, _ = lasso_path(Zbase_flex, y, alphas=lambdas, max_iter=10000)\n",
    "\n",
    "# número de coef ≠ 0 (no incluye intercepto)\n",
    "nonzero_counts = (coefs != 0).sum(axis=0)\n",
    "\n",
    "# gráfico\n",
    "plt.figure(figsize=(7,5))\n",
    "plt.plot(np.log10(alphas), nonzero_counts, marker='o', linewidth=1)\n",
    "plt.xlabel(\"10^X\")\n",
    "plt.ylabel(\"Nº de coeficientes ≠ 0\")\n",
    "plt.title(\"Ruta LASSO (λ=0.001 → 10,000 )\")\n",
    "plt.show()"
   ]
  }
 ],
 "metadata": {
  "kernelspec": {
   "display_name": "lab2",
   "language": "python",
   "name": "python3"
  },
  "language_info": {
   "codemirror_mode": {
    "name": "ipython",
    "version": 3
   },
   "file_extension": ".py",
   "mimetype": "text/x-python",
   "name": "python",
   "nbconvert_exporter": "python",
   "pygments_lexer": "ipython3",
   "version": "3.10.18"
  }
 },
 "nbformat": 4,
 "nbformat_minor": 5
}

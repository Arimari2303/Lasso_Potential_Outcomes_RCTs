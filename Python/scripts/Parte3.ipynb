{
 "cells": [
  {
   "cell_type": "code",
   "execution_count": 4,
   "id": "f0603c5f",
   "metadata": {},
   "outputs": [
    {
     "name": "stdout",
     "output_type": "stream",
     "text": [
      "✓ numpy instalado\n",
      "✓ pandas instalado\n",
      "✓ scipy instalado\n"
     ]
    },
    {
     "name": "stderr",
     "output_type": "stream",
     "text": [
      "ERROR: pip's dependency resolver does not currently take into account all the packages that are installed. This behaviour is the source of the following dependency conflicts.\n",
      "jupyterlab 4.4.5 requires setuptools>=41.1.0, which is not installed.\n",
      "jupyterlab-server 2.27.3 requires requests>=2.31, which is not installed.\n",
      "jupyter-console 6.6.3 requires pygments, which is not installed.\n",
      "nbconvert 7.16.6 requires pygments>=2.4.1, which is not installed.\n"
     ]
    },
    {
     "name": "stdout",
     "output_type": "stream",
     "text": [
      "Defaulting to user installation because normal site-packages is not writeable\n",
      "Collecting statsmodels\n",
      "  Downloading statsmodels-0.14.5-cp313-cp313-win_amd64.whl.metadata (9.8 kB)\n",
      "Requirement already satisfied: numpy<3,>=1.22.3 in c:\\users\\fcdav\\appdata\\roaming\\python\\python313\\site-packages (from statsmodels) (2.3.2)\n",
      "Requirement already satisfied: scipy!=1.9.2,>=1.8 in c:\\users\\fcdav\\appdata\\roaming\\python\\python313\\site-packages (from statsmodels) (1.16.1)\n",
      "Requirement already satisfied: pandas!=2.1.0,>=1.4 in c:\\users\\fcdav\\appdata\\roaming\\python\\python313\\site-packages (from statsmodels) (2.3.1)\n",
      "Collecting patsy>=0.5.6 (from statsmodels)\n",
      "  Downloading patsy-1.0.1-py2.py3-none-any.whl.metadata (3.3 kB)\n",
      "Collecting packaging>=21.3 (from statsmodels)\n",
      "  Downloading packaging-25.0-py3-none-any.whl.metadata (3.3 kB)\n",
      "Requirement already satisfied: python-dateutil>=2.8.2 in c:\\users\\fcdav\\appdata\\roaming\\python\\python313\\site-packages (from pandas!=2.1.0,>=1.4->statsmodels) (2.9.0.post0)\n",
      "Requirement already satisfied: pytz>=2020.1 in c:\\users\\fcdav\\appdata\\roaming\\python\\python313\\site-packages (from pandas!=2.1.0,>=1.4->statsmodels) (2025.2)\n",
      "Requirement already satisfied: tzdata>=2022.7 in c:\\users\\fcdav\\appdata\\roaming\\python\\python313\\site-packages (from pandas!=2.1.0,>=1.4->statsmodels) (2025.2)\n",
      "Requirement already satisfied: six>=1.5 in c:\\users\\fcdav\\appdata\\roaming\\python\\python313\\site-packages (from python-dateutil>=2.8.2->pandas!=2.1.0,>=1.4->statsmodels) (1.17.0)\n",
      "Downloading statsmodels-0.14.5-cp313-cp313-win_amd64.whl (9.6 MB)\n",
      "   ---------------------------------------- 0.0/9.6 MB ? eta -:--:--\n",
      "   --------- ------------------------------ 2.4/9.6 MB 10.9 MB/s eta 0:00:01\n",
      "   --------------- ------------------------ 3.7/9.6 MB 8.6 MB/s eta 0:00:01\n",
      "   -------------------- ------------------- 5.0/9.6 MB 7.9 MB/s eta 0:00:01\n",
      "   ----------------------------- ---------- 7.1/9.6 MB 8.4 MB/s eta 0:00:01\n",
      "   ------------------------------------ --- 8.7/9.6 MB 8.2 MB/s eta 0:00:01\n",
      "   ---------------------------------------  9.4/9.6 MB 7.8 MB/s eta 0:00:01\n",
      "   ---------------------------------------- 9.6/9.6 MB 7.4 MB/s  0:00:01\n",
      "Downloading packaging-25.0-py3-none-any.whl (66 kB)\n",
      "Downloading patsy-1.0.1-py2.py3-none-any.whl (232 kB)\n",
      "Installing collected packages: patsy, packaging, statsmodels\n",
      "\n",
      "   ---------------------------------------- 0/3 [patsy]\n",
      "   ------------- -------------------------- 1/3 [packaging]\n",
      "   -------------------------- ------------- 2/3 [statsmodels]\n",
      "   -------------------------- ------------- 2/3 [statsmodels]\n",
      "   -------------------------- ------------- 2/3 [statsmodels]\n",
      "   -------------------------- ------------- 2/3 [statsmodels]\n",
      "   -------------------------- ------------- 2/3 [statsmodels]\n",
      "   -------------------------- ------------- 2/3 [statsmodels]\n",
      "   -------------------------- ------------- 2/3 [statsmodels]\n",
      "   -------------------------- ------------- 2/3 [statsmodels]\n",
      "   -------------------------- ------------- 2/3 [statsmodels]\n",
      "   -------------------------- ------------- 2/3 [statsmodels]\n",
      "   -------------------------- ------------- 2/3 [statsmodels]\n",
      "   -------------------------- ------------- 2/3 [statsmodels]\n",
      "   -------------------------- ------------- 2/3 [statsmodels]\n",
      "   -------------------------- ------------- 2/3 [statsmodels]\n",
      "   -------------------------- ------------- 2/3 [statsmodels]\n",
      "   -------------------------- ------------- 2/3 [statsmodels]\n",
      "   -------------------------- ------------- 2/3 [statsmodels]\n",
      "   -------------------------- ------------- 2/3 [statsmodels]\n",
      "   -------------------------- ------------- 2/3 [statsmodels]\n",
      "   -------------------------- ------------- 2/3 [statsmodels]\n",
      "   -------------------------- ------------- 2/3 [statsmodels]\n",
      "   -------------------------- ------------- 2/3 [statsmodels]\n",
      "   -------------------------- ------------- 2/3 [statsmodels]\n",
      "   -------------------------- ------------- 2/3 [statsmodels]\n",
      "   -------------------------- ------------- 2/3 [statsmodels]\n",
      "   -------------------------- ------------- 2/3 [statsmodels]\n",
      "   -------------------------- ------------- 2/3 [statsmodels]\n",
      "   -------------------------- ------------- 2/3 [statsmodels]\n",
      "   -------------------------- ------------- 2/3 [statsmodels]\n",
      "   -------------------------- ------------- 2/3 [statsmodels]\n",
      "   -------------------------- ------------- 2/3 [statsmodels]\n",
      "   -------------------------- ------------- 2/3 [statsmodels]\n",
      "   -------------------------- ------------- 2/3 [statsmodels]\n",
      "   -------------------------- ------------- 2/3 [statsmodels]\n",
      "   -------------------------- ------------- 2/3 [statsmodels]\n",
      "   -------------------------- ------------- 2/3 [statsmodels]\n",
      "   -------------------------- ------------- 2/3 [statsmodels]\n",
      "   -------------------------- ------------- 2/3 [statsmodels]\n",
      "   -------------------------- ------------- 2/3 [statsmodels]\n",
      "   -------------------------- ------------- 2/3 [statsmodels]\n",
      "   -------------------------- ------------- 2/3 [statsmodels]\n",
      "   -------------------------- ------------- 2/3 [statsmodels]\n",
      "   -------------------------- ------------- 2/3 [statsmodels]\n",
      "   -------------------------- ------------- 2/3 [statsmodels]\n",
      "   -------------------------- ------------- 2/3 [statsmodels]\n",
      "   -------------------------- ------------- 2/3 [statsmodels]\n",
      "   -------------------------- ------------- 2/3 [statsmodels]\n",
      "   -------------------------- ------------- 2/3 [statsmodels]\n",
      "   -------------------------- ------------- 2/3 [statsmodels]\n",
      "   -------------------------- ------------- 2/3 [statsmodels]\n",
      "   -------------------------- ------------- 2/3 [statsmodels]\n",
      "   -------------------------- ------------- 2/3 [statsmodels]\n",
      "   -------------------------- ------------- 2/3 [statsmodels]\n",
      "   -------------------------- ------------- 2/3 [statsmodels]\n",
      "   -------------------------- ------------- 2/3 [statsmodels]\n",
      "   ---------------------------------------- 3/3 [statsmodels]\n",
      "\n",
      "Successfully installed packaging-25.0 patsy-1.0.1 statsmodels-0.14.5\n",
      "Defaulting to user installation because normal site-packages is not writeable\n",
      "Collecting scikit-learn\n",
      "  Downloading scikit_learn-1.7.2-cp313-cp313-win_amd64.whl.metadata (11 kB)\n",
      "Requirement already satisfied: numpy>=1.22.0 in c:\\users\\fcdav\\appdata\\roaming\\python\\python313\\site-packages (from scikit-learn) (2.3.2)\n",
      "Requirement already satisfied: scipy>=1.8.0 in c:\\users\\fcdav\\appdata\\roaming\\python\\python313\\site-packages (from scikit-learn) (1.16.1)\n",
      "Collecting joblib>=1.2.0 (from scikit-learn)\n",
      "  Downloading joblib-1.5.2-py3-none-any.whl.metadata (5.6 kB)\n",
      "Collecting threadpoolctl>=3.1.0 (from scikit-learn)\n",
      "  Downloading threadpoolctl-3.6.0-py3-none-any.whl.metadata (13 kB)\n",
      "Downloading scikit_learn-1.7.2-cp313-cp313-win_amd64.whl (8.7 MB)\n",
      "   ---------------------------------------- 0.0/8.7 MB ? eta -:--:--\n",
      "   ------ --------------------------------- 1.3/8.7 MB 6.8 MB/s eta 0:00:02\n",
      "   --------- ------------------------------ 2.1/8.7 MB 5.7 MB/s eta 0:00:02\n",
      "   --------------- ------------------------ 3.4/8.7 MB 5.3 MB/s eta 0:00:01\n",
      "   ------------------------ --------------- 5.2/8.7 MB 6.1 MB/s eta 0:00:01\n",
      "   ------------------------------ --------- 6.6/8.7 MB 6.1 MB/s eta 0:00:01\n",
      "   ------------------------------------- -- 8.1/8.7 MB 6.3 MB/s eta 0:00:01\n",
      "   ---------------------------------------- 8.7/8.7 MB 6.2 MB/s  0:00:01\n",
      "Downloading joblib-1.5.2-py3-none-any.whl (308 kB)\n",
      "Downloading threadpoolctl-3.6.0-py3-none-any.whl (18 kB)\n",
      "Installing collected packages: threadpoolctl, joblib, scikit-learn\n",
      "\n",
      "   ------------- -------------------------- 1/3 [joblib]\n",
      "   ------------- -------------------------- 1/3 [joblib]\n",
      "   ------------- -------------------------- 1/3 [joblib]\n",
      "   -------------------------- ------------- 2/3 [scikit-learn]\n",
      "   -------------------------- ------------- 2/3 [scikit-learn]\n",
      "   -------------------------- ------------- 2/3 [scikit-learn]\n",
      "   -------------------------- ------------- 2/3 [scikit-learn]\n",
      "   -------------------------- ------------- 2/3 [scikit-learn]\n",
      "   -------------------------- ------------- 2/3 [scikit-learn]\n",
      "   -------------------------- ------------- 2/3 [scikit-learn]\n",
      "   -------------------------- ------------- 2/3 [scikit-learn]\n",
      "   -------------------------- ------------- 2/3 [scikit-learn]\n",
      "   -------------------------- ------------- 2/3 [scikit-learn]\n",
      "   -------------------------- ------------- 2/3 [scikit-learn]\n",
      "   -------------------------- ------------- 2/3 [scikit-learn]\n",
      "   -------------------------- ------------- 2/3 [scikit-learn]\n",
      "   -------------------------- ------------- 2/3 [scikit-learn]\n",
      "   -------------------------- ------------- 2/3 [scikit-learn]\n",
      "   -------------------------- ------------- 2/3 [scikit-learn]\n",
      "   -------------------------- ------------- 2/3 [scikit-learn]\n",
      "   -------------------------- ------------- 2/3 [scikit-learn]\n",
      "   -------------------------- ------------- 2/3 [scikit-learn]\n",
      "   -------------------------- ------------- 2/3 [scikit-learn]\n",
      "   -------------------------- ------------- 2/3 [scikit-learn]\n",
      "   -------------------------- ------------- 2/3 [scikit-learn]\n",
      "   -------------------------- ------------- 2/3 [scikit-learn]\n",
      "   -------------------------- ------------- 2/3 [scikit-learn]\n",
      "   -------------------------- ------------- 2/3 [scikit-learn]\n",
      "   -------------------------- ------------- 2/3 [scikit-learn]\n",
      "   -------------------------- ------------- 2/3 [scikit-learn]\n",
      "   -------------------------- ------------- 2/3 [scikit-learn]\n",
      "   -------------------------- ------------- 2/3 [scikit-learn]\n",
      "   -------------------------- ------------- 2/3 [scikit-learn]\n",
      "   -------------------------- ------------- 2/3 [scikit-learn]\n",
      "   -------------------------- ------------- 2/3 [scikit-learn]\n",
      "   -------------------------- ------------- 2/3 [scikit-learn]\n",
      "   -------------------------- ------------- 2/3 [scikit-learn]\n",
      "   -------------------------- ------------- 2/3 [scikit-learn]\n",
      "   -------------------------- ------------- 2/3 [scikit-learn]\n",
      "   -------------------------- ------------- 2/3 [scikit-learn]\n",
      "   -------------------------- ------------- 2/3 [scikit-learn]\n",
      "   -------------------------- ------------- 2/3 [scikit-learn]\n",
      "   -------------------------- ------------- 2/3 [scikit-learn]\n",
      "   -------------------------- ------------- 2/3 [scikit-learn]\n",
      "   -------------------------- ------------- 2/3 [scikit-learn]\n",
      "   ---------------------------------------- 3/3 [scikit-learn]\n",
      "\n",
      "Successfully installed joblib-1.5.2 scikit-learn-1.7.2 threadpoolctl-3.6.0\n",
      "¡Todas las librerías están listas!\n"
     ]
    }
   ],
   "source": [
    "# Verificar e instalar librerías si es necesario\n",
    "try:\n",
    "    import numpy as np\n",
    "    print(\"✓ numpy instalado\")\n",
    "except ImportError:\n",
    "    !pip install numpy\n",
    "    import numpy as np\n",
    "\n",
    "try:\n",
    "    import pandas as pd\n",
    "    print(\"✓ pandas instalado\")\n",
    "except ImportError:\n",
    "    !pip install pandas\n",
    "    import pandas as pd\n",
    "\n",
    "try:\n",
    "    from scipy import stats\n",
    "    print(\"✓ scipy instalado\")\n",
    "except ImportError:\n",
    "    !pip install scipy\n",
    "    from scipy import stats\n",
    "\n",
    "try:\n",
    "    import statsmodels.api as sm\n",
    "    import statsmodels.formula.api as smf\n",
    "    print(\"✓ statsmodels instalado\")\n",
    "except ImportError:\n",
    "    !pip install statsmodels\n",
    "    import statsmodels.api as sm\n",
    "    import statsmodels.formula.api as smf\n",
    "\n",
    "try:\n",
    "    from sklearn.linear_model import LassoCV\n",
    "    from sklearn.preprocessing import StandardScaler\n",
    "    print(\"✓ scikit-learn instalado\")\n",
    "except ImportError:\n",
    "    !pip install scikit-learn\n",
    "    from sklearn.linear_model import LassoCV\n",
    "    from sklearn.preprocessing import StandardScaler\n",
    "\n",
    "print(\"¡Todas las librerías están listas!\")"
   ]
  },
  {
   "cell_type": "markdown",
   "id": "140b0453",
   "metadata": {},
   "source": [
    "# 3.1 DATA SIMULATION"
   ]
  },
  {
   "cell_type": "code",
   "execution_count": 27,
   "id": "bc72a77b",
   "metadata": {},
   "outputs": [],
   "source": [
    "# Configurar semilla para reproducibilidad\n",
    "np.random.seed(42)\n",
    "# 1. Generar covariables (n = 1000 individuos)\n",
    "n = 1000\n",
    "# X1 y X3 continuas ~ N(0,1)\n",
    "X1 = np.random.normal(0,1,n)\n",
    "X3 = np.random.normal(0,1,n)\n",
    "# X2 y X4 binarias ~ Bernoulli(0.5)\n",
    "X2 = np.random.binomial(1,0.5,n)\n",
    "X4 = np.random.binomial(1,0.5,n)\n",
    "# 2. Tratamiento D ~ Bernoulli(0.5)\n",
    "D = np.random.binomial(1,0.5,n)\n",
    "# Error aleatorio epsilon ~ N(0,1)\n",
    "epsilon = np.random.normal(0,1,n)\n",
    "# 3. VARIABLE OUTCOME Y según la fórmula del lab 3:\n",
    "Y = 2*D + 0.5*X1 - 0.3*X2 + 0.2*X3 + epsilon\n",
    "# Note que es el proceso generador de datos. Y no depende de X4 lo que nos\n",
    "#lleva a intuir que X4 no es una variable relevante."
   ]
  },
  {
   "cell_type": "code",
   "execution_count": 28,
   "id": "cc7f3069",
   "metadata": {},
   "outputs": [
    {
     "name": "stdout",
     "output_type": "stream",
     "text": [
      "============================================================\n",
      "3.1 DATA SIMULATION - COMPLETADO\n",
      "============================================================\n",
      "Primeras 5 filas del DataFrame:\n",
      "          Y  D        X1  X2        X3  X4\n",
      "0  1.920756  1  0.496714   0  1.399355   0\n",
      "1  1.711433  1 -0.138264   0  0.924634   1\n",
      "2  1.649491  1  0.647689   0  0.059630   1\n",
      "3 -0.800544  0  1.523030   0 -0.646937   0\n",
      "4 -0.131596  0 -0.234153   1  0.698223   1\n",
      "\n",
      "Dimensión del DataFrame: (1000, 6)\n"
     ]
    }
   ],
   "source": [
    "# 4. Crear DataFrame\n",
    "df = pd.DataFrame({\n",
    "    'Y': Y,\n",
    "    'D': D,\n",
    "    'X1': X1,\n",
    "    'X2': X2,\n",
    "    'X3': X3,\n",
    "    'X4': X4\n",
    "})\n",
    "\n",
    "print(\"=\" * 60)\n",
    "print(\"3.1 DATA SIMULATION - COMPLETADO\")\n",
    "print(\"=\" * 60)\n",
    "print(\"Primeras 5 filas del DataFrame:\")\n",
    "print(df.head())\n",
    "print(f\"\\nDimensión del DataFrame: {df.shape}\")"
   ]
  },
  {
   "cell_type": "code",
   "execution_count": 29,
   "id": "e79dd994",
   "metadata": {},
   "outputs": [],
   "source": [
    "# Balance check (comparación de medias)\n",
    "tratamiento = df[df['D'] == 1]\n",
    "control = df[df['D'] == 0]"
   ]
  },
  {
   "cell_type": "code",
   "execution_count": 30,
   "id": "32e705fc",
   "metadata": {},
   "outputs": [
    {
     "name": "stdout",
     "output_type": "stream",
     "text": [
      "X1:\n",
      "  Media tratamiento: 0.049\n",
      "  Media control: -0.009\n",
      "  Diferencia: 0.058\n",
      "  p-valor: 0.350\n",
      "----------------------------------------\n",
      "\n",
      "BALANCE CHECK - Comparación de medias\n",
      "X2:\n",
      "  Media tratamiento: 0.510\n",
      "  Media control: 0.496\n",
      "  Diferencia: 0.014\n",
      "  p-valor: 0.655\n",
      "----------------------------------------\n",
      "\n",
      "BALANCE CHECK - Comparación de medias\n",
      "X3:\n",
      "  Media tratamiento: 0.077\n",
      "  Media control: 0.065\n",
      "  Diferencia: 0.013\n",
      "  p-valor: 0.843\n",
      "----------------------------------------\n",
      "\n",
      "BALANCE CHECK - Comparación de medias\n",
      "X4:\n",
      "  Media tratamiento: 0.465\n",
      "  Media control: 0.500\n",
      "  Diferencia: -0.035\n",
      "  p-valor: 0.271\n",
      "----------------------------------------\n",
      "\n",
      "BALANCE CHECK - Comparación de medias\n"
     ]
    }
   ],
   "source": [
    "def balance_check(variable):\n",
    "    t_stat, p_value = stats.ttest_ind(tratamiento[variable], control[variable])\n",
    "    print(f\"{variable}:\")\n",
    "    print(f\"  Media tratamiento: {tratamiento[variable].mean():.3f}\")\n",
    "    print(f\"  Media control: {control[variable].mean():.3f}\")\n",
    "    print(f\"  Diferencia: {tratamiento[variable].mean() - control[variable].mean():.3f}\")\n",
    "    print(f\"  p-valor: {p_value:.3f}\")\n",
    "    print(\"-\" * 40)\n",
    "\n",
    "    print(\"\\nBALANCE CHECK - Comparación de medias\")\n",
    "for cov in ['X1', 'X2', 'X3', 'X4']:\n",
    "    balance_check(cov)"
   ]
  },
  {
   "cell_type": "markdown",
   "id": "f45e1e08",
   "metadata": {},
   "source": [
    "# 3.2 ESTIMATING THE AVERAGE TREATMENT EFFECT"
   ]
  },
  {
   "cell_type": "code",
   "execution_count": 31,
   "id": "b4f585a9",
   "metadata": {},
   "outputs": [
    {
     "name": "stdout",
     "output_type": "stream",
     "text": [
      "=== REGRESIÓN SIMPLE (Y ~ D) ===\n",
      "Coeficiente de D (ATE): 2.087\n",
      "Error estándar: 0.072\n",
      "\n"
     ]
    }
   ],
   "source": [
    "# 1. Regresión simple: Y ~ D\n",
    "modelo_simple = smf.ols('Y ~ D', data=df).fit()\n",
    "print(\"=== REGRESIÓN SIMPLE (Y ~ D) ===\")\n",
    "print(\"Coeficiente de D (ATE):\", round(modelo_simple.params['D'], 3))\n",
    "print(\"Error estándar:\", round(modelo_simple.bse['D'], 3))\n",
    "print()"
   ]
  },
  {
   "cell_type": "code",
   "execution_count": 32,
   "id": "cd16e40d",
   "metadata": {},
   "outputs": [
    {
     "name": "stdout",
     "output_type": "stream",
     "text": [
      "=== REGRESIÓN CON CONTROLES (Y ~ D + X1 + X2 + X3 + X4) ===\n",
      "Coeficiente de D (ATE): 2.059\n",
      "Error estándar: 0.062\n",
      "\n"
     ]
    }
   ],
   "source": [
    "# 2. Regresión con controles: Y ~ D + X1 + X2 + X3 + X4\n",
    "modelo_completo = smf.ols('Y ~ D + X1 + X2 + X3 + X4', data=df).fit()\n",
    "print(\"=== REGRESIÓN CON CONTROLES (Y ~ D + X1 + X2 + X3 + X4) ===\")\n",
    "print(\"Coeficiente de D (ATE):\", round(modelo_completo.params['D'], 3))\n",
    "print(\"Error estándar:\", round(modelo_completo.bse['D'], 3))\n",
    "print()"
   ]
  },
  {
   "cell_type": "code",
   "execution_count": 33,
   "id": "58e72365",
   "metadata": {},
   "outputs": [
    {
     "name": "stdout",
     "output_type": "stream",
     "text": [
      "=== COMPARACIÓN ===\n",
      "Diferencia en ATE: -0.028\n",
      "Diferencia en SE: -0.010\n"
     ]
    }
   ],
   "source": [
    "# 3. Comparación de resultados\n",
    "print(\"=== COMPARACIÓN ===\")\n",
    "print(f\"Diferencia en ATE: {modelo_completo.params['D'] - modelo_simple.params['D']:.3f}\")\n",
    "print(f\"Diferencia en SE: {modelo_completo.bse['D'] - modelo_simple.bse['D']:.3f}\")"
   ]
  },
  {
   "cell_type": "markdown",
   "id": "88c52643",
   "metadata": {},
   "source": [
    "# 3.3 LASSO AND VARIABLE SELECTION"
   ]
  },
  {
   "cell_type": "code",
   "execution_count": 34,
   "id": "d3ce3182",
   "metadata": {},
   "outputs": [],
   "source": [
    "# Preparar datos para LASSO\n",
    "X_cov = df[['X1', 'X2', 'X3', 'X4']]  # Solo covariables\n",
    "y = df['Y']  # Variable resultado\n",
    "\n",
    "# Estandarizar variables para LASSO\n",
    "scaler = StandardScaler()\n",
    "X_scaled = scaler.fit_transform(X_cov)"
   ]
  },
  {
   "cell_type": "code",
   "execution_count": 35,
   "id": "61919d3a",
   "metadata": {},
   "outputs": [
    {
     "name": "stdout",
     "output_type": "stream",
     "text": [
      "=== RESULTADOS LASSO ===\n",
      "Lambda óptimo: 0.0005\n",
      "Coeficientes LASSO:\n",
      "  Variable  Coeficiente\n",
      "0       X1     0.541932\n",
      "1       X2    -0.183172\n",
      "2       X3     0.258659\n",
      "3       X4    -0.034346\n",
      "Variables seleccionadas: ['X1', 'X2', 'X3', 'X4']\n",
      "\n"
     ]
    }
   ],
   "source": [
    "# 1. Aplicar LASSO con validación cruzada\n",
    "lasso = LassoCV(cv=5, random_state=42)\n",
    "lasso.fit(X_scaled, y)\n",
    "\n",
    "# Variables seleccionadas (coeficientes diferentes de cero)\n",
    "coeficientes = pd.DataFrame({\n",
    "    'Variable': X_cov.columns,\n",
    "    'Coeficiente': lasso.coef_\n",
    "})\n",
    "\n",
    "variables_seleccionadas = coeficientes[coeficientes['Coeficiente'] != 0]['Variable'].tolist()\n",
    "\n",
    "print(\"=== RESULTADOS LASSO ===\")\n",
    "print(f\"Lambda óptimo: {lasso.alpha_:.4f}\")\n",
    "print(\"Coeficientes LASSO:\")\n",
    "print(coeficientes)\n",
    "print(f\"Variables seleccionadas: {variables_seleccionadas}\")\n",
    "print()"
   ]
  },
  {
   "cell_type": "code",
   "execution_count": 36,
   "id": "de1f6d2a",
   "metadata": {},
   "outputs": [
    {
     "name": "stdout",
     "output_type": "stream",
     "text": [
      "=== REGRESIÓN CON VARIABLES SELECCIONADAS POR LASSO ===\n",
      "Coeficiente de D (ATE): 2.059\n",
      "Error estándar: 0.062\n",
      "\n"
     ]
    }
   ],
   "source": [
    "# 2. Re-estimar ATE con variables seleccionadas por LASSO\n",
    "if variables_seleccionadas:\n",
    "    formula_lasso = 'Y ~ D + ' + ' + '.join(variables_seleccionadas)\n",
    "else:\n",
    "    formula_lasso = 'Y ~ D'\n",
    "\n",
    "modelo_lasso = smf.ols(formula_lasso, data=df).fit()\n",
    "print(\"=== REGRESIÓN CON VARIABLES SELECCIONADAS POR LASSO ===\")\n",
    "print(\"Coeficiente de D (ATE):\", round(modelo_lasso.params['D'], 3))\n",
    "print(\"Error estándar:\", round(modelo_lasso.bse['D'], 3))\n",
    "print()\n"
   ]
  },
  {
   "cell_type": "code",
   "execution_count": 37,
   "id": "94d424a2",
   "metadata": {},
   "outputs": [
    {
     "name": "stdout",
     "output_type": "stream",
     "text": [
      "=== COMPARACIÓN FINAL ===\n",
      "Modelo simple - ATE: 2.087, SE: 0.072\n",
      "Modelo completo - ATE: 2.059, SE: 0.062\n",
      "Modelo LASSO - ATE: 2.059, SE: 0.062\n",
      "ATE verdadero: 2.000\n"
     ]
    }
   ],
   "source": [
    "# 3. Comparación final\n",
    "print(\"=== COMPARACIÓN FINAL ===\")\n",
    "print(f\"Modelo simple - ATE: {modelo_simple.params['D']:.3f}, SE: {modelo_simple.bse['D']:.3f}\")\n",
    "print(f\"Modelo completo - ATE: {modelo_completo.params['D']:.3f}, SE: {modelo_completo.bse['D']:.3f}\")\n",
    "print(f\"Modelo LASSO - ATE: {modelo_lasso.params['D']:.3f}, SE: {modelo_lasso.bse['D']:.3f}\")\n",
    "print(f\"ATE verdadero: 2.000\")"
   ]
  }
 ],
 "metadata": {
  "kernelspec": {
   "display_name": "base",
   "language": "python",
   "name": "python3"
  },
  "language_info": {
   "codemirror_mode": {
    "name": "ipython",
    "version": 3
   },
   "file_extension": ".py",
   "mimetype": "text/x-python",
   "name": "python",
   "nbconvert_exporter": "python",
   "pygments_lexer": "ipython3",
   "version": "3.13.5"
  }
 },
 "nbformat": 4,
 "nbformat_minor": 5
}
